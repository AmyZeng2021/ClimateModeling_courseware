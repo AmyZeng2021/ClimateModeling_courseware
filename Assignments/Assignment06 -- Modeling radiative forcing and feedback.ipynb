{
 "cells": [
  {
   "cell_type": "markdown",
   "metadata": {},
   "source": [
    "# [ATM 623: Climate Modeling](../index.ipynb)\n",
    "[Brian E. J. Rose](http://www.atmos.albany.edu/facstaff/brose/index.html), University at Albany\n",
    "# Modeling radiative forcing and feedback with `climlab`"
   ]
  },
  {
   "cell_type": "markdown",
   "metadata": {},
   "source": [
    "### About these notes:\n",
    "\n",
    "This document uses the interactive [`IPython notebook`](http://ipython.org/notebook.html) format (now also called [`Jupyter`](https://jupyter.org)). The notes can be accessed in several different ways:\n",
    "\n",
    "- The interactive notebooks are hosted on `github` at https://github.com/brian-rose/ClimateModeling_courseware\n",
    "- The latest versions can be viewed as static web pages [rendered on nbviewer](http://nbviewer.ipython.org/github/brian-rose/ClimateModeling_courseware/blob/master/index.ipynb)\n",
    "- A complete snapshot of the notes as of May 2015 (end of spring semester) are [available on Brian's website](http://www.atmos.albany.edu/facstaff/brose/classes/ATM623_Spring2015/Notes/index.html).\n",
    "\n",
    "Many of these notes make use of the `climlab` package, available at https://github.com/brian-rose/climlab"
   ]
  },
  {
   "cell_type": "markdown",
   "metadata": {},
   "source": [
    "## A. Forcing and feedback in grey radiation models\n",
    "\n",
    "1. Use `climlab` to create a radiative-convective grey radiation model with critical lapse rate of 7 K / km. \n",
    "    - **Tune the longwave absorptivity** such that the surface temperature is 288 K in radiative-convective equilibrium.\n",
    "    - **Calculate the radiative forcing** due to a 2% increase in longwave absorptivity\n",
    "    - **Calculate the equilibrium surface warming** in response to this increase.\n",
    "    - Make a plot that illustrates the vertical structure of the warming (i.e. temperature change as a function of height or pressure).\n",
    "    - **Calculate the net climate feedback** in this model. You may want to refer back to your notes from early in the semester.\n",
    "    - The **Planck feedback** is defined as the **change in TOA longwave flux per unit surface temperature change that would occur if the warming were perfectly uniform in the vertical**. If the actual temperature change at the surface is $\\Delta T_s$, and the change in the atmosphere is $\\Delta T(p)$, then the Planck feedback is the change in OLR that would occur if we set $\\Delta T_{Planck}(p) = \\Delta T_s$ for all $p$. **Use your model to calculate the Planck feedback**. Pay attention to signs and units.\n",
    "    - The **lapse rate feedback** is defined as the change in TOA longwave flux per unit surface temperature change due to deviations from uniform vertical warming, $\\Delta T_{LR}(p) = \\Delta T(p) - \\Delta T_s$. Calculate this feedback. Again, pay attention to signs and units.\n",
    "    - In this model, there are no other feedbacks (e.g. no water vapor feedback, no shortwave feedback). **Verify that the net feedback is the sum of the Planck feedback and the lapse rate feedback**. \n",
    "\n",
    "2. **Repeat the entire exercise from Part 1**, but this time **include stratospheric ozone in the model**, following our class notes. You are free to interpolate the data to different pressure levels if you prefer. You may need to re-tune the longwave absorptivity to get a surface temperature of 288 K. Comment on any differences you find with your answers in Part 1.\n",
    "\n",
    "3. Now suppose that due to processes not included in our model, tropospheric temperature decreases more slowly with height in a warmer climate. We can account for this by changing the critical lapse rate in our model. **Repeat Part 2** (i.e. include ozone) but **set the critical lapse rate to 6 K / km** after increasing the longwave absorptivity. Again, comment on any differences you find with your answers in Parts 1 and 2."
   ]
  },
  {
   "cell_type": "markdown",
   "metadata": {},
   "source": [
    "## B. Forcing and feedback in spectral band models\n",
    "\n",
    "For this part, you will use the `climlab.BandRCModel` process to model radiative-convective equilibrium with a more complex radiation code that allows for some spectral dependence of the absorption / emission properties of the atmosphere.\n",
    "\n",
    "Refer to the brief tutorial on `BandRCModel` for details.\n",
    "\n",
    "1. Set up a model with a critical lapse rate of 7 K / km. Once again, tune the model such that it produces a surface temperature of 288 K in radiative-convective equilibrium. This time, however, instead of tuning the longwave absorption (which now depends on the mixing ratios of CO2 and H2O), you will **tune the surface albedo** (see tutorial for instructions).\n",
    "\n",
    "2. Calculate the **radiative forcing** for a **doubling of CO2 concentration** (volume mixing ratio).\n",
    "\n",
    "3. Calculate the **equilibrium surface warming** (or Equilibrium Climate Sensitivity) in this model.\n",
    "\n",
    "4. Calculate the **net climate feedback**.\n",
    "\n",
    "5. In this model the net feedback has three components: Planck feedback, lapse rate feedback, and water vapor feedback. The water vapor feedback is defined as the change in TOA longwave flux due to the change in specific humidity in the column, **all else held fixed**. Calculate all three longwave feedbacks. \n",
    "\n",
    "6. As you did in part A, now investigate **how the feedbacks differ** when you impose a change in the critical lapse rate from 7 to 6 K / km when you double CO2. \n",
    "    \n",
    "7. Comment on anything you find remarkable, interesting, or worthwhile from part B."
   ]
  },
  {
   "cell_type": "markdown",
   "metadata": {},
   "source": [
    "## C. Investigating the water vapor feedback\n",
    "\n",
    "Set up a new instance of the `climlab.BandRCModel`, and set the air temperature profile to observations. **Use the global, annual mean temperature profile from the NCEP Renalysis data**.\n",
    "\n",
    "You will use this model to investigate the sensitivity of the OLR to small perturbations in the water vapor at various levels. Don't integrate this model out to radiative-convective equilibrium! We want to use the observed temperatures as our reference point.\n",
    "\n",
    "Starting with one particular level of your model, add a **small increase in specific humidity** at that level only, **holding all else fixed**. Calculate the change in OLR resulting from this.\n",
    "\n",
    "Loop through all the levels of your model and repeat this calculation, using the **same small specific humidity increase** at each level. Store the results for each level in an array (which should have the same length as the number of levels you are using). Plot these OLR changes as a function of vertical level at which the water vapor is added. **At what level do you find the column is most sensitive to an increase in specific humidity?**\n",
    "\n",
    "Now repeat the same calculation, but instead of adding a small increase in specific humidity, **add a small increase in relative humidity** at each level. Again, plot the OLR changes as function of vertical level at which the water vapor is added. **At what level do you find the column is most sensitive to an increase in relative humidity?**\n",
    "\n",
    "Comment on anything interesting you found in this exercise.\n",
    "\n",
    "Note a few details:\n",
    "\n",
    "- `climlab` uses units of kg/kg for specific humidity (i.e. kilograms of water vapor per kilogram of dry air).\n",
    "- Relative humidity is defined as $q/q_{sat}$ where $q$ is the specific humidity and $q_{sat}$ is the saturation specific humidity (a function of temperature and pressure). There is a function `qsat(T,p)` to compute saturation specific humidity in `climlab.utils.thermo`."
   ]
  },
  {
   "cell_type": "markdown",
   "metadata": {},
   "source": [
    "<div class=\"alert alert-success\">\n",
    "[Back to ATM 623 notebook home](../index.ipynb)\n",
    "</div>"
   ]
  },
  {
   "cell_type": "markdown",
   "metadata": {},
   "source": [
    "____________\n",
    "## Credits\n",
    "\n",
    "The author of this notebook is [Brian E. J. Rose](http://www.atmos.albany.edu/facstaff/brose/index.html), University at Albany.\n",
    "\n",
    "It was developed in support of [ATM 623: Climate Modeling](http://www.atmos.albany.edu/facstaff/brose/classes/ATM623_Spring2015/), a graduate-level course in the [Department of Atmospheric and Envionmental Sciences](http://www.albany.edu/atmos/index.php), offered in Spring 2015.\n",
    "____________\n",
    "\n"
   ]
  }
 ],
 "metadata": {
  "kernelspec": {
   "display_name": "Python 2",
   "language": "python",
   "name": "python2"
  },
  "language_info": {
   "codemirror_mode": {
    "name": "ipython",
    "version": 2
   },
   "file_extension": ".py",
   "mimetype": "text/x-python",
   "name": "python",
   "nbconvert_exporter": "python",
   "pygments_lexer": "ipython2",
   "version": "2.7.11"
  }
 },
 "nbformat": 4,
 "nbformat_minor": 0
}
