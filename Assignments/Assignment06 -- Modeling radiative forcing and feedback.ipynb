{
 "metadata": {
  "name": "",
  "signature": "sha256:162c968b714479e6b3d7907e787978c0314a4f397256368ed8d00e801f560732"
 },
 "nbformat": 3,
 "nbformat_minor": 0,
 "worksheets": [
  {
   "cells": [
    {
     "cell_type": "markdown",
     "metadata": {},
     "source": [
      "# [ATM 623: Climate Modeling](../index.ipynb)\n",
      "[Brian E. J. Rose](http://www.atmos.albany.edu/facstaff/brose/index.html), University at Albany\n",
      "# Modeling radiative forcing and feedback with `climlab`"
     ]
    },
    {
     "cell_type": "markdown",
     "metadata": {},
     "source": [
      "Some text.\n",
      "\n",
      "## Your assigment\n",
      "\n",
      "1. Do the assignment.\n",
      "3. Write up your answers (including text, code and figures) in a new IPython notebook. *Try to make sure that your notebook runs cleanly from start to finish, and explicitly imports every package that it uses.*\n",
      "5. Save your notebook as `[your last name].ipynb`, e.g. my notebook should be called `Rose.ipynb`.  *This makes it easier for me when I collect all your answers*\n",
      "4. Submit your answers by email before class on **DUE DATE**."
     ]
    },
    {
     "cell_type": "markdown",
     "metadata": {},
     "source": [
      "## Forcing and lapse rate feedback in gray radiation models\n",
      "\n",
      "1. Use `climlab` to create a radiative-convective model with critical lapse rate of 7 K / km. \n",
      "    - Tune the longwave absorptivity such that the surface temperature is 288 K in radiative-convective equilibrium.\n",
      "    - Calculate the radiative forcing due to a 2% increase in longwave absorptivity\n",
      "    - Calculate the equilibrium surface warming in response to this increase.\n",
      "    - Make a plot that illustrates the vertical structure of the warming (i.e. temperature change as a function of height or pressure).\n",
      "    - What is the net climate feedback in this model? You may want to refer back to your notes from early in the semester.\n",
      "    - The **Planck feedback** is defined as the **change in TOA longwave flux per unit surface temperature change that would occur if the warming were perfectly uniform in the vertical**. If the actual temperature change at the surface is $\\Delta T_s$, and the change in the atmosphere is $\\Delta T(p)$, then the Planck feedback is the change in OLR that would occur if we set $\\Delta T_{Planck}(p) = \\Delta T_s$ for all $p$. **Use your model to calculate the Planck feedback**. Pay attention to signs and units.\n",
      "    - The **lapse rate feedback** is defined as the change in TOA longwave flux per unit surface temperature change due to deviations from uniform vertical warming, $\\Delta T_{LR}(p) = \\Delta T(p) - \\Delta T_s$. Calculate this feedback. Again, pay attention to signs and units.\n",
      "    - In this model, there are no other feedbacks (e.g. no water vapor feedback, no shortwave feedback). Verify that the net feedback is the sum of the Planck feedback and the lapse rate feedback. \n",
      "\n",
      "2. **Repeat the entire exercise from Part 1**, but this time **include stratospheric ozone in the model**. You may need to re-tune the longwave absorptivity to get a surface temperature of 288 K. Comment on any differences you find with your answers in Part 1.\n",
      "\n",
      "3. Now suppose that due to processes not included in our model, temperature tends to decrease more slowly with height in a warmer climate. We can account for this by changing the critical lapse rate in our model. **Repeat Part 2** (i.e. include ozone) but **set the critical lapse rate to 6 K / km** after increasing the longwave absorptivity. Again, comment on any differences you find with your answers in Parts 1 and 2."
     ]
    },
    {
     "cell_type": "markdown",
     "metadata": {},
     "source": [
      "## IDEAS FOR THIS HOMEWORK\n",
      "\n",
      "1. Open the CESM control run, create array of time- and zonal-average air temperature\n",
      "2. For each latitude"
     ]
    },
    {
     "cell_type": "code",
     "collapsed": false,
     "input": [],
     "language": "python",
     "metadata": {},
     "outputs": []
    },
    {
     "cell_type": "markdown",
     "metadata": {},
     "source": [
      "<div class=\"alert alert-success\">\n",
      "[Back to ATM 623 notebook home](../index.ipynb)\n",
      "</div>"
     ]
    },
    {
     "cell_type": "markdown",
     "metadata": {},
     "source": [
      "____________\n",
      "## Credits\n",
      "\n",
      "The author of this notebook is [Brian E. J. Rose](http://www.atmos.albany.edu/facstaff/brose/index.html), University at Albany.\n",
      "\n",
      "It was developed in support of [ATM 623: Climate Modeling](http://www.atmos.albany.edu/facstaff/brose/classes/ATM623_Spring2015/), a graduate-level course in the [Department of Atmospheric and Envionmental Sciences](http://www.albany.edu/atmos/index.php), offered in Spring 2015.\n",
      "____________\n",
      "\n"
     ]
    }
   ],
   "metadata": {}
  }
 ]
}