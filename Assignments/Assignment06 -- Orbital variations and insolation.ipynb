{
 "cells": [
  {
   "cell_type": "markdown",
   "metadata": {},
   "source": [
    "# [ATM 623: Climate Modeling](../index.ipynb)\n",
    "\n",
    "[Brian E. J. Rose](http://www.atmos.albany.edu/facstaff/brose/index.html), University at Albany\n",
    "\n",
    "# Assignment 6: Orbital variations and insolation"
   ]
  },
  {
   "cell_type": "markdown",
   "metadata": {},
   "source": [
    "The purpose of this assignment is two-fold:\n",
    "1. Get you familiar with doing orbital and insolation calculations with `climlab`\n",
    "2. Introduce you to some modern twists on the Astronomical Theory of the ice ages.\n",
    "\n",
    "This assignment is due **Friday April 7 2017.**"
   ]
  },
  {
   "cell_type": "markdown",
   "metadata": {},
   "source": [
    "## Early Pleistocene Glacial Cycles and the Integrated Summer Insolation Forcing\n",
    "\n",
    "\n",
    "Although the causes of the ice ages have been discussed for over 150 years, there are still many unsolved problems.\n",
    "\n",
    "Go back and look at the timeseries of global ice volume we showed in Section 1 of the [notes on Orbital variations](../Lectures/Lecture13 -- Orbital variations.ipynb)\n",
    "\n",
    "The most recent glaciations (the \"Late Pleistocene\") have been large in amplitude and occur on a roughly 100 kyr timescale. The earlier glaciations were smaller in magnitude and occurred on shorter 40 kyr timescales -- apparently in sync with obliquity variations.\n",
    "\n",
    "One very big outstanding question is this:\n",
    "\n",
    "**Why did the dominant frequency for the ice ages change from 40 kyr to 100 kyr roughly 800 kyr ago?**\n",
    "\n",
    "We are not going to answer that here. There is, however, a very nice clear explanation for the obliquity-pacing of the Early Pleistocene.\n",
    "\n",
    "This has been presented by **Peter Huybers** in this paper:"
   ]
  },
  {
   "cell_type": "markdown",
   "metadata": {},
   "source": [
    "> Huybers, P. (2006). Early Pleistocene glacial cycles and the integrated summer insolation forcing. Science, 313:508–511."
   ]
  },
  {
   "cell_type": "markdown",
   "metadata": {},
   "source": [
    "First, **read the paper**. I will distribute a pdf of the paper through the class web page."
   ]
  },
  {
   "cell_type": "markdown",
   "metadata": {},
   "source": [
    "Here is Figure 2 from the paper:"
   ]
  },
  {
   "cell_type": "markdown",
   "metadata": {},
   "source": [
    "<img src='../images/Huybers_Fig2.png' width=800>"
   ]
  },
  {
   "cell_type": "markdown",
   "metadata": {},
   "source": [
    "Your tasks is to reproduce these orbital / insolation calculations using the `climlab` tools. Specifically:\n",
    "\n",
    "1. **Reproduce the blue curve in Fig. 2A**: number of days per year that insolation is above 275 W m$^{-2}$ at 65ºN, between 2000 and 1000 kyrs before present. \n",
    "\n",
    "2. **Reproduce the red curve in Fig. 2C**: Integrated summer insolation: the total accumulated insolation for every day for which this insolation is above the threshold of 275 W m$^{-2}$.\n",
    "\n",
    "3. **Reproduce the red curve in Fig. 2A**: Average summer insolation intensity. This is the integrated summer insolation above the intensity threshold divided by the number of seconds during which the insolation threshold is exceeded. (Preferably plot this on the same graph as the number of days to reproduce Fig. 2A completely)."
   ]
  },
  {
   "cell_type": "markdown",
   "metadata": {},
   "source": [
    "<div class=\"alert alert-success\">\n",
    "[Back to ATM 623 notebook home](../index.ipynb)\n",
    "</div>"
   ]
  },
  {
   "cell_type": "markdown",
   "metadata": {},
   "source": [
    "____________\n",
    "\n",
    "## Credits\n",
    "\n",
    "The author of this notebook is [Brian E. J. Rose](http://www.atmos.albany.edu/facstaff/brose/index.html), University at Albany.\n",
    "\n",
    "It was developed in support of [ATM 623: Climate Modeling](http://www.atmos.albany.edu/facstaff/brose/classes/ATM623_Spring2015/), a graduate-level course in the [Department of Atmospheric and Envionmental Sciences](http://www.albany.edu/atmos/index.php)\n",
    "\n",
    "Development of these notes and the [climlab software](https://github.com/brian-rose/climlab) is partially supported by the National Science Foundation under award AGS-1455071 to Brian Rose. Any opinions, findings, conclusions or recommendations expressed here are mine and do not necessarily reflect the views of the National Science Foundation.\n",
    "____________"
   ]
  },
  {
   "cell_type": "code",
   "execution_count": null,
   "metadata": {
    "collapsed": true
   },
   "outputs": [],
   "source": []
  }
 ],
 "metadata": {
  "anaconda-cloud": {},
  "kernelspec": {
   "display_name": "Python 3",
   "language": "python",
   "name": "python3"
  },
  "language_info": {
   "codemirror_mode": {
    "name": "ipython",
    "version": 3
   },
   "file_extension": ".py",
   "mimetype": "text/x-python",
   "name": "python",
   "nbconvert_exporter": "python",
   "pygments_lexer": "ipython3",
   "version": "3.6.2"
  }
 },
 "nbformat": 4,
 "nbformat_minor": 1
}
