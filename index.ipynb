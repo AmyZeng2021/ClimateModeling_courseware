{
 "metadata": {
  "name": "",
  "signature": "sha256:b40a2522cd144393dc4318be423162a24c52ef87ebad8be1f1888be2a8085f76"
 },
 "nbformat": 3,
 "nbformat_minor": 0,
 "worksheets": [
  {
   "cells": [
    {
     "cell_type": "markdown",
     "metadata": {},
     "source": [
      "# [ATM 623: Climate Modeling](index.ipynb)\n",
      "\n",
      "A graduate-level course on the hands-on use of climate models for understanding climate processes.\n",
      "\n",
      "###[Brian E. J. Rose](http://www.atmos.albany.edu/facstaff/brose/index.html)\n",
      "University at Albany, Department of Atmospheric and Environmental Sciences\n",
      "\n",
      "\n",
      "[Course home page](http://www.atmos.albany.edu/facstaff/brose/classes/ATM623_Spring2015/)\n",
      "\n",
      "The course makes extensive use of the `IPython notebook` format for lecture notes and assignments. This page is the top-level notebook with links to all notes and assignments."
     ]
    },
    {
     "cell_type": "markdown",
     "metadata": {},
     "source": [
      "## Lecture notes\n",
      "\n",
      "This list will grow as the semester progresses\n",
      "\n",
      "1. [Planetary energy budget](Lectures/Lecture01 -- Planetary energy budget.ipynb)\n",
      "2. [Solving the zero-dimensional EBM](Lectures/Lecture02 -- Solving the zero-dimensional EBM.ipynb)\n",
      "3. [Climate Sensitivity and Feedback](Lectures/Lecture03 -- Climate sensitivity and feedback.ipynb)\n",
      "4. [Climate System Components](Lectures/Lecture04 -- Climate system components.ipynb)"
     ]
    },
    {
     "cell_type": "markdown",
     "metadata": {},
     "source": [
      "## Assignments\n",
      "\n",
      "This list will grow as the semester progresses\n",
      "\n",
      "1. Fun with Python (not posted)\n",
      "2. [Albedo feedback in the zero-dimensional EBM](Assignments/Assignment02 -- Albedo feedback in the zero-dimensional EBM.ipynb)\n",
      "3. [Climate Sensitivity and Feedback](Assignments/Assignment03 -- Introducing CESM.ipynb)\n",
      "4. [Energy budget in CESM](Assignments/Assignment04 -- Energy budget in CESM.ipynb)\n",
      "\n"
     ]
    },
    {
     "cell_type": "markdown",
     "metadata": {},
     "source": [
      "____________\n",
      "## Credits\n",
      "\n",
      "The author of this notebook is [Brian E. J. Rose](http://www.atmos.albany.edu/facstaff/brose/index.html), University at Albany.\n",
      "\n",
      "It was developed in support of [ATM 623: Climate Modeling](http://www.atmos.albany.edu/facstaff/brose/classes/ATM623_Spring2015/), a graduate-level course in the [Department of Atmospheric and Envionmental Sciences](http://www.albany.edu/atmos/index.php), offered in Spring 2015.\n",
      "____________"
     ]
    },
    {
     "cell_type": "code",
     "collapsed": false,
     "input": [],
     "language": "python",
     "metadata": {},
     "outputs": []
    }
   ],
   "metadata": {}
  }
 ]
}