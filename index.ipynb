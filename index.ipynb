{
 "cells": [
  {
   "cell_type": "markdown",
   "metadata": {},
   "source": [
    "# [ATM 623: Climate Modeling](index.ipynb)\n",
    "\n",
    "A graduate-level course on the hands-on use of climate models for understanding climate processes.\n",
    "\n",
    "### [Brian E. J. Rose](http://www.atmos.albany.edu/facstaff/brose/index.html)\n",
    "University at Albany, Department of Atmospheric and Environmental Sciences\n",
    "\n",
    "\n",
    "[Course home page](http://www.atmos.albany.edu/facstaff/brose/classes/ATM623_Spring2017/)"
   ]
  },
  {
   "cell_type": "markdown",
   "metadata": {},
   "source": [
    "### About these notes:\n",
    "\n",
    "This document uses the interactive [`Jupyter notebook`](https://jupyter.org) format. The notes can be accessed in several different ways:\n",
    "\n",
    "- The interactive notebooks are hosted on `github` at https://github.com/brian-rose/ClimateModeling_courseware\n",
    "- The latest versions can be viewed as static web pages [rendered on nbviewer](http://nbviewer.ipython.org/github/brian-rose/ClimateModeling_courseware/blob/master/index.ipynb)\n",
    "- A complete snapshot of the notes as of May 2015 (end of spring semester) are [available on Brian's website](http://www.atmos.albany.edu/facstaff/brose/classes/ATM623_Spring2015/Notes/index.html).\n",
    "- Now modified for the current Spring 2017 version of ATM 623\n",
    "\n",
    "Many of these notes make use of the `climlab` package, available at https://github.com/brian-rose/climlab"
   ]
  },
  {
   "cell_type": "markdown",
   "metadata": {},
   "source": [
    "This page is the top-level notebook with links to all notes and assignments."
   ]
  },
  {
   "cell_type": "markdown",
   "metadata": {},
   "source": [
    "## Lecture notes\n",
    "\n",
    "1. [Planetary energy budget](Lectures/Lecture01 -- Planetary energy budget.ipynb)\n",
    "2. [Solving the zero-dimensional EBM](Lectures/Lecture02 -- Solving the zero-dimensional EBM.ipynb)\n",
    "3. [Climate Sensitivity and Feedback](Lectures/Lecture03 -- Climate sensitivity and feedback.ipynb)\n",
    "4. [Climate System Components](Lectures/Lecture04 -- Climate system components.ipynb)\n",
    "5. [A Brief Review of Radiation](Lectures/Lecture05 -- Radiation.ipynb)\n",
    "6. [Elementary greenhouse models](Lectures/Lecture06 -- Elementary greenhouse models.ipynb)\n",
    "7. [Grey radiation modeling with climlab](Lectures/Lecture07 -- Grey radiation modeling with climlab.ipynb)\n",
    "8. [Modeling non-scattering radiative transfer](Lectures/Lecture08 -- Modeling non-scattering radiative transfer.ipynb)\n",
    "9. [Who needs spectral bands? We do. Some baby steps...](Lectures/Lecture09 -- Who needs spectral bands.ipynb)\n",
    "10. [Clouds and cloud feedback](Lectures/Lecture10 -- Clouds and cloud feedback.ipynb)\n",
    "11. [Insolation](Lectures/Lecture11 -- Insolation.ipynb)\n",
    "12. [Orbital variations, insolation, and the ice ages](Lectures/Lecture12 -- Orbital variations.ipynb)\n",
    "13. [Heat transport](Lectures/Lecture13 -- Heat transport.ipynb)\n",
    "14. [The one-dimensional energy balance model](Lectures/Lecture14 -- Diffusive energy balance model.ipynb)\n",
    "15. [Seasonal cycle and heat capacity](Lectures/Lecture15 -- Seasonal cycle and heat capacity.ipynb)\n",
    "16. [A peak at numerical methods for diffusion models](Lectures/Lecture16 -- Numerical methods for diffusion models.ipynb)\n",
    "17. [Ice albedo feedback in the EBM](Lectures/Lecture17 -- Ice albedo feedback in the EBM.ipynb)\n",
    "18. [Snowball Earth and Large Ice Cap Instability in the EBM](Lectures/Lecture18 -- Snowball Earth in the EBM.ipynb)\n",
    "19. [The surface energy balance](Lectures/Lecture19 -- The surface energy balance.ipynb)\n",
    "20. [Water, water everywhere](Lectures/Lecture20 -- Water, water everywhere!.ipynb)"
   ]
  },
  {
   "cell_type": "markdown",
   "metadata": {},
   "source": [
    "## Assignments\n",
    "\n",
    "1. [Feedback in the zero-dimensional EBM](Assignments/Assignment01 -- Feedback in the zero-dimensional EBM.ipynb)\n",
    "3. [Climate Sensitivity and Feedback](Assignments/Assignment03 -- Introducing CESM.ipynb)\n",
    "4. [Energy budget in CESM](Assignments/Assignment04 -- Energy budget in CESM.ipynb)\n",
    "5. [Radiative forcing in a grey radiation atmosphere](Assignments/Assignment05 -- Radiative forcing in a grey radiation atmosphere.ipynb)\n",
    "6. [Modeling radiative forcing and feedback with `climlab`](Assignments/Assignment06 -- Modeling radiative forcing and feedback.ipynb)\n",
    "7. [Orbital variations and insolation](Assignments/Assignment07 -- Orbital variations and insolation.ipynb)\n",
    "8. Numerical solution of the diffusion equation using the implicit method (see end of [Lecture 16](Lectures/Lecture16 -- Numerical methods for diffusion models.ipynb))"
   ]
  },
  {
   "cell_type": "markdown",
   "metadata": {},
   "source": [
    "____________\n",
    "## Credits\n",
    "\n",
    "The author of this notebook is [Brian E. J. Rose](http://www.atmos.albany.edu/facstaff/brose/index.html), University at Albany.\n",
    "\n",
    "It was developed in support of [ATM 623: Climate Modeling](http://www.atmos.albany.edu/facstaff/brose/classes/ATM623_Spring2015/), a graduate-level course in the [Department of Atmospheric and Envionmental Sciences](http://www.albany.edu/atmos/index.php), offered in Spring 2015.\n",
    "____________"
   ]
  },
  {
   "cell_type": "code",
   "execution_count": null,
   "metadata": {
    "collapsed": false
   },
   "outputs": [],
   "source": []
  }
 ],
 "metadata": {
  "anaconda-cloud": {},
  "kernelspec": {
   "display_name": "Python [default]",
   "language": "python",
   "name": "python2"
  },
  "language_info": {
   "codemirror_mode": {
    "name": "ipython",
    "version": 2
   },
   "file_extension": ".py",
   "mimetype": "text/x-python",
   "name": "python",
   "nbconvert_exporter": "python",
   "pygments_lexer": "ipython2",
   "version": "2.7.12"
  }
 },
 "nbformat": 4,
 "nbformat_minor": 0
}
