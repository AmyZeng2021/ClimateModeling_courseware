{
 "cells": [
  {
   "cell_type": "markdown",
   "metadata": {},
   "source": [
    "# [ATM 623: Climate Modeling](../index.ipynb)\n",
    "[Brian E. J. Rose](http://www.atmos.albany.edu/facstaff/brose/index.html), University at Albany\n",
    "# Lecture 16: A peak at numerical methods for diffusion models"
   ]
  },
  {
   "cell_type": "markdown",
   "metadata": {},
   "source": [
    "### About these notes:\n",
    "\n",
    "This document uses the interactive [`IPython notebook`](http://ipython.org/notebook.html) format (now also called [`Jupyter`](https://jupyter.org)). The notes can be accessed in several different ways:\n",
    "\n",
    "- The interactive notebooks are hosted on `github` at https://github.com/brian-rose/ClimateModeling_courseware\n",
    "- The latest versions can be viewed as static web pages [rendered on nbviewer](http://nbviewer.ipython.org/github/brian-rose/ClimateModeling_courseware/blob/master/index.ipynb)\n",
    "- A complete snapshot of the notes as of May 2015 (end of spring semester) are [available on Brian's website](http://www.atmos.albany.edu/facstaff/brose/classes/ATM623_Spring2015/Notes/index.html).\n",
    "\n",
    "Many of these notes make use of the `climlab` package, available at https://github.com/brian-rose/climlab"
   ]
  },
  {
   "cell_type": "markdown",
   "metadata": {},
   "source": [
    "## Contents\n",
    "\n",
    "1. [The one-dimensional diffusion equation](#section1)\n",
    "2. [Discretizing the diffusion operator in space](#section2)\n",
    "3. [Coding the discretized diffusion operator in `numpy`](#section3)\n",
    "4. [Discretizing the time derivative](#section4)\n",
    "5. [Stability analysis of the FTCS scheme](#section5)\n",
    "6. [Numerical tests with a shorter timestep](#section6)\n",
    "7. [The need for a more efficient method](#section7)\n",
    "8. [Implicit time method](#section8)\n",
    "9. [Your homework assignment](#section9)"
   ]
  },
  {
   "cell_type": "markdown",
   "metadata": {},
   "source": [
    "____________\n",
    "<a id='section1'></a>\n",
    "\n",
    "## 1. The one-dimensional diffusion equation\n",
    "____________\n",
    "\n",
    "Suppose that a quantity $u(x)$ is mixed down-gradient by a diffusive process.\n",
    "\n",
    "The diffusive flux is\n",
    "\n",
    "$$ F = - K \\frac{\\partial u}{\\partial x} $$\n",
    "\n",
    "There will be local changes in $u$ wherever this flux is convergent or divergent:\n",
    "\n",
    "$$ \\frac{\\partial u}{\\partial t} = - \\frac{\\partial F}{\\partial x} $$"
   ]
  },
  {
   "cell_type": "markdown",
   "metadata": {},
   "source": [
    "Putting this together gives the classical diffusion equation in one dimension\n",
    "\n",
    "$$ \\frac{\\partial u}{\\partial t} = \\frac{\\partial}{\\partial x} \\left( K \\frac{\\partial u}{\\partial x} \\right) $$\n",
    "\n",
    "For simplicity, we are going to limit ourselves to Cartesian geometry rather than meridional diffusion on a sphere.\n",
    "\n",
    "We will also assume here that $K$ is a constant, so our governing equation is\n",
    "\n",
    "$$ \\frac{\\partial u}{\\partial t} = K \\frac{\\partial^2 u}{\\partial x^2} $$"
   ]
  },
  {
   "cell_type": "markdown",
   "metadata": {},
   "source": [
    "This equation represents a time-dependent diffusion process. It is an **initial-boundary value problem**. We want to integrate the model forward in time to model the changes in the field $u(x)$.\n"
   ]
  },
  {
   "cell_type": "markdown",
   "metadata": {},
   "source": [
    "____________\n",
    "<a id='section2'></a>\n",
    "\n",
    "## 2. Discretizing the diffusion operator in space\n",
    "____________\n",
    "\n"
   ]
  },
  {
   "cell_type": "markdown",
   "metadata": {},
   "source": [
    "Solving a differential equation on a computer always requires some approximation to represent the continuous function $u(x,t)$ and its derivatives in terms of discrete quantities (arrays of numbers).\n",
    "\n",
    "We have already dealt with simple discretization of the time derivative back in [Lecture 2](Lecture02 -- Solving the zero-dimensional EBM.ipynb). We used the **forward Euler** method to step all our of radiation models forward in time so far."
   ]
  },
  {
   "cell_type": "markdown",
   "metadata": {},
   "source": [
    "### Some notation for discretization of $u(x,t)$\n",
    "\n",
    "We will discretize time and space on grids\n",
    "\n",
    "$$ x_j , ~~~ t^n $$\n",
    "\n",
    "so that \n",
    "\n",
    "$$ u_j^n = u(x_j, ~t^n) $$"
   ]
  },
  {
   "cell_type": "markdown",
   "metadata": {},
   "source": [
    "### Discretizing the diffusive flux\n",
    "\n",
    "The governing equation can be written in terms of the convergence of the diffusive flux:\n",
    "\n",
    "$$ \\frac{\\partial u}{\\partial t} = - \\frac{\\partial F}{\\partial x} $$\n",
    "\n",
    "It is sensible to use a **centered difference** to approximate this derivative:\n",
    "\n",
    "$$ \\frac{\\partial F}{\\partial x} \\bigg|_j \\approx  \\frac{F_{j+\\frac{1}{2}} - F_{j-\\frac{1}{2}}}{x_{j+\\frac{1}{2}} - x_{j-\\frac{1}{2}}} $$\n",
    "\n",
    "The time tendency at point $x_j$ can thus be written\n",
    "\n",
    "$$ \\frac{\\partial u}{\\partial t} \\bigg|_j  \\approx - \\frac{F_{j+\\frac{1}{2}} - F_{j-\\frac{1}{2}}}{x_{j+\\frac{1}{2}} - x_{j-\\frac{1}{2}}} $$"
   ]
  },
  {
   "cell_type": "markdown",
   "metadata": {},
   "source": [
    "The flux itself depends on a spatial derivative of $u$. We will apply the same centered difference approximation. At point $x_j$ this would look like\n",
    "\n",
    "$$ \\frac{\\partial u}{\\partial x} \\approx \\frac{u_{j+\\frac{1}{2}} - u_{j-\\frac{1}{2}}}{x_{j+\\frac{1}{2}} - x_{j-\\frac{1}{2}}} $$"
   ]
  },
  {
   "cell_type": "markdown",
   "metadata": {},
   "source": [
    "But we actually want to approximate $F_{j+\\frac{1}{2}}$ and $F_{j-\\frac{1}{2}}$, so we apply the centered difference formula at these intermediate points to get\n",
    "\n",
    "$$ F_{j+\\frac{1}{2}} \\approx -K \\frac{u_{j+1} - u_{j}}{x_{j+1} - x_{j}} $$\n",
    "\n",
    "and\n",
    "\n",
    "$$ F_{j-\\frac{1}{2}} \\approx -K \\frac{u_{j} - u_{j-1}}{x_{j} - x_{j-1}} $$"
   ]
  },
  {
   "cell_type": "markdown",
   "metadata": {},
   "source": [
    "Putting this all together, we can write the time tendency at $x_j$ as\n",
    "\n",
    "$$ \\frac{\\partial u}{\\partial t} \\bigg|_j  \\approx K \\frac{ \\frac{u_{j+1} - u_{j}}{x_{j+1} - x_{j}} - \\frac{u_{j} - u_{j-1}}{x_{j} - x_{j-1}}}{x_{j+\\frac{1}{2}} - x_{j-\\frac{1}{2}}} $$"
   ]
  },
  {
   "cell_type": "markdown",
   "metadata": {},
   "source": [
    "We'll make things easy on ourselves by using uniform grid spacing in $x$, so\n",
    "\n",
    "$$ x_{j+1} - x_{j} = x_{j} - x_{j-1} = x_{j+\\frac{1}{2}} - x_{j-\\frac{1}{2}} = \\Delta x $$"
   ]
  },
  {
   "cell_type": "markdown",
   "metadata": {},
   "source": [
    "So our final formula for the diffusive flux convergence is\n",
    "\n",
    "$$ \\frac{\\partial u}{\\partial t} \\bigg|_j  \\approx K \\frac{ u_{j+1} - 2 u_{j} + u_{j-1}}{\\Delta x^2} $$"
   ]
  },
  {
   "cell_type": "markdown",
   "metadata": {},
   "source": [
    "### No-flux boundary conditions"
   ]
  },
  {
   "cell_type": "markdown",
   "metadata": {},
   "source": [
    "Suppose the domain is $0 \\le x \\le 1$, with solid walls at $x=0, 1$.\n",
    "\n",
    "The physical boundary condition at the walls is that there can be no flux in or out of the walls:\n",
    "\n",
    "$$ F(0) = F(1) = 0 $$\n",
    "\n",
    "So the boundary conditions on $u$ are\n",
    "\n",
    "$$ \\frac{\\partial u}{\\partial x} = 0 ~~~ \\text{at} ~~~ x=0,1 $$"
   ]
  },
  {
   "cell_type": "markdown",
   "metadata": {},
   "source": [
    "### The staggered grid\n",
    "\n",
    "Suppose we have a grid of $J+1$ total points between $x=0$ and $x=1$, **including the boundaries**:\n",
    "\n",
    "- $x^*_0 = 0 $\n",
    "- $x^*_1 = \\Delta x$\n",
    "- $x^*_2 = 2~\\Delta x$\n",
    "- ...\n",
    "- $x^*_j = j~\\Delta x$\n",
    "- ...\n",
    "- $x^*_{J-1} = (J-1)~\\Delta x = 1 - \\Delta x $\n",
    "- $x^*_J = J ~ \\Delta x = 1 $\n",
    "\n",
    "Clearly then the grid spacing must be $\\Delta x = 1/J$."
   ]
  },
  {
   "cell_type": "markdown",
   "metadata": {},
   "source": [
    "We'll define the fluxes on this grid. The boundary conditions can thus be written\n",
    "\n",
    "$$ F_0 = F_J = 0 $$"
   ]
  },
  {
   "cell_type": "markdown",
   "metadata": {},
   "source": [
    "Since our centered difference discretization defines $F$ at points halfway between the $u$ points, it is sensible to locate $u$ on another grid that is offset by $\\Delta x / 2$.\n",
    "\n",
    "The first grid point for $u$ is thus a distance $\\Delta x / 2$ from the wall, and there are a total of $J$ points:\n",
    "\n",
    "- $x_0 = \\Delta x / 2$\n",
    "- $x_1 = \\Delta x / 2 + \\Delta x$\n",
    "- $x_2 = \\Delta x / 2 + 2~\\Delta x$\n",
    "- ...\n",
    "- $x_j = \\Delta x / 2 + j~\\Delta x$\n",
    "- ...\n",
    "- $x_{J-1} = \\Delta x / 2 + (J-1)~\\Delta x = 1 - \\Delta x / 2 $"
   ]
  },
  {
   "cell_type": "markdown",
   "metadata": {},
   "source": [
    "### Implementing the boundary condition on the staggered grid\n",
    "\n",
    "At $x_0$ we have\n",
    "\n",
    "$$ \\frac{\\partial u}{\\partial t} \\bigg|_0  \\approx -\\frac{ F_1 - F_0}{\\Delta x} $$\n",
    "\n",
    "Subbing in $F_0 = 0$ and the normal discretization for $F_1$ gives\n",
    "\n",
    "$$ \\frac{\\partial u}{\\partial t} \\bigg|_0  \\approx K \\frac{ u_1 - u_0 }{\\Delta x^2} $$\n",
    "\n",
    "The same procedure at the other wall yields\n",
    "\n",
    "$$ \\frac{\\partial u}{\\partial t} \\bigg|_{J-1}  \\approx - K \\frac{ u_{J-1} - u_{J-2} }{\\Delta x^2} $$\n",
    "\n"
   ]
  },
  {
   "cell_type": "markdown",
   "metadata": {},
   "source": [
    "Pulling this all together we have a complete discretization of the diffusion operator including its boundary conditions:\n",
    "\n",
    "$$ \\frac{\\partial u}{\\partial t} \\bigg|_0  \\approx K \\frac{ u_1 - u_0 }{\\Delta x^2} $$\n",
    "\n",
    "$$ \\frac{\\partial u}{\\partial t} \\bigg|_j  \\approx K \\frac{ u_{j+1} - 2 u_{j} + u_{j-1}}{\\Delta x^2}, ~~~~~~ j=1,...,J-2 $$\n",
    "\n",
    "$$ \\frac{\\partial u}{\\partial t} \\bigg|_{J-1}  \\approx - K \\frac{ u_{J-1} - u_{J-2} }{\\Delta x^2} $$\n",
    "\n"
   ]
  },
  {
   "cell_type": "markdown",
   "metadata": {},
   "source": [
    "____________\n",
    "<a id='section3'></a>\n",
    "\n",
    "## 3. Coding the discretized diffusion operator in `numpy`\n",
    "____________\n",
    "\n"
   ]
  },
  {
   "cell_type": "code",
   "execution_count": 1,
   "metadata": {
    "collapsed": true
   },
   "outputs": [],
   "source": [
    "%matplotlib inline\n",
    "import numpy as np\n",
    "import matplotlib.pyplot as plt\n",
    "from IPython.display import display, Math, Latex"
   ]
  },
  {
   "cell_type": "markdown",
   "metadata": {},
   "source": [
    "Here we will divide our domain up into 20 grid points."
   ]
  },
  {
   "cell_type": "code",
   "execution_count": 2,
   "metadata": {
    "collapsed": false
   },
   "outputs": [
    {
     "data": {
      "text/latex": [
       "$$J = 20$$"
      ],
      "text/plain": [
       "<IPython.core.display.Math object>"
      ]
     },
     "metadata": {},
     "output_type": "display_data"
    },
    {
     "data": {
      "text/latex": [
       "$$\\Delta x = 0.050$$"
      ],
      "text/plain": [
       "<IPython.core.display.Math object>"
      ]
     },
     "metadata": {},
     "output_type": "display_data"
    }
   ],
   "source": [
    "J1 = 20\n",
    "J = J1\n",
    "deltax = 1./J\n",
    "display(Math(r'J = %i' %J))\n",
    "display(Math(r'\\Delta x = %0.3f' %deltax))"
   ]
  },
  {
   "cell_type": "markdown",
   "metadata": {},
   "source": [
    "The fluxes will be solved on the staggered grid with 21 points.\n",
    "\n",
    "$u$ will be solved on the 20 point grid."
   ]
  },
  {
   "cell_type": "code",
   "execution_count": 3,
   "metadata": {
    "collapsed": false
   },
   "outputs": [
    {
     "name": "stdout",
     "output_type": "stream",
     "text": [
      "[ 0.025  0.075  0.125  0.175  0.225  0.275  0.325  0.375  0.425  0.475\n",
      "  0.525  0.575  0.625  0.675  0.725  0.775  0.825  0.875  0.925  0.975]\n"
     ]
    }
   ],
   "source": [
    "xstag = np.linspace(0., 1., J+1)\n",
    "x = xstag[:-1] + deltax/2\n",
    "print x"
   ]
  },
  {
   "cell_type": "code",
   "execution_count": 4,
   "metadata": {
    "collapsed": true
   },
   "outputs": [],
   "source": [
    "u = np.zeros_like(x)"
   ]
  },
  {
   "cell_type": "markdown",
   "metadata": {},
   "source": [
    "Here's one way to implement the finite difference, using array indexing."
   ]
  },
  {
   "cell_type": "code",
   "execution_count": 5,
   "metadata": {
    "collapsed": false
   },
   "outputs": [],
   "source": [
    "dudx = (u[1:] - u[:-1]) / (x[1:] - x[:-1])"
   ]
  },
  {
   "cell_type": "code",
   "execution_count": 6,
   "metadata": {
    "collapsed": false
   },
   "outputs": [
    {
     "data": {
      "text/plain": [
       "(19,)"
      ]
     },
     "execution_count": 6,
     "metadata": {},
     "output_type": "execute_result"
    }
   ],
   "source": [
    "dudx.shape"
   ]
  },
  {
   "cell_type": "markdown",
   "metadata": {},
   "source": [
    "We can also use the function `numpy.diff()` to accomplish the same thing: "
   ]
  },
  {
   "cell_type": "code",
   "execution_count": 7,
   "metadata": {
    "collapsed": false
   },
   "outputs": [
    {
     "name": "stdout",
     "output_type": "stream",
     "text": [
      "Help on function diff in module numpy.lib.function_base:\n",
      "\n",
      "diff(a, n=1, axis=-1)\n",
      "    Calculate the n-th order discrete difference along given axis.\n",
      "    \n",
      "    The first order difference is given by ``out[n] = a[n+1] - a[n]`` along\n",
      "    the given axis, higher order differences are calculated by using `diff`\n",
      "    recursively.\n",
      "    \n",
      "    Parameters\n",
      "    ----------\n",
      "    a : array_like\n",
      "        Input array\n",
      "    n : int, optional\n",
      "        The number of times values are differenced.\n",
      "    axis : int, optional\n",
      "        The axis along which the difference is taken, default is the last axis.\n",
      "    \n",
      "    Returns\n",
      "    -------\n",
      "    diff : ndarray\n",
      "        The `n` order differences. The shape of the output is the same as `a`\n",
      "        except along `axis` where the dimension is smaller by `n`.\n",
      "    \n",
      "    See Also\n",
      "    --------\n",
      "    gradient, ediff1d, cumsum\n",
      "    \n",
      "    Examples\n",
      "    --------\n",
      "    >>> x = np.array([1, 2, 4, 7, 0])\n",
      "    >>> np.diff(x)\n",
      "    array([ 1,  2,  3, -7])\n",
      "    >>> np.diff(x, n=2)\n",
      "    array([  1,   1, -10])\n",
      "    \n",
      "    >>> x = np.array([[1, 3, 6, 10], [0, 5, 6, 8]])\n",
      "    >>> np.diff(x)\n",
      "    array([[2, 3, 4],\n",
      "           [5, 1, 2]])\n",
      "    >>> np.diff(x, axis=0)\n",
      "    array([[-1,  2,  0, -2]])\n",
      "\n"
     ]
    }
   ],
   "source": [
    "help(np.diff)"
   ]
  },
  {
   "cell_type": "code",
   "execution_count": 8,
   "metadata": {
    "collapsed": false
   },
   "outputs": [
    {
     "data": {
      "text/plain": [
       "(19,)"
      ]
     },
     "execution_count": 8,
     "metadata": {},
     "output_type": "execute_result"
    }
   ],
   "source": [
    "np.diff(u).shape"
   ]
  },
  {
   "cell_type": "markdown",
   "metadata": {},
   "source": [
    "Here is a function that computes the diffusive flux $F$ on the staggered grid, including the boundaries."
   ]
  },
  {
   "cell_type": "code",
   "execution_count": 9,
   "metadata": {
    "collapsed": true
   },
   "outputs": [],
   "source": [
    "def diffusive_flux(u, deltax, K=1):\n",
    "    #  Take the finite difference\n",
    "    F = np.diff(u)/deltax\n",
    "    #  add a zero as the first element (no flux on boundary)\n",
    "    F = np.insert(F, 0, 0.)\n",
    "    #  add another zero as the last element (no flux on boundary)\n",
    "    F = np.append(F, 0.)\n",
    "    #  flux is DOWN gradient, proportional to D\n",
    "    return -K*F"
   ]
  },
  {
   "cell_type": "code",
   "execution_count": 10,
   "metadata": {
    "collapsed": false
   },
   "outputs": [
    {
     "data": {
      "text/plain": [
       "(21,)"
      ]
     },
     "execution_count": 10,
     "metadata": {},
     "output_type": "execute_result"
    }
   ],
   "source": [
    "diffusive_flux(u,deltax).shape"
   ]
  },
  {
   "cell_type": "markdown",
   "metadata": {},
   "source": [
    "The time tendency of $u$ is just the convergence of this flux, which requires one more finite difference:"
   ]
  },
  {
   "cell_type": "code",
   "execution_count": 11,
   "metadata": {
    "collapsed": true
   },
   "outputs": [],
   "source": [
    "def diffusion(u, deltax, K=1):\n",
    "    #  compute flux\n",
    "    F = diffusive_flux(u, deltax, K)\n",
    "    #  take convergence of flux\n",
    "    return -np.diff(F) / deltax"
   ]
  },
  {
   "cell_type": "markdown",
   "metadata": {},
   "source": [
    "### A smooth example\n",
    "\n",
    "Suppose we have an initial $u$ field that has a local maximum in the interior.\n",
    "\n",
    "The gaussian (bell curve) function is a convenient way to create such a field."
   ]
  },
  {
   "cell_type": "code",
   "execution_count": 12,
   "metadata": {
    "collapsed": true
   },
   "outputs": [],
   "source": [
    "def gaussian(x, mean, std):\n",
    "    return np.exp(-(x-mean)**2/(2*std**2))/np.sqrt(2*np.pi*std**2)"
   ]
  },
  {
   "cell_type": "code",
   "execution_count": 13,
   "metadata": {
    "collapsed": false
   },
   "outputs": [
    {
     "data": {
      "text/plain": [
       "<matplotlib.legend.Legend at 0x10e3abc90>"
      ]
     },
     "execution_count": 13,
     "metadata": {},
     "output_type": "execute_result"
    },
    {
     "data": {
      "image/png": "[encoded data removed]",
      "text/plain": [
       "<matplotlib.figure.Figure at 0x10e17b8d0>"
      ]
     },
     "metadata": {},
     "output_type": "display_data"
    }
   ],
   "source": [
    "K = 0.01\n",
    "u = gaussian(x, 0.5, 0.08)\n",
    "dudt = diffusion(u, deltax, K=K)\n",
    "fig, ax = plt.subplots(1)\n",
    "ax.plot(x, u, label='$u(x)$')\n",
    "ax.plot(x, dudt, label='$du/dt$')\n",
    "ax.legend()"
   ]
  },
  {
   "cell_type": "markdown",
   "metadata": {},
   "source": [
    "Hopefully this makes sense. The diffusion is acting to smooth out $u$ by reducing the peak and increasing $u$ on the flanks of the gaussian bump."
   ]
  },
  {
   "cell_type": "markdown",
   "metadata": {},
   "source": [
    "### Some non-smooth examples\n",
    "\n",
    "Use a random number generator to create some noisy initial conditions."
   ]
  },
  {
   "cell_type": "code",
   "execution_count": 14,
   "metadata": {
    "collapsed": false
   },
   "outputs": [
    {
     "data": {
      "image/png": "[encoded data removed]",
      "text/plain": [
       "<matplotlib.figure.Figure at 0x10e3ceb90>"
      ]
     },
     "metadata": {},
     "output_type": "display_data"
    }
   ],
   "source": [
    "fig = plt.figure(figsize=(10,8))\n",
    "for n in range(4):\n",
    "    u = np.random.random(J)\n",
    "    dudt = diffusion(u, deltax, K)\n",
    "    ax = fig.add_subplot(2,2,n+1)\n",
    "    ax.plot(x, u)\n",
    "    ax.plot(x, dudt)"
   ]
  },
  {
   "cell_type": "markdown",
   "metadata": {},
   "source": [
    "____________\n",
    "<a id='section4'></a>\n",
    "\n",
    "## 4. Discretizing the time derivative\n",
    "____________\n",
    "\n",
    "\n"
   ]
  },
  {
   "cell_type": "markdown",
   "metadata": {},
   "source": [
    "The simplest way to discretize the time derivative is the **forward Euler** method:\n",
    "\n",
    "$$ \\frac{d u}{dt} \\bigg|^n \\approx \\frac{u^{n+1} - u^n}{\\Delta t} $$"
   ]
  },
  {
   "cell_type": "markdown",
   "metadata": {},
   "source": [
    "We have already used this method to step our prognostic variables forward in time.\n",
    "\n",
    "Solving the above for the future value of $u$ gives\n",
    "\n",
    "$$ u^{n+1} = u^n + \\Delta t \\frac{d u}{dt} \\bigg|^n $$"
   ]
  },
  {
   "cell_type": "markdown",
   "metadata": {},
   "source": [
    "We apply our discretization of the diffusion operator to the current value of the field $u^n_j$, to get our formula for the future values:\n",
    "\n",
    "$$ u_j^{n+1} = u_j^n + \\frac{K \\Delta t}{\\Delta x^2} \\left( u^n_{j+1} - 2 u^n_{j} + u^n_{j-1} \\right)  $$\n",
    "\n",
    "(except at the boundaries, where the diffusion operator is slightly different -- see above)."
   ]
  },
  {
   "cell_type": "markdown",
   "metadata": {},
   "source": [
    "Together, this scheme is known as **Forward Time, Centered Space** or **FTCS**.\n",
    "\n",
    "It is very simple to implement in `numpy` code."
   ]
  },
  {
   "cell_type": "code",
   "execution_count": 15,
   "metadata": {
    "collapsed": true
   },
   "outputs": [],
   "source": [
    "def step_forward(u, deltax, deltat, K=1):\n",
    "    dudt = diffusion(u, deltax, K)\n",
    "    return u + deltat * dudt"
   ]
  },
  {
   "cell_type": "code",
   "execution_count": 16,
   "metadata": {
    "collapsed": false
   },
   "outputs": [
    {
     "data": {
      "text/plain": [
       "<matplotlib.legend.Legend at 0x105f8d910>"
      ]
     },
     "execution_count": 16,
     "metadata": {},
     "output_type": "execute_result"
    },
    {
     "data": {
      "image/png": "[encoded data removed]",
      "text/plain": [
       "<matplotlib.figure.Figure at 0x10f35e4d0>"
      ]
     },
     "metadata": {},
     "output_type": "display_data"
    }
   ],
   "source": [
    "K = 0.01\n",
    "deltat = 0.125\n",
    "deltat1 = deltat\n",
    "\n",
    "u0 = gaussian(x, 0.5, 0.08)\n",
    "u1 = step_forward(u0, deltax, deltat1, K)\n",
    "fig, ax = plt.subplots(1)\n",
    "ax.plot(x, u0, label='initial')\n",
    "ax.plot(x, u1, label='next')\n",
    "ax.legend()"
   ]
  },
  {
   "cell_type": "markdown",
   "metadata": {},
   "source": [
    "Let's loop through a number of timesteps."
   ]
  },
  {
   "cell_type": "code",
   "execution_count": 17,
   "metadata": {
    "collapsed": true
   },
   "outputs": [],
   "source": [
    "#  regular resolution\n",
    "J = 20\n",
    "deltax = 1./J\n",
    "xstag = np.linspace(0., 1., J+1)\n",
    "x = xstag[:-1] + deltax/2"
   ]
  },
  {
   "cell_type": "code",
   "execution_count": 18,
   "metadata": {
    "collapsed": false
   },
   "outputs": [
    {
     "data": {
      "text/plain": [
       "<matplotlib.legend.Legend at 0x10f882b50>"
      ]
     },
     "execution_count": 18,
     "metadata": {},
     "output_type": "execute_result"
    },
    {
     "data": {
      "image/png": "[encoded data removed]",
      "text/plain": [
       "<matplotlib.figure.Figure at 0x10f882c90>"
      ]
     },
     "metadata": {},
     "output_type": "display_data"
    }
   ],
   "source": [
    "u = gaussian(x, 0.5, 0.08)\n",
    "niter = 11\n",
    "for n in range(niter):\n",
    "    u = step_forward(u, deltax, deltat1, K)\n",
    "    plt.plot(x, u, label=n)\n",
    "plt.legend()"
   ]
  },
  {
   "cell_type": "markdown",
   "metadata": {},
   "source": [
    "The numerics were easy to implement, and the scheme seems to work very well! The results are physically sensible."
   ]
  },
  {
   "cell_type": "markdown",
   "metadata": {},
   "source": [
    "### Now, suppose that you wanted to **double** the spatial resolution\n",
    "\n",
    "Try setting $J=40$ and repeat the above procedure.\n",
    "\n",
    "What happens?"
   ]
  },
  {
   "cell_type": "code",
   "execution_count": 19,
   "metadata": {
    "collapsed": true
   },
   "outputs": [],
   "source": [
    "#  double the resolution\n",
    "scaling_factor = 2\n",
    "J = J1 * scaling_factor\n",
    "deltax = 1./J\n",
    "xstag = np.linspace(0., 1., J+1)\n",
    "x = xstag[:-1] + deltax/2"
   ]
  },
  {
   "cell_type": "code",
   "execution_count": 20,
   "metadata": {
    "collapsed": false
   },
   "outputs": [
    {
     "data": {
      "text/plain": [
       "<matplotlib.legend.Legend at 0x10eeed790>"
      ]
     },
     "execution_count": 20,
     "metadata": {},
     "output_type": "execute_result"
    },
    {
     "data": {
      "image/png": "[encoded data removed]",
      "text/plain": [
       "<matplotlib.figure.Figure at 0x10e17b3d0>"
      ]
     },
     "metadata": {},
     "output_type": "display_data"
    }
   ],
   "source": [
    "u = gaussian(x, 0.5, 0.08)\n",
    "for n in range(niter):\n",
    "    u = step_forward(u, deltax, deltat1, K)\n",
    "    plt.plot(x, u, label=n)\n",
    "plt.legend()"
   ]
  },
  {
   "cell_type": "markdown",
   "metadata": {},
   "source": [
    "Suddenly our scheme is producing numerical noise that grows in time and overwhelms to smooth physical solution we are trying to model.\n",
    "\n",
    "**This is bad!**\n",
    "\n",
    "What went wrong, and what can we do about it?"
   ]
  },
  {
   "cell_type": "markdown",
   "metadata": {},
   "source": [
    "____________\n",
    "<a id='section5'></a>\n",
    "\n",
    "## 5. Stability analysis of the FTCS scheme\n",
    "____________\n",
    "\n",
    "Following Press et al. (1988), \"Numerical Recipes in C: The Art of Scientific Computing\", Cambridge University Press."
   ]
  },
  {
   "cell_type": "markdown",
   "metadata": {},
   "source": [
    "This is an example of the so-called **von Neumann Stability Analysis**. It is a form of *normal mode* analysis for a discrete system.\n",
    "\n",
    "We look for normal mode solutions (i.e. wavy sines and cosines) of the finite difference equations of the form\n",
    "\n",
    "$$ u_j^n = \\xi^n \\exp(i~k~j~ \\Delta x) $$\n",
    "\n",
    "where $k$ is some real number that represents a spatial wavenumber (which can have any value), and $\\xi = \\xi(k)$ is a complex number that depends on $k$."
   ]
  },
  {
   "cell_type": "markdown",
   "metadata": {},
   "source": [
    "The number $\\xi$ is called the **amplification factor** at a given wavenumber $k$."
   ]
  },
  {
   "cell_type": "markdown",
   "metadata": {},
   "source": [
    "The question is, **under what conditions do wavy solutions grow with time**?  (This is bad, as it means small numerical noise will become large numerical noise and make our differencing scheme unusable) "
   ]
  },
  {
   "cell_type": "markdown",
   "metadata": {},
   "source": [
    "Let's substitute the normal mode solution into our finite difference equation\n",
    "\n",
    "$$ \\frac{u_j^{n+1} -  u_j^n}{\\Delta t} = \\frac{K}{\\Delta x^2} \\left( u^n_{j+1} - 2 u^n_{j} + u^n_{j-1} \\right)  $$"
   ]
  },
  {
   "cell_type": "markdown",
   "metadata": {},
   "source": [
    "$$ \\frac{\\xi^{n+1} \\exp(i~k~j~ \\Delta x) -  \\xi^n \\exp(i~k~j~ \\Delta x)}{\\Delta t} = \\frac{K}{\\Delta x^2} \\left( \\xi^n \\exp(i~k~(j+1)~ \\Delta x) - 2 \\xi^n \\exp(i~k~j~ \\Delta x) + \\xi^n \\exp(i~k~(j-1)~ \\Delta x) \\right)  $$"
   ]
  },
  {
   "cell_type": "markdown",
   "metadata": {},
   "source": [
    "Divide through by $\\xi^n \\exp(i~k~j~\\Delta x)$:"
   ]
  },
  {
   "cell_type": "markdown",
   "metadata": {},
   "source": [
    "$$ \\frac{\\xi^{n+1}}{\\xi^n} -  1 = \\frac{K \\Delta t}{\\Delta x^2} \\left(\\exp(i~k~\\Delta x) - 2 + \\exp(-i~k~\\Delta x) \\right)  $$"
   ]
  },
  {
   "cell_type": "markdown",
   "metadata": {},
   "source": [
    "The exponentials simplify"
   ]
  },
  {
   "cell_type": "markdown",
   "metadata": {},
   "source": [
    "$$ \\frac{\\xi^{n+1}}{\\xi^n} = 1 + \\frac{K \\Delta t}{\\Delta x^2} \\left(2 \\cos(k~\\Delta x) - 2 \\right)  $$"
   ]
  },
  {
   "cell_type": "markdown",
   "metadata": {},
   "source": [
    "Or using a double angle identity,"
   ]
  },
  {
   "cell_type": "markdown",
   "metadata": {},
   "source": [
    "$$ \\frac{\\xi^{n+1}}{\\xi^n} = 1 - \\frac{4 K \\Delta t}{\\Delta x^2} \\sin^2 \\left( \\frac{k~\\Delta x}{2} \\right)  $$"
   ]
  },
  {
   "cell_type": "markdown",
   "metadata": {},
   "source": [
    "### The wavy solution must not grow with time"
   ]
  },
  {
   "cell_type": "markdown",
   "metadata": {},
   "source": [
    "We need to prevent growing normal modes. So successive amplitudes should be\n",
    "\n",
    "$$ \\bigg| \\frac{\\xi^{n+1}}{\\xi^n} \\bigg| \\le 1 $$"
   ]
  },
  {
   "cell_type": "markdown",
   "metadata": {},
   "source": [
    "The stability condition is thus\n",
    "\n",
    "$$ \\bigg| 1 - \\frac{4 K \\Delta t}{\\Delta x^2} \\sin^2 \\left( \\frac{k~\\Delta x}{2} \\right) \\bigg| \\le 1 $$"
   ]
  },
  {
   "cell_type": "markdown",
   "metadata": {},
   "source": [
    "and this condition must be met for **EVERY** possible wavenumber $k$."
   ]
  },
  {
   "cell_type": "markdown",
   "metadata": {},
   "source": [
    "Because $0 \\le \\sin^2(\\phi) \\le 1$ for any $\\phi$, our condition can only be violated if\n",
    "\n",
    "$$ \\frac{4 K \\Delta t}{\\Delta x^2} > 2 $$"
   ]
  },
  {
   "cell_type": "markdown",
   "metadata": {},
   "source": [
    "We conclude the the FTCS scheme is stable so long as this stability condition is met:\n",
    "\n",
    "$$ \\Delta t \\le \\frac{\\Delta x^2}{2 K} $$"
   ]
  },
  {
   "cell_type": "markdown",
   "metadata": {},
   "source": [
    "### We have just discovered an important constraint on the allowable timestep\n",
    "\n",
    "The maximum timestep we can use with the FTCS scheme for the diffusion equation is proportional to $\\Delta x^2$.\n",
    "\n",
    "** A doubling of the spatial resolution would require a 4x shorter timestep to preserve numerical stability. **\n",
    "\n",
    "Physically, the restriction is that the maximum allowable timestep is approximately the diffusion time across a grid cell of width $\\Delta x$."
   ]
  },
  {
   "cell_type": "markdown",
   "metadata": {},
   "source": [
    "____________\n",
    "<a id='section6'></a>\n",
    "\n",
    "## 6. Numerical tests with a shorter timestep\n",
    "____________\n",
    "\n",
    "Going back to our Gaussian example, let's double the resolution but shorten the timestep by a factor of 4.\n"
   ]
  },
  {
   "cell_type": "code",
   "execution_count": 21,
   "metadata": {
    "collapsed": true
   },
   "outputs": [],
   "source": [
    "#  double the resolution\n",
    "J = J1 * scaling_factor\n",
    "deltax = 1./J\n",
    "xstag = np.linspace(0., 1., J+1)\n",
    "x = xstag[:-1] + deltax/2"
   ]
  },
  {
   "cell_type": "code",
   "execution_count": 22,
   "metadata": {
    "collapsed": false
   },
   "outputs": [
    {
     "name": "stdout",
     "output_type": "stream",
     "text": [
      "The maximum allowable timestep is 0.031250\n",
      "4x the previous timestep is 0.031250\n"
     ]
    }
   ],
   "source": [
    "K = 0.01\n",
    "#  The maximum stable timestep\n",
    "deltat_max = deltax**2 / 2 / K\n",
    "print 'The maximum allowable timestep is %f' %deltat_max\n",
    "\n",
    "deltat = deltat1 / scaling_factor**2\n",
    "print '4x the previous timestep is %f' %deltat"
   ]
  },
  {
   "cell_type": "code",
   "execution_count": 23,
   "metadata": {
    "collapsed": false
   },
   "outputs": [
    {
     "data": {
      "text/plain": [
       "<matplotlib.legend.Legend at 0x10f3561d0>"
      ]
     },
     "execution_count": 23,
     "metadata": {},
     "output_type": "execute_result"
    },
    {
     "data": {
      "image/png": "[encoded data removed]",
      "text/plain": [
       "<matplotlib.figure.Figure at 0x10eedd510>"
      ]
     },
     "metadata": {},
     "output_type": "display_data"
    }
   ],
   "source": [
    "u = gaussian(x, 0.5, 0.08)\n",
    "for n in range(niter):\n",
    "    for t in range(scaling_factor**2):\n",
    "        u = step_forward(u, deltax, deltat, K)\n",
    "    plt.plot(x, u, label=n)\n",
    "plt.legend()"
   ]
  },
  {
   "cell_type": "markdown",
   "metadata": {},
   "source": [
    "Success! The graph now looks like a smoother (higher resolution) version of our first integration with the coarser grid.\n",
    "\n",
    "**But at a big cost**:  our calculation required 4 times more timesteps to do the same integration.\n",
    "\n",
    "The total increase in computational cost was actally a factor of 8 to get a factor of 2 increase in spatial resolution."
   ]
  },
  {
   "cell_type": "markdown",
   "metadata": {},
   "source": [
    "____________\n",
    "<a id='section7'></a>\n",
    "\n",
    "## 7. The need for a more efficient method\n",
    "____________\n"
   ]
  },
  {
   "cell_type": "markdown",
   "metadata": {},
   "source": [
    "In practice the condition\n",
    "\n",
    "$$ \\Delta t \\le \\frac{\\Delta x^2}{2 K} $$\n",
    "\n",
    "is often too restrictive to be practical!\n",
    "\n",
    "Consider our diffusive EBM. Suppose we want a spatial resolution of 1º latitude. Then we have 180 grid points from pole to pole, and our physical length scale is \n",
    "\n",
    "$$ \\Delta x \\approx 10^5 \\text{m} $$ "
   ]
  },
  {
   "cell_type": "markdown",
   "metadata": {},
   "source": [
    "We were using a diffusivity of $ D = 0.6 ~ \\text{W m}^{-2}~\\text{K}^{-1} $ and a heat capacity of $C = 4 \\times 10^7 ~ \\text{J m}^{-2} ~\\text{K}^{-1}$ (for 10 m of water -- [see Lecture 15](Lecure15 -- Seasonal cycle and heat capacity.ipynb)).\n",
    "\n",
    "Accounting for the spherical geometry in our EBM, this translates to \n",
    "\n",
    "$$ K = \\frac{2 \\pi a^2 D}{C} = \\frac{2 \\pi ~ (6.4 \\times 10^6 ~\\text{m})^2 ~(0.6 ~ \\text{W m}^{-2}~\\text{K}^{-1})}{4 \\times 10^7 ~ \\text{J m}^{-2} ~\\text{K}^{-1}} \\approx 4 \\times 10^{6} ~ \\text{m}^2 ~ \\text{s}^{-1} $$\n",
    "\n",
    "Recall that this is the diffusivity associated with the large-scale motion of the atmosphere (mostly). If we take a typical velocity scale for a mid-latitude eddy, $V \\approx 20~\\text{m s}^{-1}$, and a typical length scale for that eddy, $L \\approx 2000~\\text{km}$, the diffusivity then scales as\n",
    "\n",
    "$$ K = V~ L = 4 \\times 10^{6} ~ \\text{m}^2 ~ \\text{s}^{-1} $$"
   ]
  },
  {
   "cell_type": "markdown",
   "metadata": {},
   "source": [
    "Using these numbers the stability condition is roughly\n",
    "\n",
    "$$ \\Delta t \\le 10^3 ~\\text{s}$$\n",
    "\n",
    "which is less than one hour!\n",
    "\n",
    "And if we wanted to double the resolution to 0.5º, we would need a timestep of just a few minutes.\n",
    "\n",
    "This can be a very onerous requirement for a model that would like to integrate out for many years.  **We can do better, but we need a different time discretization!**"
   ]
  },
  {
   "cell_type": "markdown",
   "metadata": {},
   "source": [
    "____________\n",
    "<a id='section8'></a>\n",
    "\n",
    "## 8. Implicit time method\n",
    "____________\n",
    "\n"
   ]
  },
  {
   "cell_type": "markdown",
   "metadata": {},
   "source": [
    "With numerical methods for partial differential equations, it often turns out that a small change in the discretization can make an enormous difference in the results."
   ]
  },
  {
   "cell_type": "markdown",
   "metadata": {},
   "source": [
    "The **implicit time** scheme applies exactly the same centered difference scheme to the spatial derivatives in the diffusion operator.\n",
    "\n",
    "But instead of applying the operator to the field $u^n$ at time $n$, we instead apply it to the field **at the future time** $u^{n+1}$."
   ]
  },
  {
   "cell_type": "markdown",
   "metadata": {},
   "source": [
    "The scheme looks like\n",
    "\n",
    "$$ \\frac{u_j^{n+1} - u_j^n}{\\Delta t} =  \\frac{K}{\\Delta x^2} \\left( u^{n+1}_{j+1} - 2 u^{n+1}_{j} + u^{n+1}_{j-1} \\right)  $$\n",
    "\n",
    "in the interior, and at the boundaries:\n",
    "\n",
    "$$ \\frac{u_0^{n+1} - u_0^n}{\\Delta t} = \\frac{K}{\\Delta x^2} \\left( u^{n+1}_1 - u^{n+1}_0 \\right) $$\n",
    "\n",
    "and\n",
    "\n",
    "$$ \\frac{u_{J-1}^{n+1} - u_{J-1}^n}{\\Delta t} = - \\frac{K}{\\Delta x^2} \\left( u_{J-1}^{n+1} - u_{J-2}^{n+1} \\right) $$\n",
    "\n"
   ]
  },
  {
   "cell_type": "markdown",
   "metadata": {},
   "source": [
    "This might seem like a strange way to write the system, since **we don't know the future state of the system at $t^{n+1}$**. That's what we're trying to solve for!\n",
    "\n",
    "Let's move all terms evaluated at $t^{n+1}$ to the left hand side:\n",
    "\n",
    "$$ u_j^{n+1}  - \\frac{K \\Delta t}{\\Delta x^2} \\left( u^{n+1}_{j+1} - 2 u^{n+1}_{j} + u^{n+1}_{j-1} \\right) = u_j^n   $$\n",
    "\n",
    "or\n",
    "\n",
    "$$ -K^* u^{n+1}_{j+1} + \\left(1+2K^* \\right) u_j^{n+1} - K^* u_{j-1}^{n+1} = u_j^n $$\n",
    "\n",
    "(in the interior)\n",
    "\n",
    "where we have introduced a non-dimensional diffusivity\n",
    "\n",
    "$$ K^* = \\frac{K \\Delta t}{\\Delta x^2} $$"
   ]
  },
  {
   "cell_type": "markdown",
   "metadata": {},
   "source": [
    "### The implicit scheme as a matrix problem\n",
    "\n",
    "We can write this as a matrix equation\n",
    "\n",
    "$$ \\mathbf{A} ~ \\mathbf{U}^{n+1} = \\mathbf{U}^n $$"
   ]
  },
  {
   "cell_type": "markdown",
   "metadata": {},
   "source": [
    "where $\\mathbf{U}$ is a $J\\times1$ column vector giving the field $u(x)$ at a particular instant in time:\n",
    "\n",
    "$$ \\mathbf{U}^n = \\left[ \\begin{array}{c} \n",
    "u^n_0 \\\\\n",
    "u^n_1  \\\\\n",
    "u^n_2 \\\\\n",
    "...  \\\\\n",
    "u^n_{J-2} \\\\\n",
    "u^n_{J-1} \\\\\n",
    "\\end{array}\n",
    "\\right] \n",
    "$$\n",
    "\n",
    "and $\\mathbf{U}^{n+1}$ is the same vector at $t^{n+1}$."
   ]
  },
  {
   "cell_type": "markdown",
   "metadata": {},
   "source": [
    "$\\mathbf{A}$ is a $J\\times J$ tridiagonal matrix:\n",
    "\n",
    "$$ \\mathbf{A} = \\left[ \\begin{array}{cccccccc}\n",
    " 1+K^* & -K^* & 0 & 0 & ... & 0 & 0 & 0 \\\\\n",
    " -K^* & 1+2K^* & -K^* & 0 & ... & 0 & 0 & 0 \\\\\n",
    " 0 & -K^* & 1+2K^* & -K^* &... & 0 & 0 & 0 \\\\\n",
    " ... & ... & ... & ... & ... & ... & ... & ... \\\\\n",
    " 0 & 0 & 0 & 0 & ... & -K^* & 1+2K^* & -K^* \\\\\n",
    " 0 & 0 & 0 & 0 & ... & 0 & -K^* & 1+K^* \\\\\n",
    "\\end{array}\n",
    "\\right] \n",
    "$$"
   ]
  },
  {
   "cell_type": "markdown",
   "metadata": {},
   "source": [
    "Solving for the future state of the system $\\mathbf{U}^{n+1}$ is then just the solution of the linear system\n",
    "\n",
    "$$ \\mathbf{U}^{n+1} = \\mathbf{A}^{-1} \\mathbf{U}^{n}$$"
   ]
  },
  {
   "cell_type": "markdown",
   "metadata": {},
   "source": [
    "Solving a tridiagonal matrix problem like this is a very common operation in computer science, and efficient numerical routines are available in many languages (including Python / `numpy`!)"
   ]
  },
  {
   "cell_type": "markdown",
   "metadata": {},
   "source": [
    "### Stability analysis of the implicit scheme\n",
    "\n",
    "We'll skip the details, but the amplification factor for this scheme is (see *Numerical Recipes* book or other text on numerical methods):\n",
    "\n",
    "$$ \\frac{\\xi^{n+1}}{\\xi^n} = \\frac{1}{1+4 K^* \\sin^2 \\left( \\frac{k \\Delta x}{2} \\right) } $$\n",
    "\n",
    "so the stability criterion of $$ \\bigg| \\frac{\\xi^{n+1}}{\\xi^n} \\bigg| \\le 1 $$\n",
    "\n",
    "is met for any value of $K^*$ and thus **for any timestep $\\Delta t$**.\n",
    "\n",
    "The implicit method (also called **backward time**) is unconditionally stable for any choice of timestep."
   ]
  },
  {
   "cell_type": "markdown",
   "metadata": {},
   "source": [
    "____________\n",
    "<a id='section9'></a>\n",
    "\n",
    "## 9. Your homework assignment\n",
    "____________\n",
    "\n",
    "\n",
    "Write Python code to solve the diffusion equation using this implicit time method. Demonstrate that it is numerically stable for much larger timesteps than we were able to use with the forward-time method. One way to do this is to use a much higher spatial resolution.\n",
    "\n",
    "### Some final thoughts:\n",
    "\n",
    "We have just scratched the surface of the wonders and sorrows of numerical methods here. The implicit method is very **stable** but is not the most **accurate** method for a diffusion problem, particularly when you are interested in some of the faster dynamics of the system (as opposed to just getting the system quickly to its equilibrium state).\n",
    "\n",
    "There are always trade-offs in the choice of a numerical method.\n",
    "\n",
    "The equations for most climate models are sufficiently complex that more than one numerical method is necessary. Even in the simple diffusive EBM, the radiation terms are handled by a forward-time method while the diffusion term is solved implicitly.\n",
    "\n",
    "Once you have worked through the above problem (diffusion only), you might want to look in the `climlab` code to see how the diffusion solver is implemented there, and how it is used when you integrate the EBM."
   ]
  },
  {
   "cell_type": "markdown",
   "metadata": {},
   "source": [
    "<div class=\"alert alert-success\">\n",
    "[Back to ATM 623 notebook home](../index.ipynb)\n",
    "</div>"
   ]
  },
  {
   "cell_type": "markdown",
   "metadata": {},
   "source": [
    "____________\n",
    "## Credits\n",
    "\n",
    "The author of this notebook is [Brian E. J. Rose](http://www.atmos.albany.edu/facstaff/brose/index.html), University at Albany.\n",
    "\n",
    "It was developed in support of [ATM 623: Climate Modeling](http://www.atmos.albany.edu/facstaff/brose/classes/ATM623_Spring2015/), a graduate-level course in the [Department of Atmospheric and Envionmental Sciences](http://www.albany.edu/atmos/index.php), offered in Spring 2015.\n",
    "____________"
   ]
  },
  {
   "cell_type": "markdown",
   "metadata": {},
   "source": [
    "____________\n",
    "## Version information\n",
    "____________\n"
   ]
  },
  {
   "cell_type": "code",
   "execution_count": 24,
   "metadata": {
    "collapsed": false
   },
   "outputs": [
    {
     "name": "stdout",
     "output_type": "stream",
     "text": [
      "Installed version_information.py. To use it, type:\n",
      "  %load_ext version_information\n"
     ]
    },
    {
     "name": "stderr",
     "output_type": "stream",
     "text": [
      "/Users/Brian/anaconda/lib/python2.7/site-packages/IPython/core/magics/extension.py:47: UserWarning: %install_ext` is deprecated, please distribute your extension(s)as a python packages.\n",
      "  \"as a python packages.\", UserWarning)\n"
     ]
    },
    {
     "data": {
      "application/json": {
       "Software versions": [
        {
         "module": "Python",
         "version": "2.7.10 64bit [GCC 4.2.1 (Apple Inc. build 5577)]"
        },
        {
         "module": "IPython",
         "version": "4.0.0"
        },
        {
         "module": "OS",
         "version": "Darwin 15.0.0 x86_64 i386 64bit"
        },
        {
         "module": "numpy",
         "version": "1.10.1"
        },
        {
         "module": "climlab",
         "version": "0.2.11"
        }
       ]
      },
      "text/html": [
       "<table><tr><th>Software</th><th>Version</th></tr><tr><td>Python</td><td>2.7.10 64bit [GCC 4.2.1 (Apple Inc. build 5577)]</td></tr><tr><td>IPython</td><td>4.0.0</td></tr><tr><td>OS</td><td>Darwin 15.0.0 x86_64 i386 64bit</td></tr><tr><td>numpy</td><td>1.10.1</td></tr><tr><td>climlab</td><td>0.2.11</td></tr><tr><td colspan='2'>Sun Nov 29 15:29:26 2015 EST</td></tr></table>"
      ],
      "text/latex": [
       "\\begin{tabular}{|l|l|}\\hline\n",
       "{\\bf Software} & {\\bf Version} \\\\ \\hline\\hline\n",
       "Python & 2.7.10 64bit [GCC 4.2.1 (Apple Inc. build 5577)] \\\\ \\hline\n",
       "IPython & 4.0.0 \\\\ \\hline\n",
       "OS & Darwin 15.0.0 x86\\_64 i386 64bit \\\\ \\hline\n",
       "numpy & 1.10.1 \\\\ \\hline\n",
       "climlab & 0.2.11 \\\\ \\hline\n",
       "\\hline \\multicolumn{2}{|l|}{Sun Nov 29 15:29:26 2015 EST} \\\\ \\hline\n",
       "\\end{tabular}\n"
      ],
      "text/plain": [
       "Software versions\n",
       "Python 2.7.10 64bit [GCC 4.2.1 (Apple Inc. build 5577)]\n",
       "IPython 4.0.0\n",
       "OS Darwin 15.0.0 x86_64 i386 64bit\n",
       "numpy 1.10.1\n",
       "climlab 0.2.11\n",
       "Sun Nov 29 15:29:26 2015 EST"
      ]
     },
     "execution_count": 24,
     "metadata": {},
     "output_type": "execute_result"
    }
   ],
   "source": [
    "%install_ext http://raw.github.com/jrjohansson/version_information/master/version_information.py\n",
    "%load_ext version_information\n",
    "%version_information numpy, climlab"
   ]
  },
  {
   "cell_type": "code",
   "execution_count": null,
   "metadata": {
    "collapsed": true
   },
   "outputs": [],
   "source": []
  }
 ],
 "metadata": {
  "kernelspec": {
   "display_name": "Python 2",
   "language": "python",
   "name": "python2"
  },
  "language_info": {
   "codemirror_mode": {
    "name": "ipython",
    "version": 2
   },
   "file_extension": ".py",
   "mimetype": "text/x-python",
   "name": "python",
   "nbconvert_exporter": "python",
   "pygments_lexer": "ipython2",
   "version": "2.7.10"
  }
 },
 "nbformat": 4,
 "nbformat_minor": 0
}
