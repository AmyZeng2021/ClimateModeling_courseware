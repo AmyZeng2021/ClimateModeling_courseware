{
 "cells": [
  {
   "cell_type": "markdown",
   "metadata": {
    "slideshow": {
     "slide_type": "slide"
    }
   },
   "source": [
    "# [ATM 623: Climate Modeling](../index.ipynb)\n",
    "\n",
    "[Brian E. J. Rose](http://www.atmos.albany.edu/facstaff/brose/index.html), University at Albany\n",
    "\n",
    "# Lecture 5: A Brief Review of Radiation"
   ]
  },
  {
   "cell_type": "markdown",
   "metadata": {
    "slideshow": {
     "slide_type": "skip"
    }
   },
   "source": [
    "### About these notes:\n",
    "\n",
    "This document uses the interactive [`Jupyter notebook`](https://jupyter.org) format. The notes can be accessed in several different ways:\n",
    "\n",
    "- The interactive notebooks are hosted on `github` at https://github.com/brian-rose/ClimateModeling_courseware\n",
    "- The latest versions can be viewed as static web pages [rendered on nbviewer](http://nbviewer.ipython.org/github/brian-rose/ClimateModeling_courseware/blob/master/index.ipynb)\n",
    "- A complete snapshot of the notes as of May 2017 (end of spring semester) are [available on Brian's website](http://www.atmos.albany.edu/facstaff/brose/classes/ATM623_Spring2017/Notes/index.html).\n",
    "\n",
    "[Also here is a legacy version from 2015](http://www.atmos.albany.edu/facstaff/brose/classes/ATM623_Spring2015/Notes/index.html).\n",
    "\n",
    "Many of these notes make use of the `climlab` package, available at https://github.com/brian-rose/climlab"
   ]
  },
  {
   "cell_type": "code",
   "execution_count": 1,
   "metadata": {
    "collapsed": true
   },
   "outputs": [],
   "source": [
    "#  Ensure compatibility with Python 2 and 3\n",
    "from __future__ import print_function, division"
   ]
  },
  {
   "cell_type": "markdown",
   "metadata": {
    "slideshow": {
     "slide_type": "slide"
    }
   },
   "source": [
    "## Contents\n",
    "\n",
    "1. [Emission temperature and lapse rates](#section1)\n",
    "2. [Solar Radiation](#section2)\n",
    "3. [Terrestrial Radiation and absorption spectra](#section3)"
   ]
  },
  {
   "cell_type": "markdown",
   "metadata": {
    "slideshow": {
     "slide_type": "slide"
    }
   },
   "source": [
    "____________\n",
    "<a id='section1'></a>\n",
    "\n",
    "## 1. Emission temperature and lapse rates\n",
    "____________"
   ]
  },
  {
   "cell_type": "markdown",
   "metadata": {
    "slideshow": {
     "slide_type": "slide"
    }
   },
   "source": [
    "Planetary energy balance is the foundation for all climate modeling. So far we have expressed this through a globally averaged budget\n",
    "\n",
    "$$C \\frac{d T_s}{dt} = (1-\\alpha) Q - OLR$$\n",
    "\n",
    "and we have written the OLR in terms of an emission temperature $T_e$ where by definition\n",
    "\n",
    "$$ OLR = \\sigma T_e^4 $$"
   ]
  },
  {
   "cell_type": "markdown",
   "metadata": {
    "slideshow": {
     "slide_type": "slide"
    }
   },
   "source": [
    "Using values from the observed planetary energy budget, we found that $T_e = 255$ K\n",
    "\n",
    "The emission temperature of the planet is thus about 33 K colder than the mean surface temperature (288 K)."
   ]
  },
  {
   "cell_type": "markdown",
   "metadata": {
    "slideshow": {
     "slide_type": "slide"
    }
   },
   "source": [
    "### Where in the atmosphere do we find $T = T_e = 255$ K?\n",
    "\n",
    "Let's get plot air temperature from NCEP reanalysis data."
   ]
  },
  {
   "cell_type": "code",
   "execution_count": 2,
   "metadata": {
    "collapsed": true,
    "slideshow": {
     "slide_type": "slide"
    }
   },
   "outputs": [],
   "source": [
    "%matplotlib inline\n",
    "import numpy as np\n",
    "import matplotlib.pyplot as plt\n",
    "import xarray as xr\n",
    "#  Disable interactive plotting (use explicit display calls to show figures)\n",
    "plt.ioff()"
   ]
  },
  {
   "cell_type": "code",
   "execution_count": 3,
   "metadata": {
    "slideshow": {
     "slide_type": "slide"
    }
   },
   "outputs": [
    {
     "name": "stdout",
     "output_type": "stream",
     "text": [
      "<xarray.Dataset>\n",
      "Dimensions:             (lat: 73, level: 17, lon: 144, nbnds: 2, time: 12)\n",
      "Coordinates:\n",
      "  * level               (level) float32 1000.0 925.0 850.0 700.0 600.0 500.0 ...\n",
      "  * lon                 (lon) float32 0.0 2.5 5.0 7.5 10.0 12.5 15.0 17.5 ...\n",
      "  * time                (time) float64 -6.571e+05 -6.57e+05 -6.57e+05 ...\n",
      "  * lat                 (lat) float32 90.0 87.5 85.0 82.5 80.0 77.5 75.0 ...\n",
      "Dimensions without coordinates: nbnds\n",
      "Data variables:\n",
      "    climatology_bounds  (time, nbnds) float64 ...\n",
      "    air                 (time, level, lat, lon) float64 ...\n",
      "    valid_yr_count      (time, level, lat, lon) float64 ...\n",
      "Attributes:\n",
      "    description:                     Data from NCEP initialized reanalysis (4...\n",
      "    platform:                       Model\n",
      "    Conventions:                    COARDS\n",
      "    not_missing_threshold_percent:  minimum 3% values input to have non-missi...\n",
      "    history:                        Created 2011/07/12 by doMonthLTM\\nConvert...\n",
      "    title:                          monthly ltm air from the NCEP Reanalysis\n",
      "    References:                     http://www.esrl.noaa.gov/psd/data/gridded...\n",
      "    dataset_title:                  NCEP-NCAR Reanalysis 1\n"
     ]
    }
   ],
   "source": [
    "ncep_url = \"http://www.esrl.noaa.gov/psd/thredds/dodsC/Datasets/ncep.reanalysis.derived/\"\n",
    "ncep_air = xr.open_dataset( ncep_url + \"pressure/air.mon.1981-2010.ltm.nc\",\n",
    "                          decode_times=False)\n",
    "print( ncep_air)"
   ]
  },
  {
   "cell_type": "code",
   "execution_count": 4,
   "metadata": {
    "slideshow": {
     "slide_type": "slide"
    }
   },
   "outputs": [
    {
     "name": "stdout",
     "output_type": "stream",
     "text": [
      "<xarray.DataArray (level: 17)>\n",
      "array([ 288.329082,  284.357002,  280.988327,  273.369941,  266.701657,\n",
      "        258.261156,  247.579533,  233.780315,  226.352092,  219.497765,\n",
      "        212.586449,  206.143952,  207.617073,  211.663363,  217.296419,\n",
      "        221.556055,  229.930018])\n",
      "Coordinates:\n",
      "  * level    (level) float32 1000.0 925.0 850.0 700.0 600.0 500.0 400.0 ...\n"
     ]
    }
   ],
   "source": [
    "#  Take global, annual average and convert to Kelvin\n",
    "from xarray.ufuncs import cos, deg2rad, log\n",
    "tempCtoK = 273.15\n",
    "coslat = cos(deg2rad(ncep_air.lat))\n",
    "weight = coslat / coslat.mean(dim='lat')\n",
    "Tglobal = (ncep_air.air * weight).mean(dim=('lat','lon','time'))\n",
    "Tglobal += tempCtoK\n",
    "print( Tglobal)"
   ]
  },
  {
   "cell_type": "code",
   "execution_count": 5,
   "metadata": {
    "slideshow": {
     "slide_type": "fragment"
    }
   },
   "outputs": [
    {
     "name": "stdout",
     "output_type": "stream",
     "text": [
      "<xarray.DataArray 'level' (level: 17)>\n",
      "array([ -0.      ,   0.623692,   1.300151,   2.8534  ,   4.086605,   5.545177,\n",
      "         7.330326,   9.631783,  11.090355,  12.875504,  15.17696 ,  18.420681,\n",
      "        21.27408 ,  23.965858,  28.052464,  31.296185,  36.841362], dtype=float32)\n",
      "Coordinates:\n",
      "  * level    (level) float32 1000.0 925.0 850.0 700.0 600.0 500.0 400.0 ...\n"
     ]
    }
   ],
   "source": [
    "# a logarithmic pressure axis\n",
    "#  Approximate geometrical height based on pressure scale height of 8 km\n",
    "scale_height_km = 8.\n",
    "zstar = -scale_height_km * log(ncep_air.level/1000.)\n",
    "print( zstar)"
   ]
  },
  {
   "cell_type": "code",
   "execution_count": 6,
   "metadata": {
    "collapsed": true,
    "slideshow": {
     "slide_type": "skip"
    }
   },
   "outputs": [],
   "source": [
    "label_size = 16\n",
    "fig, ax = plt.subplots( figsize=(10,8) )\n",
    "ax.plot( Tglobal, zstar )\n",
    "\n",
    "ax.set_xlabel('Temperature (K)', fontsize=label_size)\n",
    "ax.set_ylabel('Pressure (hPa)', fontsize=label_size)\n",
    "ax.set_yticks(zstar)\n",
    "# Label the axis with pressure values\n",
    "ax.set_yticklabels(zstar.level.values)\n",
    "ax.set_title('Global, annual mean sounding from NCEP Reanalysis', \n",
    "             fontsize = 24)\n",
    "#  Create a second y axis on the right side, label with approx. geometric height\n",
    "ax2 = ax.twinx()\n",
    "ax2.plot(Tglobal, zstar);\n",
    "ax2.set_ylabel('Approx. height above surface (km)', \n",
    "               fontsize=label_size);\n",
    "ax.grid()"
   ]
  },
  {
   "cell_type": "code",
   "execution_count": 7,
   "metadata": {
    "slideshow": {
     "slide_type": "slide"
    }
   },
   "outputs": [
    {
     "data": {
      "image/png": "[encoded data removed]",
      "text/plain": [
       "<matplotlib.figure.Figure at 0x30a786518>"
      ]
     },
     "execution_count": 7,
     "metadata": {},
     "output_type": "execute_result"
    }
   ],
   "source": [
    "#  See code above for details\n",
    "fig"
   ]
  },
  {
   "cell_type": "markdown",
   "metadata": {
    "slideshow": {
     "slide_type": "slide"
    }
   },
   "source": [
    "Note that surface temperature in global mean is indeed about 288 K as we keep saying.\n",
    "\n",
    "So where do we find temperature $T_e=255$ K?\n",
    "\n",
    "Actually in mid-troposphere, near 500 hPa or about 5 km height.\n",
    "\n",
    "We can infer that much of the outgoing longwave radiation actually originates far above the surface."
   ]
  },
  {
   "cell_type": "markdown",
   "metadata": {
    "slideshow": {
     "slide_type": "slide"
    }
   },
   "source": [
    "Recall that our observed global energy budget diagram shows 217 out of 239 W m$^{-2}$ total OLR emitted by the atmosphere and clouds, only 22 W m$^{-2}$ directly from the surface.\n",
    "\n",
    "This is due to the **greenhouse effect**. "
   ]
  },
  {
   "cell_type": "markdown",
   "metadata": {
    "slideshow": {
     "slide_type": "slide"
    }
   },
   "source": [
    "So far we have dealt with the greenhouse in a very artificial way in our energy balance model by simply assuming a linear relationship \n",
    "\n",
    "$$ T_e = \\beta T_s$$\n",
    "\n",
    "which is equivalent to assuming the OLR is reduced by a constant factor from the value it would have if the Earth emitted as a blackbody at the surface temperature.\n",
    "\n",
    "Now it's time to start thinking a bit more about how the radiative transfer process actually occurs in the atmosphere, and how to model it."
   ]
  },
  {
   "cell_type": "markdown",
   "metadata": {
    "slideshow": {
     "slide_type": "slide"
    }
   },
   "source": [
    "____________\n",
    "<a id='section2'></a>\n",
    "\n",
    "## 2. Solar Radiation\n",
    "____________\n",
    "\n",
    "Let's plot a spectrum of solar radiation.\n",
    "\n",
    "For details, see code in notebook!"
   ]
  },
  {
   "cell_type": "code",
   "execution_count": 8,
   "metadata": {
    "collapsed": true,
    "slideshow": {
     "slide_type": "skip"
    }
   },
   "outputs": [],
   "source": [
    "#  Using pre-defined code for the Planck function from the climlab package\n",
    "from climlab.utils.thermo import Planck_wavelength"
   ]
  },
  {
   "cell_type": "code",
   "execution_count": 9,
   "metadata": {
    "collapsed": true,
    "slideshow": {
     "slide_type": "skip"
    }
   },
   "outputs": [],
   "source": [
    "# approximate emission temperature of the sun in Kelvin\n",
    "Tsun = 5780.\n",
    "# boundaries of visible region in nanometers\n",
    "UVbound = 390.\n",
    "IRbound = 700.\n",
    "#  array of wavelengths\n",
    "wavelength_nm = np.linspace(0., 3500, 400)\n",
    "to_meters = 1E-9  # conversion factor"
   ]
  },
  {
   "cell_type": "code",
   "execution_count": 10,
   "metadata": {
    "slideshow": {
     "slide_type": "skip"
    }
   },
   "outputs": [
    {
     "name": "stderr",
     "output_type": "stream",
     "text": [
      "/Users/br546577/anaconda3/lib/python3.6/site-packages/climlab/utils/thermo.py:159: RuntimeWarning: divide by zero encountered in true_divide\n",
      "  u = h*c/l/k/T\n",
      "/Users/br546577/anaconda3/lib/python3.6/site-packages/climlab/utils/thermo.py:160: RuntimeWarning: invalid value encountered in true_divide\n",
      "  return 2*k**5*T**5/h**4/c**3*u**5/(np.exp(u)-1)\n"
     ]
    }
   ],
   "source": [
    "fig, ax = plt.subplots(figsize=(14,7))\n",
    "ax.plot(wavelength_nm, \n",
    "         Planck_wavelength(wavelength_nm * to_meters, Tsun))\n",
    "ax.grid()\n",
    "ax.set_xlabel('Wavelength (nm)', fontsize=label_size)\n",
    "ax.set_ylabel('Spectral radiance (W sr$^{-1}$ m$^{-3}$)', fontsize=label_size)\n",
    "#  Mask out points outside of this range\n",
    "wavelength_vis = np.ma.masked_outside(wavelength_nm, UVbound, IRbound)\n",
    "#  Shade the visible region\n",
    "ax.fill_between(wavelength_vis, Planck_wavelength(wavelength_vis * to_meters, Tsun))\n",
    "title = 'Blackbody emission curve for the sun (T = {:.0f} K)'.format(Tsun)\n",
    "ax.set_title(title, fontsize=label_size);\n",
    "ax.text(280, 0.8E13, 'Ultraviolet', rotation='vertical', fontsize=12)\n",
    "ax.text(500, 0.8E13, 'Visible', rotation='vertical', fontsize=16, color='w')\n",
    "ax.text(800, 0.8E13, 'Infrared', rotation='vertical', fontsize=12);"
   ]
  },
  {
   "cell_type": "code",
   "execution_count": 11,
   "metadata": {
    "slideshow": {
     "slide_type": "slide"
    }
   },
   "outputs": [
    {
     "data": {
      "image/png": "[encoded data removed]",
      "text/plain": [
       "<matplotlib.figure.Figure at 0x1a1bc8b9e8>"
      ]
     },
     "execution_count": 11,
     "metadata": {},
     "output_type": "execute_result"
    }
   ],
   "source": [
    "# see code above for details\n",
    "fig"
   ]
  },
  {
   "cell_type": "markdown",
   "metadata": {
    "slideshow": {
     "slide_type": "slide"
    }
   },
   "source": [
    "- Spectrum peaks in the visible range\n",
    "- most energy at these wavelength.\n",
    "- No coincidence that our eyes are sensitive to this range of wavelengths!\n",
    "- Longer wavelengths called “infrared”, shorter wavelengths called “ultraviolet”.\n",
    "\n",
    "The shape of the spectrum is a fundamental characteristic of radiative emissions\n",
    "(think about the color of burning coals in a fire – cooler = red, hotter = white)"
   ]
  },
  {
   "cell_type": "markdown",
   "metadata": {
    "slideshow": {
     "slide_type": "slide"
    }
   },
   "source": [
    "Theory and experiments tell us that both the total flux of emitted radiation, and the wavelength of maximum emission, depend only on the temperature of the source!\n",
    "\n",
    "The theoretical spectrum was worked out by Max Planck and is therefore known as the “Planck” spectrum (or simply blackbody spectrum)."
   ]
  },
  {
   "cell_type": "markdown",
   "metadata": {},
   "source": [
    "<img src='../images/MarshallPlumbFig2.3.png'>"
   ]
  },
  {
   "cell_type": "markdown",
   "metadata": {
    "slideshow": {
     "slide_type": "skip"
    }
   },
   "source": [
    "*Figure reproduced from Marshall and Plumb (2008): Atmosphere, Ocean, and Climate Dynamics*"
   ]
  },
  {
   "cell_type": "markdown",
   "metadata": {
    "slideshow": {
     "slide_type": "slide"
    }
   },
   "source": [
    "Going from cool to warm:\n",
    "\n",
    "- total emission increases\n",
    "- maximum emission occurs at shorter wavelengths.\n",
    "\n",
    "The **integral of these curves over all wavelengths** gives us our familiar $\\sigma T^4$"
   ]
  },
  {
   "cell_type": "markdown",
   "metadata": {
    "slideshow": {
     "slide_type": "slide"
    }
   },
   "source": [
    "Mathematically it turns out that \n",
    "\n",
    "$$ λ_{max} T = \\text{constant} $$\n",
    "\n",
    "(known as Wien’s displacement law)."
   ]
  },
  {
   "cell_type": "markdown",
   "metadata": {
    "slideshow": {
     "slide_type": "slide"
    }
   },
   "source": [
    "By fitting the observed solar emission to a blackbody curve, we can deduce that the emission temperature of the sun is about 6000 K.\n",
    "\n",
    "Knowing this, and knowing that the solar spectrum peaks at 0.6 micrometers, we can calculate the wavelength of maximum terrestrial radiation as\n",
    "\n",
    "$$ λ_{max}^{Earth} = 0.6 ~ \\mu m \\frac{6000}{255} = 14 ~ \\mu m $$\n",
    "\n",
    "This is in the far-infrared part of the spectrum."
   ]
  },
  {
   "cell_type": "markdown",
   "metadata": {
    "slideshow": {
     "slide_type": "slide"
    }
   },
   "source": [
    "____________\n",
    "<a id='section3'></a>\n",
    "\n",
    "## 3. Terrestrial Radiation and absorption spectra\n",
    "____________\n",
    "\n",
    "Now let's look at normalized blackbody curves for Sun and Earth:"
   ]
  },
  {
   "cell_type": "markdown",
   "metadata": {},
   "source": [
    "<img src='../images/MarshallPlumbFig2.5.png'>"
   ]
  },
  {
   "cell_type": "markdown",
   "metadata": {
    "slideshow": {
     "slide_type": "skip"
    }
   },
   "source": [
    "*Figure reproduced from Marshall and Plumb (2008): Atmosphere, Ocean, and Climate Dynamics*"
   ]
  },
  {
   "cell_type": "markdown",
   "metadata": {
    "slideshow": {
     "slide_type": "slide"
    }
   },
   "source": [
    "There is essentially no overlap between the two spectra.\n",
    "\n",
    "**This is the fundamental reason we can discuss the solar “shortwave” and terrestrial “longwave” radiation as two distinct phenomena.**\n",
    "\n",
    "In reality all radiation exists on a continuum of different wavelengths. But in climate science we can get a long way by thinking in terms of a very simple “two-stream” approximation (short and longwave). We’ve already been doing this throughout the course so far!"
   ]
  },
  {
   "cell_type": "markdown",
   "metadata": {
    "slideshow": {
     "slide_type": "slide"
    }
   },
   "source": [
    "Now look at the atmospheric **absorption spectra**.\n",
    "\n",
    "(fraction of radiation at each wavelength that is absorbed on a single vertical path through the atmosphere)"
   ]
  },
  {
   "cell_type": "markdown",
   "metadata": {
    "slideshow": {
     "slide_type": "slide"
    }
   },
   "source": [
    "- Atmosphere is almost completely transparent in the visible range, right at the peak of the solar spectrum\n",
    "- Atmosphere is very opaque in the UV\n",
    "- Opacity across the IR spectrum is highly variable!\n",
    "- Look at the gases associated with various absorption features:\n",
    "- Main players include H$_2$O, CO$_2$, N$_2$O, O$_2$.\n",
    "- Compare to major constituents of atmosphere, in decreasing order: \n",
    "    - 78% N$_2$\n",
    "    - 21% O$_2$\n",
    "    - 1% Ar\n",
    "    - H$_2$O (variable) "
   ]
  },
  {
   "cell_type": "markdown",
   "metadata": {
    "slideshow": {
     "slide_type": "slide"
    }
   },
   "source": [
    "- The dominant constituent gases N$_2$ and O$_2$ are nearly completely transparent across the entire spectrum (there are O$_2$ absorption features in far UV, but little energy at these wavelengths).\n",
    "- The greenhouse effect mostly involves trace constituents: \n",
    "    - O$_3$ = 500 ppb\n",
    "    - N$_2$O = 310 ppb\n",
    "    - CO$_2$ = 400 ppm (but rapidly increasing!)\n",
    "    - CH$_4$ = 1.7 ppm\n",
    "- Note that most of these are tri-atomic molecules! There are fundamental reasons for this: these molecules have modes of rotational and vibration that are easily excited at IR wavelengths. See courses in radiative transfer!\n"
   ]
  },
  {
   "cell_type": "markdown",
   "metadata": {
    "slideshow": {
     "slide_type": "skip"
    }
   },
   "source": [
    "<div class=\"alert alert-success\">\n",
    "[Back to ATM 623 notebook home](../index.ipynb)\n",
    "</div>"
   ]
  },
  {
   "cell_type": "markdown",
   "metadata": {
    "slideshow": {
     "slide_type": "skip"
    }
   },
   "source": [
    "____________\n",
    "## Version information\n",
    "____________"
   ]
  },
  {
   "cell_type": "code",
   "execution_count": 14,
   "metadata": {
    "slideshow": {
     "slide_type": "skip"
    }
   },
   "outputs": [
    {
     "name": "stdout",
     "output_type": "stream",
     "text": [
      "Loading extensions from ~/.ipython/extensions is deprecated. We recommend managing extensions like any other Python packages, in site-packages.\n"
     ]
    },
    {
     "data": {
      "application/json": {
       "Software versions": [
        {
         "module": "Python",
         "version": "3.6.2 64bit [GCC 4.2.1 Compatible Clang 4.0.1 (tags/RELEASE_401/final)]"
        },
        {
         "module": "IPython",
         "version": "6.1.0"
        },
        {
         "module": "OS",
         "version": "Darwin 16.7.0 x86_64 i386 64bit"
        },
        {
         "module": "numpy",
         "version": "1.13.1"
        },
        {
         "module": "matplotlib",
         "version": "2.0.2"
        },
        {
         "module": "xarray",
         "version": "0.9.6"
        },
        {
         "module": "climlab",
         "version": "0.6.0.dev10"
        }
       ]
      },
      "text/html": [
       "<table><tr><th>Software</th><th>Version</th></tr><tr><td>Python</td><td>3.6.2 64bit [GCC 4.2.1 Compatible Clang 4.0.1 (tags/RELEASE_401/final)]</td></tr><tr><td>IPython</td><td>6.1.0</td></tr><tr><td>OS</td><td>Darwin 16.7.0 x86_64 i386 64bit</td></tr><tr><td>numpy</td><td>1.13.1</td></tr><tr><td>matplotlib</td><td>2.0.2</td></tr><tr><td>xarray</td><td>0.9.6</td></tr><tr><td>climlab</td><td>0.6.0.dev10</td></tr><tr><td colspan='2'>Wed Oct 11 13:30:02 2017 EDT</td></tr></table>"
      ],
      "text/latex": [
       "\\begin{tabular}{|l|l|}\\hline\n",
       "{\\bf Software} & {\\bf Version} \\\\ \\hline\\hline\n",
       "Python & 3.6.2 64bit [GCC 4.2.1 Compatible Clang 4.0.1 (tags/RELEASE\\_401/final)] \\\\ \\hline\n",
       "IPython & 6.1.0 \\\\ \\hline\n",
       "OS & Darwin 16.7.0 x86\\_64 i386 64bit \\\\ \\hline\n",
       "numpy & 1.13.1 \\\\ \\hline\n",
       "matplotlib & 2.0.2 \\\\ \\hline\n",
       "xarray & 0.9.6 \\\\ \\hline\n",
       "climlab & 0.6.0.dev10 \\\\ \\hline\n",
       "\\hline \\multicolumn{2}{|l|}{Wed Oct 11 13:30:02 2017 EDT} \\\\ \\hline\n",
       "\\end{tabular}\n"
      ],
      "text/plain": [
       "Software versions\n",
       "Python 3.6.2 64bit [GCC 4.2.1 Compatible Clang 4.0.1 (tags/RELEASE_401/final)]\n",
       "IPython 6.1.0\n",
       "OS Darwin 16.7.0 x86_64 i386 64bit\n",
       "numpy 1.13.1\n",
       "matplotlib 2.0.2\n",
       "xarray 0.9.6\n",
       "climlab 0.6.0.dev10\n",
       "Wed Oct 11 13:30:02 2017 EDT"
      ]
     },
     "execution_count": 14,
     "metadata": {},
     "output_type": "execute_result"
    }
   ],
   "source": [
    "%load_ext version_information\n",
    "%version_information numpy, matplotlib, xarray, climlab"
   ]
  },
  {
   "cell_type": "markdown",
   "metadata": {
    "slideshow": {
     "slide_type": "slide"
    }
   },
   "source": [
    "____________\n",
    "\n",
    "## Credits\n",
    "\n",
    "The author of this notebook is [Brian E. J. Rose](http://www.atmos.albany.edu/facstaff/brose/index.html), University at Albany.\n",
    "\n",
    "It was developed in support of [ATM 623: Climate Modeling](http://www.atmos.albany.edu/facstaff/brose/classes/ATM623_Spring2015/), a graduate-level course in the [Department of Atmospheric and Envionmental Sciences](http://www.albany.edu/atmos/index.php)\n",
    "\n",
    "Development of these notes and the [climlab software](https://github.com/brian-rose/climlab) is partially supported by the National Science Foundation under award AGS-1455071 to Brian Rose. Any opinions, findings, conclusions or recommendations expressed here are mine and do not necessarily reflect the views of the National Science Foundation.\n",
    "____________"
   ]
  },
  {
   "cell_type": "code",
   "execution_count": null,
   "metadata": {
    "collapsed": true
   },
   "outputs": [],
   "source": []
  }
 ],
 "metadata": {
  "anaconda-cloud": {},
  "kernelspec": {
   "display_name": "Python 3",
   "language": "python",
   "name": "python3"
  },
  "language_info": {
   "codemirror_mode": {
    "name": "ipython",
    "version": 3
   },
   "file_extension": ".py",
   "mimetype": "text/x-python",
   "name": "python",
   "nbconvert_exporter": "python",
   "pygments_lexer": "ipython3",
   "version": "3.6.2"
  }
 },
 "nbformat": 4,
 "nbformat_minor": 1
}
