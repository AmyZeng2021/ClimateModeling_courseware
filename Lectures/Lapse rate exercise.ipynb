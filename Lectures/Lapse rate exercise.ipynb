{
 "metadata": {
  "name": "",
  "signature": "sha256:07b98837985913f688f61dc59afd2036c9e5fbbce32ae2bddecaff268f4f553d"
 },
 "nbformat": 3,
 "nbformat_minor": 0,
 "worksheets": [
  {
   "cells": [
    {
     "cell_type": "heading",
     "level": 1,
     "metadata": {},
     "source": [
      "Introduction to climlab and 1D grey radiation models"
     ]
    },
    {
     "cell_type": "code",
     "collapsed": false,
     "input": [
      "%matplotlib inline\n",
      "import numpy as np\n",
      "import matplotlib.pyplot as plt\n",
      "import netCDF4 as nc\n",
      "import climlab"
     ],
     "language": "python",
     "metadata": {},
     "outputs": [],
     "prompt_number": 1
    },
    {
     "cell_type": "heading",
     "level": 1,
     "metadata": {},
     "source": [
      "Validate climlab against analytical solution for 2-layer atmosphere"
     ]
    },
    {
     "cell_type": "code",
     "collapsed": false,
     "input": [
      "#  Test in a 2-layer atmosphere\n",
      "col = climlab.GreyRadiationModel(num_lev=2)\n",
      "print col"
     ],
     "language": "python",
     "metadata": {},
     "outputs": [
      {
       "output_type": "stream",
       "stream": "stdout",
       "text": [
        "climlab Process of type <class 'climlab.model.column.GreyRadiationModel'>. \n",
        "State variables and domain shapes: \n",
        "  Tatm: (2,) \n",
        "  Ts: (1,) \n",
        "The subprocess tree: \n",
        "top: <class 'climlab.model.column.GreyRadiationModel'>\n",
        "   LW: <class 'climlab.radiation.radiation.Radiation'>\n",
        "   SW: <class 'climlab.radiation.radiation.RadiationSW'>\n",
        "   surface: <class 'climlab.surface.surface_radiation.SurfaceRadiation'>\n",
        "   insolation: <class 'climlab.radiation.insolation.FixedInsolation'>\n",
        "\n"
       ]
      }
     ],
     "prompt_number": 2
    },
    {
     "cell_type": "code",
     "collapsed": false,
     "input": [
      "col.state"
     ],
     "language": "python",
     "metadata": {},
     "outputs": [
      {
       "metadata": {},
       "output_type": "pyout",
       "prompt_number": 3,
       "text": [
        "{'Tatm': Field([ 278.,  200.]), 'Ts': Field([ 288.])}"
       ]
      }
     ],
     "prompt_number": 3
    },
    {
     "cell_type": "code",
     "collapsed": false,
     "input": [
      "col.Ts[:] = 288.\n",
      "col.Tatm[:] = np.array([275., 230.])\n",
      "col.state"
     ],
     "language": "python",
     "metadata": {},
     "outputs": [
      {
       "metadata": {},
       "output_type": "pyout",
       "prompt_number": 4,
       "text": [
        "{'Tatm': Field([ 275.,  230.]), 'Ts': Field([ 288.])}"
       ]
      }
     ],
     "prompt_number": 4
    },
    {
     "cell_type": "code",
     "collapsed": false,
     "input": [
      "LW = col.subprocess['LW']\n",
      "print LW"
     ],
     "language": "python",
     "metadata": {},
     "outputs": [
      {
       "output_type": "stream",
       "stream": "stdout",
       "text": [
        "climlab Process of type <class 'climlab.radiation.radiation.Radiation'>. \n",
        "State variables and domain shapes: \n",
        "  Tatm: (2,) \n",
        "  Ts: (1,) \n",
        "The subprocess tree: \n",
        "top: <class 'climlab.radiation.radiation.Radiation'>\n",
        "\n"
       ]
      }
     ],
     "prompt_number": 5
    },
    {
     "cell_type": "code",
     "collapsed": false,
     "input": [
      "LW.absorptivity"
     ],
     "language": "python",
     "metadata": {},
     "outputs": [
      {
       "metadata": {},
       "output_type": "pyout",
       "prompt_number": 6,
       "text": [
        "Field([ 0.47737425,  0.47737425])"
       ]
      }
     ],
     "prompt_number": 6
    },
    {
     "cell_type": "code",
     "collapsed": false,
     "input": [
      "LW.absorptivity = 0.58377\n",
      "LW.absorptivity"
     ],
     "language": "python",
     "metadata": {},
     "outputs": [
      {
       "metadata": {},
       "output_type": "pyout",
       "prompt_number": 7,
       "text": [
        "Field([ 0.58377,  0.58377])"
       ]
      }
     ],
     "prompt_number": 7
    },
    {
     "cell_type": "code",
     "collapsed": false,
     "input": [
      "col.diagnostics"
     ],
     "language": "python",
     "metadata": {},
     "outputs": [
      {
       "metadata": {},
       "output_type": "pyout",
       "prompt_number": 8,
       "text": [
        "{}"
       ]
      }
     ],
     "prompt_number": 8
    },
    {
     "cell_type": "code",
     "collapsed": false,
     "input": [
      "col.compute_diagnostics()\n",
      "col.diagnostics"
     ],
     "language": "python",
     "metadata": {},
     "outputs": [
      {
       "metadata": {},
       "output_type": "pyout",
       "prompt_number": 9,
       "text": [
        "{'ASR': Field([ 239.2513]),\n",
        " 'LW_absorbed_atm': array([-96.81501789,  20.03803881]),\n",
        " 'LW_absorbed_sfc': Field([-162.22320832]),\n",
        " 'LW_down_sfc': array([ 227.85618629]),\n",
        " 'LW_emission': Field([ 189.30217637,   92.62669658]),\n",
        " 'LW_up_sfc': Field([ 390.07939461]),\n",
        " 'OLR': array([ 239.0001874]),\n",
        " 'SW_absorbed_atm': array([-0., -0.]),\n",
        " 'SW_absorbed_sfc': 239.25130000000001,\n",
        " 'SW_absorbed_total': 239.25130000000001,\n",
        " 'SW_down_TOA': Field([ 341.3]),\n",
        " 'SW_down_sfc': array([ 341.3]),\n",
        " 'SW_emission': Field([ 0.,  0.]),\n",
        " 'SW_up_TOA': array([ 102.0487]),\n",
        " 'SW_up_sfc': Field([ 0.]),\n",
        " 'insolation': Field([ 341.3]),\n",
        " 'planetary_albedo': Field([ 0.299])}"
       ]
      }
     ],
     "prompt_number": 9
    },
    {
     "cell_type": "code",
     "collapsed": false,
     "input": [
      "col.state"
     ],
     "language": "python",
     "metadata": {},
     "outputs": [
      {
       "metadata": {},
       "output_type": "pyout",
       "prompt_number": 10,
       "text": [
        "{'Tatm': Field([ 275.,  230.]), 'Ts': Field([ 288.])}"
       ]
      }
     ],
     "prompt_number": 10
    },
    {
     "cell_type": "code",
     "collapsed": false,
     "input": [
      "# integrate out to radiative equilibrium\n",
      "col.integrate_years(2.)"
     ],
     "language": "python",
     "metadata": {},
     "outputs": [
      {
       "output_type": "stream",
       "stream": "stdout",
       "text": [
        "Integrating for 730 steps, 730.4844 days, or 2.0 years.\n",
        "Total elapsed time is 2.00688748452 years."
       ]
      },
      {
       "output_type": "stream",
       "stream": "stdout",
       "text": [
        "\n"
       ]
      }
     ],
     "prompt_number": 11
    },
    {
     "cell_type": "code",
     "collapsed": false,
     "input": [
      "#  Compare these temperatures against our analytical solutions for radiative equilibrium\n",
      "col.state"
     ],
     "language": "python",
     "metadata": {},
     "outputs": [
      {
       "metadata": {},
       "output_type": "pyout",
       "prompt_number": 12,
       "text": [
        "{'Tatm': Field([ 262.09418933,  233.63309632]), 'Ts': Field([ 296.20871176])}"
       ]
      }
     ],
     "prompt_number": 12
    },
    {
     "cell_type": "heading",
     "level": 1,
     "metadata": {},
     "source": [
      "Get observed annual, global mean temperature profile"
     ]
    },
    {
     "cell_type": "code",
     "collapsed": false,
     "input": [
      "ncep_url = \"http://www.esrl.noaa.gov/psd/thredds/dodsC/Datasets/ncep.reanalysis.derived/\"\n",
      "ncep_air = nc.Dataset( ncep_url + \"pressure/air.mon.1981-2010.ltm.nc\" )\n",
      "level = ncep_air.variables['level'][:]\n",
      "lat = ncep_air.variables['lat'][:]\n",
      "zstar = np.log(level/1000)"
     ],
     "language": "python",
     "metadata": {},
     "outputs": [],
     "prompt_number": 13
    },
    {
     "cell_type": "code",
     "collapsed": false,
     "input": [
      "Tzon = np.mean(ncep_air.variables['air'][:],axis=(0,3))\n",
      "Tglobal = np.average( Tzon , weights=np.cos(np.deg2rad(lat)), axis=1) + climlab.constants.tempCtoK"
     ],
     "language": "python",
     "metadata": {},
     "outputs": [],
     "prompt_number": 14
    },
    {
     "cell_type": "code",
     "collapsed": false,
     "input": [
      "fig = plt.figure( figsize=(10,8) )\n",
      "ax = fig.add_subplot(111)\n",
      "ax.plot( Tglobal , level )\n",
      "ax.invert_yaxis()\n",
      "ax.set_xlabel('Temperature (K)', fontsize=16)\n",
      "ax.set_ylabel('Pressure (hPa)', fontsize=16 )\n",
      "ax.set_title('Global, annual mean sounding from NCEP Reanalysis', fontsize = 24)\n",
      "ax.grid()"
     ],
     "language": "python",
     "metadata": {},
     "outputs": [
      {
       "metadata": {},
       "output_type": "display_data",
       "png": "[encoded data removed]",
       "text": [
        "<matplotlib.figure.Figure at 0x10ee24150>"
       ]
      }
     ],
     "prompt_number": 15
    },
    {
     "cell_type": "heading",
     "level": 1,
     "metadata": {},
     "source": [
      "Create 30-layer model with observed temperatures"
     ]
    },
    {
     "cell_type": "code",
     "collapsed": false,
     "input": [
      "#  initialize a grey radiation model with 30 levels\n",
      "col = climlab.GreyRadiationModel()\n",
      "print col"
     ],
     "language": "python",
     "metadata": {},
     "outputs": [
      {
       "output_type": "stream",
       "stream": "stdout",
       "text": [
        "climlab Process of type <class 'climlab.model.column.GreyRadiationModel'>. \n",
        "State variables and domain shapes: \n",
        "  Tatm: (30,) \n",
        "  Ts: (1,) \n",
        "The subprocess tree: \n",
        "top: <class 'climlab.model.column.GreyRadiationModel'>\n",
        "   LW: <class 'climlab.radiation.radiation.Radiation'>\n",
        "   SW: <class 'climlab.radiation.radiation.RadiationSW'>\n",
        "   surface: <class 'climlab.surface.surface_radiation.SurfaceRadiation'>\n",
        "   insolation: <class 'climlab.radiation.insolation.FixedInsolation'>\n",
        "\n"
       ]
      }
     ],
     "prompt_number": 16
    },
    {
     "cell_type": "code",
     "collapsed": false,
     "input": [
      "# interpolate to 30 evenly spaced pressure levels\n",
      "lev = col.lev"
     ],
     "language": "python",
     "metadata": {},
     "outputs": [],
     "prompt_number": 17
    },
    {
     "cell_type": "code",
     "collapsed": false,
     "input": [
      "Tinterp = np.flipud(np.interp(np.flipud(lev), np.flipud(level), np.flipud(Tglobal)))\n",
      "Tinterp"
     ],
     "language": "python",
     "metadata": {},
     "outputs": [
      {
       "metadata": {},
       "output_type": "pyout",
       "prompt_number": 18,
       "text": [
        "array([ 287.4463874 ,  285.6810201 ,  283.98269653,  282.48550415,\n",
        "        280.98831177,  279.29533895,  277.60236613,  275.90939331,\n",
        "        274.21642049,  272.25855509,  270.03579712,  267.81303914,\n",
        "        265.29490662,  262.48139954,  259.66789246,  256.48087056,\n",
        "        252.92033386,  249.35979716,  245.279658  ,  240.67991638,\n",
        "        236.08017476,  231.30422974,  226.3520813 ,  221.78253174,\n",
        "        217.19399007,  212.5864563 ,  208.29145304,  206.96234809,\n",
        "        211.6633606 ,  224.34736125])"
       ]
      }
     ],
     "prompt_number": 18
    },
    {
     "cell_type": "code",
     "collapsed": false,
     "input": [
      "# Initialize model with observed temperatures\n",
      "col.Ts[:] = Tglobal[0]\n",
      "col.Tatm[:] = Tinterp"
     ],
     "language": "python",
     "metadata": {},
     "outputs": [],
     "prompt_number": 19
    },
    {
     "cell_type": "code",
     "collapsed": false,
     "input": [
      "def plot_sounding(collist):\n",
      "    color_cycle=['r', 'g', 'b', 'y']\n",
      "    # col is either a column model object or a list of column model objects\n",
      "    if isinstance(collist, climlab.Process):\n",
      "        # make a list with a single item\n",
      "        collist = [collist]\n",
      "    fig = plt.figure()\n",
      "    ax = fig.add_subplot(111)\n",
      "    for i, col in enumerate(collist):\n",
      "        ax.plot(col.Tatm, col.lev, color=color_cycle[i])\n",
      "        ax.plot(col.Ts, climlab.constants.ps, 'o', markersize=12, color=color_cycle[i])\n",
      "    ax.invert_yaxis()\n",
      "    ax.set_xlabel('Temperature (K)')\n",
      "    ax.set_ylabel('Pressure (hPa)')\n",
      "    ax.grid()\n",
      "    return ax"
     ],
     "language": "python",
     "metadata": {},
     "outputs": [],
     "prompt_number": 20
    },
    {
     "cell_type": "code",
     "collapsed": false,
     "input": [
      "plot_sounding(col)"
     ],
     "language": "python",
     "metadata": {},
     "outputs": [
      {
       "metadata": {},
       "output_type": "pyout",
       "prompt_number": 21,
       "text": [
        "<matplotlib.axes._subplots.AxesSubplot at 0x111bf4150>"
       ]
      },
      {
       "metadata": {},
       "output_type": "display_data",
       "png": "[encoded data removed]",
       "text": [
        "<matplotlib.figure.Figure at 0x10ee24090>"
       ]
      }
     ],
     "prompt_number": 21
    },
    {
     "cell_type": "heading",
     "level": 1,
     "metadata": {},
     "source": [
      "Tune absorptivity to get observed OLR"
     ]
    },
    {
     "cell_type": "code",
     "collapsed": false,
     "input": [
      "col.compute_diagnostics()\n",
      "col.diagnostics['OLR']"
     ],
     "language": "python",
     "metadata": {},
     "outputs": [
      {
       "metadata": {},
       "output_type": "pyout",
       "prompt_number": 22,
       "text": [
        "array([ 263.13271584])"
       ]
      }
     ],
     "prompt_number": 22
    },
    {
     "cell_type": "code",
     "collapsed": false,
     "input": [
      "# Need to tune absorptivity to get OLR = 239\n",
      "epsarray = np.linspace(0.01, 0.1, 100)\n",
      "OLRarray = np.zeros_like(epsarray)"
     ],
     "language": "python",
     "metadata": {},
     "outputs": [],
     "prompt_number": 23
    },
    {
     "cell_type": "code",
     "collapsed": false,
     "input": [
      "for i in range(epsarray.size):\n",
      "    col.subprocess['LW'].absorptivity = epsarray[i]\n",
      "    col.compute_diagnostics()\n",
      "    OLRarray[i] = col.diagnostics['OLR']"
     ],
     "language": "python",
     "metadata": {},
     "outputs": [],
     "prompt_number": 24
    },
    {
     "cell_type": "code",
     "collapsed": false,
     "input": [
      "plt.plot(epsarray, OLRarray)\n",
      "plt.grid()"
     ],
     "language": "python",
     "metadata": {},
     "outputs": [
      {
       "metadata": {},
       "output_type": "display_data",
       "png": "[encoded data removed]",
       "text": [
        "<matplotlib.figure.Figure at 0x111e13190>"
       ]
      }
     ],
     "prompt_number": 25
    },
    {
     "cell_type": "code",
     "collapsed": false,
     "input": [
      "def OLRanom(eps):\n",
      "    col.subprocess['LW'].absorptivity = eps\n",
      "    col.compute_diagnostics()\n",
      "    return col.diagnostics['OLR'] - 239."
     ],
     "language": "python",
     "metadata": {},
     "outputs": [],
     "prompt_number": 26
    },
    {
     "cell_type": "code",
     "collapsed": false,
     "input": [
      "OLRanom(0.02)"
     ],
     "language": "python",
     "metadata": {},
     "outputs": [
      {
       "metadata": {},
       "output_type": "pyout",
       "prompt_number": 27,
       "text": [
        "array([ 78.41074807])"
       ]
      }
     ],
     "prompt_number": 27
    },
    {
     "cell_type": "code",
     "collapsed": false,
     "input": [
      "# Use numerical root-finding to get the equilibria\n",
      "from scipy.optimize import brentq\n",
      "# brentq is a root-finding function\n",
      "#  Need to give it a function and two end-points\n",
      "#  It will look for a zero of the function between those end-points\n",
      "eps = brentq(OLRanom, 0.01, 0.1)\n",
      "print eps"
     ],
     "language": "python",
     "metadata": {},
     "outputs": [
      {
       "output_type": "stream",
       "stream": "stdout",
       "text": [
        "0.0533941755148\n"
       ]
      }
     ],
     "prompt_number": 28
    },
    {
     "cell_type": "code",
     "collapsed": false,
     "input": [
      "col.subprocess['LW'].absorptivity = eps\n",
      "col.subprocess['LW'].absorptivity"
     ],
     "language": "python",
     "metadata": {},
     "outputs": [
      {
       "metadata": {},
       "output_type": "pyout",
       "prompt_number": 29,
       "text": [
        "Field([ 0.05339418,  0.05339418,  0.05339418,  0.05339418,  0.05339418,\n",
        "        0.05339418,  0.05339418,  0.05339418,  0.05339418,  0.05339418,\n",
        "        0.05339418,  0.05339418,  0.05339418,  0.05339418,  0.05339418,\n",
        "        0.05339418,  0.05339418,  0.05339418,  0.05339418,  0.05339418,\n",
        "        0.05339418,  0.05339418,  0.05339418,  0.05339418,  0.05339418,\n",
        "        0.05339418,  0.05339418,  0.05339418,  0.05339418,  0.05339418])"
       ]
      }
     ],
     "prompt_number": 29
    },
    {
     "cell_type": "code",
     "collapsed": false,
     "input": [
      "col.compute_diagnostics()\n",
      "col.diagnostics['OLR']"
     ],
     "language": "python",
     "metadata": {},
     "outputs": [
      {
       "metadata": {},
       "output_type": "pyout",
       "prompt_number": 30,
       "text": [
        "array([ 239.])"
       ]
      }
     ],
     "prompt_number": 30
    },
    {
     "cell_type": "heading",
     "level": 1,
     "metadata": {},
     "source": [
      "Compute radiative forcing for a 2% increase in absorptivity"
     ]
    },
    {
     "cell_type": "code",
     "collapsed": false,
     "input": [
      "col2 = climlab.process_like(col)\n",
      "print col2"
     ],
     "language": "python",
     "metadata": {},
     "outputs": [
      {
       "output_type": "stream",
       "stream": "stdout",
       "text": [
        "climlab Process of type <class 'climlab.model.column.GreyRadiationModel'>. \n",
        "State variables and domain shapes: \n",
        "  Tatm: (30,) \n",
        "  Ts: (1,) \n",
        "The subprocess tree: \n",
        "top: <class 'climlab.model.column.GreyRadiationModel'>\n",
        "   LW: <class 'climlab.radiation.radiation.Radiation'>\n",
        "   SW: <class 'climlab.radiation.radiation.RadiationSW'>\n",
        "   insolation: <class 'climlab.radiation.insolation.FixedInsolation'>\n",
        "   surface: <class 'climlab.surface.surface_radiation.SurfaceRadiation'>\n",
        "\n"
       ]
      }
     ],
     "prompt_number": 31
    },
    {
     "cell_type": "code",
     "collapsed": false,
     "input": [
      "col2.subprocess['LW'].absorptivity *= 1.02\n",
      "col2.subprocess['LW'].absorptivity"
     ],
     "language": "python",
     "metadata": {},
     "outputs": [
      {
       "metadata": {},
       "output_type": "pyout",
       "prompt_number": 32,
       "text": [
        "Field([ 0.05446206,  0.05446206,  0.05446206,  0.05446206,  0.05446206,\n",
        "        0.05446206,  0.05446206,  0.05446206,  0.05446206,  0.05446206,\n",
        "        0.05446206,  0.05446206,  0.05446206,  0.05446206,  0.05446206,\n",
        "        0.05446206,  0.05446206,  0.05446206,  0.05446206,  0.05446206,\n",
        "        0.05446206,  0.05446206,  0.05446206,  0.05446206,  0.05446206,\n",
        "        0.05446206,  0.05446206,  0.05446206,  0.05446206,  0.05446206])"
       ]
      }
     ],
     "prompt_number": 32
    },
    {
     "cell_type": "code",
     "collapsed": false,
     "input": [
      "col2.compute_diagnostics()\n",
      "col2.diagnostics['OLR']"
     ],
     "language": "python",
     "metadata": {},
     "outputs": [
      {
       "metadata": {},
       "output_type": "pyout",
       "prompt_number": 33,
       "text": [
        "array([ 237.15498512])"
       ]
      }
     ],
     "prompt_number": 33
    },
    {
     "cell_type": "code",
     "collapsed": false,
     "input": [
      "RF = -(col2.diagnostics['OLR'] - col.diagnostics['OLR'])\n",
      "print 'The radiative forcing is %f W/m2.' %RF"
     ],
     "language": "python",
     "metadata": {},
     "outputs": [
      {
       "output_type": "stream",
       "stream": "stdout",
       "text": [
        "The radiative forcing is 1.845015 W/m2.\n"
       ]
      }
     ],
     "prompt_number": 34
    },
    {
     "cell_type": "heading",
     "level": 1,
     "metadata": {},
     "source": [
      "Radiative equilibrium in the 30-layer model"
     ]
    },
    {
     "cell_type": "code",
     "collapsed": false,
     "input": [
      "re = climlab.process_like(col2)"
     ],
     "language": "python",
     "metadata": {},
     "outputs": [],
     "prompt_number": 35
    },
    {
     "cell_type": "code",
     "collapsed": false,
     "input": [
      "re.integrate_years(2.)"
     ],
     "language": "python",
     "metadata": {},
     "outputs": [
      {
       "output_type": "stream",
       "stream": "stdout",
       "text": [
        "Integrating for 730 steps, 730.4844 days, or 2.0 years.\n",
        "Total elapsed time is 2.92682499448 years."
       ]
      },
      {
       "output_type": "stream",
       "stream": "stdout",
       "text": [
        "\n"
       ]
      }
     ],
     "prompt_number": 36
    },
    {
     "cell_type": "code",
     "collapsed": false,
     "input": [
      "#  Check for energy balance\n",
      "re.diagnostics['ASR'] - re.diagnostics['OLR']"
     ],
     "language": "python",
     "metadata": {},
     "outputs": [
      {
       "metadata": {},
       "output_type": "pyout",
       "prompt_number": 37,
       "text": [
        "Field([ -5.25290659e-07])"
       ]
      }
     ],
     "prompt_number": 37
    },
    {
     "cell_type": "code",
     "collapsed": false,
     "input": [
      "plot_sounding([col, re])"
     ],
     "language": "python",
     "metadata": {},
     "outputs": [
      {
       "metadata": {},
       "output_type": "pyout",
       "prompt_number": 38,
       "text": [
        "<matplotlib.axes._subplots.AxesSubplot at 0x113153a50>"
       ]
      },
      {
       "metadata": {},
       "output_type": "display_data",
       "png": "[encoded data removed]",
       "text": [
        "<matplotlib.figure.Figure at 0x113153710>"
       ]
      }
     ],
     "prompt_number": 38
    },
    {
     "cell_type": "heading",
     "level": 1,
     "metadata": {},
     "source": [
      "Radiative-Convective equilibrium in the 30-layer model"
     ]
    },
    {
     "cell_type": "code",
     "collapsed": false,
     "input": [
      "rce = climlab.RadiativeConvectiveModel(adj_lapse_rate=6.)\n",
      "print rce"
     ],
     "language": "python",
     "metadata": {},
     "outputs": [
      {
       "output_type": "stream",
       "stream": "stdout",
       "text": [
        "climlab Process of type <class 'climlab.model.column.RadiativeConvectiveModel'>. \n",
        "State variables and domain shapes: \n",
        "  Tatm: (30,) \n",
        "  Ts: (1,) \n",
        "The subprocess tree: \n",
        "top: <class 'climlab.model.column.RadiativeConvectiveModel'>\n",
        "   convective adjustment: <class 'climlab.convection.convadj.ConvectiveAdjustment'>\n",
        "   LW: <class 'climlab.radiation.radiation.Radiation'>\n",
        "   SW: <class 'climlab.radiation.radiation.RadiationSW'>\n",
        "   surface: <class 'climlab.surface.surface_radiation.SurfaceRadiation'>\n",
        "   insolation: <class 'climlab.radiation.insolation.FixedInsolation'>\n",
        "\n"
       ]
      }
     ],
     "prompt_number": 39
    },
    {
     "cell_type": "code",
     "collapsed": false,
     "input": [
      "rce.subprocess['LW'].absorptivity = eps"
     ],
     "language": "python",
     "metadata": {},
     "outputs": [],
     "prompt_number": 40
    },
    {
     "cell_type": "code",
     "collapsed": false,
     "input": [
      "rce.integrate_years(2.)"
     ],
     "language": "python",
     "metadata": {},
     "outputs": [
      {
       "output_type": "stream",
       "stream": "stdout",
       "text": [
        "Integrating for 730 steps, 730.4844 days, or 2.0 years.\n",
        "Total elapsed time is 1.99867375676 years."
       ]
      },
      {
       "output_type": "stream",
       "stream": "stdout",
       "text": [
        "\n"
       ]
      }
     ],
     "prompt_number": 41
    },
    {
     "cell_type": "code",
     "collapsed": false,
     "input": [
      "#  Check for energy balance\n",
      "rce.diagnostics['ASR'] - rce.diagnostics['OLR']"
     ],
     "language": "python",
     "metadata": {},
     "outputs": [
      {
       "metadata": {},
       "output_type": "pyout",
       "prompt_number": 42,
       "text": [
        "Field([  6.23629685e-06])"
       ]
      }
     ],
     "prompt_number": 42
    },
    {
     "cell_type": "code",
     "collapsed": false,
     "input": [
      "plot_sounding([col, rce])"
     ],
     "language": "python",
     "metadata": {},
     "outputs": [
      {
       "metadata": {},
       "output_type": "pyout",
       "prompt_number": 43,
       "text": [
        "<matplotlib.axes._subplots.AxesSubplot at 0x1131d26d0>"
       ]
      },
      {
       "metadata": {},
       "output_type": "display_data",
       "png": "[encoded data removed]",
       "text": [
        "<matplotlib.figure.Figure at 0x113253b90>"
       ]
      }
     ],
     "prompt_number": 43
    },
    {
     "cell_type": "heading",
     "level": 1,
     "metadata": {},
     "source": [
      "Greenhouse warming in RCE model"
     ]
    },
    {
     "cell_type": "code",
     "collapsed": false,
     "input": [
      "# ANother 1% increase in absorptivity\n",
      "rce2 = climlab.process_like(rce)\n",
      "rce2.subprocess['LW'].absorptivity *= 1.02"
     ],
     "language": "python",
     "metadata": {},
     "outputs": [],
     "prompt_number": 44
    },
    {
     "cell_type": "code",
     "collapsed": false,
     "input": [
      "rce2.compute_diagnostics()\n",
      "RF = -(rce2.diagnostics['OLR'] - rce.diagnostics['OLR'])\n",
      "print 'The radiative forcing is %f W/m2.' %RF"
     ],
     "language": "python",
     "metadata": {},
     "outputs": [
      {
       "output_type": "stream",
       "stream": "stdout",
       "text": [
        "The radiative forcing is 1.660869 W/m2.\n"
       ]
      }
     ],
     "prompt_number": 45
    },
    {
     "cell_type": "code",
     "collapsed": false,
     "input": [
      "#  Timestep forward, and the check for energy balance\n",
      "rce2.integrate_years(2.)\n",
      "rce2.diagnostics['ASR'] - rce2.diagnostics['OLR']"
     ],
     "language": "python",
     "metadata": {},
     "outputs": [
      {
       "output_type": "stream",
       "stream": "stdout",
       "text": [
        "Integrating for 730 steps, 730.4844 days, or 2.0 years.\n",
        "Total elapsed time is 4.00556124128 years."
       ]
      },
      {
       "output_type": "stream",
       "stream": "stdout",
       "text": [
        "\n"
       ]
      },
      {
       "metadata": {},
       "output_type": "pyout",
       "prompt_number": 46,
       "text": [
        "Field([  2.17219082e-07])"
       ]
      }
     ],
     "prompt_number": 46
    },
    {
     "cell_type": "code",
     "collapsed": false,
     "input": [
      "plot_sounding([col, rce, rce2])"
     ],
     "language": "python",
     "metadata": {},
     "outputs": [
      {
       "metadata": {},
       "output_type": "pyout",
       "prompt_number": 47,
       "text": [
        "<matplotlib.axes._subplots.AxesSubplot at 0x1131b1510>"
       ]
      },
      {
       "metadata": {},
       "output_type": "display_data",
       "png": "[encoded data removed]",
       "text": [
        "<matplotlib.figure.Figure at 0x111e57190>"
       ]
      }
     ],
     "prompt_number": 47
    },
    {
     "cell_type": "code",
     "collapsed": false,
     "input": [
      "ECS = rce2.Ts - rce.Ts\n",
      "print 'Equilibrium climate sensitivity is %f K.' %ECS"
     ],
     "language": "python",
     "metadata": {},
     "outputs": [
      {
       "output_type": "stream",
       "stream": "stdout",
       "text": [
        "Equilibrium climate sensitivity is 0.576870 K.\n"
       ]
      }
     ],
     "prompt_number": 48
    },
    {
     "cell_type": "code",
     "collapsed": false,
     "input": [
      "# Calculate the net climate feedback\n",
      "#  This is the change in TOA flux per degree warming that was necessary to get back to equilibrium.\n",
      "feedback = -RF/ECS\n",
      "print 'The net feedback is %f W/m2/K' %feedback "
     ],
     "language": "python",
     "metadata": {},
     "outputs": [
      {
       "output_type": "stream",
       "stream": "stdout",
       "text": [
        "The net feedback is -2.879106 W/m2/K\n"
       ]
      }
     ],
     "prompt_number": 49
    },
    {
     "cell_type": "code",
     "collapsed": false,
     "input": [
      "#  could calculate a Planck feedback explicitly...\n",
      "#   What would the TOA flux change be if the warming were perfectly uniform?\n",
      "rce3 = climlab.process_like(rce)\n",
      "rce3.subprocess['LW'].absorptivity *= 1.02\n",
      "rce3.Ts += ECS\n",
      "rce3.Tatm += ECS"
     ],
     "language": "python",
     "metadata": {},
     "outputs": [],
     "prompt_number": 50
    }
   ],
   "metadata": {}
  }
 ]
}