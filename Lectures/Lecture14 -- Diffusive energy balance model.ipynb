{
 "cells": [
  {
   "cell_type": "markdown",
   "metadata": {},
   "source": [
    "# [ATM 623: Climate Modeling](../index.ipynb)\n",
    "[Brian E. J. Rose](http://www.atmos.albany.edu/facstaff/brose/index.html), University at Albany\n",
    "# Lecture 14: The one-dimensional energy balance model"
   ]
  },
  {
   "cell_type": "markdown",
   "metadata": {},
   "source": [
    "## Contents\n",
    "\n",
    "1. [Simulation versus parameterization of heat transport](#section1)\n",
    "2. [The temperature diffusion parameterization](#section2)\n",
    "3. [Solving the temperature diffusion equation with `climlab`](#section3)\n",
    "4. [Parameterizing the radiation terms](#section4)\n",
    "5. [The one-dimensional diffusive energy balance model](#section5)\n",
    "6. [The annual-mean EBM](#section6)\n",
    "7. [Effects of diffusivity in the EBM](#section7)\n",
    "8. [Summary: parameter values in the diffusive EBM](#section8)"
   ]
  },
  {
   "cell_type": "markdown",
   "metadata": {},
   "source": [
    "____________\n",
    "<a id='section1'></a>\n",
    "\n",
    "## 1. Simulation versus parameterization of heat transport\n",
    "____________\n"
   ]
  },
  {
   "cell_type": "markdown",
   "metadata": {},
   "source": [
    "In the previous lectures we have seen how heat transport by winds and ocean currents acts to COOL the tropics and WARM the poles. The observed temperature gradient is a product of both the insolation and the heat transport!\n",
    "\n",
    "We were able to ignore this issue in our models of the global mean temperature, because the transport just moves energy around between latitude bands – does not create or destroy energy.\n",
    "\n",
    "But if want to move beyond the global mean and create models of the equator-to-pole temperature structure, we cannot ignore heat transport. Has to be included somehow!\n",
    "\n",
    "This leads to us the old theme of **simulation versus parameterization**.\n",
    "\n",
    "Complex climate models like the CESM simulate the heat transport by solving the full equations of motion for the atmosphere (and ocean too, if coupled)."
   ]
  },
  {
   "cell_type": "markdown",
   "metadata": {},
   "source": [
    "### Simulation of synoptic-scale variability in CESM\n",
    "\n",
    "Let's revisit an animation of the global 6-hourly sea-level pressure field from our slab ocean simulation with CESM. (We first saw this [back in Lecture 4](Lecture04 -- Climate system components.ipynb)) "
   ]
  },
  {
   "cell_type": "code",
   "execution_count": 1,
   "metadata": {
    "collapsed": false
   },
   "outputs": [
    {
     "data": {
      "text/html": [
       "\n",
       "        <iframe\n",
       "            width=\"400\"\n",
       "            height=\"300\"\n",
       "            src=\"https://www.youtube.com/embed/As85L34fKYQ\"\n",
       "            frameborder=\"0\"\n",
       "            allowfullscreen\n",
       "        ></iframe>\n",
       "        "
      ],
      "text/plain": [
       "<IPython.lib.display.YouTubeVideo at 0x102eced50>"
      ]
     },
     "execution_count": 1,
     "metadata": {},
     "output_type": "execute_result"
    }
   ],
   "source": [
    "from IPython.display import YouTubeVideo\n",
    "YouTubeVideo('As85L34fKYQ')"
   ]
  },
  {
   "cell_type": "markdown",
   "metadata": {},
   "source": [
    "All these traveling weather systems tend to move **warm, moist air poleward** and **cold, dry air equatorward**. There is thus a **net poleward energy transport**.\n",
    "\n",
    "A model like this needs to **simulate the weather** in order to **model the heat transport**.  "
   ]
  },
  {
   "cell_type": "markdown",
   "metadata": {},
   "source": [
    "### A simpler statistical approach\n",
    "\n",
    "Let’s emphasize: the most important role for heat transport by winds and ocean currents is to more energy from where it’s WARM to where it’s COLD, thereby reducing the temperature gradient (equator to pole) from what it would be if the planet were in radiative-convective equilibrium everywhere with no north-south motion.\n",
    "\n",
    "This is the basis for the parameterization of heat transport often used in simple climate models.\n",
    "\n",
    "Discuss analogy with molecular heat conduction: metal rod with one end in the fire.\n",
    "\n",
    "Define carefully temperature gradient dTs / dy\n",
    "Measures how quickly the temperature  decreases as we move northward\n",
    "(negative in NH, positive in SH)\n",
    "\n",
    "In any conduction or diffusion process, the flux (transport) of a quantity is always DOWN-gradient  (from WARM to COLD).\n",
    "\n",
    "So our parameterization will look like\n",
    "\n",
    "H = -K dT / dy\n",
    "\n",
    "Where K is some positive number “diffusivity of the climate system”.\n",
    "\n"
   ]
  },
  {
   "cell_type": "markdown",
   "metadata": {},
   "source": [
    "____________\n",
    "<a id='section2'></a>\n",
    "\n",
    "## 2. The temperature diffusion parameterization\n",
    "____________\n",
    "\n"
   ]
  },
  {
   "cell_type": "markdown",
   "metadata": {},
   "source": [
    "Last time we wrote down an energy budget for a thin zonal band centered at latitude $\\phi$:\n",
    "\n",
    "$$ \\frac{\\partial E(\\phi)}{\\partial t} = \\text{ASR}(\\phi) - \\text{OLR}(\\phi) - \\frac{1}{2 \\pi a^2  \\cos⁡\\phi } \\frac{\\partial \\mathcal{H}}{\\partial \\phi} $$\n",
    "\n",
    "where we have written every term as an explicit function of latitude to remind ourselves that this is a **local** budget, unlike the zero-dimensional global budget we considered at the start of the course."
   ]
  },
  {
   "cell_type": "markdown",
   "metadata": {},
   "source": [
    "Let’s now formally introduce a parameterization that **approximates the heat transport as a down-gradient diffusion process**:\n",
    "\n",
    "$$ \\mathcal{H}(\\phi) \\approx -2 \\pi a^2  \\cos⁡\\phi ~ D ~ \\frac{\\partial T_s}{\\partial \\phi} $$\n",
    "\n",
    "With $D$ a parameter for the **diffusivity** or **thermal conductivity** of the climate system, a number in W m$^{-2}$ ºC$^{-1}$.\n",
    "\n",
    "The value of $D$ will be chosen to match observations – i.e. tuned.\n",
    "\n",
    "Notice that we have explicitly chosen to the use **surface temperature gradient** to set the heat transport. This is a convenient (and traditional) choice to make, but it is not the only possibility! We could instead tune our parameterization to some measure of the free-tropospheric temperature gradient."
   ]
  },
  {
   "cell_type": "markdown",
   "metadata": {},
   "source": [
    "### The diffusive parameterization in the planetary energy budget\n",
    "\n",
    "Plug the parameterization into our energy budget to get\n",
    "\n",
    "$$ \\frac{\\partial E(\\phi)}{\\partial t} = \\text{ASR}(\\phi) - \\text{OLR}(\\phi) - \\frac{1}{2 \\pi a^2  \\cos⁡\\phi } \\frac{\\partial }{\\partial \\phi} \\left( -2 \\pi a^2  \\cos⁡\\phi ~ D ~ \\frac{\\partial T_s}{\\partial \\phi} \\right) $$\n",
    "\n",
    "If we assume that $K$ is a constant (does not vary with latitude), then this simplifies to\n",
    "\n",
    "$$ \\frac{\\partial E(\\phi)}{\\partial t} = \\text{ASR}(\\phi) - \\text{OLR}(\\phi) + \\frac{D}{\\cos⁡\\phi } \\frac{\\partial }{\\partial \\phi} \\left(   \\cos⁡\\phi  ~ \\frac{\\partial T_s}{\\partial \\phi} \\right) $$\n"
   ]
  },
  {
   "cell_type": "markdown",
   "metadata": {},
   "source": [
    "### Surface temperature is a good measure of column heat content\n",
    "\n",
    "Let's now make the same assumption we made [back at the beginning of the course](Lecture01 -- Planetary energy budget.ipynb) when we first wrote down the zero-dimensional EBM.  *Most of the heat capacity is in the oceans, so that the energy content of each column $E$ is proportional to surface temperature*:\n",
    "\n",
    "$$ E(\\phi) = C(\\phi) ~ T_s(\\phi) $$\n",
    "\n",
    "where $C$ is **effective heat capacity** of the atmosphere - ocean column, in units of J m$^{-2}$ K$^{-1}$. Here we are writing $C$ are a function of latitude so that our model is general enough to allow different land-ocean fractions at different latitudes.\n",
    "\n"
   ]
  },
  {
   "cell_type": "markdown",
   "metadata": {},
   "source": [
    "### A heat equation for surface temperature\n",
    "\n",
    "Now our budget becomes a PDE for the surface temperature $T_s(\\phi, t)$:\n",
    "\n",
    "$$ C(\\phi) \\frac{\\partial T_s}{\\partial t} = \\text{ASR}(\\phi) - \\text{OLR}(\\phi) + \\frac{D}{\\cos⁡\\phi } \\frac{\\partial }{\\partial \\phi} \\left(   \\cos⁡\\phi  ~ \\frac{\\partial T_s}{\\partial \\phi} \\right) $$\n",
    "\n",
    "Notice that if we were NOT on a spherical planet and didn’t have to worry about the changing size of latitude circles, this would look something like\n",
    "\n",
    "$$ \\frac{\\partial T}{\\partial t} = K \\frac{\\partial^2 T}{\\partial y^2} + \\text{forcing terms} $$\n",
    "with $K = D/C$ in m$^{2}$ s$^{-1}$.\n",
    "\n",
    "This is the “heat equation”, one of the central equations in classical mathematical physics. This equation describes the behavior of a diffusive system, i.e. how mixing by random molecular motion smears out the temperature. In our case, the analogy is between the random molecular motion of a metal rod, and the net mixing / stirring effect of weather systems.\n"
   ]
  },
  {
   "cell_type": "markdown",
   "metadata": {},
   "source": [
    "### Take the global average...\n",
    "\n",
    "Take the integral $\\int_{-\\pi/2}^{\\pi/2} \\cos\\phi ~ d\\phi$ of each term.\n",
    "\n",
    "\n",
    "$$ C \\frac{\\partial \\overline{T_s}}{\\partial t} d\\phi = \\overline{\\text{ASR}} - \\overline{\\text{OLR}} + K \\int_{-\\pi/2}^{\\pi/2} \\frac{\\partial }{\\partial \\phi} \\left(   \\cos⁡\\phi  ~ \\frac{\\partial T_s}{\\partial \\phi} \\right) d\\phi$$\n",
    "\n",
    "The global average of the last term (heat transport) must go to zero (why?)\n",
    "\n",
    "Therefore this reduces to our familiar zero-dimensional EBM.\n"
   ]
  },
  {
   "cell_type": "markdown",
   "metadata": {},
   "source": [
    "____________\n",
    "<a id='section3'></a>\n",
    "\n",
    "## 3. Solving the temperature diffusion equation with `climlab`\n",
    "____________\n"
   ]
  },
  {
   "cell_type": "markdown",
   "metadata": {},
   "source": [
    "`climlab` has a pre-defined process for solving the meridional diffusion equation. Let's look at a simple example in which diffusion is the ONLY process that changes the temperature."
   ]
  },
  {
   "cell_type": "code",
   "execution_count": 2,
   "metadata": {
    "collapsed": true
   },
   "outputs": [],
   "source": [
    "%matplotlib inline\n",
    "import numpy as np\n",
    "import matplotlib.pyplot as plt\n",
    "import netCDF4 as nc\n",
    "import climlab\n",
    "from climlab import constants as const"
   ]
  },
  {
   "cell_type": "code",
   "execution_count": 3,
   "metadata": {
    "collapsed": false
   },
   "outputs": [
    {
     "data": {
      "text/plain": [
       "[<matplotlib.lines.Line2D at 0x10e841790>]"
      ]
     },
     "execution_count": 3,
     "metadata": {},
     "output_type": "execute_result"
    },
    {
     "data": {
      "image/png": "[encoded data removed]",
      "text/plain": [
       "<matplotlib.figure.Figure at 0x10e63f690>"
      ]
     },
     "metadata": {},
     "output_type": "display_data"
    }
   ],
   "source": [
    "#  First define an initial temperature field\n",
    "#   that is warm at the equator and cold at the poles\n",
    "#   and varies smoothly with latitude in between\n",
    "\n",
    "from climlab.utils import legendre\n",
    "sfc = climlab.domain.zonal_mean_surface(num_lat=90, water_depth=10.)\n",
    "lat = sfc.lat.points\n",
    "initial = 12. - 40. * legendre.P2(np.sin(np.deg2rad(lat)))\n",
    "\n",
    "plt.plot(lat, initial)"
   ]
  },
  {
   "cell_type": "code",
   "execution_count": 4,
   "metadata": {
    "collapsed": false
   },
   "outputs": [
    {
     "name": "stdout",
     "output_type": "stream",
     "text": [
      "climlab Process of type <class 'climlab.dynamics.diffusion.MeridionalDiffusion'>. \n",
      "State variables and domain shapes: \n",
      "  default: (90, 1) \n",
      "The subprocess tree: \n",
      "top: <class 'climlab.dynamics.diffusion.MeridionalDiffusion'>\n",
      "\n"
     ]
    }
   ],
   "source": [
    "##  Set up the climlab diffusion process\n",
    "\n",
    "# make a copy of initial so that it remains unmodified\n",
    "Ts = climlab.Field(np.array(initial), domain=sfc)\n",
    "# thermal diffusivity in W/m**2/degC\n",
    "D = 0.55\n",
    "# meridional diffusivity in 1/s\n",
    "K = D / sfc.heat_capacity\n",
    "# create the climlab diffusion process\n",
    "#  setting the diffusivity and a timestep of ONE MONTH\n",
    "from climlab.dynamics.diffusion import MeridionalDiffusion\n",
    "d = MeridionalDiffusion(state=Ts, K=K, timestep=const.seconds_per_month)\n",
    "\n",
    "print d"
   ]
  },
  {
   "cell_type": "code",
   "execution_count": 5,
   "metadata": {
    "collapsed": true
   },
   "outputs": [],
   "source": [
    "#  We are going to step forward one month at a time\n",
    "#  and store the temperature each time\n",
    "niter = 5\n",
    "temp = np.zeros((Ts.size, niter+1))\n",
    "temp[:, 0] = np.squeeze(Ts)\n",
    "for n in range(niter):\n",
    "    d.step_forward()\n",
    "    temp[:, n+1] = np.squeeze(Ts)"
   ]
  },
  {
   "cell_type": "code",
   "execution_count": 6,
   "metadata": {
    "collapsed": false
   },
   "outputs": [
    {
     "data": {
      "text/plain": [
       "<matplotlib.legend.Legend at 0x10f263d50>"
      ]
     },
     "execution_count": 6,
     "metadata": {},
     "output_type": "execute_result"
    },
    {
     "data": {
      "image/png": "[encoded data removed]",
      "text/plain": [
       "<matplotlib.figure.Figure at 0x10f263e50>"
      ]
     },
     "metadata": {},
     "output_type": "display_data"
    }
   ],
   "source": [
    "#  Now plot the temperatures\n",
    "plt.plot(lat, temp)\n",
    "plt.legend(range(niter+1))"
   ]
  },
  {
   "cell_type": "markdown",
   "metadata": {},
   "source": [
    "At each timestep, the warm temperatures get cooler (at the equator) while the cold polar temperatures get warmer!\n",
    "\n",
    "Diffusion is acting to **reduce the temperature gradient**.\n",
    "\n",
    "If we let this run a long time, what should happen??\n",
    "\n",
    "Try it yourself and find out!"
   ]
  },
  {
   "cell_type": "markdown",
   "metadata": {},
   "source": [
    "### Mathematical aside: the Legendre Polynomials\n",
    "\n",
    "Here we have used a function called the “2nd Legendre polynomial”, defined as\n",
    "\n",
    "$$ P_2 (x) = \\frac{1}{2} \\left( 3x^2-1 \\right) $$\n",
    "\n",
    "where we have also set\n",
    "\n",
    "$$ x = \\sin\\phi $$\n",
    "\n",
    "Just turns out to be a useful mathematical description of the relatively smooth changes in things like annual-mean insolation from equator to pole.\n",
    "\n",
    "In fact these are so useful that they are coded up in a special module within `climlab`:\n",
    "\n"
   ]
  },
  {
   "cell_type": "code",
   "execution_count": 7,
   "metadata": {
    "collapsed": false
   },
   "outputs": [
    {
     "data": {
      "text/plain": [
       "<matplotlib.text.Text at 0x110849ed0>"
      ]
     },
     "execution_count": 7,
     "metadata": {},
     "output_type": "execute_result"
    },
    {
     "data": {
      "image/png": "[encoded data removed]",
      "text/plain": [
       "<matplotlib.figure.Figure at 0x10f2f9750>"
      ]
     },
     "metadata": {},
     "output_type": "display_data"
    }
   ],
   "source": [
    "x = np.linspace(-1,1)\n",
    "plt.plot(x, (3*x**2-1)/2)\n",
    "plt.plot(x, legendre.P2(x))\n",
    "plt.title('$P_2(x)$')"
   ]
  },
  {
   "cell_type": "markdown",
   "metadata": {},
   "source": [
    "____________\n",
    "<a id='section4'></a>\n",
    "\n",
    "## 4. Parameterizing the radiation terms\n",
    "____________\n",
    "\n",
    "\n",
    "Let's go back to the complete budget with our heat transport parameterization\n",
    "\n",
    "$$ C(\\phi) \\frac{\\partial T_s}{\\partial t} = \\text{ASR}(\\phi) - \\text{OLR}(\\phi) + \\frac{D}{\\cos⁡\\phi } \\frac{\\partial }{\\partial \\phi} \\left(   \\cos⁡\\phi  ~ \\frac{\\partial T_s}{\\partial \\phi} \\right) $$\n",
    "\n",
    "We want to express this **as a closed equation for surface temperature $T_s$**.\n",
    "\n",
    "First, as usual, we can write the solar term as\n",
    "\n",
    "$$ \\text{ASR} = (1-\\alpha) ~ Q $$\n",
    "\n",
    "For now, we will **assume that the planetary albedo is fixed (does not depend on temperature)**. Therefore the entire shortwave term $(1-\\alpha) Q$ is a fixed source term in our budget. It varies in space and time but does not depend on $T_s$."
   ]
  },
  {
   "cell_type": "markdown",
   "metadata": {},
   "source": [
    "Note that the solar term is (at least in annual average) larger at equator than poles… and transport term acts to flatten out the temperatures.\n",
    "\n",
    "Now, we almost have a model we can solve for T!  Just need to express the OLR in terms of temperature.\n",
    "\n",
    "So…  what’s the link between OLR and temperature????\n",
    "\n",
    "[ discuss ]\n",
    "\n",
    "we spent a good chunk of the course looking at this question, and developed a model of a vertical column of air.\n",
    "\n",
    "We are trying now to build a model of the equator-to-pole (or pole-to-pole) temperature structure.\n",
    "\n",
    "We COULD use an array of column models, representing temperature as a function of height and latitude (and time).\n",
    "\n",
    "But instead, we will keep things simple, one spatial dimension at a time.\n",
    "\n",
    "Introduce the following simple parameterization:\n",
    "\n",
    "$$ OLR = A + B T_s $$\n",
    "\n",
    "With $T_s$ the zonal average surface temperature in ºC, A is a constant in W m$^{-2}$ and B is a constant in W m$^{-2}$ ºC$^{-1}$. \n",
    "\n"
   ]
  },
  {
   "cell_type": "markdown",
   "metadata": {},
   "source": [
    "### OLR versus surface temperature in NCEP Reanalysis data\n",
    "\n",
    "Let's look at the data to find reasonable values for $A$ and $B$."
   ]
  },
  {
   "cell_type": "code",
   "execution_count": 8,
   "metadata": {
    "collapsed": false
   },
   "outputs": [
    {
     "name": "stdout",
     "output_type": "stream",
     "text": [
      "<type 'netCDF4.Dataset'>\n",
      "root group (NETCDF3_CLASSIC data model, file format UNDEFINED):\n",
      "    history: Created 2011/07/12 by doMonthLTM\n",
      "Converted to chunked, deflated non-packed NetCDF4 2014/09\n",
      "    title: 4x daily NMC reanalysis\n",
      "    description: Data is from NMC initialized reanalysis\n",
      "(4x/day).  It consists of T42  variables interpolated to\n",
      "pressure surfaces from model (sigma) surfaces.\n",
      "    platform: Model\n",
      "    Conventions: COARDS\n",
      "    references: http://www.esrl.noaa.gov/psd/data/gridded/data.ncep.reanalysis.derived.html\n",
      "    not_missing_threshold_percent: minimum 3% values input to have non-missing output value\n",
      "    dimensions(sizes): lat(94), lon(192), nbnds(2), time(12)\n",
      "    variables(dimensions): float64 \u001b[4mclimatology_bounds\u001b[0m(time,nbnds), float32 \u001b[4mlat\u001b[0m(lat), float32 \u001b[4mlon\u001b[0m(lon), float64 \u001b[4mtime\u001b[0m(time), float32 \u001b[4mskt\u001b[0m(time,lat,lon), float32 \u001b[4mvalid_yr_count\u001b[0m(time,lat,lon)\n",
      "    groups: \n",
      "\n"
     ]
    }
   ],
   "source": [
    "ncep_url = \"http://www.esrl.noaa.gov/psd/thredds/dodsC/Datasets/ncep.reanalysis.derived/\"\n",
    "ncep_air = nc.Dataset( ncep_url + \"pressure/air.mon.1981-2010.ltm.nc\" )\n",
    "ncep_Ts = nc.Dataset( ncep_url + \"surface_gauss/skt.sfc.mon.1981-2010.ltm.nc\" )\n",
    "lat_ncep = ncep_Ts.variables['lat']; lon_ncep = ncep_Ts.variables['lon']\n",
    "print ncep_Ts"
   ]
  },
  {
   "cell_type": "code",
   "execution_count": 9,
   "metadata": {
    "collapsed": false
   },
   "outputs": [],
   "source": [
    "Ts_ncep_annual = np.mean(ncep_Ts.variables['skt'][:], axis=(0,2) )"
   ]
  },
  {
   "cell_type": "code",
   "execution_count": 10,
   "metadata": {
    "collapsed": true
   },
   "outputs": [],
   "source": [
    "ncep_ulwrf = nc.Dataset( ncep_url + \"other_gauss/ulwrf.ntat.mon.1981-2010.ltm.nc\" )\n",
    "ncep_dswrf = nc.Dataset( ncep_url + \"other_gauss/dswrf.ntat.mon.1981-2010.ltm.nc\" )\n",
    "ncep_uswrf = nc.Dataset( ncep_url + \"other_gauss/uswrf.ntat.mon.1981-2010.ltm.nc\" )\n",
    "OLR_ncep_annual = np.mean(ncep_ulwrf.variables['ulwrf'][:], axis=(0,2) )\n",
    "ASR_ncep_annual = np.mean(ncep_dswrf.variables['dswrf'][:] - ncep_uswrf.variables['uswrf'][:], axis=(0,2) )"
   ]
  },
  {
   "cell_type": "code",
   "execution_count": 11,
   "metadata": {
    "collapsed": false
   },
   "outputs": [
    {
     "name": "stdout",
     "output_type": "stream",
     "text": [
      "Best fit is A = 214 W/m2 and B = 1.6 W/m2/degC\n"
     ]
    }
   ],
   "source": [
    "from scipy.stats import linregress\n",
    "slope, intercept, r_value, p_value, std_err = linregress(Ts_ncep_annual, OLR_ncep_annual)\n",
    "\n",
    "print 'Best fit is A = %0.0f W/m2 and B = %0.1f W/m2/degC' %(intercept, slope)"
   ]
  },
  {
   "cell_type": "markdown",
   "metadata": {},
   "source": [
    "We're going to plot the data and the best fit line, but also another line using these values:"
   ]
  },
  {
   "cell_type": "code",
   "execution_count": 12,
   "metadata": {
    "collapsed": true
   },
   "outputs": [],
   "source": [
    "#  More standard values\n",
    "A = 210.\n",
    "B = 2."
   ]
  },
  {
   "cell_type": "code",
   "execution_count": 13,
   "metadata": {
    "collapsed": false
   },
   "outputs": [
    {
     "data": {
      "image/png": "[encoded data removed]",
      "text/plain": [
       "<matplotlib.figure.Figure at 0x1131cafd0>"
      ]
     },
     "metadata": {},
     "output_type": "display_data"
    }
   ],
   "source": [
    "fig = plt.figure(figsize=(8,6))\n",
    "ax1 = fig.add_subplot(111)\n",
    "ax1.plot( Ts_ncep_annual, OLR_ncep_annual, 'o' , label='data')\n",
    "ax1.plot( Ts_ncep_annual, intercept + slope * Ts_ncep_annual, 'k--', label='best fit')\n",
    "ax1.plot( Ts_ncep_annual, A + B * Ts_ncep_annual, 'r--', label='B=2')\n",
    "ax1.set_xlabel('Surface temperature (C)', fontsize=16)\n",
    "ax1.set_ylabel('OLR (W m$^{-2}$)', fontsize=16)\n",
    "ax1.set_title('OLR versus surface temperature from NCEP reanalysis', fontsize=18)\n",
    "ax1.legend(loc='upper left')\n",
    "ax1.grid()"
   ]
  },
  {
   "cell_type": "markdown",
   "metadata": {},
   "source": [
    "Discuss these curves...\n",
    "\n",
    "Suggestion of at least 3 different regimes with different slopes (cold, medium, warm).\n",
    "\n",
    "Unbiased \"best fit\" is actually a poor fit over all the intermediate temperatures.\n",
    "\n",
    "The astute reader will note that...   by taking the zonal average of the data before the regression, we are biasing this estimate toward cold temperatures.  [WHY?]\n",
    "\n",
    "Let's take these reference values:\n",
    "\n",
    "$$ A = 210 ~ \\text{W m}^{-2}, ~~~ B = 2 ~ \\text{W m}^{-2}~^\\circ\\text{C}^{-1} $$\n",
    "\n",
    "Note that in the **global average**, recall $\\overline{T_s} = 288 \\text{ K} = 15^\\circ\\text{C}$\n",
    "\n",
    "And so this parameterization gives \n",
    "\n",
    "$$ \\overline{\\text{OLR}} = 210 + 15 \\times 2 = 240 ~\\text{W m}^{-2} $$\n",
    "\n",
    "And the observed global mean is $\\overline{\\text{OLR}} = 239 ~\\text{W m}^{-2} $\n",
    "So this is consistent.\n",
    "\n"
   ]
  },
  {
   "cell_type": "markdown",
   "metadata": {},
   "source": [
    "____________\n",
    "<a id='section5'></a>\n",
    "\n",
    "## 5. The one-dimensional diffusive energy balance model\n",
    "____________\n"
   ]
  },
  {
   "cell_type": "markdown",
   "metadata": {},
   "source": [
    "Putting the above OLR parameterization into our budget equation gives\n",
    "\n",
    "$$ C(\\phi) \\frac{\\partial T_s}{\\partial t} = (1-\\alpha) ~ Q - \\left( A + B~T_s \\right) + \\frac{D}{\\cos⁡\\phi } \\frac{\\partial }{\\partial \\phi} \\left(   \\cos⁡\\phi  ~ \\frac{\\partial T_s}{\\partial \\phi} \\right) $$\n",
    "\n",
    "This is the equation for a very important and useful simple model of the climate system. It is typically referred to as the (one-dimensional) Energy Balance Model.\n",
    "\n",
    "(although as we have seen over and over, EVERY climate model is actually an “energy balance model” of some kind)\n",
    "\n",
    "Also for historical reasons this is often called the **Budyko-Sellers model**, after Budyko and Sellers who both (independently of each other) published influential papers on this subject in 1969.\n",
    "\n",
    "Recap: parameters in this model are\n",
    "\n",
    "- C: heat capacity in J m$^{-2}$ ºC$^{-1}$\n",
    "- A: longwave emission at 0ºC in W m$^{-2}$\n",
    "- B: increase in emission per degree, in W m$^{-2}$ ºC$^{-1}$\n",
    "- D: horizontal (north-south) diffusivity of the climate system in W m$^{-2}$ ºC$^{-1}$\n",
    "\n",
    "We also need to specify the albedo."
   ]
  },
  {
   "cell_type": "markdown",
   "metadata": {},
   "source": [
    "### Tune albedo formula to match observations\n",
    "\n",
    "Let's go back to the NCEP Reanalysis data to see how planetary albedo actually varies as a function of latitude."
   ]
  },
  {
   "cell_type": "code",
   "execution_count": 14,
   "metadata": {
    "collapsed": false
   },
   "outputs": [
    {
     "name": "stdout",
     "output_type": "stream",
     "text": [
      "The annual, global mean planetary albedo is 0.354\n"
     ]
    },
    {
     "data": {
      "image/png": "[encoded data removed]",
      "text/plain": [
       "<matplotlib.figure.Figure at 0x1131cac10>"
      ]
     },
     "metadata": {},
     "output_type": "display_data"
    }
   ],
   "source": [
    "days = np.linspace(1.,50.)/50 * const.days_per_year\n",
    "Qann_ncep = np.mean( climlab.solar.insolation.daily_insolation(lat_ncep, days ),axis=1)\n",
    "albedo_ncep = 1 - ASR_ncep_annual / Qann_ncep\n",
    "\n",
    "albedo_ncep_global = np.average(albedo_ncep, weights=np.cos(np.deg2rad(lat_ncep)))\n",
    "\n",
    "print 'The annual, global mean planetary albedo is %0.3f' %albedo_ncep_global\n",
    "\n",
    "plt.plot(lat_ncep, albedo_ncep)\n",
    "plt.grid();"
   ]
  },
  {
   "cell_type": "markdown",
   "metadata": {},
   "source": [
    "**The albedo increases markedly toward the poles.**\n",
    "\n",
    "There are several reasons for this:\n",
    "\n",
    "- surface snow and ice increase toward the poles\n",
    "- Cloudiness is an important (but complicated) factor.\n",
    "- Albedo increases with solar zenith angle (the angle at which the direct solar beam strikes a surface)"
   ]
  },
  {
   "cell_type": "markdown",
   "metadata": {},
   "source": [
    "#### Approximating the observed albedo with a Legendre polynomial\n",
    "\n",
    "Like temperature and insolation, this can be approximated by a smooth function that increases with latitude:\n",
    "\n",
    "$$ \\alpha(\\phi) \\approx \\alpha_0 + \\alpha_2 P_2(\\sin\\phi) $$\n",
    "\n",
    "where $P_2$ is the 2nd Legendre polynomial (see above).\n",
    "\n",
    "In effect we are using a truncated series expansion of the full meridional structure of $\\alpha$. $a_0$ is the global average, and $a_2$ is proportional to the equator-to-pole gradient in $\\alpha$."
   ]
  },
  {
   "cell_type": "markdown",
   "metadata": {},
   "source": [
    "We will set\n",
    "\n",
    "$$ \\alpha_0 = 0.354, ~~~ \\alpha_2 = 0.25 $$"
   ]
  },
  {
   "cell_type": "code",
   "execution_count": 15,
   "metadata": {
    "collapsed": false
   },
   "outputs": [
    {
     "data": {
      "image/png": "[encoded data removed]",
      "text/plain": [
       "<matplotlib.figure.Figure at 0x113307250>"
      ]
     },
     "metadata": {},
     "output_type": "display_data"
    }
   ],
   "source": [
    "a0 = albedo_ncep_global\n",
    "a2 = 0.25\n",
    "plt.plot(lat_ncep, albedo_ncep);\n",
    "plt.plot(lat_ncep, a0 + a2 * legendre.P2(np.sin(np.deg2rad(lat_ncep))))\n",
    "plt.grid();"
   ]
  },
  {
   "cell_type": "markdown",
   "metadata": {},
   "source": [
    "Of course we are not fitting all the details of the observed albedo curve. But we do get the correct global mean a reasonable representation of the equator-to-pole gradient in albedo."
   ]
  },
  {
   "cell_type": "markdown",
   "metadata": {},
   "source": [
    "____________\n",
    "<a id='section6'></a>\n",
    "\n",
    "## 6. The annual-mean EBM\n",
    "____________\n",
    "\n"
   ]
  },
  {
   "cell_type": "markdown",
   "metadata": {},
   "source": [
    "Suppose we take the **annual mean of the planetary energy budget**.\n",
    "\n",
    "If the albedo is fixed, then the average is pretty simple. Our EBM equation is purely linear, so the change over one year is just\n",
    "\n",
    "$$ C \\frac{\\Delta \\overline{T_s}}{\\text{1 year}} = \\left(1-\\alpha(\\phi) \\right) ~ \\overline{Q}(\\phi) - \\left( A + B~\\overline{T_s} \\right) + \\frac{D}{\\cos⁡\\phi } \\frac{\\partial }{\\partial \\phi} \\left(   \\cos⁡\\phi  ~ \\frac{\\partial \\overline{T_s}}{\\partial \\phi} \\right) $$\n",
    "\n",
    "where $\\overline{T_s}(\\phi)$ is the annual mean surface temperature, and $\\overline{Q}(\\phi)$ is the annual mean insolation (both functions of latitude).\n",
    "\n",
    "Notice that once we average over the seasonal cycle, there are no time-dependent forcing terms. The temperature will just evolve toward a steady equilibrium.\n",
    "\n",
    "The equilibrium temperature is then the solution is this Ordinary Differential Equation (setting $\\Delta \\overline{T_s} = 0$ above):\n",
    "\n",
    "$$ 0 = \\left(1-\\alpha(\\phi) \\right) ~ \\overline{Q}(\\phi) - \\left( A + B~\\overline{T_s} \\right) + \\frac{D}{\\cos⁡\\phi } \\frac{d }{d \\phi} \\left(   \\cos⁡\\phi  ~ \\frac{d \\overline{T_s}}{d \\phi} \\right) $$\n",
    "\n",
    "You will often see this equation written in terms of the independent variable\n",
    "\n",
    "$$ x = \\sin\\phi $$\n",
    "\n",
    "which is 0 at the equator and $\\pm1$ at the poles. Substituting this for $\\phi$, noting that $dx = \\cos\\phi~ d\\phi$ and rearranging a bit gives\n",
    "\n",
    "$$  \\frac{D}{B} \\frac{d }{d x} \\left(   (1-x^2)  ~ \\frac{d \\overline{T_s}}{d x} \\right) - \\overline{T_s} = -\\frac{\\left(1-\\alpha(x) \\right) ~ \\overline{Q}(x) - A}{B}  $$\n",
    "\n",
    "This is actually a 2nd order ODE, and actually a 2-point Boundary Value Problem for the temperature $T(x)$, where the boundary conditions are no-flux at the boundaries (usually the poles).\n",
    "\n",
    "This form can be convenient for analytical solutions. As we will see, the non-dimensional number $D/B$ is a very important measure of the efficiency of heat transport in the climate system.  We will return to this later."
   ]
  },
  {
   "cell_type": "markdown",
   "metadata": {},
   "source": [
    "### Numerical solutions of the time-dependent EBM\n",
    "\n",
    "We will leave the time derivative in our model, because this is the most convenient way to find the equilibrium solution!\n",
    "\n",
    "There is code available in `climlab` to solve the diffusive EBM."
   ]
  },
  {
   "cell_type": "markdown",
   "metadata": {},
   "source": [
    "### Look at animation: adjustment of annual mean EBM to equilibrium\n",
    "\n",
    "(not in this notebook)"
   ]
  },
  {
   "cell_type": "markdown",
   "metadata": {},
   "source": [
    "###  Example EBM using `climlab`\n",
    "\n",
    "Here is a simple example using the parameter values we just discussed.\n",
    "\n",
    "For simplicity, this model will use the **annual mean insolation**, so the forcing is steady in time.\n",
    "\n",
    "We haven't yet selected an appropriate value for the diffusivity $D$. Let's just try something and see what happens:"
   ]
  },
  {
   "cell_type": "code",
   "execution_count": 26,
   "metadata": {
    "collapsed": false
   },
   "outputs": [
    {
     "name": "stdout",
     "output_type": "stream",
     "text": [
      "climlab Process of type <class 'climlab.model.ebm.EBM_annual'>. \n",
      "State variables and domain shapes: \n",
      "  Ts: (90, 1) \n",
      "The subprocess tree: \n",
      "top: <class 'climlab.model.ebm.EBM_annual'>\n",
      "   diffusion: <class 'climlab.dynamics.diffusion.MeridionalDiffusion'>\n",
      "   LW: <class 'climlab.radiation.AplusBT.AplusBT'>\n",
      "   albedo: <class 'climlab.surface.albedo.P2Albedo'>\n",
      "   insolation: <class 'climlab.radiation.insolation.AnnualMeanInsolation'>\n",
      "\n"
     ]
    }
   ],
   "source": [
    "D = 0.1\n",
    "model = climlab.EBM_annual(A=210, B=2, D=D, a0=0.354, a2=0.25)\n",
    "print model"
   ]
  },
  {
   "cell_type": "code",
   "execution_count": 27,
   "metadata": {
    "collapsed": false
   },
   "outputs": [
    {
     "data": {
      "text/plain": [
       "{'A': 210,\n",
       " 'B': 2,\n",
       " 'D': 0.1,\n",
       " 'a0': 0.354,\n",
       " 'a2': 0.25,\n",
       " 'timestep': 350632.51200000005,\n",
       " 'water_depth': 10.0}"
      ]
     },
     "execution_count": 27,
     "metadata": {},
     "output_type": "execute_result"
    }
   ],
   "source": [
    "model.param"
   ]
  },
  {
   "cell_type": "code",
   "execution_count": 28,
   "metadata": {
    "collapsed": false
   },
   "outputs": [
    {
     "name": "stdout",
     "output_type": "stream",
     "text": [
      "Integrating for 900 steps, 3652.422 days, or 10 years.\n",
      "Total elapsed time is 10.0 years.\n"
     ]
    }
   ],
   "source": [
    "model.integrate_years(10)"
   ]
  },
  {
   "cell_type": "code",
   "execution_count": 30,
   "metadata": {
    "collapsed": false
   },
   "outputs": [
    {
     "data": {
      "text/plain": [
       "<matplotlib.legend.Legend at 0x1134988d0>"
      ]
     },
     "execution_count": 30,
     "metadata": {},
     "output_type": "execute_result"
    },
    {
     "data": {
      "image/png": "[encoded data removed]",
      "text/plain": [
       "<matplotlib.figure.Figure at 0x1137fd6d0>"
      ]
     },
     "metadata": {},
     "output_type": "display_data"
    },
    {
     "data": {
      "image/png": "[encoded data removed]",
      "text/plain": [
       "<matplotlib.figure.Figure at 0x114642d90>"
      ]
     },
     "metadata": {},
     "output_type": "display_data"
    }
   ],
   "source": [
    "plt.figure()\n",
    "plt.plot(model.lat, model.state['Ts'], label=('D = %0.1f' %D))\n",
    "plt.plot(lat_ncep, Ts_ncep_annual, label='obs')\n",
    "plt.ylabel('Temperature (degC)')\n",
    "plt.legend()\n",
    "\n",
    "plt.figure()\n",
    "energy_in = np.squeeze(model.diagnostics['ASR'] - model.diagnostics['OLR'])\n",
    "plt.plot(model.lat, energy_in, label=('D = %0.1f' %D))\n",
    "plt.plot(lat_ncep, ASR_ncep_annual - OLR_ncep_annual, label='obs')\n",
    "plt.ylabel('Net downwelling radiation at TOA (W m$^{-2}$)')\n",
    "plt.legend()"
   ]
  },
  {
   "cell_type": "code",
   "execution_count": 31,
   "metadata": {
    "collapsed": false
   },
   "outputs": [],
   "source": [
    "def inferred_heat_transport( energy_in, lat_deg ):\n",
    "    '''Returns the inferred heat transport (in PW) by integrating the net energy imbalance from pole to pole.'''\n",
    "    from scipy import integrate\n",
    "    from climlab import constants as const\n",
    "    lat_rad = np.deg2rad( lat_deg )\n",
    "    return ( 1E-15 * 2 * np.math.pi * const.a**2 * \n",
    "            integrate.cumtrapz( np.cos(lat_rad)*energy_in,\n",
    "            x=lat_rad, initial=0. ) )"
   ]
  },
  {
   "cell_type": "code",
   "execution_count": 32,
   "metadata": {
    "collapsed": false
   },
   "outputs": [
    {
     "data": {
      "text/plain": [
       "<matplotlib.legend.Legend at 0x11336b450>"
      ]
     },
     "execution_count": 32,
     "metadata": {},
     "output_type": "execute_result"
    },
    {
     "data": {
      "image/png": "[encoded data removed]",
      "text/plain": [
       "<matplotlib.figure.Figure at 0x11467d110>"
      ]
     },
     "metadata": {},
     "output_type": "display_data"
    }
   ],
   "source": [
    "plt.plot(model.lat, inferred_heat_transport(energy_in, model.lat), label=('D = %0.1f' %D))\n",
    "plt.ylabel('Heat transport (PW)')\n",
    "plt.legend()"
   ]
  },
  {
   "cell_type": "markdown",
   "metadata": {},
   "source": [
    "The upshot: compared to observations, this model has a much too large equator-to-pole temperature gradient, and not enough poleward heat transport!\n",
    "\n",
    "Apparently we need to increase the diffusivity to get a better fit."
   ]
  },
  {
   "cell_type": "markdown",
   "metadata": {},
   "source": [
    "____________\n",
    "<a id='section7'></a>\n",
    "\n",
    "## 7. Effects of diffusivity in the annual mean EBM\n",
    "____________\n"
   ]
  },
  {
   "cell_type": "markdown",
   "metadata": {},
   "source": [
    "### In-class investigation:\n",
    "\n",
    "- Solve the annual-mean EBM (integrate out to equilibrium) over a range of different diffusivity parameters.\n",
    "- Make three plots:\n",
    "    - Global-mean temperature as a function of $D$\n",
    "    - Equator-to-pole temperature difference $\\Delta T$ as a function of $D$\n",
    "    - Maximum poleward heat transport $\\mathcal{H}_{max}$ as a function of $D$\n",
    "- Choose a value of $D$ that gives a reasonable approximation to observations:\n",
    "    - $\\Delta T \\approx 45$ ºC\n",
    "    - $\\mathcal{H}_{max} \\approx 5.5$ PW"
   ]
  },
  {
   "cell_type": "code",
   "execution_count": null,
   "metadata": {
    "collapsed": true
   },
   "outputs": [],
   "source": []
  },
  {
   "cell_type": "markdown",
   "metadata": {},
   "source": [
    "### One possible way to do this:"
   ]
  },
  {
   "cell_type": "code",
   "execution_count": 22,
   "metadata": {
    "collapsed": true
   },
   "outputs": [],
   "source": [
    "Darray = np.arange(0., 2.05, 0.05)"
   ]
  },
  {
   "cell_type": "code",
   "execution_count": 36,
   "metadata": {
    "collapsed": false
   },
   "outputs": [],
   "source": [
    "model_list = []\n",
    "Tmean_list = []\n",
    "deltaT_list = []\n",
    "Hmax_list = []\n",
    "for D in Darray:\n",
    "    ebm = climlab.EBM_annual(A=210, B=2, a0=0.354, a2=0.25, D=D)\n",
    "    ebm.integrate_years(20., verbose=False)\n",
    "    Tmean = ebm.global_mean_temperature()\n",
    "    deltaT = np.max(ebm.Ts) - np.min(ebm.Ts)\n",
    "    energy_in = np.squeeze(ebm.timeave['ASR'] - ebm.timeave['OLR'])\n",
    "    Htrans = inferred_heat_transport(energy_in, ebm.lat)\n",
    "    Hmax = np.max(Htrans)\n",
    "    model_list.append(ebm)\n",
    "    Tmean_list.append(Tmean)\n",
    "    deltaT_list.append(deltaT)\n",
    "    Hmax_list.append(Hmax)"
   ]
  },
  {
   "cell_type": "code",
   "execution_count": 37,
   "metadata": {
    "collapsed": false
   },
   "outputs": [
    {
     "data": {
      "text/plain": [
       "[<matplotlib.lines.Line2D at 0x113d97c10>]"
      ]
     },
     "execution_count": 37,
     "metadata": {},
     "output_type": "execute_result"
    },
    {
     "data": {
      "image/png": "[encoded data removed]",
      "text/plain": [
       "<matplotlib.figure.Figure at 0x1132b03d0>"
      ]
     },
     "metadata": {},
     "output_type": "display_data"
    }
   ],
   "source": [
    "color1 = 'b'\n",
    "color2 = 'r'\n",
    "\n",
    "fig = plt.figure(figsize=(8,6))\n",
    "ax1 = fig.add_subplot(111)\n",
    "ax1.plot(Darray, deltaT_list, color=color1)\n",
    "ax1.plot(Darray, Tmean_list, color='k')\n",
    "ax1.set_xlabel('D (W m$^{-2}$ K$^{-1}$)', fontsize=14)\n",
    "ax1.set_xticks(np.arange(Darray[0], Darray[-1], 0.2))\n",
    "ax1.set_ylabel('$\\Delta T$ (equator to pole)', fontsize=14,  color=color1)\n",
    "for tl in ax1.get_yticklabels():\n",
    "    tl.set_color(color1)\n",
    "ax2 = ax1.twinx()\n",
    "ax2.plot(Darray, Hmax_list, color=color2)\n",
    "ax2.set_ylabel('Maximum poleward heat transport (PW)', fontsize=14, color=color2)\n",
    "for tl in ax2.get_yticklabels():\n",
    "    tl.set_color(color2)\n",
    "ax1.set_title('Effect of diffusivity on temperature gradient and heat transport in the EBM', fontsize=16)\n",
    "ax1.grid()\n",
    "\n",
    "ax1.plot([0.6, 0.6], [0, 140], 'k-')"
   ]
  },
  {
   "cell_type": "markdown",
   "metadata": {},
   "source": [
    "When $D=0$, every latitude is in radiative equilibrium and the heat transport is zero. As we have already seen, this gives an equator-to-pole temperature gradient much too high.\n",
    "\n",
    "When $D$ is **large**, the model is very efficient at moving heat poleward. The heat transport is large and the temperture gradient is weak.\n",
    "\n",
    "The real climate seems to lie in a sweet spot in between these limits.\n",
    "\n",
    "It looks like our fitting criteria are met reasonably well with $D=0.6$ W m$^{-2}$ K$^{-1}$"
   ]
  },
  {
   "cell_type": "markdown",
   "metadata": {},
   "source": [
    "____________\n",
    "<a id='section8'></a>\n",
    "\n",
    "## 8. Summary: parameter values in the diffusive EBM\n",
    "____________\n",
    "\n",
    "Our model is defined by the following equation\n",
    "\n",
    "$$ C \\frac{\\partial T_s}{\\partial t} = (1-\\alpha) ~ Q - \\left( A + B~T_s \\right) + \\frac{D}{\\cos⁡\\phi } \\frac{\\partial }{\\partial \\phi} \\left(   \\cos⁡\\phi  ~ \\frac{\\partial T_s}{\\partial \\phi} \\right) $$\n",
    "\n",
    "with the albedo given by\n",
    "\n",
    "$$ \\alpha(\\phi) = \\alpha_0 + \\alpha_2 P_2(\\sin\\phi) $$\n"
   ]
  },
  {
   "cell_type": "markdown",
   "metadata": {},
   "source": [
    "We have chosen the following parameter values, which seems to give a reasonable fit to the observed **annual mean temperature and energy budget**:\n",
    "\n",
    "- $ A = 210 ~ \\text{W m}^{-2}$\n",
    "- $ B = 2 ~ \\text{W m}^{-2}~^\\circ\\text{C}^{-1} $\n",
    "- $ a_0 = 0.354$\n",
    "- $ a_2 = 0.25$\n",
    "- $ D = 0.6 ~ \\text{W m}^{-2}~^\\circ\\text{C}^{-1} $"
   ]
  },
  {
   "cell_type": "markdown",
   "metadata": {},
   "source": [
    "There is one parameter left to choose: the heat capacity $C$. We can't use the annual mean energy budget and temperatures to guide this choice.\n",
    "\n",
    "[Why?]\n",
    "\n",
    "We will instead look at seasonally varying models in the next set of notes."
   ]
  },
  {
   "cell_type": "markdown",
   "metadata": {},
   "source": [
    "<div class=\"alert alert-success\">\n",
    "[Back to ATM 623 notebook home](../index.ipynb)\n",
    "</div>"
   ]
  },
  {
   "cell_type": "markdown",
   "metadata": {},
   "source": [
    "____________\n",
    "## Credits\n",
    "\n",
    "The author of this notebook is [Brian E. J. Rose](http://www.atmos.albany.edu/facstaff/brose/index.html), University at Albany.\n",
    "\n",
    "It was developed in support of [ATM 623: Climate Modeling](http://www.atmos.albany.edu/facstaff/brose/classes/ATM623_Spring2015/), a graduate-level course in the [Department of Atmospheric and Envionmental Sciences](http://www.albany.edu/atmos/index.php), offered in Spring 2015.\n",
    "____________"
   ]
  },
  {
   "cell_type": "markdown",
   "metadata": {},
   "source": [
    "____________\n",
    "## Version information\n",
    "____________\n"
   ]
  },
  {
   "cell_type": "code",
   "execution_count": 25,
   "metadata": {
    "collapsed": false
   },
   "outputs": [
    {
     "name": "stdout",
     "output_type": "stream",
     "text": [
      "Installed version_information.py. To use it, type:\n",
      "  %load_ext version_information\n"
     ]
    },
    {
     "data": {
      "application/json": {
       "Software versions": [
        {
         "module": "Python",
         "version": "2.7.9 64bit [GCC 4.2.1 (Apple Inc. build 5577)]"
        },
        {
         "module": "IPython",
         "version": "3.1.0"
        },
        {
         "module": "OS",
         "version": "Darwin 13.4.0 x86_64 i386 64bit"
        },
        {
         "module": "numpy",
         "version": "1.9.2"
        },
        {
         "module": "climlab",
         "version": "0.2.7"
        }
       ]
      },
      "text/html": [
       "<table><tr><th>Software</th><th>Version</th></tr><tr><td>Python</td><td>2.7.9 64bit [GCC 4.2.1 (Apple Inc. build 5577)]</td></tr><tr><td>IPython</td><td>3.1.0</td></tr><tr><td>OS</td><td>Darwin 13.4.0 x86_64 i386 64bit</td></tr><tr><td>numpy</td><td>1.9.2</td></tr><tr><td>climlab</td><td>0.2.7</td></tr><tr><td colspan='2'>Thu Apr 09 14:36:48 2015 EDT</td></tr></table>"
      ],
      "text/latex": [
       "\\begin{tabular}{|l|l|}\\hline\n",
       "{\\bf Software} & {\\bf Version} \\\\ \\hline\\hline\n",
       "Python & 2.7.9 64bit [GCC 4.2.1 (Apple Inc. build 5577)] \\\\ \\hline\n",
       "IPython & 3.1.0 \\\\ \\hline\n",
       "OS & Darwin 13.4.0 x86\\_64 i386 64bit \\\\ \\hline\n",
       "numpy & 1.9.2 \\\\ \\hline\n",
       "climlab & 0.2.7 \\\\ \\hline\n",
       "\\hline \\multicolumn{2}{|l|}{Thu Apr 09 14:36:48 2015 EDT} \\\\ \\hline\n",
       "\\end{tabular}\n"
      ],
      "text/plain": [
       "Software versions\n",
       "Python 2.7.9 64bit [GCC 4.2.1 (Apple Inc. build 5577)]\n",
       "IPython 3.1.0\n",
       "OS Darwin 13.4.0 x86_64 i386 64bit\n",
       "numpy 1.9.2\n",
       "climlab 0.2.7\n",
       "Thu Apr 09 14:36:48 2015 EDT"
      ]
     },
     "execution_count": 25,
     "metadata": {},
     "output_type": "execute_result"
    }
   ],
   "source": [
    "%install_ext http://raw.github.com/jrjohansson/version_information/master/version_information.py\n",
    "%load_ext version_information\n",
    "%version_information numpy, climlab"
   ]
  },
  {
   "cell_type": "code",
   "execution_count": 33,
   "metadata": {
    "collapsed": false
   },
   "outputs": [
    {
     "name": "stdout",
     "output_type": "stream",
     "text": [
      "climlab Process of type <class 'climlab.model.ebm.EBM_annual'>. \n",
      "State variables and domain shapes: \n",
      "  Ts: (90, 1) \n",
      "The subprocess tree: \n",
      "top: <class 'climlab.model.ebm.EBM_annual'>\n",
      "   diffusion: <class 'climlab.dynamics.diffusion.MeridionalDiffusion'>\n",
      "   LW: <class 'climlab.radiation.AplusBT.AplusBT'>\n",
      "   albedo: <class 'climlab.surface.albedo.P2Albedo'>\n",
      "   insolation: <class 'climlab.radiation.insolation.AnnualMeanInsolation'>\n",
      "\n"
     ]
    }
   ],
   "source": [
    "print model"
   ]
  },
  {
   "cell_type": "code",
   "execution_count": 34,
   "metadata": {
    "collapsed": false
   },
   "outputs": [
    {
     "ename": "AttributeError",
     "evalue": "'EBM_annual' object has no attribute 'phi'",
     "output_type": "error",
     "traceback": [
      "\u001b[0;31m---------------------------------------------------------------------------\u001b[0m",
      "\u001b[0;31mAttributeError\u001b[0m                            Traceback (most recent call last)",
      "\u001b[0;32m<ipython-input-34-d7000559528f>\u001b[0m in \u001b[0;36m<module>\u001b[0;34m()\u001b[0m\n\u001b[0;32m----> 1\u001b[0;31m \u001b[0mmodel\u001b[0m\u001b[0;34m.\u001b[0m\u001b[0minferred_heat_transport\u001b[0m\u001b[0;34m(\u001b[0m\u001b[0;34m)\u001b[0m\u001b[0;34m\u001b[0m\u001b[0m\n\u001b[0m",
      "\u001b[0;32m/Users/Brian/climlab/climlab/model/ebm.py\u001b[0m in \u001b[0;36minferred_heat_transport\u001b[0;34m(self)\u001b[0m\n\u001b[1;32m     79\u001b[0m     \u001b[0;32mdef\u001b[0m \u001b[0minferred_heat_transport\u001b[0m\u001b[0;34m(\u001b[0m \u001b[0mself\u001b[0m \u001b[0;34m)\u001b[0m\u001b[0;34m:\u001b[0m\u001b[0;34m\u001b[0m\u001b[0m\n\u001b[1;32m     80\u001b[0m         \u001b[0;34m'''Returns the inferred heat transport (in PW) by integrating the TOA energy imbalance from pole to pole.'''\u001b[0m\u001b[0;34m\u001b[0m\u001b[0m\n\u001b[0;32m---> 81\u001b[0;31m         \u001b[0mphi\u001b[0m \u001b[0;34m=\u001b[0m \u001b[0mself\u001b[0m\u001b[0;34m.\u001b[0m\u001b[0mphi\u001b[0m\u001b[0;34m\u001b[0m\u001b[0m\n\u001b[0m\u001b[1;32m     82\u001b[0m         \u001b[0menergy_in\u001b[0m \u001b[0;34m=\u001b[0m \u001b[0mself\u001b[0m\u001b[0;34m.\u001b[0m\u001b[0mdiagnostics\u001b[0m\u001b[0;34m[\u001b[0m\u001b[0;34m'net_radiation'\u001b[0m\u001b[0;34m]\u001b[0m\u001b[0;34m\u001b[0m\u001b[0m\n\u001b[1;32m     83\u001b[0m         return ( 1E-15*2* np.math.pi*const.a**2 * \n",
      "\u001b[0;31mAttributeError\u001b[0m: 'EBM_annual' object has no attribute 'phi'"
     ]
    }
   ],
   "source": [
    "model.inferred_heat_transport()"
   ]
  },
  {
   "cell_type": "code",
   "execution_count": null,
   "metadata": {
    "collapsed": true
   },
   "outputs": [],
   "source": []
  }
 ],
 "metadata": {
  "kernelspec": {
   "display_name": "Python 2",
   "language": "python",
   "name": "python2"
  },
  "language_info": {
   "codemirror_mode": {
    "name": "ipython",
    "version": 2
   },
   "file_extension": ".py",
   "mimetype": "text/x-python",
   "name": "python",
   "nbconvert_exporter": "python",
   "pygments_lexer": "ipython2",
   "version": "2.7.9"
  }
 },
 "nbformat": 4,
 "nbformat_minor": 0
}
