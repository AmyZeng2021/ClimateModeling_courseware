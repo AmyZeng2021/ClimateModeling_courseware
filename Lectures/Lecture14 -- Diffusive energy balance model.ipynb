{
 "cells": [
  {
   "cell_type": "markdown",
   "metadata": {},
   "source": [
    "# [ATM 623: Climate Modeling](../index.ipynb)\n",
    "[Brian E. J. Rose](http://www.atmos.albany.edu/facstaff/brose/index.html), University at Albany\n",
    "# Lecture 14: The one-dimensional energy balance model"
   ]
  },
  {
   "cell_type": "markdown",
   "metadata": {},
   "source": [
    "## Contents\n",
    "\n",
    "1. [First section title](#section1)"
   ]
  },
  {
   "cell_type": "code",
   "execution_count": null,
   "metadata": {
    "collapsed": true
   },
   "outputs": [],
   "source": []
  },
  {
   "cell_type": "markdown",
   "metadata": {},
   "source": [
    "____________\n",
    "<a id='section1'></a>\n",
    "\n",
    "## 1. Simulation versus parameterization of heat transport\n",
    "____________\n"
   ]
  },
  {
   "cell_type": "markdown",
   "metadata": {},
   "source": [
    "In the previous lectures we have seen how heat transport by winds and ocean currents acts to COOL the tropics and WARM the poles. The observed temperature gradient is a product of both the insolation and the heat transport!\n",
    "\n",
    "We were able to ignore this issue in our models of the global mean temperature, because the transport just moves energy around between latitude bands – does not create or destroy energy.\n",
    "\n",
    "But if want to move beyond the global mean and create models of the equator-to-pole temperature structure, we cannot ignore heat transport. Has to be included somehow!\n",
    "\n",
    "This leads to us the old theme of **simulation versus parameterization**.\n",
    "\n",
    "Complex climate models like the CESM simulate the heat transport by solving the full equations of motion for the atmosphere (and ocean too, if coupled)."
   ]
  },
  {
   "cell_type": "markdown",
   "metadata": {},
   "source": [
    "### Simulation of synoptic-scale variability in CESM\n",
    "\n",
    "Let's revisit an animation of the global 6-hourly sea-level pressure field from our slab ocean simulation with CESM. (We first saw this [back in Lecture 4](Lecture04 -- Climate system components.ipynb)) "
   ]
  },
  {
   "cell_type": "code",
   "execution_count": 1,
   "metadata": {
    "collapsed": false
   },
   "outputs": [
    {
     "data": {
      "text/html": [
       "\n",
       "        <iframe\n",
       "            width=\"400\"\n",
       "            height=\"300\"\n",
       "            src=\"https://www.youtube.com/embed/As85L34fKYQ\"\n",
       "            frameborder=\"0\"\n",
       "            allowfullscreen\n",
       "        ></iframe>\n",
       "        "
      ],
      "text/plain": [
       "<IPython.lib.display.YouTubeVideo at 0x1056ae990>"
      ]
     },
     "execution_count": 1,
     "metadata": {},
     "output_type": "execute_result"
    }
   ],
   "source": [
    "from IPython.display import YouTubeVideo\n",
    "YouTubeVideo('As85L34fKYQ')"
   ]
  },
  {
   "cell_type": "markdown",
   "metadata": {},
   "source": [
    "All these traveling weather systems tend to move **warm, moist air poleward** and **cold, dry air equatorward**. There is thus a **net poleward energy transport**.\n",
    "\n",
    "A model like this needs to **simulate the weather** in order to **model the heat transport**.  "
   ]
  },
  {
   "cell_type": "markdown",
   "metadata": {},
   "source": [
    "### A simpler statistical approach\n",
    "\n",
    "Let’s emphasize: the most important role for heat transport by winds and ocean currents is to more energy from where it’s WARM to where it’s COLD, thereby reducing the temperature gradient (equator to pole) from what it would be if the planet were in radiative-convective equilibrium everywhere with no north-south motion.\n",
    "\n",
    "This is the basis for the parameterization of heat transport often used in simple climate models.\n",
    "\n",
    "Discuss analogy with molecular heat conduction: metal rod with one end in the fire.\n",
    "\n",
    "Define carefully temperature gradient dTs / dy\n",
    "Measures how quickly the temperature  decreases as we move northward\n",
    "(negative in NH, positive in SH)\n",
    "\n",
    "In any conduction or diffusion process, the flux (transport) of a quantity is always DOWN-gradient  (from WARM to COLD).\n",
    "\n",
    "So our parameterization will look like\n",
    "\n",
    "H = -K dT / dy\n",
    "\n",
    "Where K is some positive number “diffusivity of the climate system”.\n",
    "\n"
   ]
  },
  {
   "cell_type": "markdown",
   "metadata": {},
   "source": [
    "____________\n",
    "<a id='section2'></a>\n",
    "\n",
    "## 2. The temperature diffusion parameterization\n",
    "____________\n",
    "\n"
   ]
  },
  {
   "cell_type": "markdown",
   "metadata": {},
   "source": [
    "Last time we wrote down an energy budget for a thin zonal band centered at latitude $\\phi$:\n",
    "\n",
    "$$ \\frac{\\partial E(\\phi)}{\\partial t} = \\text{ASR}(\\phi) - \\text{OLR}(\\phi) - \\frac{1}{2 \\pi a^2  \\cos⁡\\phi } \\frac{\\partial \\mathcal{H}}{\\partial \\phi} $$\n",
    "\n",
    "where we have written every term as an explicit function of latitude to remind ourselves that this is a **local** budget, unlike the zero-dimensional global budget we considered at the start of the course."
   ]
  },
  {
   "cell_type": "markdown",
   "metadata": {},
   "source": [
    "Let’s now formally introduce a parameterization that **approximates the heat transport as a down-gradient diffusion process**:\n",
    "\n",
    "$$ \\mathcal{H}(\\phi) \\approx -2 \\pi a^2  \\cos⁡\\phi ~ K ~ \\frac{\\partial T_s}{\\partial \\phi} $$\n",
    "\n",
    "With $K$ a parameter for the **diffusivity** or **thermal conductivity** of the climate system, a number in W m$^{-2}$ ºC$^{-1}$.\n",
    "\n",
    "The value of $K$ will be chosen to match observations – i.e. tuned.\n",
    "\n",
    "Notice that we have explicitly chosen to the use **surface temperature gradient** to set the heat transport. This is a convenient (and traditional) choice to make, but it is not the only possibility! We could instead tune our parameterization to some measure of the free-tropospheric temperature gradient."
   ]
  },
  {
   "cell_type": "markdown",
   "metadata": {},
   "source": [
    "### The diffusive parameterization in the planetary energy budget\n",
    "\n",
    "Plug the parameterization into our energy budget to get\n",
    "\n",
    "$$ \\frac{\\partial E(\\phi)}{\\partial t} = \\text{ASR}(\\phi) - \\text{OLR}(\\phi) - \\frac{1}{2 \\pi a^2  \\cos⁡\\phi } \\frac{\\partial }{\\partial \\phi} \\left( -2 \\pi a^2  \\cos⁡\\phi ~ K ~ \\frac{\\partial T_s}{\\partial \\phi} \\right) $$\n",
    "\n",
    "If we assume that $K$ is a constant (does not vary with latitude), then this simplifies to\n",
    "\n",
    "$$ \\frac{\\partial E(\\phi)}{\\partial t} = \\text{ASR}(\\phi) - \\text{OLR}(\\phi) + \\frac{K}{\\cos⁡\\phi } \\frac{\\partial }{\\partial \\phi} \\left(   \\cos⁡\\phi  ~ \\frac{\\partial T_s}{\\partial \\phi} \\right) $$\n"
   ]
  },
  {
   "cell_type": "markdown",
   "metadata": {},
   "source": [
    "### Surface temperature is a good measure of column heat content\n",
    "\n",
    "Let's now make the same assumption we made [back at the beginning of the course](Lecture01 -- Planetary energy budget.ipynb) when we first wrote down the zero-dimensional EBM.  *Most of the heat capacity is in the oceans, so that the energy content of each column $E$ is proportional to surface temperature*:\n",
    "\n",
    "$$ E(\\phi) = C(\\phi) ~ T_s(\\phi) $$\n",
    "\n",
    "where $C$ is **effective heat capacity** of the atmosphere - ocean column, in units of J m$^{-2}$ K$^{-1}$. Here we are writing $C$ are a function of latitude so that our model is general enough to allow different land-ocean fractions at different latitudes.\n",
    "\n"
   ]
  },
  {
   "cell_type": "markdown",
   "metadata": {},
   "source": [
    "### A heat equation for surface temperature\n",
    "\n",
    "Now our budget becomes a PDE for the surface temperature $T_s(\\phi, t)$:\n",
    "\n",
    "$$ C(\\phi) \\frac{\\partial T_s}{\\partial t} = \\text{ASR}(\\phi) - \\text{OLR}(\\phi) + \\frac{K}{\\cos⁡\\phi } \\frac{\\partial }{\\partial \\phi} \\left(   \\cos⁡\\phi  ~ \\frac{\\partial T_s}{\\partial \\phi} \\right) $$\n",
    "\n",
    "Notice that if we were NOT on a spherical planet and didn’t have to worry about the changing size of latitude circles, this would look something like\n",
    "\n",
    "$$ \\frac{\\partial T}{\\partial t} = K^* \\frac{\\partial^2 T}{\\partial y^2} + \\text{forcing terms} $$\n",
    "with $K^* = K/C$ in m$^{2}$ s$^{-1}$.\n",
    "\n",
    "This is the “heat equation”, one of the central equations in classical mathematical physics. This equation describes the behavior of a diffusive system, i.e. how mixing by random molecular motion smears out the temperature. In our case, the analogy is between the random molecular motion of a metal rod, and the net mixing / stirring effect of weather systems.\n"
   ]
  },
  {
   "cell_type": "markdown",
   "metadata": {},
   "source": [
    "### Take the global average...\n",
    "\n",
    "Take the integral $\\int_{-\\pi/2}^{\\pi/2} \\cos\\phi ~ d\\phi$ of each term.\n",
    "\n",
    "\n",
    "$$ C \\frac{\\partial \\overline{T_s}}{\\partial t} d\\phi = \\overline{\\text{ASR}} - \\overline{\\text{OLR}} + K \\int_{-\\pi/2}^{\\pi/2} \\frac{\\partial }{\\partial \\phi} \\left(   \\cos⁡\\phi  ~ \\frac{\\partial T_s}{\\partial \\phi} \\right) d\\phi$$\n",
    "\n",
    "The global average of the last term (heat transport) must go to zero (why?)\n",
    "\n",
    "Therefore this reduces to our familiar zero-dimensional EBM.\n"
   ]
  },
  {
   "cell_type": "markdown",
   "metadata": {},
   "source": [
    "____________\n",
    "<a id='section3'></a>\n",
    "\n",
    "## 3. Solving the temperature diffusion equation with `climlab`\n",
    "____________\n"
   ]
  },
  {
   "cell_type": "markdown",
   "metadata": {},
   "source": [
    "`climlab` has a pre-defined process for solving the meridional diffusion equation. Let's look at a simple example in which diffusion is the ONLY process that changes the temperature."
   ]
  },
  {
   "cell_type": "code",
   "execution_count": 1,
   "metadata": {
    "collapsed": true
   },
   "outputs": [],
   "source": [
    "%matplotlib inline\n",
    "import numpy as np\n",
    "import matplotlib.pyplot as plt\n",
    "import netCDF4 as nc\n",
    "import climlab\n",
    "from climlab import constants as const"
   ]
  },
  {
   "cell_type": "code",
   "execution_count": 40,
   "metadata": {
    "collapsed": false
   },
   "outputs": [
    {
     "data": {
      "text/plain": [
       "[<matplotlib.lines.Line2D at 0x1118d0950>]"
      ]
     },
     "execution_count": 40,
     "metadata": {},
     "output_type": "execute_result"
    },
    {
     "data": {
      "image/png": "[encoded data removed]",
      "text/plain": [
       "<matplotlib.figure.Figure at 0x111781250>"
      ]
     },
     "metadata": {},
     "output_type": "display_data"
    }
   ],
   "source": [
    "#  First define an initial temperature field\n",
    "#   that is warm at the equator and cold at the poles\n",
    "#   and varies smoothly with latitude in between\n",
    "\n",
    "from climlab.utils import legendre\n",
    "sfc = climlab.domain.zonal_mean_surface(num_lat=90, water_depth=10.)\n",
    "lat = sfc.lat.points\n",
    "initial = 12. - 40. * legendre.P2(np.sin(np.deg2rad(lat)))\n",
    "\n",
    "plt.plot(lat, initial)"
   ]
  },
  {
   "cell_type": "code",
   "execution_count": 43,
   "metadata": {
    "collapsed": false
   },
   "outputs": [
    {
     "name": "stdout",
     "output_type": "stream",
     "text": [
      "climlab Process of type <class 'climlab.dynamics.diffusion.MeridionalDiffusion'>. \n",
      "State variables and domain shapes: \n",
      "  default: (90, 1) \n",
      "The subprocess tree: \n",
      "top: <class 'climlab.dynamics.diffusion.MeridionalDiffusion'>\n",
      "\n"
     ]
    }
   ],
   "source": [
    "##  Set up the climlab diffusion process\n",
    "\n",
    "# make a copy of initial so that it remains unmodified\n",
    "Ts = climlab.Field(np.array(initial), domain=sfc)\n",
    "# thermal diffusivity in W/m**2/degC\n",
    "D = 0.55\n",
    "# meridional diffusivity in 1/s\n",
    "K = D / sfc.heat_capacity\n",
    "# create the climlab diffusion process\n",
    "#  setting the diffusivity and a timestep of ONE MONTH\n",
    "from climlab.dynamics.diffusion import MeridionalDiffusion\n",
    "d = MeridionalDiffusion(state=Ts, K=K, timestep=const.seconds_per_month)\n",
    "\n",
    "print d"
   ]
  },
  {
   "cell_type": "code",
   "execution_count": 44,
   "metadata": {
    "collapsed": true
   },
   "outputs": [],
   "source": [
    "#  We are going to step forward one month at a time\n",
    "#  and store the temperature each time\n",
    "niter = 5\n",
    "temp = np.zeros((Ts.size, niter+1))\n",
    "temp[:, 0] = np.squeeze(Ts)\n",
    "for n in range(niter):\n",
    "    d.step_forward()\n",
    "    temp[:, n+1] = np.squeeze(Ts)"
   ]
  },
  {
   "cell_type": "code",
   "execution_count": 45,
   "metadata": {
    "collapsed": false
   },
   "outputs": [
    {
     "data": {
      "text/plain": [
       "<matplotlib.legend.Legend at 0x1109bad10>"
      ]
     },
     "execution_count": 45,
     "metadata": {},
     "output_type": "execute_result"
    },
    {
     "data": {
      "image/png": "[encoded data removed]",
      "text/plain": [
       "<matplotlib.figure.Figure at 0x1109ba990>"
      ]
     },
     "metadata": {},
     "output_type": "display_data"
    }
   ],
   "source": [
    "#  Now plot the temperatures\n",
    "plt.plot(lat, temp)\n",
    "plt.legend(range(niter+1))"
   ]
  },
  {
   "cell_type": "markdown",
   "metadata": {},
   "source": [
    "At each timestep, the warm temperatures get cooler (at the equator) while the cold polar temperatures get warmer!\n",
    "\n",
    "Diffusion is acting to **reduce the temperature gradient**.\n",
    "\n",
    "If we let this run a long time, what should happen??\n",
    "\n",
    "Try it yourself and find out!"
   ]
  },
  {
   "cell_type": "markdown",
   "metadata": {},
   "source": [
    "____________\n",
    "<a id='section4'></a>\n",
    "\n",
    "## 4. Parameterizing the radiation terms\n",
    "____________\n",
    "\n",
    "\n",
    "Let's go back to the complete budget with our heat transport parameterization\n",
    "\n",
    "$$ C(\\phi) \\frac{\\partial T_s}{\\partial t} = \\text{ASR}(\\phi) - \\text{OLR}(\\phi) + \\frac{K}{\\cos⁡\\phi } \\frac{\\partial }{\\partial \\phi} \\left(   \\cos⁡\\phi  ~ \\frac{\\partial T_s}{\\partial \\phi} \\right) $$\n",
    "\n",
    "We want to express this **as a closed equation for surface temperature $T_s$**.\n",
    "\n",
    "First, as usual, we can write the solar term as\n",
    "\n",
    "$$ \\text{ASR} = (1-\\alpha) ~ Q $$"
   ]
  },
  {
   "cell_type": "markdown",
   "metadata": {},
   "source": [
    "Note that the solar term is (at least in annual average) larger at equator than poles… and transport term acts to flatten out the temperatures.\n",
    "\n",
    "Now, we almost have a model we can solve for T!  Just need to express the OLR in terms of temperature.\n",
    "\n",
    "So…  what’s the link between OLR and temperature????\n",
    "\n",
    "[ discuss ]\n",
    "\n",
    "we spent a good chunk of the course looking at this question, and developed a model of a vertical column of air.\n",
    "\n",
    "We are trying now to build a model of the equator-to-pole (or pole-to-pole) temperature structure.\n",
    "\n",
    "We COULD use an array of column models, representing temperature as a function of height and latitude (and time).\n",
    "\n",
    "But instead, we will keep things simple, one spatial dimension at a time.\n",
    "\n",
    "Introduce the following simple parameterization:\n",
    "\n",
    "$$ OLR = A + B T_s $$\n",
    "\n",
    "With $T_s$ the zonal average surface temperature in ºC, A is a constant in W m$^{-2}$ and B is a constant in W m$^{-2}$ ºC$^{-1}$. \n",
    "\n"
   ]
  },
  {
   "cell_type": "markdown",
   "metadata": {},
   "source": [
    "Go to notebook with OLR and temperature from NCEP reanalysis.\n",
    "\n",
    "Fit a straight line through the scatterplot,\n",
    "A = 210 W m-2\n",
    "B = 2 W m-2 ºC-1\n",
    "\n",
    "Note that in the global average, recall T = 288 K = 15ºC\n",
    "And so this parameterization gives OLR = 210 + 15*2 = 240 W m-2\n",
    "And the observed global mean OLR = 239 W m-2\n",
    "So this is consistent.\n",
    "\n",
    "\n"
   ]
  },
  {
   "cell_type": "markdown",
   "metadata": {},
   "source": [
    "Back to our model:\n",
    "C  (∂T(ϕ,t))/∂t=(1-α)Q(ϕ,t)- (A+B T(ϕ,t))+K/cos⁡ϕ   ∂/∂ϕ [cos⁡ϕ  ∂T/∂ϕ]\n",
    "\n",
    "Recap: parameters in this model are\n",
    "C: heat capacity in J m-2 ºC-1\n",
    "A: longwave emission at 0ºC in W m-2\n",
    "B: increase in emission per degree, in W m-2 ºC-1\n",
    "K: horizontal (north-south) diffusivity of the climate system in W m-2 ºC-1\n",
    "\n",
    "This is the equation for a very important and useful simple model of the climate system. It is typically referred to as the (one-dimensional) energy balance model.\n",
    "\n",
    "(although as we have seen over and over, EVERY climate model is actually an “energy balance model” of some kind)\n",
    "\n",
    "Also for historical reasons this is often called the Budyko-Sellers model, after Budyko and Sellers who both (independently of each other) published influential papers on this subject in 1969.\n",
    "\n"
   ]
  },
  {
   "cell_type": "markdown",
   "metadata": {},
   "source": [
    "seasonal versus annual mean models"
   ]
  },
  {
   "cell_type": "markdown",
   "metadata": {},
   "source": [
    "<div class=\"alert alert-success\">\n",
    "[Back to ATM 623 notebook home](../index.ipynb)\n",
    "</div>"
   ]
  },
  {
   "cell_type": "markdown",
   "metadata": {},
   "source": [
    "____________\n",
    "## Credits\n",
    "\n",
    "The author of this notebook is [Brian E. J. Rose](http://www.atmos.albany.edu/facstaff/brose/index.html), University at Albany.\n",
    "\n",
    "It was developed in support of [ATM 623: Climate Modeling](http://www.atmos.albany.edu/facstaff/brose/classes/ATM623_Spring2015/), a graduate-level course in the [Department of Atmospheric and Envionmental Sciences](http://www.albany.edu/atmos/index.php), offered in Spring 2015.\n",
    "____________"
   ]
  },
  {
   "cell_type": "markdown",
   "metadata": {},
   "source": [
    "____________\n",
    "## Version information\n",
    "____________\n"
   ]
  },
  {
   "cell_type": "code",
   "execution_count": 1,
   "metadata": {
    "collapsed": false
   },
   "outputs": [
    {
     "name": "stdout",
     "output_type": "stream",
     "text": [
      "Installed version_information.py. To use it, type:\n",
      "  %load_ext version_information\n"
     ]
    },
    {
     "data": {
      "application/json": {
       "Software versions": [
        {
         "module": "Python",
         "version": "2.7.9 64bit [GCC 4.2.1 (Apple Inc. build 5577)]"
        },
        {
         "module": "IPython",
         "version": "3.0.0"
        },
        {
         "module": "OS",
         "version": "Darwin 13.4.0 x86_64 i386 64bit"
        },
        {
         "module": "numpy",
         "version": "1.8.1"
        },
        {
         "module": "climlab",
         "version": "0.2.4"
        }
       ]
      },
      "text/html": [
       "<table><tr><th>Software</th><th>Version</th></tr><tr><td>Python</td><td>2.7.9 64bit [GCC 4.2.1 (Apple Inc. build 5577)]</td></tr><tr><td>IPython</td><td>3.0.0</td></tr><tr><td>OS</td><td>Darwin 13.4.0 x86_64 i386 64bit</td></tr><tr><td>numpy</td><td>1.8.1</td></tr><tr><td>climlab</td><td>0.2.4</td></tr><tr><td colspan='2'>Wed Mar 25 10:39:56 2015 EDT</td></tr></table>"
      ],
      "text/latex": [
       "\\begin{tabular}{|l|l|}\\hline\n",
       "{\\bf Software} & {\\bf Version} \\\\ \\hline\\hline\n",
       "Python & 2.7.9 64bit [GCC 4.2.1 (Apple Inc. build 5577)] \\\\ \\hline\n",
       "IPython & 3.0.0 \\\\ \\hline\n",
       "OS & Darwin 13.4.0 x86\\_64 i386 64bit \\\\ \\hline\n",
       "numpy & 1.8.1 \\\\ \\hline\n",
       "climlab & 0.2.4 \\\\ \\hline\n",
       "\\hline \\multicolumn{2}{|l|}{Wed Mar 25 10:39:56 2015 EDT} \\\\ \\hline\n",
       "\\end{tabular}\n"
      ],
      "text/plain": [
       "Software versions\n",
       "Python 2.7.9 64bit [GCC 4.2.1 (Apple Inc. build 5577)]\n",
       "IPython 3.0.0\n",
       "OS Darwin 13.4.0 x86_64 i386 64bit\n",
       "numpy 1.8.1\n",
       "climlab 0.2.4\n",
       "Wed Mar 25 10:39:56 2015 EDT"
      ]
     },
     "execution_count": 1,
     "metadata": {},
     "output_type": "execute_result"
    }
   ],
   "source": [
    "%install_ext http://raw.github.com/jrjohansson/version_information/master/version_information.py\n",
    "%load_ext version_information\n",
    "%version_information numpy, climlab"
   ]
  },
  {
   "cell_type": "code",
   "execution_count": null,
   "metadata": {
    "collapsed": true
   },
   "outputs": [],
   "source": []
  }
 ],
 "metadata": {
  "kernelspec": {
   "display_name": "Python 2",
   "language": "python",
   "name": "python2"
  },
  "language_info": {
   "codemirror_mode": {
    "name": "ipython",
    "version": 2
   },
   "file_extension": ".py",
   "mimetype": "text/x-python",
   "name": "python",
   "nbconvert_exporter": "python",
   "pygments_lexer": "ipython2",
   "version": "2.7.9"
  }
 },
 "nbformat": 4,
 "nbformat_minor": 0
}
