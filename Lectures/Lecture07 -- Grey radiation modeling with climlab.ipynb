{
 "cells": [
  {
   "cell_type": "markdown",
   "metadata": {},
   "source": [
    "# [ATM 623: Climate Modeling](../index.ipynb)\n",
    "[Brian E. J. Rose](http://www.atmos.albany.edu/facstaff/brose/index.html), University at Albany\n",
    "# Lecture 7: Grey radiation modeling with climlab"
   ]
  },
  {
   "cell_type": "markdown",
   "metadata": {},
   "source": [
    "## Contents\n",
    "\n",
    "1. [Introducing `climlab`](#section1)\n",
    "2. [Using `climlab` to implement the two-layer leaky greenhouse model](#section2)\n",
    "3. [The observed annual, global mean temperature profile](#section3)\n",
    "4. [A 30-layer model using the observed temperatures](#section4)\n",
    "5. [Radiative forcing in the 30-layer model](#section5)\n",
    "6. [Radiative equilibrium in the 30-layer model](#section6)\n",
    "7. [Radiative-Convective Equilibrium in the 30-layer model](#section7)\n",
    "8. [Putting stratospheric ozone in the grey-gas model](#section8)"
   ]
  },
  {
   "cell_type": "markdown",
   "metadata": {},
   "source": [
    "____________\n",
    "<a id='section1'></a>\n",
    "\n",
    "## 1. Introducing `climlab`\n",
    "____________\n",
    "\n",
    "``climlab`` is a flexible engine for process-oriented climate modeling.\n",
    "It is based on a very general concept of a model as a collection of individual, \n",
    "interacting processes. ``climlab`` defines a base class called ``Process``, which\n",
    "can contain an arbitrarily complex tree of sub-processes (each also some \n",
    "sub-class of ``Process``). Every climate process (radiative, dynamical, \n",
    "physical, turbulent, convective, chemical, etc.) can be simulated as a stand-alone\n",
    "process model given appropriate input, or as a sub-process of a more complex model. \n",
    "New classes of model can easily be defined and run interactively by putting together an\n",
    "appropriate collection of sub-processes.\n",
    "\n",
    "``climlab`` is a work-in-progress, and the code base will evolve substantially over the course of this semester.\n",
    "The latest code can always be found on ``github``:\n",
    "\n",
    "https://github.com/brian-rose/climlab\n",
    "\n",
    "You are strongly encouraged to clone the ``climlab`` repository and use ``git`` to keep your local copy up-to-date.\n",
    "\n",
    "Running this notebook requires that ``climlab`` is already installed on your system."
   ]
  },
  {
   "cell_type": "code",
   "execution_count": 1,
   "metadata": {
    "collapsed": false
   },
   "outputs": [],
   "source": [
    "%matplotlib inline\n",
    "import numpy as np\n",
    "import matplotlib.pyplot as plt\n",
    "import netCDF4 as nc\n",
    "import climlab"
   ]
  },
  {
   "cell_type": "markdown",
   "metadata": {},
   "source": [
    "____________\n",
    "<a id='section2'></a>\n",
    "\n",
    "## 2. Using `climlab` to implement the two-layer leaky greenhouse model\n",
    "____________\n",
    "\n",
    "One of the things that ``climlab`` is set up to do is the grey-radiation modeling we have already been discussing.\n",
    "\n",
    "Since we already derived a [complete analytical solution to the two-layer leaky greenhouse model](Lecture06 -- Elementary greenhouse models.ipynb), we will use this to validate the `climlab` code.\n",
    "\n"
   ]
  },
  {
   "cell_type": "markdown",
   "metadata": {},
   "source": [
    "### Validation\n",
    "\n",
    "We want to verify that the model reproduces the observed OLR given observed temperatures, and the absorptivity that we tuned in the analytical model. The target numbers are:\n",
    "\n",
    "\\begin{align}\n",
    "T_s &= 288 \\text{ K} \\\\\n",
    "T_0 &= 275 \\text{ K} \\\\\n",
    "T_1 &= 230 \\text{ K} \\\\\n",
    "\\end{align}\n",
    "\n",
    "$$ \\epsilon = 0.58377  $$\n",
    "\n",
    "$$ OLR = 239 \\text{ W m}^{-2} $$\n"
   ]
  },
  {
   "cell_type": "markdown",
   "metadata": {},
   "source": [
    "### Initialize a model in `climlab`\n",
    "The first thing we do is create a new model.\n",
    "\n",
    "The following example code is sparsely commented but will hopefully orient you on the basics of defining and working with a `climlab Process` object."
   ]
  },
  {
   "cell_type": "code",
   "execution_count": 2,
   "metadata": {
    "collapsed": false
   },
   "outputs": [
    {
     "name": "stdout",
     "output_type": "stream",
     "text": [
      "climlab Process of type <class 'climlab.model.column.GreyRadiationModel'>. \n",
      "State variables and domain shapes: \n",
      "  Tatm: (2,) \n",
      "  Ts: (1,) \n",
      "The subprocess tree: \n",
      "top: <class 'climlab.model.column.GreyRadiationModel'>\n",
      "   LW: <class 'climlab.radiation.radiation.Radiation'>\n",
      "   SW: <class 'climlab.radiation.radiation.RadiationSW'>\n",
      "   surface: <class 'climlab.surface.surface_radiation.SurfaceRadiation'>\n",
      "   insolation: <class 'climlab.radiation.insolation.FixedInsolation'>\n",
      "\n"
     ]
    }
   ],
   "source": [
    "#  Test in a 2-layer atmosphere\n",
    "col = climlab.GreyRadiationModel(num_lev=2)\n",
    "print col"
   ]
  },
  {
   "cell_type": "code",
   "execution_count": 3,
   "metadata": {
    "collapsed": false
   },
   "outputs": [
    {
     "data": {
      "text/plain": [
       "{'LW': <climlab.radiation.radiation.Radiation at 0x1108a0290>,\n",
       " 'SW': <climlab.radiation.radiation.RadiationSW at 0x103f8d450>,\n",
       " 'insolation': <climlab.radiation.insolation.FixedInsolation at 0x103f8d310>,\n",
       " 'surface': <climlab.surface.surface_radiation.SurfaceRadiation at 0x1108a0310>}"
      ]
     },
     "execution_count": 3,
     "metadata": {},
     "output_type": "execute_result"
    }
   ],
   "source": [
    "col.subprocess"
   ]
  },
  {
   "cell_type": "code",
   "execution_count": 4,
   "metadata": {
    "collapsed": false
   },
   "outputs": [
    {
     "data": {
      "text/plain": [
       "{'Tatm': Field([ 278.,  200.]), 'Ts': Field([ 288.])}"
      ]
     },
     "execution_count": 4,
     "metadata": {},
     "output_type": "execute_result"
    }
   ],
   "source": [
    "col.state"
   ]
  },
  {
   "cell_type": "code",
   "execution_count": 5,
   "metadata": {
    "collapsed": false
   },
   "outputs": [
    {
     "data": {
      "text/plain": [
       "Field([ 288.])"
      ]
     },
     "execution_count": 5,
     "metadata": {},
     "output_type": "execute_result"
    }
   ],
   "source": [
    "col.Ts"
   ]
  },
  {
   "cell_type": "code",
   "execution_count": 6,
   "metadata": {
    "collapsed": false
   },
   "outputs": [
    {
     "data": {
      "text/plain": [
       "{'Tatm': Field([ 275.,  230.]), 'Ts': Field([ 288.])}"
      ]
     },
     "execution_count": 6,
     "metadata": {},
     "output_type": "execute_result"
    }
   ],
   "source": [
    "col.Ts[:] = 288.\n",
    "col.Tatm[:] = np.array([275., 230.])\n",
    "col.state"
   ]
  },
  {
   "cell_type": "code",
   "execution_count": 7,
   "metadata": {
    "collapsed": false
   },
   "outputs": [
    {
     "name": "stdout",
     "output_type": "stream",
     "text": [
      "climlab Process of type <class 'climlab.radiation.radiation.Radiation'>. \n",
      "State variables and domain shapes: \n",
      "  Tatm: (2,) \n",
      "  Ts: (1,) \n",
      "The subprocess tree: \n",
      "top: <class 'climlab.radiation.radiation.Radiation'>\n",
      "\n"
     ]
    }
   ],
   "source": [
    "LW = col.subprocess['LW']\n",
    "print LW"
   ]
  },
  {
   "cell_type": "code",
   "execution_count": 8,
   "metadata": {
    "collapsed": false
   },
   "outputs": [
    {
     "data": {
      "text/plain": [
       "Field([ 0.47737425,  0.47737425])"
      ]
     },
     "execution_count": 8,
     "metadata": {},
     "output_type": "execute_result"
    }
   ],
   "source": [
    "LW.absorptivity"
   ]
  },
  {
   "cell_type": "code",
   "execution_count": 9,
   "metadata": {
    "collapsed": false
   },
   "outputs": [
    {
     "data": {
      "text/plain": [
       "Field([ 0.58377,  0.58377])"
      ]
     },
     "execution_count": 9,
     "metadata": {},
     "output_type": "execute_result"
    }
   ],
   "source": [
    "LW.absorptivity = 0.58377\n",
    "LW.absorptivity"
   ]
  },
  {
   "cell_type": "code",
   "execution_count": 10,
   "metadata": {
    "collapsed": false
   },
   "outputs": [
    {
     "data": {
      "text/plain": [
       "{'ASR': Field([ 239.2513]),\n",
       " 'LW_absorbed_atm': array([-96.82138041,  20.03935568]),\n",
       " 'LW_absorbed_sfc': Field([-162.23386935]),\n",
       " 'LW_down_sfc': array([ 227.87116061]),\n",
       " 'LW_emission': Field([ 189.31461699,   92.63278385]),\n",
       " 'LW_up_sfc': Field([ 390.10502995]),\n",
       " 'OLR': array([ 239.01589408]),\n",
       " 'SW_absorbed_atm': array([-0., -0.]),\n",
       " 'SW_absorbed_sfc': Field([ 239.2513]),\n",
       " 'SW_absorbed_total': 239.25130000000001,\n",
       " 'SW_down_TOA': Field([ 341.3]),\n",
       " 'SW_down_sfc': array([ 341.3]),\n",
       " 'SW_emission': Field([ 0.,  0.]),\n",
       " 'SW_up_TOA': array([ 102.0487]),\n",
       " 'SW_up_sfc': Field([ 0.]),\n",
       " 'insolation': Field([ 341.3]),\n",
       " 'planetary_albedo': Field([ 0.299])}"
      ]
     },
     "execution_count": 10,
     "metadata": {},
     "output_type": "execute_result"
    }
   ],
   "source": [
    "#  This does all the calculations that would be performed at each time step, \n",
    "#  but doesn't actually update the temperatures\n",
    "col.compute_diagnostics()\n",
    "col.diagnostics"
   ]
  },
  {
   "cell_type": "code",
   "execution_count": 11,
   "metadata": {
    "collapsed": false
   },
   "outputs": [
    {
     "data": {
      "text/plain": [
       "array([ 239.01589408])"
      ]
     },
     "execution_count": 11,
     "metadata": {},
     "output_type": "execute_result"
    }
   ],
   "source": [
    "#  Check OLR against our analytical solution\n",
    "col.diagnostics['OLR']"
   ]
  },
  {
   "cell_type": "code",
   "execution_count": 12,
   "metadata": {
    "collapsed": false
   },
   "outputs": [
    {
     "data": {
      "text/plain": [
       "{'Tatm': Field([ 275.,  230.]), 'Ts': Field([ 288.])}"
      ]
     },
     "execution_count": 12,
     "metadata": {},
     "output_type": "execute_result"
    }
   ],
   "source": [
    "col.state"
   ]
  },
  {
   "cell_type": "code",
   "execution_count": 13,
   "metadata": {
    "collapsed": false
   },
   "outputs": [],
   "source": [
    "# perform a single time step\n",
    "col.step_forward()"
   ]
  },
  {
   "cell_type": "code",
   "execution_count": 14,
   "metadata": {
    "collapsed": false
   },
   "outputs": [
    {
     "data": {
      "text/plain": [
       "{'Tatm': Field([ 273.36692033,  230.33800245]), 'Ts': Field([ 289.59144429])}"
      ]
     },
     "execution_count": 14,
     "metadata": {},
     "output_type": "execute_result"
    }
   ],
   "source": [
    "col.state"
   ]
  },
  {
   "cell_type": "code",
   "execution_count": 15,
   "metadata": {
    "collapsed": false
   },
   "outputs": [
    {
     "name": "stdout",
     "output_type": "stream",
     "text": [
      "Integrating for 730 steps, 730.4844 days, or 2.0 years.\n",
      "Total elapsed time is 2.00962539378 years.\n"
     ]
    }
   ],
   "source": [
    "# integrate out to radiative equilibrium\n",
    "col.integrate_years(2.)"
   ]
  },
  {
   "cell_type": "code",
   "execution_count": 16,
   "metadata": {
    "collapsed": false
   },
   "outputs": [
    {
     "data": {
      "text/plain": [
       "Field([ -5.20579960e-07])"
      ]
     },
     "execution_count": 16,
     "metadata": {},
     "output_type": "execute_result"
    }
   ],
   "source": [
    "# Check for equilibrium\n",
    "col.diagnostics['ASR'] - col.diagnostics['OLR']"
   ]
  },
  {
   "cell_type": "code",
   "execution_count": 17,
   "metadata": {
    "collapsed": false
   },
   "outputs": [
    {
     "data": {
      "text/plain": [
       "{'Tatm': Field([ 262.08988341,  233.62925798]), 'Ts': Field([ 296.20384538])}"
      ]
     },
     "execution_count": 17,
     "metadata": {},
     "output_type": "execute_result"
    }
   ],
   "source": [
    "#  Compare these temperatures against our analytical solutions for radiative equilibrium\n",
    "col.state"
   ]
  },
  {
   "cell_type": "markdown",
   "metadata": {},
   "source": [
    "So it looks like `climlab` agrees with our analytical results. That's good."
   ]
  },
  {
   "cell_type": "markdown",
   "metadata": {},
   "source": [
    "____________\n",
    "<a id='section3'></a>\n",
    "\n",
    "## 3. The observed annual, global mean temperature profile\n",
    "____________\n",
    "\n",
    "We want to model the OLR in a column whose temperatures match observations. As we've done before, we'll calculate the global, annual mean air temperature from the NCEP Reanalysis data."
   ]
  },
  {
   "cell_type": "code",
   "execution_count": 18,
   "metadata": {
    "collapsed": false
   },
   "outputs": [],
   "source": [
    "# This will try to read the data over the internet.\n",
    "#  If you have a local copy of the data, just use the local path to the .nc file instead of the URL\n",
    "ncep_url = \"http://www.esrl.noaa.gov/psd/thredds/dodsC/Datasets/ncep.reanalysis.derived/\"\n",
    "ncep_air = nc.Dataset( ncep_url + \"pressure/air.mon.1981-2010.ltm.nc\" )\n",
    "level = ncep_air.variables['level'][:]\n",
    "lat = ncep_air.variables['lat'][:]\n",
    "# A log-pressure height coordinate\n",
    "zstar = -np.log(level/1000)"
   ]
  },
  {
   "cell_type": "code",
   "execution_count": 19,
   "metadata": {
    "collapsed": false
   },
   "outputs": [],
   "source": [
    "Tzon = np.mean(ncep_air.variables['air'][:],axis=(0,3))\n",
    "Tglobal = np.average( Tzon , weights=np.cos(np.deg2rad(lat)), axis=1) + climlab.constants.tempCtoK\n",
    "#  Note the useful conversion factor. climlab.constants has lots of commonly used constant pre-defined"
   ]
  },
  {
   "cell_type": "code",
   "execution_count": 20,
   "metadata": {
    "collapsed": false
   },
   "outputs": [
    {
     "data": {
      "image/png": "[encoded data removed]",
      "text/plain": [
       "<matplotlib.figure.Figure at 0x1109a4510>"
      ]
     },
     "metadata": {},
     "output_type": "display_data"
    }
   ],
   "source": [
    "#  Here we are plotting with respect to log(pressure) but labeling the axis in pressure units\n",
    "fig = plt.figure( figsize=(8,6) )\n",
    "ax = fig.add_subplot(111)\n",
    "ax.plot( Tglobal , zstar )\n",
    "yticks = np.array([1000., 750., 500., 250., 100., 50., 20., 10.])\n",
    "ax.set_yticks(-np.log(yticks/1000.))\n",
    "ax.set_yticklabels(yticks)\n",
    "ax.set_xlabel('Temperature (K)', fontsize=16)\n",
    "ax.set_ylabel('Pressure (hPa)', fontsize=16 )\n",
    "ax.set_title('Global, annual mean sounding from NCEP Reanalysis', fontsize = 24)\n",
    "ax.grid()"
   ]
  },
  {
   "cell_type": "markdown",
   "metadata": {},
   "source": [
    "____________\n",
    "<a id='section4'></a>\n",
    "\n",
    "## 4. A 30-layer model using the observed temperatures\n",
    "____________\n",
    "\n"
   ]
  },
  {
   "cell_type": "code",
   "execution_count": 21,
   "metadata": {
    "collapsed": false
   },
   "outputs": [
    {
     "name": "stdout",
     "output_type": "stream",
     "text": [
      "climlab Process of type <class 'climlab.model.column.GreyRadiationModel'>. \n",
      "State variables and domain shapes: \n",
      "  Tatm: (30,) \n",
      "  Ts: (1,) \n",
      "The subprocess tree: \n",
      "top: <class 'climlab.model.column.GreyRadiationModel'>\n",
      "   LW: <class 'climlab.radiation.radiation.Radiation'>\n",
      "   SW: <class 'climlab.radiation.radiation.RadiationSW'>\n",
      "   surface: <class 'climlab.surface.surface_radiation.SurfaceRadiation'>\n",
      "   insolation: <class 'climlab.radiation.insolation.FixedInsolation'>\n",
      "\n"
     ]
    }
   ],
   "source": [
    "#  initialize a grey radiation model with 30 levels\n",
    "col = climlab.GreyRadiationModel()\n",
    "print col"
   ]
  },
  {
   "cell_type": "code",
   "execution_count": 22,
   "metadata": {
    "collapsed": false
   },
   "outputs": [
    {
     "data": {
      "text/plain": [
       "array([ 287.4463874 ,  285.6810201 ,  283.98269653,  282.48550415,\n",
       "        280.98831177,  279.29533895,  277.60236613,  275.90939331,\n",
       "        274.21642049,  272.25855509,  270.03579712,  267.81303914,\n",
       "        265.29490662,  262.48139954,  259.66789246,  256.48087056,\n",
       "        252.92033386,  249.35979716,  245.279658  ,  240.67991638,\n",
       "        236.08017476,  231.30422974,  226.3520813 ,  221.78252157,\n",
       "        217.19397481,  212.58644104,  208.29142761,  206.96233453,\n",
       "        211.66334534,  224.34736633])"
      ]
     },
     "execution_count": 22,
     "metadata": {},
     "output_type": "execute_result"
    }
   ],
   "source": [
    "# interpolate to 30 evenly spaced pressure levels\n",
    "lev = col.lev\n",
    "Tinterp = np.flipud(np.interp(np.flipud(lev), np.flipud(level), np.flipud(Tglobal)))\n",
    "Tinterp\n",
    "#  Need to 'flipud' because the interpolation routine needs the pressure data to be in increasing order"
   ]
  },
  {
   "cell_type": "code",
   "execution_count": 23,
   "metadata": {
    "collapsed": false
   },
   "outputs": [],
   "source": [
    "# Initialize model with observed temperatures\n",
    "col.Ts[:] = Tglobal[0]\n",
    "col.Tatm[:] = Tinterp"
   ]
  },
  {
   "cell_type": "code",
   "execution_count": 24,
   "metadata": {
    "collapsed": false
   },
   "outputs": [],
   "source": [
    "#  A handy re-usable routine for making a plot of the temperature profiles\n",
    "#  We will plot temperatures with respect to log(pressure) to get a height-like coordinate\n",
    "def plot_sounding(collist):\n",
    "    color_cycle=['r', 'g', 'b', 'y']\n",
    "    # col is either a column model object or a list of column model objects\n",
    "    if isinstance(collist, climlab.Process):\n",
    "        # make a list with a single item\n",
    "        collist = [collist]\n",
    "    fig = plt.figure()\n",
    "    ax = fig.add_subplot(111)\n",
    "    for i, col in enumerate(collist):\n",
    "        zstar = -np.log(col.lev/climlab.constants.ps)\n",
    "        ax.plot(col.Tatm, zstar, color=color_cycle[i])\n",
    "        ax.plot(col.Ts, 0, 'o', markersize=12, color=color_cycle[i])\n",
    "    #ax.invert_yaxis()\n",
    "    yticks = np.array([1000., 750., 500., 250., 100., 50., 20., 10.])\n",
    "    ax.set_yticks(-np.log(yticks/1000.))\n",
    "    ax.set_yticklabels(yticks)\n",
    "    ax.set_xlabel('Temperature (K)')\n",
    "    ax.set_ylabel('Pressure (hPa)')\n",
    "    ax.grid()\n",
    "    return ax"
   ]
  },
  {
   "cell_type": "code",
   "execution_count": 25,
   "metadata": {
    "collapsed": false
   },
   "outputs": [
    {
     "data": {
      "text/plain": [
       "<matplotlib.axes._subplots.AxesSubplot at 0x1109a4210>"
      ]
     },
     "execution_count": 25,
     "metadata": {},
     "output_type": "execute_result"
    },
    {
     "data": {
      "image/png": "[encoded data removed]",
      "text/plain": [
       "<matplotlib.figure.Figure at 0x1109a4410>"
      ]
     },
     "metadata": {},
     "output_type": "display_data"
    }
   ],
   "source": [
    "# This should look just like the observations\n",
    "plot_sounding(col)"
   ]
  },
  {
   "cell_type": "markdown",
   "metadata": {},
   "source": [
    "### Tune absorptivity to get observed OLR"
   ]
  },
  {
   "cell_type": "code",
   "execution_count": 26,
   "metadata": {
    "collapsed": false
   },
   "outputs": [
    {
     "data": {
      "text/plain": [
       "array([ 263.15000167])"
      ]
     },
     "execution_count": 26,
     "metadata": {},
     "output_type": "execute_result"
    }
   ],
   "source": [
    "col.compute_diagnostics()\n",
    "col.diagnostics['OLR']"
   ]
  },
  {
   "cell_type": "code",
   "execution_count": 27,
   "metadata": {
    "collapsed": false
   },
   "outputs": [],
   "source": [
    "# Need to tune absorptivity to get OLR = 239\n",
    "epsarray = np.linspace(0.01, 0.1, 100)\n",
    "OLRarray = np.zeros_like(epsarray)"
   ]
  },
  {
   "cell_type": "code",
   "execution_count": 28,
   "metadata": {
    "collapsed": false
   },
   "outputs": [
    {
     "data": {
      "image/png": "[encoded data removed]",
      "text/plain": [
       "<matplotlib.figure.Figure at 0x113ef8350>"
      ]
     },
     "metadata": {},
     "output_type": "display_data"
    }
   ],
   "source": [
    "for i in range(epsarray.size):\n",
    "    col.subprocess['LW'].absorptivity = epsarray[i]\n",
    "    col.compute_diagnostics()\n",
    "    OLRarray[i] = col.diagnostics['OLR']\n",
    "\n",
    "plt.plot(epsarray, OLRarray)\n",
    "plt.grid()"
   ]
  },
  {
   "cell_type": "markdown",
   "metadata": {},
   "source": [
    "The necessary value seems to lie near 0.055 or so.\n",
    "\n",
    "We can be more precise with a numerical root-finder."
   ]
  },
  {
   "cell_type": "code",
   "execution_count": 29,
   "metadata": {
    "collapsed": false
   },
   "outputs": [],
   "source": [
    "def OLRanom(eps):\n",
    "    col.subprocess['LW'].absorptivity = eps\n",
    "    col.compute_diagnostics()\n",
    "    return col.diagnostics['OLR'] - 239."
   ]
  },
  {
   "cell_type": "code",
   "execution_count": 30,
   "metadata": {
    "collapsed": false
   },
   "outputs": [
    {
     "name": "stdout",
     "output_type": "stream",
     "text": [
      "0.0534031813092\n"
     ]
    }
   ],
   "source": [
    "# Use numerical root-finding to get the equilibria\n",
    "from scipy.optimize import brentq\n",
    "# brentq is a root-finding function\n",
    "#  Need to give it a function and two end-points\n",
    "#  It will look for a zero of the function between those end-points\n",
    "eps = brentq(OLRanom, 0.01, 0.1)\n",
    "print eps"
   ]
  },
  {
   "cell_type": "code",
   "execution_count": 31,
   "metadata": {
    "collapsed": false
   },
   "outputs": [
    {
     "data": {
      "text/plain": [
       "Field([ 0.05340318,  0.05340318,  0.05340318,  0.05340318,  0.05340318,\n",
       "        0.05340318,  0.05340318,  0.05340318,  0.05340318,  0.05340318,\n",
       "        0.05340318,  0.05340318,  0.05340318,  0.05340318,  0.05340318,\n",
       "        0.05340318,  0.05340318,  0.05340318,  0.05340318,  0.05340318,\n",
       "        0.05340318,  0.05340318,  0.05340318,  0.05340318,  0.05340318,\n",
       "        0.05340318,  0.05340318,  0.05340318,  0.05340318,  0.05340318])"
      ]
     },
     "execution_count": 31,
     "metadata": {},
     "output_type": "execute_result"
    }
   ],
   "source": [
    "col.subprocess['LW'].absorptivity = eps\n",
    "col.subprocess['LW'].absorptivity"
   ]
  },
  {
   "cell_type": "code",
   "execution_count": 32,
   "metadata": {
    "collapsed": false
   },
   "outputs": [
    {
     "data": {
      "text/plain": [
       "array([ 239.])"
      ]
     },
     "execution_count": 32,
     "metadata": {},
     "output_type": "execute_result"
    }
   ],
   "source": [
    "col.compute_diagnostics()\n",
    "col.diagnostics['OLR']"
   ]
  },
  {
   "cell_type": "markdown",
   "metadata": {},
   "source": [
    "____________\n",
    "<a id='section5'></a>\n",
    "\n",
    "## 5. Radiative forcing in the 30-layer model\n",
    "____________\n",
    "\n",
    "Let's compute radiative forcing for a **2% increase in absorptivity**."
   ]
  },
  {
   "cell_type": "code",
   "execution_count": 33,
   "metadata": {
    "collapsed": false
   },
   "outputs": [
    {
     "name": "stdout",
     "output_type": "stream",
     "text": [
      "climlab Process of type <class 'climlab.model.column.GreyRadiationModel'>. \n",
      "State variables and domain shapes: \n",
      "  Tatm: (30,) \n",
      "  Ts: (1,) \n",
      "The subprocess tree: \n",
      "top: <class 'climlab.model.column.GreyRadiationModel'>\n",
      "   LW: <class 'climlab.radiation.radiation.Radiation'>\n",
      "   SW: <class 'climlab.radiation.radiation.RadiationSW'>\n",
      "   insolation: <class 'climlab.radiation.insolation.FixedInsolation'>\n",
      "   surface: <class 'climlab.surface.surface_radiation.SurfaceRadiation'>\n",
      "\n"
     ]
    }
   ],
   "source": [
    "#  clone our model using a built-in climlab function\n",
    "col2 = climlab.process_like(col)\n",
    "print col2"
   ]
  },
  {
   "cell_type": "code",
   "execution_count": 34,
   "metadata": {
    "collapsed": false
   },
   "outputs": [
    {
     "data": {
      "text/plain": [
       "Field([ 0.05447124,  0.05447124,  0.05447124,  0.05447124,  0.05447124,\n",
       "        0.05447124,  0.05447124,  0.05447124,  0.05447124,  0.05447124,\n",
       "        0.05447124,  0.05447124,  0.05447124,  0.05447124,  0.05447124,\n",
       "        0.05447124,  0.05447124,  0.05447124,  0.05447124,  0.05447124,\n",
       "        0.05447124,  0.05447124,  0.05447124,  0.05447124,  0.05447124,\n",
       "        0.05447124,  0.05447124,  0.05447124,  0.05447124,  0.05447124])"
      ]
     },
     "execution_count": 34,
     "metadata": {},
     "output_type": "execute_result"
    }
   ],
   "source": [
    "col2.subprocess['LW'].absorptivity *= 1.02\n",
    "col2.subprocess['LW'].absorptivity"
   ]
  },
  {
   "cell_type": "code",
   "execution_count": 35,
   "metadata": {
    "collapsed": false
   },
   "outputs": [
    {
     "data": {
      "text/plain": [
       "Field([ 0.])"
      ]
     },
     "execution_count": 35,
     "metadata": {},
     "output_type": "execute_result"
    }
   ],
   "source": [
    "#  Radiative forcing by definition is the change in TOA radiative flux, HOLDING THE TEMPERATURES FIXED.\n",
    "col2.Ts - col.Ts"
   ]
  },
  {
   "cell_type": "code",
   "execution_count": 36,
   "metadata": {
    "collapsed": false
   },
   "outputs": [
    {
     "data": {
      "text/plain": [
       "Field([ 0.,  0.,  0.,  0.,  0.,  0.,  0.,  0.,  0.,  0.,  0.,  0.,  0.,\n",
       "        0.,  0.,  0.,  0.,  0.,  0.,  0.,  0.,  0.,  0.,  0.,  0.,  0.,\n",
       "        0.,  0.,  0.,  0.])"
      ]
     },
     "execution_count": 36,
     "metadata": {},
     "output_type": "execute_result"
    }
   ],
   "source": [
    "col2.Tatm - col.Tatm"
   ]
  },
  {
   "cell_type": "code",
   "execution_count": 37,
   "metadata": {
    "collapsed": false
   },
   "outputs": [
    {
     "data": {
      "text/plain": [
       "array([ 237.15483194])"
      ]
     },
     "execution_count": 37,
     "metadata": {},
     "output_type": "execute_result"
    }
   ],
   "source": [
    "col2.compute_diagnostics()\n",
    "col2.diagnostics['OLR']"
   ]
  },
  {
   "cell_type": "markdown",
   "metadata": {},
   "source": [
    "The OLR decreased after we added the extra absorbers, as we expect. Now we can calculate the Radiative Forcing:"
   ]
  },
  {
   "cell_type": "code",
   "execution_count": 38,
   "metadata": {
    "collapsed": false
   },
   "outputs": [
    {
     "name": "stdout",
     "output_type": "stream",
     "text": [
      "The radiative forcing is 1.845168 W/m2.\n"
     ]
    }
   ],
   "source": [
    "RF = -(col2.diagnostics['OLR'] - col.diagnostics['OLR'])\n",
    "print 'The radiative forcing is %f W/m2.' %RF"
   ]
  },
  {
   "cell_type": "markdown",
   "metadata": {},
   "source": [
    "____________\n",
    "<a id='section6'></a>\n",
    "\n",
    "## 6. Radiative equilibrium in the 30-layer model\n",
    "____________\n"
   ]
  },
  {
   "cell_type": "code",
   "execution_count": 39,
   "metadata": {
    "collapsed": false
   },
   "outputs": [],
   "source": [
    "re = climlab.process_like(col)"
   ]
  },
  {
   "cell_type": "code",
   "execution_count": 40,
   "metadata": {
    "collapsed": false
   },
   "outputs": [
    {
     "name": "stdout",
     "output_type": "stream",
     "text": [
      "Integrating for 730 steps, 730.4844 days, or 2.0 years.\n",
      "Total elapsed time is 2.91039753895 years.\n"
     ]
    }
   ],
   "source": [
    "#  To get to equilibrium, we just time-step the model forward long enough\n",
    "re.integrate_years(2.)"
   ]
  },
  {
   "cell_type": "code",
   "execution_count": 41,
   "metadata": {
    "collapsed": false
   },
   "outputs": [
    {
     "data": {
      "text/plain": [
       "Field([ -8.67412012e-07])"
      ]
     },
     "execution_count": 41,
     "metadata": {},
     "output_type": "execute_result"
    }
   ],
   "source": [
    "#  Check for energy balance\n",
    "re.diagnostics['ASR'] - re.diagnostics['OLR']"
   ]
  },
  {
   "cell_type": "code",
   "execution_count": 42,
   "metadata": {
    "collapsed": false
   },
   "outputs": [
    {
     "data": {
      "text/plain": [
       "<matplotlib.axes._subplots.AxesSubplot at 0x11520e590>"
      ]
     },
     "execution_count": 42,
     "metadata": {},
     "output_type": "execute_result"
    },
    {
     "data": {
      "image/png": "[encoded data removed]",
      "text/plain": [
       "<matplotlib.figure.Figure at 0x103bc3c10>"
      ]
     },
     "metadata": {},
     "output_type": "display_data"
    }
   ],
   "source": [
    "plot_sounding([col, re])"
   ]
  },
  {
   "cell_type": "markdown",
   "metadata": {},
   "source": [
    "Some properties of the **radiative equilibrium** temperature profile:\n",
    "\n",
    "- The surface is warmer than observed.\n",
    "- The lower troposphere is colder than observed.\n",
    "- Very cold air is sitting immediately above the warm surface.\n",
    "- There is no tropopause, no stratosphere."
   ]
  },
  {
   "cell_type": "markdown",
   "metadata": {},
   "source": [
    "____________\n",
    "<a id='section7'></a>\n",
    "\n",
    "## 7. Radiative-Convective Equilibrium in the 30-layer model\n",
    "____________\n",
    "\n",
    "We recognize that the large drop in temperature just above the surface is unphysical. Parcels of air in direct contact with the ground will be warmed by mechansisms other than radiative transfer.\n",
    "\n",
    "These warm air parcels will then become buoyant, and will convect upward, mixing their heat content with the environment.\n",
    "\n",
    "We **parameterize** the statistical effects of this mixing through a **convective adjustment**. \n",
    "\n",
    "At each timestep, our model checks for any locations at which the **lapse rate** exceeds some threshold. Unstable layers are removed through an energy-conserving mixing formula.\n",
    "\n",
    "This process is assumed to be fast relative to radiative heating. In the model, it is instantaneous."
   ]
  },
  {
   "cell_type": "code",
   "execution_count": 43,
   "metadata": {
    "collapsed": false
   },
   "outputs": [
    {
     "name": "stdout",
     "output_type": "stream",
     "text": [
      "climlab Process of type <class 'climlab.model.column.RadiativeConvectiveModel'>. \n",
      "State variables and domain shapes: \n",
      "  Tatm: (30,) \n",
      "  Ts: (1,) \n",
      "The subprocess tree: \n",
      "top: <class 'climlab.model.column.RadiativeConvectiveModel'>\n",
      "   convective adjustment: <class 'climlab.convection.convadj.ConvectiveAdjustment'>\n",
      "   LW: <class 'climlab.radiation.radiation.Radiation'>\n",
      "   SW: <class 'climlab.radiation.radiation.RadiationSW'>\n",
      "   surface: <class 'climlab.surface.surface_radiation.SurfaceRadiation'>\n",
      "   insolation: <class 'climlab.radiation.insolation.FixedInsolation'>\n",
      "\n"
     ]
    }
   ],
   "source": [
    "rce = climlab.RadiativeConvectiveModel(adj_lapse_rate=6.)\n",
    "print rce"
   ]
  },
  {
   "cell_type": "markdown",
   "metadata": {},
   "source": [
    "This model is exactly like our previous models, except for one additional subprocess called ``convective adjustment``. \n",
    "\n",
    "We passed a parameter ``adj_lapse_rate`` (in K / km) that sets the neutrally stable lapse rate -- in this case, 6 K / km.\n",
    "\n",
    "This number is chosed to very loosely represent the net effect of **moist convection**. We'll look at this in more detail later."
   ]
  },
  {
   "cell_type": "code",
   "execution_count": 44,
   "metadata": {
    "collapsed": false
   },
   "outputs": [],
   "source": [
    "# Set our tuned absorptivity value\n",
    "rce.subprocess['LW'].absorptivity = eps"
   ]
  },
  {
   "cell_type": "code",
   "execution_count": 45,
   "metadata": {
    "collapsed": false
   },
   "outputs": [
    {
     "name": "stdout",
     "output_type": "stream",
     "text": [
      "Integrating for 730 steps, 730.4844 days, or 2.0 years.\n",
      "Total elapsed time is 1.99867375676 years.\n"
     ]
    }
   ],
   "source": [
    "#  Run out to equilibrium\n",
    "rce.integrate_years(2.)"
   ]
  },
  {
   "cell_type": "code",
   "execution_count": 46,
   "metadata": {
    "collapsed": false
   },
   "outputs": [
    {
     "data": {
      "text/plain": [
       "Field([  6.23502038e-06])"
      ]
     },
     "execution_count": 46,
     "metadata": {},
     "output_type": "execute_result"
    }
   ],
   "source": [
    "#  Check for energy balance\n",
    "rce.diagnostics['ASR'] - rce.diagnostics['OLR']"
   ]
  },
  {
   "cell_type": "code",
   "execution_count": 47,
   "metadata": {
    "collapsed": false
   },
   "outputs": [
    {
     "data": {
      "text/plain": [
       "<matplotlib.axes._subplots.AxesSubplot at 0x115446cd0>"
      ]
     },
     "execution_count": 47,
     "metadata": {},
     "output_type": "execute_result"
    },
    {
     "data": {
      "image/png": "[encoded data removed]",
      "text/plain": [
       "<matplotlib.figure.Figure at 0x115402690>"
      ]
     },
     "metadata": {},
     "output_type": "display_data"
    }
   ],
   "source": [
    "#  Make a plot to compare observations, Radiative Equilibrium, and Radiative-Convective Equilibrium\n",
    "plot_sounding([col, re, rce])"
   ]
  },
  {
   "cell_type": "markdown",
   "metadata": {},
   "source": [
    "Introducing convective adjustment into the model cools the surface quite a bit (compared to Radiative Equilibrium, in green here) -- and warms the lower troposphere. It gives us a MUCH better fit to observations.\n",
    "\n",
    "But of course we still have no stratosphere."
   ]
  },
  {
   "cell_type": "markdown",
   "metadata": {},
   "source": [
    "____________\n",
    "<a id='section8'></a>\n",
    "\n",
    "## 8. Putting stratospheric ozone in the grey-gas model\n",
    "____________\n",
    "\n",
    "Our model has no equivalent of the stratosphere, where temperature increases with height. That's because our model has been completely transparent to shortwave radiation up until now.\n",
    "\n",
    "We can load the observed ozone climatology from the input files for the CESM model:"
   ]
  },
  {
   "cell_type": "code",
   "execution_count": 48,
   "metadata": {
    "collapsed": false
   },
   "outputs": [],
   "source": [
    "datapath = \"http://ramadda.atmos.albany.edu:8080/repository/opendap/latest/Top/Users/Brian+Rose/CESM+runs/\"\n",
    "endstr = \"/entry.das\"\n",
    "\n",
    "ozone = nc.Dataset( datapath + 'som_input/ozone_1.9x2.5_L26_2000clim_c091112.nc' + endstr )"
   ]
  },
  {
   "cell_type": "code",
   "execution_count": 49,
   "metadata": {
    "collapsed": false
   },
   "outputs": [
    {
     "name": "stdout",
     "output_type": "stream",
     "text": [
      "<type 'netCDF4.Variable'>\n",
      "float32 O3(time, lev, lat, lon)\n",
      "    units: mol/mol\n",
      "    long_name: O3 concentration\n",
      "    cell_method: time: mean\n",
      "unlimited dimensions: time\n",
      "current shape = (12, 26, 96, 144)\n",
      "filling off\n",
      "\n"
     ]
    }
   ],
   "source": [
    "print ozone.variables['O3']"
   ]
  },
  {
   "cell_type": "code",
   "execution_count": 50,
   "metadata": {
    "collapsed": false
   },
   "outputs": [],
   "source": [
    "lat_O3 = ozone.variables['lat'][:]\n",
    "lon_O3 = ozone.variables['lon'][:]\n",
    "lev_O3 = ozone.variables['lev'][:]"
   ]
  },
  {
   "cell_type": "markdown",
   "metadata": {},
   "source": [
    "The pressure levels in this dataset are:"
   ]
  },
  {
   "cell_type": "code",
   "execution_count": 51,
   "metadata": {
    "collapsed": false
   },
   "outputs": [
    {
     "name": "stdout",
     "output_type": "stream",
     "text": [
      "[   3.544638     7.3888135   13.967214    23.944625    37.23029     53.114605\n",
      "   70.05915     85.439115   100.514695   118.250335   139.115395   163.66207\n",
      "  192.539935   226.513265   266.481155   313.501265   368.81798    433.895225\n",
      "  510.455255   600.5242     696.79629    787.70206    867.16076    929.648875\n",
      "  970.55483    992.5561   ]\n"
     ]
    }
   ],
   "source": [
    "print lev_O3"
   ]
  },
  {
   "cell_type": "markdown",
   "metadata": {},
   "source": [
    "### Take the global average of the ozone climatology, and plot it as a function of pressure (or height)"
   ]
  },
  {
   "cell_type": "code",
   "execution_count": 52,
   "metadata": {
    "collapsed": false
   },
   "outputs": [
    {
     "name": "stdout",
     "output_type": "stream",
     "text": [
      "(26, 96)\n"
     ]
    }
   ],
   "source": [
    "O3_zon = np.mean( ozone.variables['O3'][:],axis=(0,3) )\n",
    "print O3_zon.shape"
   ]
  },
  {
   "cell_type": "code",
   "execution_count": 53,
   "metadata": {
    "collapsed": false
   },
   "outputs": [
    {
     "name": "stdout",
     "output_type": "stream",
     "text": [
      "[  7.82792904e-06   8.64150570e-06   7.58940041e-06   5.24567122e-06\n",
      "   3.17761578e-06   1.82320025e-06   9.80756909e-07   6.22870516e-07\n",
      "   4.47620522e-07   3.34481172e-07   2.62570325e-07   2.07898125e-07\n",
      "   1.57074552e-07   1.12425546e-07   8.06005076e-08   6.27826466e-08\n",
      "   5.42990612e-08   4.99506108e-08   4.60075675e-08   4.22977777e-08\n",
      "   3.80559086e-08   3.38768551e-08   3.12171622e-08   2.97807148e-08\n",
      "   2.87980981e-08   2.75429919e-08]\n"
     ]
    }
   ],
   "source": [
    "O3_global = np.average( O3_zon, axis=1, weights=np.cos(np.deg2rad(lat_O3)))\n",
    "print O3_global"
   ]
  },
  {
   "cell_type": "code",
   "execution_count": 54,
   "metadata": {
    "collapsed": false
   },
   "outputs": [
    {
     "data": {
      "image/png": "[encoded data removed]",
      "text/plain": [
       "<matplotlib.figure.Figure at 0x11491b950>"
      ]
     },
     "metadata": {},
     "output_type": "display_data"
    }
   ],
   "source": [
    "ax = plt.figure(figsize=(10,8)).add_subplot(111)\n",
    "ax.plot( O3_global * 1.E6, -np.log(lev_O3/climlab.constants.ps) )\n",
    "ax.set_xlabel('Ozone (ppm)', fontsize=16)\n",
    "ax.set_ylabel('Pressure (hPa)', fontsize=16 )\n",
    "ax.set_yticks( -np.log(yticks/1000.) )\n",
    "ax.set_yticklabels( yticks )\n",
    "ax.grid()\n",
    "ax.set_title('Global, annual mean ozone concentration', fontsize = 24);"
   ]
  },
  {
   "cell_type": "markdown",
   "metadata": {},
   "source": [
    "This shows that most of the ozone is indeed in the stratosphere, and peaks near the top of the stratosphere.\n",
    "\n",
    "Now create a new column model object **on the same pressure levels as the ozone data**.  We are also going set an adjusted lapse rate of 6 K / km."
   ]
  },
  {
   "cell_type": "code",
   "execution_count": 55,
   "metadata": {
    "collapsed": false
   },
   "outputs": [
    {
     "name": "stdout",
     "output_type": "stream",
     "text": [
      "climlab Process of type <class 'climlab.model.column.RadiativeConvectiveModel'>. \n",
      "State variables and domain shapes: \n",
      "  Tatm: (26,) \n",
      "  Ts: (1,) \n",
      "The subprocess tree: \n",
      "top: <class 'climlab.model.column.RadiativeConvectiveModel'>\n",
      "   convective adjustment: <class 'climlab.convection.convadj.ConvectiveAdjustment'>\n",
      "   LW: <class 'climlab.radiation.radiation.Radiation'>\n",
      "   SW: <class 'climlab.radiation.radiation.RadiationSW'>\n",
      "   surface: <class 'climlab.surface.surface_radiation.SurfaceRadiation'>\n",
      "   insolation: <class 'climlab.radiation.insolation.FixedInsolation'>\n",
      "\n"
     ]
    }
   ],
   "source": [
    "oz_col = climlab.RadiativeConvectiveModel(lev = lev_O3, adj_lapse_rate=6)\n",
    "print oz_col"
   ]
  },
  {
   "cell_type": "markdown",
   "metadata": {},
   "source": [
    "Now we will do something new: let the column absorb some shortwave radiation. We will assume that the shortwave absorptivity is proportional to the ozone concentration we plotted above. \n",
    "\n",
    "First we have to deal with a little inconsistency:"
   ]
  },
  {
   "cell_type": "code",
   "execution_count": 56,
   "metadata": {
    "collapsed": false
   },
   "outputs": [
    {
     "name": "stdout",
     "output_type": "stream",
     "text": [
      "[   3.544638     7.3888135   13.967214    23.944625    37.23029     53.114605\n",
      "   70.05915     85.439115   100.514695   118.250335   139.115395   163.66207\n",
      "  192.539935   226.513265   266.481155   313.501265   368.81798    433.895225\n",
      "  510.455255   600.5242     696.79629    787.70206    867.16076    929.648875\n",
      "  970.55483    992.5561   ]\n",
      "[ 992.5561     970.55483    929.648875   867.16076    787.70206    696.79629\n",
      "  600.5242     510.455255   433.895225   368.81798    313.501265\n",
      "  266.481155   226.513265   192.539935   163.66207    139.115395\n",
      "  118.250335   100.514695    85.439115    70.05915     53.114605    37.23029\n",
      "   23.944625    13.967214     7.3888135    3.544638 ]\n"
     ]
    }
   ],
   "source": [
    "print lev_O3\n",
    "print oz_col.lev"
   ]
  },
  {
   "cell_type": "markdown",
   "metadata": {},
   "source": [
    "The two arrays are in reverse order!\n",
    "\n",
    "So we need to flip the ozone data before using it:"
   ]
  },
  {
   "cell_type": "code",
   "execution_count": 57,
   "metadata": {
    "collapsed": false
   },
   "outputs": [],
   "source": [
    "O3_flipped = np.flipud(O3_global)"
   ]
  },
  {
   "cell_type": "markdown",
   "metadata": {},
   "source": [
    "Now we need to weight the absorptivity by the pressure (mass) of each layer."
   ]
  },
  {
   "cell_type": "code",
   "execution_count": 58,
   "metadata": {
    "collapsed": false
   },
   "outputs": [],
   "source": [
    "# This number is an arbitrary parameter that scales how absorptive we are making the ozone\n",
    "# in our grey gas model\n",
    "ozonefactor = 75\n",
    "dp = oz_col.Tatm.domain.lev.delta\n",
    "epsSW = np.flipud(O3_global) * dp * ozonefactor"
   ]
  },
  {
   "cell_type": "markdown",
   "metadata": {},
   "source": [
    "We want to use the field `epsSW` as the absorptivity for our SW radiation model.\n",
    "\n",
    "Let's see what the absorptivity is current set to:"
   ]
  },
  {
   "cell_type": "code",
   "execution_count": 59,
   "metadata": {
    "collapsed": false
   },
   "outputs": [
    {
     "name": "stdout",
     "output_type": "stream",
     "text": [
      "[ 0.  0.  0.  0.  0.  0.  0.  0.  0.  0.  0.  0.  0.  0.  0.  0.  0.  0.\n",
      "  0.  0.  0.  0.  0.  0.  0.  0.]\n"
     ]
    }
   ],
   "source": [
    "print oz_col.subprocess['SW'].absorptivity"
   ]
  },
  {
   "cell_type": "markdown",
   "metadata": {},
   "source": [
    "It defaults to zero.\n",
    "\n",
    "Before changing this (putting in the ozone), let's take a look at the shortwave absorption in the column:"
   ]
  },
  {
   "cell_type": "code",
   "execution_count": 60,
   "metadata": {
    "collapsed": false
   },
   "outputs": [],
   "source": [
    "oz_col.compute_diagnostics()"
   ]
  },
  {
   "cell_type": "code",
   "execution_count": 61,
   "metadata": {
    "collapsed": false
   },
   "outputs": [
    {
     "data": {
      "text/plain": [
       "array([-0., -0., -0., -0., -0., -0., -0., -0., -0., -0., -0., -0., -0.,\n",
       "       -0., -0., -0., -0., -0., -0., -0., -0., -0., -0., -0., -0., -0.])"
      ]
     },
     "execution_count": 61,
     "metadata": {},
     "output_type": "execute_result"
    }
   ],
   "source": [
    "oz_col.diagnostics['SW_absorbed_atm']"
   ]
  },
  {
   "cell_type": "markdown",
   "metadata": {},
   "source": [
    "Let's now put in the ozone:"
   ]
  },
  {
   "cell_type": "code",
   "execution_count": 62,
   "metadata": {
    "collapsed": false
   },
   "outputs": [
    {
     "name": "stdout",
     "output_type": "stream",
     "text": [
      "[  3.81013258e-05   6.79353164e-05   1.15468099e-04   1.66169128e-04\n",
      "   2.16427967e-04   2.67120883e-04   2.95567938e-04   2.87482268e-04\n",
      "   2.65307565e-04   2.45147963e-04   2.40936627e-04   2.62922886e-04\n",
      "   3.11733077e-04   3.70212125e-04   4.16507314e-04   4.47141525e-04\n",
      "   4.84170276e-04   5.50761578e-04   7.11369789e-04   1.18884324e-03\n",
      "   2.24450947e-03   3.47591208e-03   4.57614181e-03   4.71182560e-03\n",
      "   3.37750312e-03   3.20948559e-03]\n"
     ]
    }
   ],
   "source": [
    "oz_col.subprocess['SW'].absorptivity = epsSW\n",
    "print oz_col.subprocess['SW'].absorptivity"
   ]
  },
  {
   "cell_type": "markdown",
   "metadata": {},
   "source": [
    "Let's check how this changes the SW absorption:"
   ]
  },
  {
   "cell_type": "code",
   "execution_count": 63,
   "metadata": {
    "collapsed": false
   },
   "outputs": [
    {
     "data": {
      "text/plain": [
       "array([ 0.01641658,  0.02927233,  0.04975715,  0.07161233,  0.09328389,\n",
       "        0.11515129,  0.12743552,  0.12396838,  0.11442202,  0.1057411 ,\n",
       "        0.10393805,  0.11343945,  0.13452308,  0.1597929 ,  0.17981756,\n",
       "        0.19309136,  0.20913838,  0.23797741,  0.30750441,  0.51429087,\n",
       "        0.97239294,  1.50916588,  1.99236556,  2.05685577,  1.47671292,\n",
       "        1.40571625])"
      ]
     },
     "execution_count": 63,
     "metadata": {},
     "output_type": "execute_result"
    }
   ],
   "source": [
    "oz_col.compute_diagnostics()\n",
    "oz_col.diagnostics['SW_absorbed_atm']"
   ]
  },
  {
   "cell_type": "markdown",
   "metadata": {},
   "source": [
    "It is now non-zero, and largest near the top of the column (bottom of array) where the ozone concentration is highest."
   ]
  },
  {
   "cell_type": "markdown",
   "metadata": {},
   "source": [
    "Now it's time to run the model out to radiative-convective equilibrium"
   ]
  },
  {
   "cell_type": "code",
   "execution_count": 64,
   "metadata": {
    "collapsed": false
   },
   "outputs": [
    {
     "name": "stdout",
     "output_type": "stream",
     "text": [
      "Integrating for 365 steps, 365.2422 days, or 1.0 years.\n",
      "Total elapsed time is 1.01576433391 years.\n"
     ]
    }
   ],
   "source": [
    "oz_col.integrate_years(1.)"
   ]
  },
  {
   "cell_type": "code",
   "execution_count": 65,
   "metadata": {
    "collapsed": false
   },
   "outputs": [
    {
     "name": "stdout",
     "output_type": "stream",
     "text": [
      "[-0.00553705]\n"
     ]
    }
   ],
   "source": [
    "print oz_col.diagnostics['ASR'] - oz_col.diagnostics['OLR']"
   ]
  },
  {
   "cell_type": "markdown",
   "metadata": {},
   "source": [
    "And let's now see what we got!"
   ]
  },
  {
   "cell_type": "code",
   "execution_count": 66,
   "metadata": {
    "collapsed": false
   },
   "outputs": [
    {
     "data": {
      "text/plain": [
       "<matplotlib.axes._subplots.AxesSubplot at 0x115402950>"
      ]
     },
     "execution_count": 66,
     "metadata": {},
     "output_type": "execute_result"
    },
    {
     "data": {
      "image/png": "[encoded data removed]",
      "text/plain": [
       "<matplotlib.figure.Figure at 0x113f0aa90>"
      ]
     },
     "metadata": {},
     "output_type": "display_data"
    }
   ],
   "source": [
    "#  Make a plot to compare observations, Radiative Equilibrium, Radiative-Convective Equilibrium, and RCE with ozone!\n",
    "plot_sounding([col, re, rce, oz_col])"
   ]
  },
  {
   "cell_type": "markdown",
   "metadata": {},
   "source": [
    "And we finally have something that looks looks like the tropopause, with temperature increasing above at approximately the correct rate. \n",
    "\n",
    "There are still plenty of discrepancies between this model solution and the observations, including:\n",
    "\n",
    "- Tropopause temperature is too warm, by about 15 degrees.\n",
    "- Surface temperature is too cold\n",
    "\n",
    "There are a number of parameters we might adjust if we wanted to improve the fit, including:\n",
    "\n",
    "- Longwave absorptivity\n",
    "- Surface albedo\n",
    "\n",
    "Feel free to experiment! (That's what models are for, after all)."
   ]
  },
  {
   "cell_type": "markdown",
   "metadata": {},
   "source": [
    "### The take home message\n",
    "\n",
    "The dominant effect of stratospheric ozone is to vastly increase the radiative equilibrium temperature in the ozone layer. The temperature needs to be higher so that the longwave emission can balance the shortwave absorption.\n",
    "\n",
    "Without ozone to absorb incoming solar radiation, the **temperature does not increase with height**.\n",
    "\n",
    "This simple grey-gas model illustrates this principle very clearly."
   ]
  },
  {
   "cell_type": "markdown",
   "metadata": {},
   "source": [
    "<div class=\"alert alert-success\">\n",
    "[Back to ATM 623 notebook home](../index.ipynb)\n",
    "</div>"
   ]
  },
  {
   "cell_type": "markdown",
   "metadata": {},
   "source": [
    "____________\n",
    "## Credits\n",
    "\n",
    "The author of this notebook is [Brian E. J. Rose](http://www.atmos.albany.edu/facstaff/brose/index.html), University at Albany.\n",
    "\n",
    "It was developed in support of [ATM 623: Climate Modeling](http://www.atmos.albany.edu/facstaff/brose/classes/ATM623_Spring2015/), a graduate-level course in the [Department of Atmospheric and Envionmental Sciences](http://www.albany.edu/atmos/index.php), offered in Spring 2015.\n",
    "____________"
   ]
  },
  {
   "cell_type": "markdown",
   "metadata": {},
   "source": [
    "____________\n",
    "## Version information\n",
    "____________\n",
    "\n"
   ]
  },
  {
   "cell_type": "code",
   "execution_count": 67,
   "metadata": {
    "collapsed": false
   },
   "outputs": [
    {
     "name": "stdout",
     "output_type": "stream",
     "text": [
      "Installed version_information.py. To use it, type:\n",
      "  %load_ext version_information\n"
     ]
    },
    {
     "data": {
      "application/json": {
       "Software versions": [
        {
         "module": "Python",
         "version": "2.7.9 64bit [GCC 4.2.1 (Apple Inc. build 5577)]"
        },
        {
         "module": "IPython",
         "version": "3.1.0"
        },
        {
         "module": "OS",
         "version": "Darwin 13.4.0 x86_64 i386 64bit"
        },
        {
         "module": "numpy",
         "version": "1.9.2"
        },
        {
         "module": "climlab",
         "version": "0.2.9"
        }
       ]
      },
      "text/html": [
       "<table><tr><th>Software</th><th>Version</th></tr><tr><td>Python</td><td>2.7.9 64bit [GCC 4.2.1 (Apple Inc. build 5577)]</td></tr><tr><td>IPython</td><td>3.1.0</td></tr><tr><td>OS</td><td>Darwin 13.4.0 x86_64 i386 64bit</td></tr><tr><td>numpy</td><td>1.9.2</td></tr><tr><td>climlab</td><td>0.2.9</td></tr><tr><td colspan='2'>Wed Apr 22 10:27:26 2015 EDT</td></tr></table>"
      ],
      "text/latex": [
       "\\begin{tabular}{|l|l|}\\hline\n",
       "{\\bf Software} & {\\bf Version} \\\\ \\hline\\hline\n",
       "Python & 2.7.9 64bit [GCC 4.2.1 (Apple Inc. build 5577)] \\\\ \\hline\n",
       "IPython & 3.1.0 \\\\ \\hline\n",
       "OS & Darwin 13.4.0 x86\\_64 i386 64bit \\\\ \\hline\n",
       "numpy & 1.9.2 \\\\ \\hline\n",
       "climlab & 0.2.9 \\\\ \\hline\n",
       "\\hline \\multicolumn{2}{|l|}{Wed Apr 22 10:27:26 2015 EDT} \\\\ \\hline\n",
       "\\end{tabular}\n"
      ],
      "text/plain": [
       "Software versions\n",
       "Python 2.7.9 64bit [GCC 4.2.1 (Apple Inc. build 5577)]\n",
       "IPython 3.1.0\n",
       "OS Darwin 13.4.0 x86_64 i386 64bit\n",
       "numpy 1.9.2\n",
       "climlab 0.2.9\n",
       "Wed Apr 22 10:27:26 2015 EDT"
      ]
     },
     "execution_count": 67,
     "metadata": {},
     "output_type": "execute_result"
    }
   ],
   "source": [
    "%install_ext http://raw.github.com/jrjohansson/version_information/master/version_information.py\n",
    "%load_ext version_information\n",
    "%version_information numpy, climlab"
   ]
  }
 ],
 "metadata": {
  "kernelspec": {
   "display_name": "Python 2",
   "language": "python",
   "name": "python2"
  },
  "language_info": {
   "codemirror_mode": {
    "name": "ipython",
    "version": 2
   },
   "file_extension": ".py",
   "mimetype": "text/x-python",
   "name": "python",
   "nbconvert_exporter": "python",
   "pygments_lexer": "ipython2",
   "version": "2.7.9"
  }
 },
 "nbformat": 4,
 "nbformat_minor": 0
}
