{
 "metadata": {
  "name": "",
  "signature": "sha256:f5c3984ab94750da24a540c1187dbc1c1572aae7e516a4d38b4948db5ccea1db"
 },
 "nbformat": 3,
 "nbformat_minor": 0,
 "worksheets": [
  {
   "cells": [
    {
     "cell_type": "markdown",
     "metadata": {},
     "source": [
      "# [ATM 623: Climate Modeling](../index.ipynb)\n",
      "[Brian E. J. Rose](http://www.atmos.albany.edu/facstaff/brose/index.html), University at Albany\n",
      "# Lecture 7: Grey radiation modeling with climlab"
     ]
    },
    {
     "cell_type": "markdown",
     "metadata": {},
     "source": [
      "## Contents\n",
      "\n",
      "1. [Introducing `climlab`](#section1)\n",
      "2. [Using `climlab` to implement the two-layer leaky greenhouse model](#section2)\n",
      "3. [The observed annual, global mean temperature profile](#section3)\n",
      "4. [A 30-layer model using the observed temperatures](#section4)\n",
      "5. [Radiative forcing in the 30-layer model](#section5)\n",
      "6. [Radiative equilibrium in the 30-layer model](#section6)\n",
      "7. [Radiative-Convective Equilibrium in the 30-layer model](#section7)"
     ]
    },
    {
     "cell_type": "markdown",
     "metadata": {},
     "source": [
      "____________\n",
      "<a id='section1'></a>\n",
      "\n",
      "## 1. Introducing `climlab`\n",
      "____________\n",
      "\n",
      "``climlab`` is a flexible engine for process-oriented climate modeling.\n",
      "It is based on a very general concept of a model as a collection of individual, \n",
      "interacting processes. ``climlab`` defines a base class called ``Process``, which\n",
      "can contain an arbitrarily complex tree of sub-processes (each also some \n",
      "sub-class of ``Process``). Every climate process (radiative, dynamical, \n",
      "physical, turbulent, convective, chemical, etc.) can be simulated as a stand-alone\n",
      "process model given appropriate input, or as a sub-process of a more complex model. \n",
      "New classes of model can easily be defined and run interactively by putting together an\n",
      "appropriate collection of sub-processes.\n",
      "\n",
      "``climlab`` is a work-in-progress, and the code base will evolve substantially over the course of this semester.\n",
      "The latest code can always be found on ``github``:\n",
      "\n",
      "https://github.com/brian-rose/climlab\n",
      "\n",
      "You are strongly encouraged to clone the ``climlab`` repository and use ``git`` to keep your local copy up-to-date.\n",
      "\n",
      "Running this notebook requires that ``climlab`` is already installed on your system."
     ]
    },
    {
     "cell_type": "code",
     "collapsed": false,
     "input": [
      "%matplotlib inline\n",
      "import numpy as np\n",
      "import matplotlib.pyplot as plt\n",
      "import netCDF4 as nc\n",
      "import climlab"
     ],
     "language": "python",
     "metadata": {},
     "outputs": [],
     "prompt_number": 1
    },
    {
     "cell_type": "markdown",
     "metadata": {},
     "source": [
      "____________\n",
      "<a id='section2'></a>\n",
      "\n",
      "## 2. Using `climlab` to implement the two-layer leaky greenhouse model\n",
      "____________\n",
      "\n",
      "One of the things that ``climlab`` is set up to do is the grey-radiation modeling we have already been discussing.\n",
      "\n",
      "Since we already derived a [complete analytical solution to the two-layer leaky greenhouse model](Lecture06 -- Elementary greenhouse models.ipynb), we will use this to validate the `climlab` code.\n",
      "\n"
     ]
    },
    {
     "cell_type": "markdown",
     "metadata": {},
     "source": [
      "### Validation\n",
      "\n",
      "We want to verify that the model reproduces the observed OLR given observed temperatures, and the absorptivity that we tuned in the analytical model. The target numbers are:\n",
      "\n",
      "\\begin{align}\n",
      "T_s &= 288 \\text{ K} \\\\\n",
      "T_0 &= 275 \\text{ K} \\\\\n",
      "T_1 &= 230 \\text{ K} \\\\\n",
      "\\end{align}\n",
      "\n",
      "$$ \\epsilon = 0.58377  $$\n",
      "\n",
      "$$ OLR = 239 \\text{ W m}^{-2} $$\n"
     ]
    },
    {
     "cell_type": "markdown",
     "metadata": {},
     "source": [
      "### Initialize a model in `climlab`\n",
      "The first thing we do is create a new model.\n",
      "\n",
      "The following example code is sparsely commented but will hopefully orient you on the basics of defining and working with a `climlab Process` object."
     ]
    },
    {
     "cell_type": "code",
     "collapsed": false,
     "input": [
      "#  Test in a 2-layer atmosphere\n",
      "col = climlab.GreyRadiationModel(num_lev=2)\n",
      "print col"
     ],
     "language": "python",
     "metadata": {},
     "outputs": [
      {
       "output_type": "stream",
       "stream": "stdout",
       "text": [
        "climlab Process of type <class 'climlab.model.column.GreyRadiationModel'>. \n",
        "State variables and domain shapes: \n",
        "  Tatm: (2,) \n",
        "  Ts: (1,) \n",
        "The subprocess tree: \n",
        "top: <class 'climlab.model.column.GreyRadiationModel'>\n",
        "   LW: <class 'climlab.radiation.radiation.Radiation'>\n",
        "   SW: <class 'climlab.radiation.radiation.RadiationSW'>\n",
        "   surface: <class 'climlab.surface.surface_radiation.SurfaceRadiation'>\n",
        "   insolation: <class 'climlab.radiation.insolation.FixedInsolation'>\n",
        "\n"
       ]
      }
     ],
     "prompt_number": 2
    },
    {
     "cell_type": "code",
     "collapsed": false,
     "input": [
      "col.subprocess"
     ],
     "language": "python",
     "metadata": {},
     "outputs": [
      {
       "metadata": {},
       "output_type": "pyout",
       "prompt_number": 3,
       "text": [
        "{'LW': <climlab.radiation.radiation.Radiation at 0x10d6c3f50>,\n",
        " 'SW': <climlab.radiation.radiation.RadiationSW at 0x10dd5e590>,\n",
        " 'insolation': <climlab.radiation.insolation.FixedInsolation at 0x10dd5e610>,\n",
        " 'surface': <climlab.surface.surface_radiation.SurfaceRadiation at 0x10dd5e650>}"
       ]
      }
     ],
     "prompt_number": 3
    },
    {
     "cell_type": "code",
     "collapsed": false,
     "input": [
      "col.state"
     ],
     "language": "python",
     "metadata": {},
     "outputs": [
      {
       "metadata": {},
       "output_type": "pyout",
       "prompt_number": 4,
       "text": [
        "{'Tatm': Field([ 278.,  200.]), 'Ts': Field([ 288.])}"
       ]
      }
     ],
     "prompt_number": 4
    },
    {
     "cell_type": "code",
     "collapsed": false,
     "input": [
      "col.Ts"
     ],
     "language": "python",
     "metadata": {},
     "outputs": [
      {
       "metadata": {},
       "output_type": "pyout",
       "prompt_number": 5,
       "text": [
        "Field([ 288.])"
       ]
      }
     ],
     "prompt_number": 5
    },
    {
     "cell_type": "code",
     "collapsed": false,
     "input": [
      "col.Ts[:] = 288.\n",
      "col.Tatm[:] = np.array([275., 230.])\n",
      "col.state"
     ],
     "language": "python",
     "metadata": {},
     "outputs": [
      {
       "metadata": {},
       "output_type": "pyout",
       "prompt_number": 6,
       "text": [
        "{'Tatm': Field([ 275.,  230.]), 'Ts': Field([ 288.])}"
       ]
      }
     ],
     "prompt_number": 6
    },
    {
     "cell_type": "code",
     "collapsed": false,
     "input": [
      "LW = col.subprocess['LW']\n",
      "print LW"
     ],
     "language": "python",
     "metadata": {},
     "outputs": [
      {
       "output_type": "stream",
       "stream": "stdout",
       "text": [
        "climlab Process of type <class 'climlab.radiation.radiation.Radiation'>. \n",
        "State variables and domain shapes: \n",
        "  Tatm: (2,) \n",
        "  Ts: (1,) \n",
        "The subprocess tree: \n",
        "top: <class 'climlab.radiation.radiation.Radiation'>\n",
        "\n"
       ]
      }
     ],
     "prompt_number": 7
    },
    {
     "cell_type": "code",
     "collapsed": false,
     "input": [
      "LW.absorptivity"
     ],
     "language": "python",
     "metadata": {},
     "outputs": [
      {
       "metadata": {},
       "output_type": "pyout",
       "prompt_number": 8,
       "text": [
        "Field([ 0.47737425,  0.47737425])"
       ]
      }
     ],
     "prompt_number": 8
    },
    {
     "cell_type": "code",
     "collapsed": false,
     "input": [
      "LW.absorptivity = 0.58377\n",
      "LW.absorptivity"
     ],
     "language": "python",
     "metadata": {},
     "outputs": [
      {
       "metadata": {},
       "output_type": "pyout",
       "prompt_number": 9,
       "text": [
        "Field([ 0.58377,  0.58377])"
       ]
      }
     ],
     "prompt_number": 9
    },
    {
     "cell_type": "code",
     "collapsed": false,
     "input": [
      "#  This does all the calculations that would be performed at each time step, \n",
      "#  but doesn't actually update the temperatures\n",
      "col.compute_diagnostics()\n",
      "col.diagnostics"
     ],
     "language": "python",
     "metadata": {},
     "outputs": [
      {
       "metadata": {},
       "output_type": "pyout",
       "prompt_number": 10,
       "text": [
        "{'ASR': Field([ 239.2513]),\n",
        " 'LW_absorbed_atm': array([-96.81501789,  20.03803881]),\n",
        " 'LW_absorbed_sfc': Field([-162.22320832]),\n",
        " 'LW_down_sfc': array([ 227.85618629]),\n",
        " 'LW_emission': Field([ 189.30217637,   92.62669658]),\n",
        " 'LW_up_sfc': Field([ 390.07939461]),\n",
        " 'OLR': array([ 239.0001874]),\n",
        " 'SW_absorbed_atm': array([-0., -0.]),\n",
        " 'SW_absorbed_sfc': 239.25130000000001,\n",
        " 'SW_absorbed_total': 239.25130000000001,\n",
        " 'SW_down_TOA': Field([ 341.3]),\n",
        " 'SW_down_sfc': array([ 341.3]),\n",
        " 'SW_emission': Field([ 0.,  0.]),\n",
        " 'SW_up_TOA': array([ 102.0487]),\n",
        " 'SW_up_sfc': Field([ 0.]),\n",
        " 'insolation': Field([ 341.3]),\n",
        " 'planetary_albedo': Field([ 0.299])}"
       ]
      }
     ],
     "prompt_number": 10
    },
    {
     "cell_type": "code",
     "collapsed": false,
     "input": [
      "#  Check OLR against our analytical solution\n",
      "col.diagnostics['OLR']"
     ],
     "language": "python",
     "metadata": {},
     "outputs": [
      {
       "metadata": {},
       "output_type": "pyout",
       "prompt_number": 11,
       "text": [
        "array([ 239.0001874])"
       ]
      }
     ],
     "prompt_number": 11
    },
    {
     "cell_type": "code",
     "collapsed": false,
     "input": [
      "col.state"
     ],
     "language": "python",
     "metadata": {},
     "outputs": [
      {
       "metadata": {},
       "output_type": "pyout",
       "prompt_number": 12,
       "text": [
        "{'Tatm': Field([ 275.,  230.]), 'Ts': Field([ 288.])}"
       ]
      }
     ],
     "prompt_number": 12
    },
    {
     "cell_type": "code",
     "collapsed": false,
     "input": [
      "# perform a single time step\n",
      "col.step_forward()"
     ],
     "language": "python",
     "metadata": {},
     "outputs": [],
     "prompt_number": 13
    },
    {
     "cell_type": "code",
     "collapsed": false,
     "input": [
      "col.state"
     ],
     "language": "python",
     "metadata": {},
     "outputs": [
      {
       "metadata": {},
       "output_type": "pyout",
       "prompt_number": 14,
       "text": [
        "{'Tatm': Field([ 273.36702765,  230.33798024]), 'Ts': Field([ 289.59166458])}"
       ]
      }
     ],
     "prompt_number": 14
    },
    {
     "cell_type": "code",
     "collapsed": false,
     "input": [
      "# integrate out to radiative equilibrium\n",
      "col.integrate_years(2.)"
     ],
     "language": "python",
     "metadata": {},
     "outputs": [
      {
       "output_type": "stream",
       "stream": "stdout",
       "text": [
        "Integrating for 730 steps, 730.4844 days, or 2.0 years.\n",
        "Total elapsed time is 2.00962539378 years."
       ]
      },
      {
       "output_type": "stream",
       "stream": "stdout",
       "text": [
        "\n"
       ]
      }
     ],
     "prompt_number": 15
    },
    {
     "cell_type": "code",
     "collapsed": false,
     "input": [
      "# Check for equilibrium\n",
      "col.diagnostics['ASR'] - col.diagnostics['OLR']"
     ],
     "language": "python",
     "metadata": {},
     "outputs": [
      {
       "metadata": {},
       "output_type": "pyout",
       "prompt_number": 16,
       "text": [
        "Field([ -5.18831570e-07])"
       ]
      }
     ],
     "prompt_number": 16
    },
    {
     "cell_type": "code",
     "collapsed": false,
     "input": [
      "#  Compare these temperatures against our analytical solutions for radiative equilibrium\n",
      "col.state"
     ],
     "language": "python",
     "metadata": {},
     "outputs": [
      {
       "metadata": {},
       "output_type": "pyout",
       "prompt_number": 17,
       "text": [
        "{'Tatm': Field([ 262.09418933,  233.63309631]), 'Ts': Field([ 296.20871176])}"
       ]
      }
     ],
     "prompt_number": 17
    },
    {
     "cell_type": "markdown",
     "metadata": {},
     "source": [
      "So it looks like `climlab` agrees with our analytical results. That's good."
     ]
    },
    {
     "cell_type": "markdown",
     "metadata": {},
     "source": [
      "____________\n",
      "<a id='section3'></a>\n",
      "\n",
      "## 3. The observed annual, global mean temperature profile\n",
      "____________\n",
      "\n",
      "We want to model the OLR in a column whose temperatures match observations. As we've done before, we'll calculate the global, annual mean air temperature from the NCEP Reanalysis data."
     ]
    },
    {
     "cell_type": "code",
     "collapsed": false,
     "input": [
      "ncep_url = \"http://www.esrl.noaa.gov/psd/thredds/dodsC/Datasets/ncep.reanalysis.derived/\"\n",
      "ncep_air = nc.Dataset( ncep_url + \"pressure/air.mon.1981-2010.ltm.nc\" )\n",
      "level = ncep_air.variables['level'][:]\n",
      "lat = ncep_air.variables['lat'][:]\n",
      "zstar = np.log(level/1000)"
     ],
     "language": "python",
     "metadata": {},
     "outputs": [],
     "prompt_number": 18
    },
    {
     "cell_type": "code",
     "collapsed": false,
     "input": [
      "Tzon = np.mean(ncep_air.variables['air'][:],axis=(0,3))\n",
      "Tglobal = np.average( Tzon , weights=np.cos(np.deg2rad(lat)), axis=1) + climlab.constants.tempCtoK\n",
      "#  Note the useful conversion factor. climlab.constants has lots of commonly used constant pre-defined"
     ],
     "language": "python",
     "metadata": {},
     "outputs": [],
     "prompt_number": 19
    },
    {
     "cell_type": "code",
     "collapsed": false,
     "input": [
      "fig = plt.figure( figsize=(8,6) )\n",
      "ax = fig.add_subplot(111)\n",
      "ax.plot( Tglobal , level )\n",
      "ax.invert_yaxis()\n",
      "ax.set_xlabel('Temperature (K)', fontsize=16)\n",
      "ax.set_ylabel('Pressure (hPa)', fontsize=16 )\n",
      "ax.set_title('Global, annual mean sounding from NCEP Reanalysis', fontsize = 24)\n",
      "ax.grid()"
     ],
     "language": "python",
     "metadata": {},
     "outputs": [
      {
       "metadata": {},
       "output_type": "display_data",
       "png": "[encoded data removed]",
       "text": [
        "<matplotlib.figure.Figure at 0x10de38210>"
       ]
      }
     ],
     "prompt_number": 20
    },
    {
     "cell_type": "markdown",
     "metadata": {},
     "source": [
      "____________\n",
      "<a id='section4'></a>\n",
      "\n",
      "## 4. A 30-layer model using the observed temperatures\n",
      "____________\n",
      "\n"
     ]
    },
    {
     "cell_type": "code",
     "collapsed": false,
     "input": [
      "#  initialize a grey radiation model with 30 levels\n",
      "col = climlab.GreyRadiationModel()\n",
      "print col"
     ],
     "language": "python",
     "metadata": {},
     "outputs": [
      {
       "output_type": "stream",
       "stream": "stdout",
       "text": [
        "climlab Process of type <class 'climlab.model.column.GreyRadiationModel'>. \n",
        "State variables and domain shapes: \n",
        "  Tatm: (30,) \n",
        "  Ts: (1,) \n",
        "The subprocess tree: \n",
        "top: <class 'climlab.model.column.GreyRadiationModel'>\n",
        "   LW: <class 'climlab.radiation.radiation.Radiation'>\n",
        "   SW: <class 'climlab.radiation.radiation.RadiationSW'>\n",
        "   surface: <class 'climlab.surface.surface_radiation.SurfaceRadiation'>\n",
        "   insolation: <class 'climlab.radiation.insolation.FixedInsolation'>\n",
        "\n"
       ]
      }
     ],
     "prompt_number": 21
    },
    {
     "cell_type": "code",
     "collapsed": false,
     "input": [
      "# interpolate to 30 evenly spaced pressure levels\n",
      "lev = col.lev\n",
      "Tinterp = np.flipud(np.interp(np.flipud(lev), np.flipud(level), np.flipud(Tglobal)))\n",
      "Tinterp\n",
      "#  Need to 'flipud' because the interpolation routine needs the pressure data to be in increasing order"
     ],
     "language": "python",
     "metadata": {},
     "outputs": [
      {
       "metadata": {},
       "output_type": "pyout",
       "prompt_number": 22,
       "text": [
        "array([ 287.4463874 ,  285.6810201 ,  283.98269653,  282.48550415,\n",
        "        280.98831177,  279.29533895,  277.60236613,  275.90939331,\n",
        "        274.21642049,  272.25855509,  270.03579712,  267.81303914,\n",
        "        265.29490662,  262.48139954,  259.66789246,  256.48087056,\n",
        "        252.92033386,  249.35979716,  245.279658  ,  240.67991638,\n",
        "        236.08017476,  231.30422974,  226.3520813 ,  221.78253174,\n",
        "        217.19399007,  212.5864563 ,  208.29145304,  206.96234809,\n",
        "        211.6633606 ,  224.34736125])"
       ]
      }
     ],
     "prompt_number": 22
    },
    {
     "cell_type": "code",
     "collapsed": false,
     "input": [
      "# Initialize model with observed temperatures\n",
      "col.Ts[:] = Tglobal[0]\n",
      "col.Tatm[:] = Tinterp"
     ],
     "language": "python",
     "metadata": {},
     "outputs": [],
     "prompt_number": 23
    },
    {
     "cell_type": "code",
     "collapsed": false,
     "input": [
      "#  A handy re-usable routine for making a plot of the temperature profiles\n",
      "def plot_sounding(collist):\n",
      "    color_cycle=['r', 'g', 'b', 'y']\n",
      "    # col is either a column model object or a list of column model objects\n",
      "    if isinstance(collist, climlab.Process):\n",
      "        # make a list with a single item\n",
      "        collist = [collist]\n",
      "    fig = plt.figure()\n",
      "    ax = fig.add_subplot(111)\n",
      "    for i, col in enumerate(collist):\n",
      "        ax.plot(col.Tatm, col.lev, color=color_cycle[i])\n",
      "        ax.plot(col.Ts, climlab.constants.ps, 'o', markersize=12, color=color_cycle[i])\n",
      "    ax.invert_yaxis()\n",
      "    ax.set_xlabel('Temperature (K)')\n",
      "    ax.set_ylabel('Pressure (hPa)')\n",
      "    ax.grid()\n",
      "    return ax"
     ],
     "language": "python",
     "metadata": {},
     "outputs": [],
     "prompt_number": 24
    },
    {
     "cell_type": "code",
     "collapsed": false,
     "input": [
      "# This should look just like the observations\n",
      "plot_sounding(col)"
     ],
     "language": "python",
     "metadata": {},
     "outputs": [
      {
       "metadata": {},
       "output_type": "pyout",
       "prompt_number": 25,
       "text": [
        "<matplotlib.axes._subplots.AxesSubplot at 0x10de385d0>"
       ]
      },
      {
       "metadata": {},
       "output_type": "display_data",
       "png": "[encoded data removed]",
       "text": [
        "<matplotlib.figure.Figure at 0x10dfab550>"
       ]
      }
     ],
     "prompt_number": 25
    },
    {
     "cell_type": "markdown",
     "metadata": {},
     "source": [
      "### Tune absorptivity to get observed OLR"
     ]
    },
    {
     "cell_type": "code",
     "collapsed": false,
     "input": [
      "col.compute_diagnostics()\n",
      "col.diagnostics['OLR']"
     ],
     "language": "python",
     "metadata": {},
     "outputs": [
      {
       "metadata": {},
       "output_type": "pyout",
       "prompt_number": 26,
       "text": [
        "array([ 263.13271584])"
       ]
      }
     ],
     "prompt_number": 26
    },
    {
     "cell_type": "code",
     "collapsed": false,
     "input": [
      "# Need to tune absorptivity to get OLR = 239\n",
      "epsarray = np.linspace(0.01, 0.1, 100)\n",
      "OLRarray = np.zeros_like(epsarray)"
     ],
     "language": "python",
     "metadata": {},
     "outputs": [],
     "prompt_number": 27
    },
    {
     "cell_type": "code",
     "collapsed": false,
     "input": [
      "for i in range(epsarray.size):\n",
      "    col.subprocess['LW'].absorptivity = epsarray[i]\n",
      "    col.compute_diagnostics()\n",
      "    OLRarray[i] = col.diagnostics['OLR']\n",
      "\n",
      "plt.plot(epsarray, OLRarray)\n",
      "plt.grid()"
     ],
     "language": "python",
     "metadata": {},
     "outputs": [
      {
       "metadata": {},
       "output_type": "display_data",
       "png": "[encoded data removed]",
       "text": [
        "<matplotlib.figure.Figure at 0x111c85850>"
       ]
      }
     ],
     "prompt_number": 28
    },
    {
     "cell_type": "markdown",
     "metadata": {},
     "source": [
      "The necessary value seems to lie near 0.055 or so.\n",
      "\n",
      "We can be more precise with a numerical root-finder."
     ]
    },
    {
     "cell_type": "code",
     "collapsed": false,
     "input": [
      "def OLRanom(eps):\n",
      "    col.subprocess['LW'].absorptivity = eps\n",
      "    col.compute_diagnostics()\n",
      "    return col.diagnostics['OLR'] - 239."
     ],
     "language": "python",
     "metadata": {},
     "outputs": [],
     "prompt_number": 29
    },
    {
     "cell_type": "code",
     "collapsed": false,
     "input": [
      "# Use numerical root-finding to get the equilibria\n",
      "from scipy.optimize import brentq\n",
      "# brentq is a root-finding function\n",
      "#  Need to give it a function and two end-points\n",
      "#  It will look for a zero of the function between those end-points\n",
      "eps = brentq(OLRanom, 0.01, 0.1)\n",
      "print eps"
     ],
     "language": "python",
     "metadata": {},
     "outputs": [
      {
       "output_type": "stream",
       "stream": "stdout",
       "text": [
        "0.0533941755148\n"
       ]
      }
     ],
     "prompt_number": 30
    },
    {
     "cell_type": "code",
     "collapsed": false,
     "input": [
      "col.subprocess['LW'].absorptivity = eps\n",
      "col.subprocess['LW'].absorptivity"
     ],
     "language": "python",
     "metadata": {},
     "outputs": [
      {
       "metadata": {},
       "output_type": "pyout",
       "prompt_number": 31,
       "text": [
        "Field([ 0.05339418,  0.05339418,  0.05339418,  0.05339418,  0.05339418,\n",
        "        0.05339418,  0.05339418,  0.05339418,  0.05339418,  0.05339418,\n",
        "        0.05339418,  0.05339418,  0.05339418,  0.05339418,  0.05339418,\n",
        "        0.05339418,  0.05339418,  0.05339418,  0.05339418,  0.05339418,\n",
        "        0.05339418,  0.05339418,  0.05339418,  0.05339418,  0.05339418,\n",
        "        0.05339418,  0.05339418,  0.05339418,  0.05339418,  0.05339418])"
       ]
      }
     ],
     "prompt_number": 31
    },
    {
     "cell_type": "code",
     "collapsed": false,
     "input": [
      "col.compute_diagnostics()\n",
      "col.diagnostics['OLR']"
     ],
     "language": "python",
     "metadata": {},
     "outputs": [
      {
       "metadata": {},
       "output_type": "pyout",
       "prompt_number": 32,
       "text": [
        "array([ 239.])"
       ]
      }
     ],
     "prompt_number": 32
    },
    {
     "cell_type": "markdown",
     "metadata": {},
     "source": [
      "____________\n",
      "<a id='section5'></a>\n",
      "\n",
      "## 5. Radiative forcing in the 30-layer model\n",
      "____________\n",
      "\n",
      "Let's compute radiative forcing for a **2% increase in absorptivity**."
     ]
    },
    {
     "cell_type": "code",
     "collapsed": false,
     "input": [
      "#  clone our model using a built-in climlab function\n",
      "col2 = climlab.process_like(col)\n",
      "print col2"
     ],
     "language": "python",
     "metadata": {},
     "outputs": [
      {
       "output_type": "stream",
       "stream": "stdout",
       "text": [
        "climlab Process of type <class 'climlab.model.column.GreyRadiationModel'>. \n",
        "State variables and domain shapes: \n",
        "  Tatm: (30,) \n",
        "  Ts: (1,) \n",
        "The subprocess tree: \n",
        "top: <class 'climlab.model.column.GreyRadiationModel'>\n",
        "   LW: <class 'climlab.radiation.radiation.Radiation'>\n",
        "   SW: <class 'climlab.radiation.radiation.RadiationSW'>\n",
        "   insolation: <class 'climlab.radiation.insolation.FixedInsolation'>\n",
        "   surface: <class 'climlab.surface.surface_radiation.SurfaceRadiation'>\n",
        "\n"
       ]
      }
     ],
     "prompt_number": 33
    },
    {
     "cell_type": "code",
     "collapsed": false,
     "input": [
      "col2.subprocess['LW'].absorptivity *= 1.02\n",
      "col2.subprocess['LW'].absorptivity"
     ],
     "language": "python",
     "metadata": {},
     "outputs": [
      {
       "metadata": {},
       "output_type": "pyout",
       "prompt_number": 34,
       "text": [
        "Field([ 0.05446206,  0.05446206,  0.05446206,  0.05446206,  0.05446206,\n",
        "        0.05446206,  0.05446206,  0.05446206,  0.05446206,  0.05446206,\n",
        "        0.05446206,  0.05446206,  0.05446206,  0.05446206,  0.05446206,\n",
        "        0.05446206,  0.05446206,  0.05446206,  0.05446206,  0.05446206,\n",
        "        0.05446206,  0.05446206,  0.05446206,  0.05446206,  0.05446206,\n",
        "        0.05446206,  0.05446206,  0.05446206,  0.05446206,  0.05446206])"
       ]
      }
     ],
     "prompt_number": 34
    },
    {
     "cell_type": "code",
     "collapsed": false,
     "input": [
      "#  Radiative forcing by definition is the change in TOA radiative flux, HOLDING THE TEMPERATURES FIXED.\n",
      "col2.Ts - col.Ts"
     ],
     "language": "python",
     "metadata": {},
     "outputs": [
      {
       "metadata": {},
       "output_type": "pyout",
       "prompt_number": 35,
       "text": [
        "Field([ 0.])"
       ]
      }
     ],
     "prompt_number": 35
    },
    {
     "cell_type": "code",
     "collapsed": false,
     "input": [
      "col2.Tatm - col.Tatm"
     ],
     "language": "python",
     "metadata": {},
     "outputs": [
      {
       "metadata": {},
       "output_type": "pyout",
       "prompt_number": 36,
       "text": [
        "Field([ 0.,  0.,  0.,  0.,  0.,  0.,  0.,  0.,  0.,  0.,  0.,  0.,  0.,\n",
        "        0.,  0.,  0.,  0.,  0.,  0.,  0.,  0.,  0.,  0.,  0.,  0.,  0.,\n",
        "        0.,  0.,  0.,  0.])"
       ]
      }
     ],
     "prompt_number": 36
    },
    {
     "cell_type": "code",
     "collapsed": false,
     "input": [
      "col2.compute_diagnostics()\n",
      "col2.diagnostics['OLR']"
     ],
     "language": "python",
     "metadata": {},
     "outputs": [
      {
       "metadata": {},
       "output_type": "pyout",
       "prompt_number": 37,
       "text": [
        "array([ 237.15498512])"
       ]
      }
     ],
     "prompt_number": 37
    },
    {
     "cell_type": "markdown",
     "metadata": {},
     "source": [
      "The OLR decreased after we added the extra absorbers, as we expect. Now we can calculate the Radiative Forcing:"
     ]
    },
    {
     "cell_type": "code",
     "collapsed": false,
     "input": [
      "RF = -(col2.diagnostics['OLR'] - col.diagnostics['OLR'])\n",
      "print 'The radiative forcing is %f W/m2.' %RF"
     ],
     "language": "python",
     "metadata": {},
     "outputs": [
      {
       "output_type": "stream",
       "stream": "stdout",
       "text": [
        "The radiative forcing is 1.845015 W/m2.\n"
       ]
      }
     ],
     "prompt_number": 38
    },
    {
     "cell_type": "markdown",
     "metadata": {},
     "source": [
      "____________\n",
      "<a id='section6'></a>\n",
      "\n",
      "## 6. Radiative equilibrium in the 30-layer model\n",
      "____________\n"
     ]
    },
    {
     "cell_type": "code",
     "collapsed": false,
     "input": [
      "re = climlab.process_like(col)"
     ],
     "language": "python",
     "metadata": {},
     "outputs": [],
     "prompt_number": 39
    },
    {
     "cell_type": "code",
     "collapsed": false,
     "input": [
      "#  To get to equilibrium, we just time-step the model forward long enough\n",
      "re.integrate_years(2.)"
     ],
     "language": "python",
     "metadata": {},
     "outputs": [
      {
       "output_type": "stream",
       "stream": "stdout",
       "text": [
        "Integrating for 730 steps, 730.4844 days, or 2.0 years.\n",
        "Total elapsed time is 2.91039753895 years."
       ]
      },
      {
       "output_type": "stream",
       "stream": "stdout",
       "text": [
        "\n"
       ]
      }
     ],
     "prompt_number": 40
    },
    {
     "cell_type": "code",
     "collapsed": false,
     "input": [
      "#  Check for energy balance\n",
      "re.diagnostics['ASR'] - re.diagnostics['OLR']"
     ],
     "language": "python",
     "metadata": {},
     "outputs": [
      {
       "metadata": {},
       "output_type": "pyout",
       "prompt_number": 41,
       "text": [
        "Field([ -8.68345893e-07])"
       ]
      }
     ],
     "prompt_number": 41
    },
    {
     "cell_type": "code",
     "collapsed": false,
     "input": [
      "plot_sounding([col, re])"
     ],
     "language": "python",
     "metadata": {},
     "outputs": [
      {
       "metadata": {},
       "output_type": "pyout",
       "prompt_number": 42,
       "text": [
        "<matplotlib.axes._subplots.AxesSubplot at 0x113023cd0>"
       ]
      },
      {
       "metadata": {},
       "output_type": "display_data",
       "png": "[encoded data removed]",
       "text": [
        "<matplotlib.figure.Figure at 0x113023710>"
       ]
      }
     ],
     "prompt_number": 42
    },
    {
     "cell_type": "markdown",
     "metadata": {},
     "source": [
      "Some properties of the **radiative equilibrium** temperature profile:\n",
      "\n",
      "- The surface is warmer than observed.\n",
      "- The lower troposphere is colder than observed.\n",
      "- Very cold air is sitting immediately above the warm surface.\n",
      "- There is no tropopause, no stratosphere."
     ]
    },
    {
     "cell_type": "markdown",
     "metadata": {},
     "source": [
      "____________\n",
      "<a id='section7'></a>\n",
      "\n",
      "## 7. Radiative-Convective Equilibrium in the 30-layer model\n",
      "____________\n",
      "\n",
      "We recognize that the large drop in temperature just above the surface is unphysical. Parcels of air in direct contact with the ground will be warmed by mechansisms other than radiative transfer.\n",
      "\n",
      "These warm air parcels will then become buoyant, and will convect upward, mixing their heat content with the environment.\n",
      "\n",
      "We **parameterize** the statistical effects of this mixing through a **convective adjustment**. \n",
      "\n",
      "At each timestep, our model checks for any locations at which the **lapse rate** exceeds some threshold. Unstable layers are removed through an energy-conserving mixing formula.\n",
      "\n",
      "This process is assumed to be fast relative to radiative heating. In the model, it is instantaneous."
     ]
    },
    {
     "cell_type": "code",
     "collapsed": false,
     "input": [
      "rce = climlab.RadiativeConvectiveModel(adj_lapse_rate=6.)\n",
      "print rce"
     ],
     "language": "python",
     "metadata": {},
     "outputs": [
      {
       "output_type": "stream",
       "stream": "stdout",
       "text": [
        "climlab Process of type <class 'climlab.model.column.RadiativeConvectiveModel'>. \n",
        "State variables and domain shapes: \n",
        "  Tatm: (30,) \n",
        "  Ts: (1,) \n",
        "The subprocess tree: \n",
        "top: <class 'climlab.model.column.RadiativeConvectiveModel'>\n",
        "   convective adjustment: <class 'climlab.convection.convadj.ConvectiveAdjustment'>\n",
        "   LW: <class 'climlab.radiation.radiation.Radiation'>\n",
        "   SW: <class 'climlab.radiation.radiation.RadiationSW'>\n",
        "   surface: <class 'climlab.surface.surface_radiation.SurfaceRadiation'>\n",
        "   insolation: <class 'climlab.radiation.insolation.FixedInsolation'>\n",
        "\n"
       ]
      }
     ],
     "prompt_number": 43
    },
    {
     "cell_type": "markdown",
     "metadata": {},
     "source": [
      "This model is exactly like our previous models, except for one additional subprocess called ``convective adjustment``. \n",
      "\n",
      "We passed a parameter ``adj_lapse_rate`` (in K / km) that sets the neutrally stable lapse rate -- in this case, 6 K / km.\n",
      "\n",
      "This number is chosed to very loosely represent the net effect of **moist convection**. We'll look at this in more detail later."
     ]
    },
    {
     "cell_type": "code",
     "collapsed": false,
     "input": [
      "# Set our tuned absorptivity value\n",
      "rce.subprocess['LW'].absorptivity = eps"
     ],
     "language": "python",
     "metadata": {},
     "outputs": [],
     "prompt_number": 44
    },
    {
     "cell_type": "code",
     "collapsed": false,
     "input": [
      "#  Run out to equilibrium\n",
      "rce.integrate_years(2.)"
     ],
     "language": "python",
     "metadata": {},
     "outputs": [
      {
       "output_type": "stream",
       "stream": "stdout",
       "text": [
        "Integrating for 730 steps, 730.4844 days, or 2.0 years.\n",
        "Total elapsed time is 1.99867375676 years."
       ]
      },
      {
       "output_type": "stream",
       "stream": "stdout",
       "text": [
        "\n"
       ]
      }
     ],
     "prompt_number": 45
    },
    {
     "cell_type": "code",
     "collapsed": false,
     "input": [
      "#  Check for energy balance\n",
      "rce.diagnostics['ASR'] - rce.diagnostics['OLR']"
     ],
     "language": "python",
     "metadata": {},
     "outputs": [
      {
       "metadata": {},
       "output_type": "pyout",
       "prompt_number": 46,
       "text": [
        "Field([  6.23629685e-06])"
       ]
      }
     ],
     "prompt_number": 46
    },
    {
     "cell_type": "code",
     "collapsed": false,
     "input": [
      "#  Make a plot to compare observations, Radiative Equilibrium, and Radiative-Convective Equilibrium\n",
      "plot_sounding([col, re, rce])"
     ],
     "language": "python",
     "metadata": {},
     "outputs": [
      {
       "metadata": {},
       "output_type": "pyout",
       "prompt_number": 47,
       "text": [
        "<matplotlib.axes._subplots.AxesSubplot at 0x1130a6810>"
       ]
      },
      {
       "metadata": {},
       "output_type": "display_data",
       "png": "[encoded data removed]",
       "text": [
        "<matplotlib.figure.Figure at 0x113230ed0>"
       ]
      }
     ],
     "prompt_number": 47
    },
    {
     "cell_type": "markdown",
     "metadata": {},
     "source": [
      "Introducing convective adjustment into the model cools the surface quite a bit (compared to Radiative Equilibrium, in green here) -- and warms the lower troposphere. It gives us a MUCH better fit to observations.\n",
      "\n",
      "But of course we still have no stratosphere."
     ]
    },
    {
     "cell_type": "markdown",
     "metadata": {},
     "source": [
      "<div class=\"alert alert-success\">\n",
      "[Back to ATM 623 notebook home](../index.ipynb)\n",
      "</div>"
     ]
    },
    {
     "cell_type": "markdown",
     "metadata": {},
     "source": [
      "____________\n",
      "## Credits\n",
      "\n",
      "The author of this notebook is [Brian E. J. Rose](http://www.atmos.albany.edu/facstaff/brose/index.html), University at Albany.\n",
      "\n",
      "It was developed in support of [ATM 623: Climate Modeling](http://www.atmos.albany.edu/facstaff/brose/classes/ATM623_Spring2015/), a graduate-level course in the [Department of Atmospheric and Envionmental Sciences](http://www.albany.edu/atmos/index.php), offered in Spring 2015.\n",
      "____________"
     ]
    }
   ],
   "metadata": {}
  }
 ]
}