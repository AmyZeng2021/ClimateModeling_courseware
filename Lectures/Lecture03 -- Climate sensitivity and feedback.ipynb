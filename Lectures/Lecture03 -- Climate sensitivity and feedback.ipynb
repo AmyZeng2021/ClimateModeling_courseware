{
 "cells": [
  {
   "cell_type": "markdown",
   "metadata": {},
   "source": [
    "# [ATM 623: Climate Modeling](../index.ipynb)\n",
    "[Brian E. J. Rose](http://www.atmos.albany.edu/facstaff/brose/index.html), University at Albany\n",
    "# Lecture 3: Climate sensitivity and feedback\n",
    "\n",
    "Tuesday February 3 and Thursday February 5, 2015"
   ]
  },
  {
   "cell_type": "markdown",
   "metadata": {},
   "source": [
    "### About these notes:\n",
    "\n",
    "This document uses the interactive [`IPython notebook`](http://ipython.org/notebook.html) format (now also called [`Jupyter`](https://jupyter.org)). The notes can be accessed in several different ways:\n",
    "\n",
    "- The interactive notebooks are hosted on `github` at https://github.com/brian-rose/ClimateModeling_courseware\n",
    "- The latest versions can be viewed as static web pages [rendered on nbviewer](http://nbviewer.ipython.org/github/brian-rose/ClimateModeling_courseware/blob/master/index.ipynb)\n",
    "- A complete snapshot of the notes as of May 2015 (end of spring semester) are [available on Brian's website](http://www.atmos.albany.edu/facstaff/brose/classes/ATM623_Spring2015/Notes/index.html).\n",
    "\n",
    "Many of these notes make use of the `climlab` package, available at https://github.com/brian-rose/climlab"
   ]
  },
  {
   "cell_type": "markdown",
   "metadata": {},
   "source": [
    "## Contents\n",
    "\n",
    "1. [The feedback concept](#section1)\n",
    "2. [Climate feedback: some definitions](#section2)\n",
    "3. [Calculating $\\lambda$ for the zero-dimensional EBM](#section3)\n",
    "4. [Climate sensitivity](#section4)\n",
    "5. [Feedbacks diagnosed from complex climate models](#section5)\n",
    "6. [Feedback analysis of the zero-dimensional model with variable albedo](#section6)"
   ]
  },
  {
   "cell_type": "markdown",
   "metadata": {},
   "source": [
    "## Preamble\n",
    "\n",
    "- Questions and discussion about the previous take-home assignment on\n",
    "    - zero-dimensional EBM\n",
    "    - exponential relaxation\n",
    "    - timestepping the model to equilibrium\n",
    "    - multiple equilibria with ice albedo feedback\n",
    "- Reading assigment:\n",
    "    - Everyone needs to read through Chapters 1 and 2 of \"The Climate Modelling Primer (4th ed)\"\n",
    "    - It is now on reserve at the Science Library\n",
    "    - Read it ASAP, but definitely before the mid-term exam\n",
    "- Discuss the use of IPython notebook"
   ]
  },
  {
   "cell_type": "markdown",
   "metadata": {},
   "source": [
    "____________\n",
    "<a id='section1'></a>\n",
    "\n",
    "## 1. The feedback concept\n",
    "____________\n",
    "\n",
    "A concept borrowed from electrical engineering. You have all probably heard or used the term before, but we’ll try take a more precise approach today.\n",
    "\n",
    "A feedback occurs when a portion of the output from the action of a system is added to the input and subsequently alters the output:"
   ]
  },
  {
   "cell_type": "code",
   "execution_count": null,
   "metadata": {
    "collapsed": false
   },
   "outputs": [],
   "source": [
    "from IPython.display import Image\n",
    "Image(filename='../images/feedback_sketch.png', width=500)"
   ]
  },
  {
   "cell_type": "markdown",
   "metadata": {},
   "source": [
    "The result of a loop system can either be amplification or dampening of the process, depending on the sign of the gain in the loop.\n",
    "\n",
    "We will call amplifying feedbacks **positive** and damping feedbacks **negative**.\n",
    "\n",
    "We can think of the “process” here as the entire climate system, which contains many examples of both positive and negative feedback.\n"
   ]
  },
  {
   "cell_type": "markdown",
   "metadata": {},
   "source": [
    "### Two classic examples:\n",
    "\n",
    "#### Water vapor feedback\n",
    "\n",
    "The capacity of the atmosphere to hold water vapor (saturation specific humidity) increases exponentially with temperature. Warming is thus accompanied by moistening (more water vapor), which leads to more warming due to the enhanced water vapor greenhouse effect.\n",
    "\n",
    "**Positive or negative feedback?**\n",
    "\n",
    "#### Ice-albedo feedback\n",
    "\n",
    "Colder temperatures lead to expansion of the areas covered by ice and snow, which tend to be more reflective than water and vegetation. This causes a reduction in the absorbed solar radiation, which leads to more cooling. \n",
    "\n",
    "**Positive or negative feedback?**\n",
    "\n",
    "*Make sure it’s clear that the sign of the feedback is the same whether we are talking about warming or cooling.*"
   ]
  },
  {
   "cell_type": "markdown",
   "metadata": {},
   "source": [
    "_____________\n",
    "<a id='section2'></a>\n",
    "## 2. Climate feedback: some definitions\n",
    "____________\n",
    "\n",
    "\n",
    "Let’s go back to the concept of the **planetary energy budget**:\n",
    "\n",
    "$$C \\frac{d T_s}{dt} = F_{TOA} $$\n",
    "\n",
    "where \n",
    "\n",
    "$$ F_{TOA} = (1-\\alpha) Q - \\sigma T_e^4$$\n",
    "\n",
    "is the **net downward energy flux** at the top of the atmosphere.\n",
    "\n",
    "So for example when the planet is in equilibrium, we have $d/dt = 0$, or solar energy in = longwave emissions out\n",
    "\n",
    "Let’s imagine we force the climate to change by adding some extra energy to the system, perhaps due to an increase in greenhouse gases, or a decrease in reflective aerosols. Call this extra energy a **radiative forcing**, denoted by $R$ in W m$^{-2}$. \n",
    "\n",
    "The climate change will be governed by\n",
    "\n",
    "$$C \\frac{d \\Delta T_s}{dt} = R + \\Delta F_{TOA}$$\n",
    "\n",
    "where $\\Delta T_s$ is the change in global mean surface temperature. This budget accounts for two kinds of changes to $T_s$:\n",
    "\n",
    "- due to the radiative forcing: $R$\n",
    "- due to resulting changes in radiative processes (internal to the climate system): $\\Delta F_{TOA}$\n",
    "\n",
    "### The feedback factor: a linearization of the perturbation energy budget\n",
    "\n",
    "The **key assumption** in climate feedback analysis is that *changes in radiative flux are proportional to surface temperature changes*:\n",
    "\n",
    "$$ \\Delta F_{TOA} = \\lambda \\Delta T_s $$\n",
    "\n",
    "where $\\lambda$ is a constant of proportionality, with units of W m$^{-2}$ K$^{-1}$.\n",
    "\n",
    "Mathematically, we are assuming that the changes are sufficiently small that we can linearize the budget about the equilibrium state (as we did explicitly in our previous analysis of the zero-dimensional EBM).\n",
    "\n",
    "Using a first-order Taylor Series expansion, a generic definition for $\\lambda$ is thus\n",
    "\n",
    "$$ \\lambda = \\frac{\\partial}{\\partial T_s} \\bigg( \\Delta F_{TOA} \\bigg) $$\n",
    "\n",
    "The budget for the perturbation temperature then becomes\n",
    "\n",
    "$$ C  \\frac{d \\Delta T}{dt} = R + \\lambda \\Delta T_s $$\n",
    "\n",
    "We will call $\\lambda$ the **climate feedback parameter**.\n",
    "\n",
    "A key question for which we need climate models is this: \n",
    "\n",
    "*How much warming do we expect for a given radiative forcing?* \n",
    "\n",
    "Or more explicitly, how much warming if we double atmospheric CO$_2$ concentration (which it turns out produces a radiative forcing of roughly 4 W m$^{-2}$, as we will see later).\n",
    "\n",
    "Given sufficient time, the system will reach its new equilibrium temperature, at which point\n",
    "\n",
    "$$\\frac{d \\Delta T_s}{dt} = 0$$\n",
    "\n",
    "And the perturbation budget is thus\n",
    "\n",
    "$$ 0 = R + \\lambda \\Delta T_s $$\n",
    "\n",
    "or\n",
    "\n",
    "$$ \\Delta T_s = - \\frac{R}{\\lambda}$$\n",
    "\n",
    "where $R$ is the forcing in W m$^{-2}$ and $\\lambda$ is the feedback in W m$^{-2}$ K$^{-1}$. \n",
    "\n",
    "Notice that we have NOT invoked a specific model for the radiative emissions (yet). This is a very general concept that we can apply to ANY climate model.\n",
    "\n",
    "We have defined things here such that **$\\lambda > 0$ for a positive feedback, $\\lambda < 0$ for a negative feedback**. That’s convenient!\n",
    "\n",
    "### Decomposing the feedback into additive components\n",
    "\n",
    "Another thing to note: we can decompose the total climate feedback into **additive components** due to different processes:\n",
    "\n",
    "$$ \\lambda = \\lambda_0 + \\lambda_1 + \\lambda_2 + ... = \\sum_{i=0}^n \\lambda_i$$\n",
    "\n",
    "This is possible because of our assumption of linear dependence on $\\Delta T_s$.\n",
    "\n",
    "We might decompose the net climate feedbacks into, for example\n",
    "\n",
    "- longwave and shortwave processes\n",
    "- cloud and non-cloud processes\n",
    "\n",
    "These individual feedback processes may be positive or negative. This is very powerful, because we can **measure the relative importance of different feedback processes** simply by comparing their $\\lambda_i$ values.\n",
    "\n",
    "Let’s reserve the symbol $\\lambda$ to mean the overall or net climate feedback, and use subscripts to denote specific feedback processes.\n",
    "\n",
    "QUESTION: what is the sign of $\\lambda$?\n",
    "\n",
    "Could there be energy balance for a planet with a positive λ? Think about your experiences timestepping the energy budget equation."
   ]
  },
  {
   "cell_type": "markdown",
   "metadata": {},
   "source": [
    "_____________\n",
    "<a id='section3'></a>\n",
    "## 3. Calculating $\\lambda$ for the zero-dimensional EBM\n",
    "____________\n",
    "\n",
    "Our prototype climate model is the **zero-dimensional EBM**\n",
    "\n",
    "$$C \\frac{d T_s}{dt}=(1-α)Q-σ(\\beta T_s )^4$$\n",
    "\n",
    "where $\\beta$ is a parameter measuring the proportionality between surface temperature and emission temperature. From observations we estimate \n",
    "\n",
    "$$ \\beta = 255 / 288 = 0.885$$\n",
    "\n",
    "We now add a radiative forcing to the model:\n",
    "\n",
    "$$C \\frac{d T_s}{dt}=(1-α)Q-σ(\\beta T_s )^4 + R $$\n",
    "\n",
    "We saw in the previous lecture that we can **linearize** the model about a reference temperature $\\overline{T_s}$ using a first-order Taylor expansion to get \n",
    "\n",
    "$$C \\frac{d \\Delta T_s}{d t} = R + \\lambda \\Delta T_s$$\n",
    "\n",
    "with the constant of proportionality\n",
    "\n",
    "$$\\lambda = -\\Big(4 \\sigma \\beta^4 \\overline{T_s}^3 \\Big)$$\n",
    "\n",
    "which, according to the terminology we have just introduced above, is the net climate feedback for this model.\n",
    "\n",
    "Evaluating $\\lambda$ at the observed global mean temperature of 288 K and using our tuned value of $\\beta$ gives\n",
    "\n",
    "$$ \\lambda = -3.3 ~\\text{W} ~\\text{m}^{-2} ~\\text{K}^{-1} $$\n",
    "\n",
    "Note that we are treating the albedo $\\alpha$ as fixed in this model. We will generalize to variable albedo below.\n",
    "\n",
    "### What does this mean?\n",
    "\n",
    "It means that, for every W m$^{-2}$ of excess energy we put into our system, our model predicts that the surface temperature must increase by $-1/ \\lambda = 0.3$ K in order to re-establish planetary energy balance.\n",
    "\n",
    "This model only represents a **single feedback process**: the increase in longwave emission to space with surface warming.\n",
    "\n",
    "This is called the **Planck feedback** because it is fundamentally due to the Planck blackbody radiation law (warmer temperatures = higher emission). \n",
    "\n",
    "Here and henceforth we will denote this feedback by $\\lambda_0$. To be clear, we are saying that *for this particular climate model*\n",
    "\n",
    "$$ \\lambda = \\lambda_0 = -\\Big(4 \\sigma \\beta^4 \\overline{T_s}^3 \\Big) $$\n",
    "\n",
    "### Every climate model has a Planck feedback\n",
    "\n",
    "The Planck feedback is the most basic and universal climate feedback, and is present in every climate model. It is simply an expression of the fact that a warm planet radiates more to space than a cold planet.\n",
    "\n",
    "As we will see, our estimate of $\\lambda_0 = -3.3 ~\\text{W} ~\\text{m}^{-2} ~\\text{K}^{-1} $ is essentially the same as the Planck feedback diagnosed from complex GCMs. Unlike our simple zero-dimensional model, however, most other climate models (and the real climate system) have other radiative processes, such that $\\lambda \\ne \\lambda_0$."
   ]
  },
  {
   "cell_type": "markdown",
   "metadata": {},
   "source": [
    "________________\n",
    "<a id='section4'></a>\n",
    "## 4. Climate sensitivity\n",
    "____________\n",
    "\n",
    "Let’s now define another important term:\n",
    "\n",
    "**Equilibrium Climate Sensitivity (ECS)**: the global mean surface warming necessary to *balance the planetary energy budget* after a *doubling* of atmospheric CO2.\n",
    "\n",
    "We will denote this temperature as $\\Delta T_{2\\times CO_2}$\n",
    "\n",
    "ECS is an important number. A major goal of climate modeling is to provide better estimates of ECS and its uncertainty.\n",
    "\n",
    "Let's estimate ECS for our zero-dimensional model. We know that the warming for any given radiative forcing $R$ is\n",
    "\n",
    "$$ \\Delta T_s = - \\frac{R}{\\lambda}$$\n",
    "\n",
    "To calculate $\\Delta T_{2\\times CO_2}$ we need to know the radiative forcing from doubling CO$_2$, which we will denote $R_{2\\times CO_2}$. We will spend some time looking at this quantity later in the semester. For now, let's just take a reasonable value \n",
    "\n",
    "$$ R_{2\\times CO_2} \\approx 4 ~\\text{W} ~\\text{m}^{-2} $$\n",
    "\n",
    "Our estimate of ECS follows directly:\n",
    "\n",
    "$$ \\Delta T_{2\\times CO_2} = - \\frac{R_{2\\times CO_2}}{\\lambda} = - \\frac{4 ~\\text{W} ~\\text{m}^{-2}}{-3.3 ~\\text{W} ~\\text{m}^{-2} ~\\text{K}^{-1}} = 1.2 ~\\text{K} $$\n",
    "\n",
    "### Is this a good estimate?\n",
    "\n",
    "**What are the current best estimates for ECS?**\n",
    "\n",
    "Latest IPCC report AR5 gives a likely range of **1.5 to 4.5 K**.\n",
    "(there is lots of uncertainty in these numbers – we will definitely come back to this question)\n",
    "\n",
    "So our simplest of simple climate models is apparently **underestimating climate sensitivity**.\n",
    "\n",
    "Let’s assume that the true value is $\\Delta T_{2\\times CO_2} = 3 ~\\text{K}$ (middle of the range). \n",
    "\n",
    "This implies that the true net feedback is \n",
    "\n",
    "$$ \\lambda = -\\frac{R_{2\\times CO_2}}{\\Delta T_{2\\times CO_2}} = -\\frac{4 ~\\text{W} ~\\text{m}^{-2}}{3 ~\\text{K}} = -1.3 ~\\text{W} ~\\text{m}^{-2} ~\\text{K}^{-1} $$\n",
    "\n",
    "We can then deduce the total of the “missing” feedbacks:\n",
    "\n",
    "\n",
    "$$ \\lambda = \\lambda_0 + \\sum_{i=1}^n \\lambda_i $$\n",
    "$$ -1.3 ~\\text{W} ~\\text{m}^{-2} ~\\text{K}^{-1} = -3.3 ~\\text{W} ~\\text{m}^{-2} ~\\text{K}^{-1} + \\sum_{i=1}^n \\lambda_i $$\n",
    "$$ \\sum_{i=1}^n \\lambda_i = +2.0 ~\\text{W} ~\\text{m}^{-2} ~\\text{K}^{-1} $$\n",
    "\n",
    "The *net effect of all the processes not included* in our simple model is a **positive feedback**, which acts to **increase the equilibrium climate sensitivity**. Our model is not going to give accurate predictions of global warming because it does not account for these positive feedbacks.\n",
    "\n",
    "(This does not mean the feedback associated with every missing process is positive! Just that the linear sum of all the missing feedbacks is positive!)\n",
    "\n",
    "This is consistent with our discussion above. We started our feedback discussion with two examples (water vapor and albedo feedback) which are both positive, and both absent from our model!\n",
    "\n",
    "We've already seen (in homework exercise) a simple way to add an albedo feedback into the zero-dimensional model. We will analyze this version of the model below. But first, let's take a look at the feedbacks as diagnosed from current GCMs."
   ]
  },
  {
   "cell_type": "markdown",
   "metadata": {},
   "source": [
    "____________\n",
    "<a id='section5'></a>\n",
    "## 5. Feedbacks diagnosed from complex climate models\n",
    "____________\n",
    "\n",
    "### Data from the IPCC AR5\n",
    "\n",
    "This figure is reproduced from the recent IPCC AR5 report. It shows the feedbacks diagnosed from the various models that contributed to the assessment.\n",
    "\n",
    "(Later in the term we will discuss how the feedback diagnosis is actually done)\n",
    "\n",
    "See below for complete citation information."
   ]
  },
  {
   "cell_type": "code",
   "execution_count": null,
   "metadata": {
    "collapsed": false
   },
   "outputs": [],
   "source": [
    "feedback_ar5 = 'http://www.climatechange2013.org/images/figures/WGI_AR5_Fig9-43.jpg'\n",
    "Image(url=feedback_ar5, width=800)"
   ]
  },
  {
   "cell_type": "markdown",
   "metadata": {},
   "source": [
    "**Figure 9.43** | (a) Strengths of individual feedbacks for CMIP3 and CMIP5 models (left and right columns of symbols) for Planck (P), water vapour (WV), clouds (C), albedo (A), lapse rate (LR), combination of water vapour and lapse rate (WV+LR) and sum of all feedbacks except Planck (ALL), from Soden and Held (2006) and Vial et al. (2013), following Soden et al. (2008). CMIP5 feedbacks are derived from CMIP5 simulations for abrupt fourfold increases in CO2 concentrations (4 × CO2). (b) ECS obtained using regression techniques by Andrews et al. (2012) against ECS estimated from the ratio of CO2 ERF to the sum of all feedbacks. The CO2 ERF is one-half the 4 × CO2 forcings from Andrews et al. (2012), and the total feedback (ALL + Planck) is from Vial et al. (2013).\n",
    "\n",
    "*Figure caption reproduced from the AR5 WG1 report*"
   ]
  },
  {
   "cell_type": "markdown",
   "metadata": {},
   "source": [
    "Legend:\n",
    "\n",
    "- P: Planck feedback\n",
    "- WV: Water vapor feedback\n",
    "- LR: Lapse rate feedback\n",
    "- WV+LR: combined water vapor plus lapse rate feedback\n",
    "- C: cloud feedback\n",
    "- A: surface albedo feedback\n",
    "- ALL: sum of all feedback except Plank, i.e. ALL = WV+LR+C+A\n",
    "\n",
    "Things to note:\n",
    "\n",
    "- The models all agree strongly on the Planck feedback. \n",
    "- The Planck feedback is about $\\lambda_0 = -3.3 ~\\text{W} ~\\text{m}^{-2} ~\\text{K}^{-1} $ just like our above estimate.\n",
    "- The water vapor feedback is strongly positive in every model.\n",
    "- The lapse rate feedback is something we will study later. It is slightly negative.\n",
    "- For reasons we will discuss later, the best way to measure the water vapor feedback is to combine it with lapse rate feedback.\n",
    "- Models agree strongly on the combined water vapor plus lapse rate feedback.\n",
    "- The albedo feedback is slightly positive but rather small globally.\n",
    "- By far the largest spread across the models occurs in the cloud feedback.\n",
    "- Global cloud feedback ranges from slighly negative to strongly positive across the models.\n",
    "- Most of the spread in the total feedback is due to the spread in the cloud feedback.\n",
    "- Therefore, most of the spread in the ECS across the models is due to the spread in the cloud feedback.\n",
    "- Our estimate of $+2.0 ~\\text{W} ~\\text{m}^{-2} ~\\text{K}^{-1}$ for all the missing processes is consistent with the GCM ensemble."
   ]
  },
  {
   "cell_type": "markdown",
   "metadata": {},
   "source": [
    "### Citation\n",
    "\n",
    "This is Figure 9.43 from Chapter 9 of the IPCC AR5 Working Group 1 report.\n",
    "\n",
    "The report and images can be found online at\n",
    "<http://www.climatechange2013.org/report/full-report/>\n",
    "\n",
    "The full citation is:\n",
    "\n",
    "Flato, G., J. Marotzke, B. Abiodun, P. Braconnot, S.C. Chou, W. Collins, P. Cox, F. Driouech, S. Emori, V. Eyring, C. Forest, P. Gleckler, E. Guilyardi, C. Jakob, V. Kattsov, C. Reason and M. Rummukainen, 2013: Evaluation of Climate Models. In: Climate Change 2013: The Physical Science Basis. Contribution of Working Group I to the Fifth Assessment Report of the Intergovernmental Panel on Climate Change [Stocker, T.F., D. Qin, G.-K. Plattner, M. Tignor, S.K. Allen, J. Boschung, A. Nauels, Y. Xia, V. Bex and P.M. Midgley (eds.)]. Cambridge University Press, Cambridge, United Kingdom and New York, NY, USA, pp. 741–866, doi:10.1017/CBO9781107415324.020"
   ]
  },
  {
   "cell_type": "markdown",
   "metadata": {},
   "source": [
    "____________\n",
    "<a id='section6'></a>\n",
    "## 6. Feedback analysis of the zero-dimensional model with variable albedo\n",
    "____________\n",
    "\n",
    "### The model\n",
    "\n",
    "In the recent homework you were asked to include a new process in the zero-dimensional EBM: a temperature-dependent albedo.\n",
    "\n",
    "We used the following formulae:\n",
    "$$C  \\frac{dT_s}{dt} =(1-\\alpha)Q - \\sigma (\\beta T_s)^4 + R$$\n",
    "\n",
    "$$ \\alpha(T_s) = \\left\\{ \\begin{array}{ccc}\n",
    "\\alpha_i &   & T_s \\le T_i \\\\\n",
    "\\alpha_o + (\\alpha_i-\\alpha_o) \\frac{(T_s-T_o)^2}{(T_i-T_o)^2} &   & T_i < T_s < T_o \\\\\n",
    "\\alpha_o &   & T_s \\ge T_o \\end{array} \\right\\}$$\n",
    "\n",
    "with the following parameters:\n",
    "\n",
    "- $R$ is a radiative forcing in W m$^{-2}$\n",
    "- $C = 4\\times 10^8$ J m$^{-2}$ K$^{-1}$ is a heat capacity for the atmosphere-ocean column\n",
    "- $\\alpha$ is the global mean planetary albedo\n",
    "- $\\sigma = 5.67 \\times 10^{-8}$ W m$^{-2}$ K$^{-4}$ is the Stefan-Boltzmann constant\n",
    "- $\\beta=0.885$ is our parameter for the proportionality between surface temperature and emission temperature\n",
    "- $Q = 341.3$ W m$^{-2}$ is the global-mean incoming solar radiation.\n",
    "- $\\alpha_o = 0.289$ is the albedo of a warm, ice-free planet\n",
    "- $\\alpha_i = 0.7$ is the albedo of a very cold, completely ice-covered planet\n",
    "- $T_o = 293$ K is the threshold temperature above which our model assumes the planet is ice-free\n",
    "- $T_i = 260$ K is the threshold temperature below which our model assumes the planet is completely ice covered. \n",
    "\n",
    "As you discovered in the homework, this model has **multiple equilibria**. For the parameters listed above, there are three equilibria. The warm (present-day) solution and the completely ice-covered solution are both stable equilibria. There is an intermediate solution that is an unstable equilibrium.\n",
    "\n",
    "### Feedback analysis\n",
    "\n",
    "In this model, the albedo is not fixed but depends on temperature. Therefore it will change in response to an initial warming or cooling. A feedback!\n",
    "\n",
    "The net climate feedback in this model is now\n",
    "\n",
    "$$ \\lambda = \\lambda_0 + \\lambda_\\alpha $$\n",
    "\n",
    "where we are denoting the albedo contribution as $\\lambda_\\alpha$. \n",
    "\n",
    "The Planck feedback is unchanged: $\\lambda_0 = -3.3 ~\\text{W} ~\\text{m}^{-2} ~\\text{K}^{-1} $\n",
    "\n",
    "To calculate $\\lambda_\\alpha$ we need to **linearize the albedo function**. Like any other linearization, we use a Taylor expansion and must take a first derivative:\n",
    "\n",
    "$$ \\Delta F_{TOA} = \\lambda \\Delta T_s = \\big(\\lambda_0 + \\lambda_\\alpha \\big) \\Delta T_s$$\n",
    "\n",
    "$$ \\lambda_0 = -\\Big(4 \\sigma \\beta^4 \\overline{T_s}^3 \\Big)$$\n",
    "\n",
    "$$ \\lambda_\\alpha = \\frac{d}{d T_s} \\Big( (1-\\alpha)Q \\Big)  = - Q \\frac{d \\alpha}{d T_s} $$\n",
    "\n",
    "Using the above definition for the albedo function, we get\n",
    "\n",
    "$$ \\lambda_\\alpha = -Q ~\\left\\{ \\begin{array}{ccc}\n",
    "0 &   & T_s \\le T_i \\\\\n",
    "2 (\\alpha_i-\\alpha_o) \\frac{(T_s-T_o)}{(T_i-T_o)^2} &   & T_i < T < T_o \\\\\n",
    "0 &   & T_s \\ge T_o \\end{array} \\right\\}$$\n",
    "\n",
    "Notice that the feedback we have just calculated in **not constant** but depends on the state of the climate system (i.e. the surface temperature).\n"
   ]
  },
  {
   "cell_type": "markdown",
   "metadata": {},
   "source": [
    "### Coding up the model in Python\n",
    "\n",
    "This largely repeats what I asked you to do in your homework."
   ]
  },
  {
   "cell_type": "code",
   "execution_count": null,
   "metadata": {
    "collapsed": false
   },
   "outputs": [],
   "source": [
    "%matplotlib inline\n",
    "import numpy as np\n",
    "import matplotlib.pyplot as plt"
   ]
  },
  {
   "cell_type": "code",
   "execution_count": null,
   "metadata": {
    "collapsed": false
   },
   "outputs": [],
   "source": [
    "def albedo(T, alpha_o = 0.289, alpha_i = 0.7, To = 293., Ti = 260.):\n",
    "    alb1 = alpha_o + (alpha_i-alpha_o)*(T-To)**2 / (Ti - To)**2\n",
    "    alb2 = np.where(T>Ti, alb1, alpha_i)\n",
    "    alb3 = np.where(T<To, alb2, alpha_o)\n",
    "    return alb3"
   ]
  },
  {
   "cell_type": "code",
   "execution_count": null,
   "metadata": {
    "collapsed": false
   },
   "outputs": [],
   "source": [
    "def ASR(T, Q=341.3):\n",
    "    alpha = albedo(T)\n",
    "    return Q * (1-alpha)\n",
    "\n",
    "def OLR(T, sigma=5.67E-8, beta=0.885):\n",
    "    return sigma * (beta*T)**4\n",
    "\n",
    "def Ftoa(T):\n",
    "    return ASR(T) - OLR(T)"
   ]
  },
  {
   "cell_type": "code",
   "execution_count": null,
   "metadata": {
    "collapsed": false
   },
   "outputs": [],
   "source": [
    "T = np.linspace(220., 300., 100)\n",
    "\n",
    "plt.plot(T, albedo(T))\n",
    "plt.xlabel('Temperature (K)')\n",
    "plt.ylabel('albedo')\n",
    "plt.ylim(0,1)\n",
    "plt.title('Albedo as a function of global mean temperature')"
   ]
  },
  {
   "cell_type": "markdown",
   "metadata": {},
   "source": [
    "### Graphical solution: TOA fluxes as functions of temperature"
   ]
  },
  {
   "cell_type": "code",
   "execution_count": null,
   "metadata": {
    "collapsed": false
   },
   "outputs": [],
   "source": [
    "plt.plot(T, OLR(T), label='OLR')\n",
    "plt.plot(T, ASR(T), label='ASR')\n",
    "plt.plot(T, Ftoa(T), label='Ftoa')\n",
    "plt.xlabel('Surface temperature (K)')\n",
    "plt.ylabel('TOA flux (W m$^{-2}$)')\n",
    "plt.grid()\n",
    "plt.legend(loc='upper left')"
   ]
  },
  {
   "cell_type": "markdown",
   "metadata": {},
   "source": [
    "### Numerical solution to get the three equilibrium temperatures"
   ]
  },
  {
   "cell_type": "code",
   "execution_count": null,
   "metadata": {
    "collapsed": false
   },
   "outputs": [],
   "source": [
    "# Use numerical root-finding to get the equilibria\n",
    "from scipy.optimize import brentq\n",
    "# brentq is a root-finding function\n",
    "#  Need to give it a function and two end-points\n",
    "#  It will look for a zero of the function between those end-points\n",
    "Teq1 = brentq(Ftoa, 280., 300.)\n",
    "Teq2 = brentq(Ftoa, 260., 280.)\n",
    "Teq3 = brentq(Ftoa, 200., 260.)\n",
    "\n",
    "print Teq1, Teq2, Teq3"
   ]
  },
  {
   "cell_type": "markdown",
   "metadata": {},
   "source": [
    "### Feedback analysis in the neighborhood of each equilibrium"
   ]
  },
  {
   "cell_type": "code",
   "execution_count": null,
   "metadata": {
    "collapsed": false
   },
   "outputs": [],
   "source": [
    "def lambda_0(T, beta=0.885, sigma=5.67E-8):\n",
    "    return -4 * sigma * beta**4 * T**3\n",
    "\n",
    "def lambda_alpha(T, Q=341.3, alpha_o = 0.289, alpha_i = 0.7, \n",
    "                 To = 293., Ti = 260.):\n",
    "    lam1 = 2*(alpha_i-alpha_o)*(T-To) / (Ti - To)**2\n",
    "    lam2 = np.where(T>Ti, lam1, 0.)\n",
    "    lam3 = np.where(T<To, lam2, 0.)\n",
    "    return -Q * lam3"
   ]
  },
  {
   "cell_type": "markdown",
   "metadata": {},
   "source": [
    "Here we will loop through each equilibrium temperature and compute the feedback factors for those temperatures.\n",
    "\n",
    "This code also shows an example of how to do nicely formated numerical output with the `print` function. The format string `%.1f` means floating point number rounded to one decimal place."
   ]
  },
  {
   "cell_type": "code",
   "execution_count": null,
   "metadata": {
    "collapsed": false
   },
   "outputs": [],
   "source": [
    "for Teq in (Teq1, Teq2, Teq3):\n",
    "    print 'Equilibrium temperature: %.1f K' % Teq\n",
    "    print '   Planck feedback: %.1f  W/m2/K' % lambda_0(Teq)\n",
    "    print '   Albedo feedback: %.1f  W/m2/K' % lambda_alpha(Teq)\n",
    "    print '         Net feedback: %.1f  W/m2/K' %(lambda_0(Teq) + lambda_alpha(Teq))"
   ]
  },
  {
   "cell_type": "markdown",
   "metadata": {},
   "source": [
    "### Results of the feedback analysis\n",
    "\n",
    "- The Planck feedback is always negative, but gets a bit weaker in absolute value at very cold temperatures.\n",
    "- The albedo feedback in this model depends strongly on the state of the system.\n",
    "- At the intermediate solution $T_s = 273.9$ K, the albedo feedback is strongly positive.\n",
    "- The **net feedback is positive** at this intermediate temperature.\n",
    "- The **net feedback is negative** at the warm and cold temperatures.\n",
    "\n",
    "### What does a **positive** net feedback mean?\n",
    "\n",
    "Recall from our analytical solutions of the linearized model that the temperature will evolve according to\n",
    "\n",
    "$$\\Delta T_s(t) = \\Delta T_s(0) \\exp \\bigg(-\\frac{t}{\\tau} \\bigg)$$\n",
    "\n",
    "with the timescale given by\n",
    "\n",
    "$$ \\tau = \\frac{C}{-\\lambda} $$\n",
    "\n",
    "In the vicinity of $T_s = 273.9$ K we find that $\\lambda > 0$ due to the very strong albedo feedback. Thus $\\tau < 0$ in this case, and we are dealing with **exponential growth** of the temperature anomaly rather than exponential decay.\n",
    "\n",
    "In other words, if the global mean temperature is close to (but not exactly) this value:"
   ]
  },
  {
   "cell_type": "code",
   "execution_count": null,
   "metadata": {
    "collapsed": false
   },
   "outputs": [],
   "source": [
    "print Teq2"
   ]
  },
  {
   "cell_type": "markdown",
   "metadata": {},
   "source": [
    "the climate system will rapidly warm up OR cool down. The temperature will NOT remain close to $T_s = 273.9$ K. This is an example of an **unstable equilibrium**. \n",
    "\n",
    "The final state of the system after a perturbation will be one of the **stable equilibria**:"
   ]
  },
  {
   "cell_type": "code",
   "execution_count": null,
   "metadata": {
    "collapsed": false
   },
   "outputs": [],
   "source": [
    "print Teq1, Teq3"
   ]
  },
  {
   "cell_type": "markdown",
   "metadata": {},
   "source": [
    "Hopefully this is consistent with what you found numerically in the homework."
   ]
  },
  {
   "cell_type": "markdown",
   "metadata": {},
   "source": [
    "<div class=\"alert alert-success\">\n",
    "[Back to ATM 623 notebook home](../index.ipynb)\n",
    "</div>"
   ]
  },
  {
   "cell_type": "markdown",
   "metadata": {},
   "source": [
    "____________\n",
    "## Version information\n",
    "____________\n"
   ]
  },
  {
   "cell_type": "code",
   "execution_count": null,
   "metadata": {
    "collapsed": false
   },
   "outputs": [],
   "source": [
    "%load_ext version_information\n",
    "%version_information numpy, climlab"
   ]
  },
  {
   "cell_type": "markdown",
   "metadata": {},
   "source": [
    "____________\n",
    "## Credits\n",
    "\n",
    "The author of this notebook is [Brian E. J. Rose](http://www.atmos.albany.edu/facstaff/brose/index.html), University at Albany.\n",
    "\n",
    "It was developed in support of [ATM 623: Climate Modeling](http://www.atmos.albany.edu/facstaff/brose/classes/ATM623_Spring2015/), a graduate-level course in the [Department of Atmospheric and Envionmental Sciences](http://www.albany.edu/atmos/index.php), offered in Spring 2015.\n",
    "____________\n"
   ]
  },
  {
   "cell_type": "code",
   "execution_count": null,
   "metadata": {
    "collapsed": false
   },
   "outputs": [],
   "source": []
  }
 ],
 "metadata": {
  "anaconda-cloud": {},
  "kernelspec": {
   "display_name": "Python [default]",
   "language": "python",
   "name": "python2"
  },
  "language_info": {
   "codemirror_mode": {
    "name": "ipython",
    "version": 2
   },
   "file_extension": ".py",
   "mimetype": "text/x-python",
   "name": "python",
   "nbconvert_exporter": "python",
   "pygments_lexer": "ipython2",
   "version": "2.7.12"
  }
 },
 "nbformat": 4,
 "nbformat_minor": 0
}
