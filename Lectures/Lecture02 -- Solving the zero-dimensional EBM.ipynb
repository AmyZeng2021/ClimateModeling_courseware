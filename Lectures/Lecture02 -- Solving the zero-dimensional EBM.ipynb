{
 "cells": [
  {
   "cell_type": "markdown",
   "metadata": {
    "slideshow": {
     "slide_type": "slide"
    }
   },
   "source": [
    "# [ATM 623: Climate Modeling](../index.ipynb)\n",
    "\n",
    "[Brian E. J. Rose](http://www.atmos.albany.edu/facstaff/brose/index.html), University at Albany\n",
    "\n",
    "# Lecture 2: Solving the zero-dimensional energy balance model"
   ]
  },
  {
   "cell_type": "markdown",
   "metadata": {
    "slideshow": {
     "slide_type": "skip"
    }
   },
   "source": [
    "### About these notes:\n",
    "\n",
    "This document uses the interactive [`Jupyter notebook`](https://jupyter.org) format. The notes can be accessed in several different ways:\n",
    "\n",
    "- The interactive notebooks are hosted on `github` at https://github.com/brian-rose/ClimateModeling_courseware\n",
    "- The latest versions can be viewed as static web pages [rendered on nbviewer](http://nbviewer.ipython.org/github/brian-rose/ClimateModeling_courseware/blob/master/index.ipynb)\n",
    "- A complete snapshot of the notes as of May 2017 (end of spring semester) are [available on Brian's website](http://www.atmos.albany.edu/facstaff/brose/classes/ATM623_Spring2017/Notes/index.html).\n",
    "\n",
    "[Also here is a legacy version from 2015](http://www.atmos.albany.edu/facstaff/brose/classes/ATM623_Spring2015/Notes/index.html).\n",
    "\n",
    "Many of these notes make use of the `climlab` package, available at https://github.com/brian-rose/climlab"
   ]
  },
  {
   "cell_type": "markdown",
   "metadata": {
    "slideshow": {
     "slide_type": "slide"
    }
   },
   "source": [
    "### From last class:\n",
    "\n",
    "- we wrote down a budget for the energy content of the global climate system\n",
    "- we wrote the OLR in terms of an effective emission temperature $T_e$\n",
    "- The equilibrium emission temperature for Earth is about $T_e \\approx 255$ K\n",
    "- This depends only on energy output from the Sun, and the planetary albedo\n",
    "- We assumed that global energy content is proportional to surface temperature $T_s$\n",
    "- We thus have a single equation in two unknown temperatures:\n",
    "\n",
    "$$C \\frac{d T_s}{dt} = (1-\\alpha) Q - \\sigma T_e^4$$\n"
   ]
  },
  {
   "cell_type": "markdown",
   "metadata": {
    "slideshow": {
     "slide_type": "slide"
    }
   },
   "source": [
    "### Parameterizing the dependence of OLR on surface temperature\n",
    "\n",
    "Later, we will introduce additional physics for column radiative transfer to link $T_s$ and $T_e$.\n",
    "For now, we'll make the **simplest assumption** we can:\n",
    "\n",
    "$$ T_e = \\beta T_s$$\n",
    "\n",
    "where $\\beta$ is a dimensionless constant. This is a **parameterization** that we introduce into the model for simplicity. We need a value for our **parameter** $\\beta$, which we will get from observations:"
   ]
  },
  {
   "cell_type": "code",
   "execution_count": 1,
   "metadata": {
    "slideshow": {
     "slide_type": "fragment"
    }
   },
   "outputs": [
    {
     "name": "stdout",
     "output_type": "stream",
     "text": [
      "0.298564312921\n",
      "254.909060187\n",
      "0.885100903427\n"
     ]
    }
   ],
   "source": [
    "sigma = 5.67E-8  #  Stefan-Boltzmann constant in W/m2/K4\n",
    "Q = 341.3  #  global mean insolation in W/m2\n",
    "alpha = 101.9 / Q    #  observed planetary albedo\n",
    "print alpha\n",
    "Te = ((1-alpha)*Q/sigma)**0.25  #  Emission temperature (definition)\n",
    "print Te\n",
    "Tsbar = 288.  # global mean surface temperature in K\n",
    "beta = Te / Tsbar   #  Calculate value of beta from observations\n",
    "print beta"
   ]
  },
  {
   "cell_type": "markdown",
   "metadata": {
    "slideshow": {
     "slide_type": "slide"
    }
   },
   "source": [
    "Using this parameterization, we can now write a closed equation for surface temperature:\n",
    "\n",
    "$$C \\frac{d T_s}{dt}=(1-α)Q-σ(\\beta T_s )^4$$"
   ]
  },
  {
   "cell_type": "markdown",
   "metadata": {
    "slideshow": {
     "slide_type": "slide"
    }
   },
   "source": [
    "### Solving the energy balance model\n",
    "\n",
    "This is a first-order Ordinary Differential Equation (ODE) for $T_s$ as a function of time. It is also our very first climate model.\n",
    "\n",
    "To solve it (i.e. see how $T_s$ evolves from some specified initial condition) we have two choices:\n",
    "\n",
    "1. Solve it analytically\n",
    "2. Solve it numerically"
   ]
  },
  {
   "cell_type": "markdown",
   "metadata": {
    "slideshow": {
     "slide_type": "slide"
    }
   },
   "source": [
    "Option 1 (analytical) will usually not be possible because the equations will typically be too complex and non-linear. This is why computers are our best friends in the world of climate modeling.\n",
    "\n",
    "HOWEVER it is often useful and instructive to simplify a model down to something that is analytically solvable when possible. Why? Two reasons:\n",
    "\n",
    "1. Analysis will often yield a deeper understanding of the behavior of the system\n",
    "2. Gives us a benchmark against which to test the results of our numerical solutions."
   ]
  },
  {
   "cell_type": "markdown",
   "metadata": {
    "slideshow": {
     "slide_type": "slide"
    }
   },
   "source": [
    "### Equilibrium solutions\n",
    "\n",
    "Note that equilibrium surface temperature has been tuned to observations: \n",
    "\n",
    "$$\\bar{T_s} = \\frac{1}{β} \\bigg( \\frac{(1-α)Q}{σ}\\bigg)^{\\frac{1}{4}} = 288 K $$"
   ]
  },
  {
   "cell_type": "code",
   "execution_count": 2,
   "metadata": {
    "slideshow": {
     "slide_type": "fragment"
    }
   },
   "outputs": [
    {
     "name": "stdout",
     "output_type": "stream",
     "text": [
      "288.0\n"
     ]
    }
   ],
   "source": [
    "print ((1-alpha)*Q/sigma)**0.25 /beta"
   ]
  },
  {
   "cell_type": "markdown",
   "metadata": {
    "slideshow": {
     "slide_type": "fragment"
    }
   },
   "source": [
    "We are going to linearize the equation for small perturbations away from this equilibrium.\n",
    "\n",
    "Let $T_s = \\bar{T_s} + T_s^\\prime$ and restrict our solution to $T_s^\\prime << \\bar{T_s}$.\n",
    "Note this this is not a big restriction! For example, a 10 degree warming or cooling is just $\\pm$3.4% of the absolute equilibrium temperature."
   ]
  },
  {
   "cell_type": "markdown",
   "metadata": {
    "slideshow": {
     "slide_type": "slide"
    }
   },
   "source": [
    "### Linearizing the governing equation\n",
    "\n",
    "Now use a first-order Taylor series expansion to write\n",
    "\n",
    "$$OLR \\approx \\sigma \\big(\\beta T_s \\big)^4 \\approx \\sigma \\big(\\beta \\bar{T_s} \\big)^4 + \\Big(4 \\sigma \\beta^4 \\bar{T_s}^3 \\Big) T_s^\\prime $$\n",
    "\n",
    "and the budget for the perturbation temperature thus becomes\n",
    "\n",
    "$$C \\frac{d T_s^\\prime}{d t} = -\\lambda_0 T_s^\\prime$$\n",
    "\n",
    "where we define\n",
    "\n",
    "$$\\lambda_0 = 4 \\sigma \\beta^4 \\bar{T_s}^3$$"
   ]
  },
  {
   "cell_type": "markdown",
   "metadata": {
    "slideshow": {
     "slide_type": "slide"
    }
   },
   "source": [
    "Putting in our observational values, we get "
   ]
  },
  {
   "cell_type": "code",
   "execution_count": 3,
   "metadata": {
    "slideshow": {
     "slide_type": "fragment"
    }
   },
   "outputs": [
    {
     "name": "stdout",
     "output_type": "stream",
     "text": [
      "lambda_0 = 3.33 W m-2 K-1\n"
     ]
    }
   ],
   "source": [
    "lambda_0 = 4 * sigma * beta**4 * Tsbar**3\n",
    "#  This is an example of formatted text output in Python\n",
    "print 'lambda_0 = {:.2f} W m-2 K-1'.format(lambda_0)  "
   ]
  },
  {
   "cell_type": "markdown",
   "metadata": {
    "slideshow": {
     "slide_type": "fragment"
    }
   },
   "source": [
    "This is actually our first estimate of what is often called the **Planck feedback**. It is the tendency for a warm surface to cool by increased longwave radiation to space. \n",
    "\n",
    "It may also be refered to as the \"no-feedback\" climate response parameter. As we will see, $\\lambda_0$ quantifies the sensitivity of the climate system in the absence of any actual feedback processes."
   ]
  },
  {
   "cell_type": "markdown",
   "metadata": {
    "slideshow": {
     "slide_type": "slide"
    }
   },
   "source": [
    "### Solve the linear ODE\n",
    "\n",
    "Now define\n",
    "\n",
    "$$ \\tau = \\frac{C}{\\lambda_0}  $$\n",
    "\n",
    "This is a positive constant with dimensions of time (seconds). With these definitions the temperature evolves according to\n",
    "\n",
    "$$ \\frac{d T_s^\\prime}{d t} = - \\frac{T_s^\\prime}{\\tau}$$\n",
    "\n",
    "This is one of the simplest ODEs. Hopefully it looks familiar to most of you. It is the equation for an **exponential decay** process. "
   ]
  },
  {
   "cell_type": "markdown",
   "metadata": {
    "slideshow": {
     "slide_type": "slide"
    }
   },
   "source": [
    "We can easily solve for the temperature evolution by integrating from an initial condition $T_s^\\prime(0)$:\n",
    "\n",
    "$$ \\int_{T_s^\\prime(0)}^{T_s^\\prime(t)} \\frac{d T_s^\\prime}{T_s^\\prime} = -\\int_0^t  \\frac{dt}{\\tau}$$\n",
    "\n",
    "$$\\ln \\bigg( \\frac{T_s^\\prime(t)}{T_s^\\prime(0)} \\bigg) = -\\frac{t}{\\tau}$$\n",
    "\n",
    "$$T_s^\\prime(t) = T_s^\\prime(0) \\exp \\bigg(-\\frac{t}{\\tau} \\bigg)$$\n",
    "\n",
    "I hope that the mathematics is straightforward for everyone in this class. If not, go through it carefully and make sure you understand each step."
   ]
  },
  {
   "cell_type": "markdown",
   "metadata": {
    "slideshow": {
     "slide_type": "slide"
    }
   },
   "source": [
    "### e-folding time for relaxation of global mean temperature\n",
    "\n",
    "Our model says that surface temperature will relax toward its equilibrium value over a characteristic time scale $\\tau$. This is an **e-folding time** – the time it takes for the perturbation to decay by a factor $1/e = 0.37$\n",
    "\n",
    "*What should this timescale be for the climate system?*\n",
    "\n",
    "To estimate $\\tau$ we need a value for the effective heat capacity $C$.\n",
    "A quick and dirty estimate:\n",
    "\n",
    "$$C = c_w \\rho_w H$$\n",
    "\n",
    "where \n",
    "\n",
    "$c_w = 4 \\times 10^3$ J kg$^{-1}$ $^\\circ$C$^{-1}$ is the specific heat of water,\n",
    "\n",
    "$\\rho_w = 10^3$ kg m$^{-3}$ is the density of water, and\n",
    "\n",
    "$H$ is an effective depth of water that is heated or cooled."
   ]
  },
  {
   "cell_type": "markdown",
   "metadata": {
    "slideshow": {
     "slide_type": "slide"
    }
   },
   "source": [
    "#### What is the right choice for water depth $H$? \n",
    "\n",
    "That turns out to be an interesting and subtle question. It depends very much on the timescale of the problem\n",
    "\n",
    "- days?\n",
    "- years?\n",
    "- decades?\n",
    "- millenia?"
   ]
  },
  {
   "cell_type": "markdown",
   "metadata": {
    "slideshow": {
     "slide_type": "slide"
    }
   },
   "source": [
    "We will revisit this question later in the course. For now, let’s just assume that $H = 100$ m (a bit deeper than the typical depth of the surface mixed layer in the oceans).\n",
    "\n",
    "Now calculate the e-folding time for the surface temperature:"
   ]
  },
  {
   "cell_type": "code",
   "execution_count": 4,
   "metadata": {
    "slideshow": {
     "slide_type": "fragment"
    }
   },
   "outputs": [
    {
     "name": "stdout",
     "output_type": "stream",
     "text": [
      "The e-folding time is 1.20e+08 seconds or about 4 years.\n"
     ]
    }
   ],
   "source": [
    "c_w = 4E3  #  Specific heat of water in J/kg/K\n",
    "rho_w = 1E3  #  Density of water in kg/m3\n",
    "H = 100.   #  Depth of water in m\n",
    "C = c_w * rho_w * H   #  Heat capacity of the model in J/m2/K\n",
    "tau = C / lambda_0   #  Calculated value of relaxation time constant\n",
    "seconds_per_year = 60.*60.*24.*365.\n",
    "print 'The e-folding time is {:1.2e} seconds or about {:1.0f} years.'.format(tau, tau / seconds_per_year)"
   ]
  },
  {
   "cell_type": "markdown",
   "metadata": {
    "slideshow": {
     "slide_type": "fragment"
    }
   },
   "source": [
    "This is a rather fast timescale relative to other processes that can affect the planetary energy budget. \n",
    "\n",
    "**But notice that the climate feedback parameter $\\lambda$ is smaller, the timescale gets longer.**  We will come back to this later."
   ]
  },
  {
   "cell_type": "markdown",
   "metadata": {
    "slideshow": {
     "slide_type": "slide"
    }
   },
   "source": [
    "### Some take-away messages:\n",
    "\n",
    "- Earth (or any planet) has a well-defined equilibrium temperature because of the temperature dependence of the outgoing longwave radiation.\n",
    "- The system will tend to relax toward its equilibrium temperature on an $e$-folding timescale that depends on (1) radiative feedback processes, and (2) effective heat capacity.\n",
    "- In our estimate, this e-folding time is relatively short. In the absence of other processes that can either increase the heat capacity or lower (in absolute value) the feedback parameter, the Earth would never be very far out of energy balance\n",
    "- We will quantify this statement more as the term progresses."
   ]
  },
  {
   "cell_type": "markdown",
   "metadata": {
    "slideshow": {
     "slide_type": "slide"
    }
   },
   "source": [
    "### Plotting the solution in Python\n",
    "\n",
    "Here I'm going to show some example code for making simple line plots with Python. I strongly encourage you to try this out on your own. \n",
    "\n",
    "**Avoid the temptation to copy and paste the code!** You won't learn anything that way. Type the code into your own Python session. Experiment with it!"
   ]
  },
  {
   "cell_type": "code",
   "execution_count": 5,
   "metadata": {
    "slideshow": {
     "slide_type": "slide"
    }
   },
   "outputs": [
    {
     "name": "stdout",
     "output_type": "stream",
     "text": [
      "[  0.00000000e+00   1.22755869e+07   2.45511739e+07   3.68267608e+07\n",
      "   4.91023477e+07   6.13779346e+07   7.36535216e+07   8.59291085e+07\n",
      "   9.82046954e+07   1.10480282e+08   1.22755869e+08   1.35031456e+08\n",
      "   1.47307043e+08   1.59582630e+08   1.71858217e+08   1.84133804e+08\n",
      "   1.96409391e+08   2.08684978e+08   2.20960565e+08   2.33236152e+08\n",
      "   2.45511739e+08   2.57787325e+08   2.70062912e+08   2.82338499e+08\n",
      "   2.94614086e+08   3.06889673e+08   3.19165260e+08   3.31440847e+08\n",
      "   3.43716434e+08   3.55992021e+08   3.68267608e+08   3.80543195e+08\n",
      "   3.92818782e+08   4.05094369e+08   4.17369956e+08   4.29645542e+08\n",
      "   4.41921129e+08   4.54196716e+08   4.66472303e+08   4.78747890e+08\n",
      "   4.91023477e+08   5.03299064e+08   5.15574651e+08   5.27850238e+08\n",
      "   5.40125825e+08   5.52401412e+08   5.64676999e+08   5.76952586e+08\n",
      "   5.89228172e+08   6.01503759e+08]\n"
     ]
    }
   ],
   "source": [
    "# This code uses the `numpy` package to do efficient array operations. \n",
    "# Before we use the package, we import it into the current Python session.\n",
    "import numpy as np\n",
    "t = np.linspace(0, 5*tau)  # a time array\n",
    "print t"
   ]
  },
  {
   "cell_type": "code",
   "execution_count": 6,
   "metadata": {
    "slideshow": {
     "slide_type": "fragment"
    }
   },
   "outputs": [
    {
     "data": {
      "text/plain": [
       "numpy.ndarray"
      ]
     },
     "execution_count": 6,
     "metadata": {},
     "output_type": "execute_result"
    }
   ],
   "source": [
    "type(t)  # this shows that t is numpy.ndarray type"
   ]
  },
  {
   "cell_type": "code",
   "execution_count": 7,
   "metadata": {
    "slideshow": {
     "slide_type": "fragment"
    }
   },
   "outputs": [
    {
     "data": {
      "text/plain": [
       "(50,)"
      ]
     },
     "execution_count": 7,
     "metadata": {},
     "output_type": "execute_result"
    }
   ],
   "source": [
    "t.shape  # a tuple showing the dimensions of the array"
   ]
  },
  {
   "cell_type": "code",
   "execution_count": 8,
   "metadata": {
    "slideshow": {
     "slide_type": "slide"
    }
   },
   "outputs": [
    {
     "data": {
      "text/plain": [
       "(50,)"
      ]
     },
     "execution_count": 8,
     "metadata": {},
     "output_type": "execute_result"
    }
   ],
   "source": [
    "Tsprime0 = 6.  # initial temperature perturbation\n",
    "#  Here we define the actual solution\n",
    "Tsprime = Tsbar + Tsprime0 * np.exp(-t/tau)  \n",
    "Tsprime.shape\n",
    "#  got the same size array\n",
    "#  the numpy function np.exp() operated simultaneously\n",
    "#  on all elements of the array"
   ]
  },
  {
   "cell_type": "code",
   "execution_count": 9,
   "metadata": {
    "slideshow": {
     "slide_type": "fragment"
    }
   },
   "outputs": [
    {
     "name": "stdout",
     "output_type": "stream",
     "text": [
      "[ 294.          293.41795616  292.89237483  292.41777873  291.98922192\n",
      "  291.60223825  291.25279482  290.93724996  290.65231525  290.3950213\n",
      "  290.16268673  289.95289032  289.76344569  289.59237857  289.43790622\n",
      "  289.29841881  289.1724627   289.05872525  288.95602117  288.86328013\n",
      "  288.77953565  288.703915    288.6356301   288.57396934  288.51829012\n",
      "  288.46801219  288.42261159  288.38161518  288.34459572  288.31116741\n",
      "  288.2809819   288.2537246   288.22911146  288.20688598  288.18681653\n",
      "  288.16869396  288.15232941  288.13755235  288.12420876  288.11215961\n",
      "  288.1012793   288.09145447  288.08258272  288.07457159  288.0673376\n",
      "  288.06080536  288.0549068   288.04958044  288.04477077  288.04042768]\n"
     ]
    }
   ],
   "source": [
    "#  And here is the solution array\n",
    "print Tsprime"
   ]
  },
  {
   "cell_type": "markdown",
   "metadata": {
    "slideshow": {
     "slide_type": "slide"
    }
   },
   "source": [
    "To make a plot, we will use the `matplotlib` library. The plotting commands work a lot like `MATLAB`. But, like any other package, we need to import it before using it."
   ]
  },
  {
   "cell_type": "code",
   "execution_count": 10,
   "metadata": {
    "collapsed": true,
    "slideshow": {
     "slide_type": "fragment"
    }
   },
   "outputs": [],
   "source": [
    "# pyplot is the name of the library of plotting routines within matplotlib\n",
    "#  here we import them and give them a \"nickname\"\n",
    "import matplotlib.pyplot as plt"
   ]
  },
  {
   "cell_type": "code",
   "execution_count": 11,
   "metadata": {
    "collapsed": true,
    "slideshow": {
     "slide_type": "fragment"
    }
   },
   "outputs": [],
   "source": [
    "#  this command allows the plots to appear inline in this notebook\n",
    "%matplotlib inline"
   ]
  },
  {
   "cell_type": "code",
   "execution_count": 12,
   "metadata": {
    "slideshow": {
     "slide_type": "fragment"
    }
   },
   "outputs": [
    {
     "data": {
      "text/plain": [
       "[<matplotlib.lines.Line2D at 0x10f181410>]"
      ]
     },
     "execution_count": 12,
     "metadata": {},
     "output_type": "execute_result"
    },
    {
     "data": {
      "image/png": "[encoded data removed]",
      "text/plain": [
       "<matplotlib.figure.Figure at 0x10ccfdc90>"
      ]
     },
     "metadata": {},
     "output_type": "display_data"
    }
   ],
   "source": [
    "plt.plot(t, Tsprime)"
   ]
  },
  {
   "cell_type": "code",
   "execution_count": 13,
   "metadata": {
    "slideshow": {
     "slide_type": "slide"
    }
   },
   "outputs": [
    {
     "data": {
      "text/plain": [
       "[<matplotlib.lines.Line2D at 0x10f763210>]"
      ]
     },
     "execution_count": 13,
     "metadata": {},
     "output_type": "execute_result"
    },
    {
     "data": {
      "image/png": "[encoded data removed]",
      "text/plain": [
       "<matplotlib.figure.Figure at 0x10613bc90>"
      ]
     },
     "metadata": {},
     "output_type": "display_data"
    }
   ],
   "source": [
    "#  use a more convenient unit for time\n",
    "plt.plot(t / seconds_per_year, Tsprime) "
   ]
  },
  {
   "cell_type": "code",
   "execution_count": 14,
   "metadata": {
    "slideshow": {
     "slide_type": "slide"
    }
   },
   "outputs": [
    {
     "data": {
      "text/plain": [
       "<matplotlib.text.Text at 0x10f97c650>"
      ]
     },
     "execution_count": 14,
     "metadata": {},
     "output_type": "execute_result"
    },
    {
     "data": {
      "image/png": "[encoded data removed]",
      "text/plain": [
       "<matplotlib.figure.Figure at 0x10f76f390>"
      ]
     },
     "metadata": {},
     "output_type": "display_data"
    }
   ],
   "source": [
    "#  Or add some helpful labels\n",
    "plt.plot(t / seconds_per_year, Tsprime) \n",
    "plt.xlabel('Years')\n",
    "plt.ylabel('Global mean temperature (K)')\n",
    "plt.title('Relaxation to equilibrium temperature')"
   ]
  },
  {
   "cell_type": "markdown",
   "metadata": {
    "slideshow": {
     "slide_type": "slide"
    }
   },
   "source": [
    "### Solving the ODE numerically\n",
    "\n",
    "In this case the equation is sufficiently simple that we have an analytical solution. Most models are too mathematically complex for this, and we need numerical solution methods. Because the governing equations for every model are differential in time (and usually in space as well), we need to use some numerical approximations to the governing equations."
   ]
  },
  {
   "cell_type": "markdown",
   "metadata": {
    "slideshow": {
     "slide_type": "slide"
    }
   },
   "source": [
    "We approximate the time derivative with\n",
    "\n",
    "$$ \\frac{dT}{dt} \\approx \\frac{∆T}{∆t} = \\frac{T_1-T_0}{t_1-t_0} $$\n",
    "\n",
    "which makes sense as long as the **timestep** $\\delta t$ is *sufficiently small*.\n",
    "\n",
    "What is meant by sufficiently small? In practice, small enough that the numerical solution behaves well! We will not spend much time in this course talking about numerical methods, but there is much we could say about this…"
   ]
  },
  {
   "cell_type": "markdown",
   "metadata": {
    "slideshow": {
     "slide_type": "slide"
    }
   },
   "source": [
    "### Explicit time discretization\n",
    "\n",
    "The simplest time discretization is called **Forward Euler** or **Explicit Euler**. Say we know the state of the system at time $t_0$, i.e. we know the temperature $T_0$. Then rearranging the above,\n",
    "\n",
    "$$T_1 = T_0 + ∆t (dT/dt)$$\n",
    "\n",
    "So if we can calculate the **tendency** of the system (i.e. the time derivative) at time $t_0$, then we have a formula to predict the next state of the system."
   ]
  },
  {
   "cell_type": "markdown",
   "metadata": {
    "slideshow": {
     "slide_type": "slide"
    }
   },
   "source": [
    "For our linearized zero-dimensional energy balance model, \n",
    "\n",
    "$$\\frac{dT_s}{dt} = -\\frac{1}{\\tau} \\big(T_s-\\bar{T_s} \\big)$$\n",
    "\n",
    "So we can predict the temperature with\n",
    "\n",
    "$$ T_1 = T_0 -  \\frac{\\Delta t}{\\tau} \\big( T_0 - \\bar{T_s} \\big)$$\n",
    "\n",
    "Let’s implement this formula as a simple function in Python to calculate the next temperature at each timestep"
   ]
  },
  {
   "cell_type": "code",
   "execution_count": 15,
   "metadata": {
    "collapsed": true,
    "slideshow": {
     "slide_type": "fragment"
    }
   },
   "outputs": [],
   "source": [
    "def next_temperature(T0, timestep, tau):\n",
    "    Tsbar = 288.\n",
    "    return T0 - timestep/tau * (T0-Tsbar)"
   ]
  },
  {
   "cell_type": "markdown",
   "metadata": {
    "slideshow": {
     "slide_type": "slide"
    }
   },
   "source": [
    "Now let’s construct the full numerical solution by looping in time:"
   ]
  },
  {
   "cell_type": "code",
   "execution_count": 16,
   "metadata": {
    "slideshow": {
     "slide_type": "fragment"
    }
   },
   "outputs": [
    {
     "name": "stdout",
     "output_type": "stream",
     "text": [
      "[ 0.  0.  0.  0.  0.  0.  0.  0.  0.  0.  0.  0.  0.  0.  0.  0.  0.  0.\n",
      "  0.  0.  0.  0.  0.  0.  0.  0.  0.  0.  0.  0.  0.  0.  0.  0.  0.  0.\n",
      "  0.  0.  0.  0.  0.  0.  0.  0.  0.  0.  0.  0.  0.  0.]\n",
      "50\n"
     ]
    }
   ],
   "source": [
    "Tnumerical = np.zeros_like(t)\n",
    "print Tnumerical\n",
    "print Tnumerical.size"
   ]
  },
  {
   "cell_type": "code",
   "execution_count": 17,
   "metadata": {
    "slideshow": {
     "slide_type": "slide"
    }
   },
   "outputs": [
    {
     "name": "stdout",
     "output_type": "stream",
     "text": [
      "[ 294.    0.    0.    0.    0.    0.    0.    0.    0.    0.    0.    0.\n",
      "    0.    0.    0.    0.    0.    0.    0.    0.    0.    0.    0.    0.\n",
      "    0.    0.    0.    0.    0.    0.    0.    0.    0.    0.    0.    0.\n",
      "    0.    0.    0.    0.    0.    0.    0.    0.    0.    0.    0.    0.\n",
      "    0.    0.]\n"
     ]
    }
   ],
   "source": [
    "# Assign the initial condition\n",
    "Tnumerical[0] = Tsprime0 + Tsbar\n",
    "print Tnumerical\n",
    "# this shows indexing of the time array. t[0] is the first element\n",
    "# t[1] is the second element\n",
    "#  in Python we always start counting from zero"
   ]
  },
  {
   "cell_type": "code",
   "execution_count": 18,
   "metadata": {
    "slideshow": {
     "slide_type": "fragment"
    }
   },
   "outputs": [
    {
     "name": "stdout",
     "output_type": "stream",
     "text": [
      "[ 294.          293.3877551   292.83798417  292.34431232  291.90101514\n",
      "  291.50295237  291.14550825  290.82453802  290.53631986  290.27751171\n",
      "  290.04511256  289.8364276   289.64903703  289.48076794  289.32966917\n",
      "  289.19398865  289.07215307  288.9627497   288.86450993  288.77629463\n",
      "  288.69708089  288.62595019  288.56207772  288.50472285  288.45322052\n",
      "  288.40697353  288.36544562  288.32815525  288.29467002  288.26460165\n",
      "  288.23760148  288.21335643  288.19158537  288.17203584  288.15448116\n",
      "  288.13871778  288.1245629   288.1118524   288.10043889  288.09019003\n",
      "  288.08098696  288.07272299  288.06530227  288.05863878  288.05265523\n",
      "  288.04728225  288.04245753  288.03812513  288.03423481  288.03074146]\n"
     ]
    }
   ],
   "source": [
    "timestep = t[1] - t[0] \n",
    "for i in range(Tnumerical.size-1):\n",
    "    # assign the next temperature value to the approprate array element\n",
    "    Tnumerical[i+1] = next_temperature(Tnumerical[i], timestep, tau)\n",
    "print Tnumerical"
   ]
  },
  {
   "cell_type": "markdown",
   "metadata": {
    "slideshow": {
     "slide_type": "slide"
    }
   },
   "source": [
    "Now we are going to plot this alongside the analytical solution."
   ]
  },
  {
   "cell_type": "code",
   "execution_count": 19,
   "metadata": {
    "slideshow": {
     "slide_type": "fragment"
    }
   },
   "outputs": [
    {
     "data": {
      "text/plain": [
       "<matplotlib.legend.Legend at 0x10fa2f0d0>"
      ]
     },
     "execution_count": 19,
     "metadata": {},
     "output_type": "execute_result"
    },
    {
     "data": {
      "image/png": "[encoded data removed]",
      "text/plain": [
       "<matplotlib.figure.Figure at 0x10f9d80d0>"
      ]
     },
     "metadata": {},
     "output_type": "display_data"
    }
   ],
   "source": [
    "plt.plot(t / seconds_per_year, Tsprime, label='analytical') \n",
    "plt.plot(t / seconds_per_year, Tnumerical, label='numerical')\n",
    "plt.xlabel('Years')\n",
    "plt.ylabel('Global mean temperature (K)')\n",
    "plt.title('Relaxation to equilibrium temperature')\n",
    "plt.legend()\n",
    "# the legend() function uses the labels assigned in the above plot() commands"
   ]
  },
  {
   "cell_type": "markdown",
   "metadata": {
    "slideshow": {
     "slide_type": "slide"
    }
   },
   "source": [
    "So this works quite well; the two solutions look nearly identical.\n",
    "\n",
    "Now that we have built some confidence in the numerical method, we can use it to study a slightly more complex system for which we don’t have the analytical solution.\n",
    "\n",
    "E.g. let’s solve the full non-linear energy balance model:\n",
    "\n",
    "$$C \\frac{dT_s}{dt} = (1-\\alpha) Q - \\sigma \\big(\\beta T_s \\big)^4 $$\n",
    "\n",
    "We’ll write a new solver function:"
   ]
  },
  {
   "cell_type": "code",
   "execution_count": 20,
   "metadata": {
    "collapsed": true,
    "slideshow": {
     "slide_type": "fragment"
    }
   },
   "outputs": [],
   "source": [
    "# absorbed solar is a constant in this model\n",
    "ASR = (1-alpha)*Q  \n",
    "# but the longwave depends on temperature... define a function for this\n",
    "def OLR(Ts):\n",
    "    return sigma * (beta*Ts)**4\n",
    "# Now we put them together to get our simple solver function\n",
    "def next_temperature_nonlinear(T0, timestep):\n",
    "    return T0 + timestep/C * (ASR-OLR(T0))"
   ]
  },
  {
   "cell_type": "markdown",
   "metadata": {
    "slideshow": {
     "slide_type": "slide"
    }
   },
   "source": [
    "Now solve this nonlinear model using the same procedure as above."
   ]
  },
  {
   "cell_type": "code",
   "execution_count": 21,
   "metadata": {
    "collapsed": true,
    "slideshow": {
     "slide_type": "fragment"
    }
   },
   "outputs": [],
   "source": [
    "Tnonlinear = np.zeros_like(t)\n",
    "Tnonlinear[0] = Tsprime0 + Tsbar\n",
    "for i in range(Tnumerical.size-1):\n",
    "    Tnonlinear[i+1] = next_temperature_nonlinear(Tnonlinear[i], timestep)"
   ]
  },
  {
   "cell_type": "markdown",
   "metadata": {
    "slideshow": {
     "slide_type": "slide"
    }
   },
   "source": [
    "And plot the three different solutions together:"
   ]
  },
  {
   "cell_type": "code",
   "execution_count": 22,
   "metadata": {
    "slideshow": {
     "slide_type": "fragment"
    }
   },
   "outputs": [
    {
     "data": {
      "text/plain": [
       "<matplotlib.legend.Legend at 0x10fc4ac90>"
      ]
     },
     "execution_count": 22,
     "metadata": {},
     "output_type": "execute_result"
    },
    {
     "data": {
      "image/png": "[encoded data removed]",
      "text/plain": [
       "<matplotlib.figure.Figure at 0x10fb2c890>"
      ]
     },
     "metadata": {},
     "output_type": "display_data"
    }
   ],
   "source": [
    "plt.plot(t / seconds_per_year, Tsprime, label='analytical') \n",
    "plt.plot(t / seconds_per_year, Tnumerical, label='numerical')\n",
    "plt.plot(t / seconds_per_year, Tnonlinear, label='nonlinear')\n",
    "plt.xlabel('Years')\n",
    "plt.ylabel('Global mean temperature (K)')\n",
    "plt.title('Relaxation to equilibrium temperature')\n",
    "plt.legend()"
   ]
  },
  {
   "cell_type": "markdown",
   "metadata": {
    "slideshow": {
     "slide_type": "slide"
    }
   },
   "source": [
    "And we see that the models essentially do the same thing.\n",
    "\n",
    "Now try some different initial conditions\n"
   ]
  },
  {
   "cell_type": "code",
   "execution_count": 23,
   "metadata": {
    "slideshow": {
     "slide_type": "fragment"
    }
   },
   "outputs": [
    {
     "name": "stdout",
     "output_type": "stream",
     "text": [
      "288.294151595\n"
     ]
    }
   ],
   "source": [
    "T1 = 400.  # very hot\n",
    "for n in range(50):\n",
    "    T1 = next_temperature_nonlinear(T1, timestep)\n",
    "print T1"
   ]
  },
  {
   "cell_type": "code",
   "execution_count": 24,
   "metadata": {
    "slideshow": {
     "slide_type": "fragment"
    }
   },
   "outputs": [
    {
     "name": "stdout",
     "output_type": "stream",
     "text": [
      "287.28133982\n"
     ]
    }
   ],
   "source": [
    "T1 = 200.  # very cold\n",
    "for n in range(50):\n",
    "    T1 = next_temperature_nonlinear(T1, timestep)\n",
    "print T1"
   ]
  },
  {
   "cell_type": "markdown",
   "metadata": {
    "slideshow": {
     "slide_type": "fragment"
    }
   },
   "source": [
    "The system relaxes back to 288 K regardless of its initial condition."
   ]
  },
  {
   "cell_type": "markdown",
   "metadata": {
    "slideshow": {
     "slide_type": "skip"
    }
   },
   "source": [
    "<div class=\"alert alert-success\">\n",
    "[Back to ATM 623 notebook home](../index.ipynb)\n",
    "</div>"
   ]
  },
  {
   "cell_type": "markdown",
   "metadata": {
    "slideshow": {
     "slide_type": "skip"
    }
   },
   "source": [
    "____________\n",
    "## Version information\n",
    "____________\n"
   ]
  },
  {
   "cell_type": "code",
   "execution_count": 25,
   "metadata": {
    "slideshow": {
     "slide_type": "skip"
    }
   },
   "outputs": [
    {
     "data": {
      "application/json": {
       "Software versions": [
        {
         "module": "Python",
         "version": "2.7.12 64bit [GCC 4.2.1 (Based on Apple Inc. build 5658) (LLVM build 2336.11.00)]"
        },
        {
         "module": "IPython",
         "version": "5.3.0"
        },
        {
         "module": "OS",
         "version": "Darwin 16.5.0 x86_64 i386 64bit"
        },
        {
         "module": "numpy",
         "version": "1.11.1"
        },
        {
         "module": "matplotlib",
         "version": "2.0.0"
        }
       ]
      },
      "text/html": [
       "<table><tr><th>Software</th><th>Version</th></tr><tr><td>Python</td><td>2.7.12 64bit [GCC 4.2.1 (Based on Apple Inc. build 5658) (LLVM build 2336.11.00)]</td></tr><tr><td>IPython</td><td>5.3.0</td></tr><tr><td>OS</td><td>Darwin 16.5.0 x86_64 i386 64bit</td></tr><tr><td>numpy</td><td>1.11.1</td></tr><tr><td>matplotlib</td><td>2.0.0</td></tr><tr><td colspan='2'>Thu May 25 13:49:24 2017 EDT</td></tr></table>"
      ],
      "text/latex": [
       "\\begin{tabular}{|l|l|}\\hline\n",
       "{\\bf Software} & {\\bf Version} \\\\ \\hline\\hline\n",
       "Python & 2.7.12 64bit [GCC 4.2.1 (Based on Apple Inc. build 5658) (LLVM build 2336.11.00)] \\\\ \\hline\n",
       "IPython & 5.3.0 \\\\ \\hline\n",
       "OS & Darwin 16.5.0 x86\\_64 i386 64bit \\\\ \\hline\n",
       "numpy & 1.11.1 \\\\ \\hline\n",
       "matplotlib & 2.0.0 \\\\ \\hline\n",
       "\\hline \\multicolumn{2}{|l|}{Thu May 25 13:49:24 2017 EDT} \\\\ \\hline\n",
       "\\end{tabular}\n"
      ],
      "text/plain": [
       "Software versions\n",
       "Python 2.7.12 64bit [GCC 4.2.1 (Based on Apple Inc. build 5658) (LLVM build 2336.11.00)]\n",
       "IPython 5.3.0\n",
       "OS Darwin 16.5.0 x86_64 i386 64bit\n",
       "numpy 1.11.1\n",
       "matplotlib 2.0.0\n",
       "Thu May 25 13:49:24 2017 EDT"
      ]
     },
     "execution_count": 25,
     "metadata": {},
     "output_type": "execute_result"
    }
   ],
   "source": [
    "%load_ext version_information\n",
    "%version_information numpy, matplotlib"
   ]
  },
  {
   "cell_type": "markdown",
   "metadata": {
    "slideshow": {
     "slide_type": "slide"
    }
   },
   "source": [
    "____________\n",
    "\n",
    "## Credits\n",
    "\n",
    "The author of this notebook is [Brian E. J. Rose](http://www.atmos.albany.edu/facstaff/brose/index.html), University at Albany.\n",
    "\n",
    "It was developed in support of [ATM 623: Climate Modeling](http://www.atmos.albany.edu/facstaff/brose/classes/ATM623_Spring2015/), a graduate-level course in the [Department of Atmospheric and Envionmental Sciences](http://www.albany.edu/atmos/index.php)\n",
    "\n",
    "Development of these notes and the [climlab software](https://github.com/brian-rose/climlab) is partially supported by the National Science Foundation under award AGS-1455071 to Brian Rose. Any opinions, findings, conclusions or recommendations expressed here are mine and do not necessarily reflect the views of the National Science Foundation.\n",
    "____________"
   ]
  },
  {
   "cell_type": "code",
   "execution_count": null,
   "metadata": {
    "collapsed": true
   },
   "outputs": [],
   "source": []
  }
 ],
 "metadata": {
  "anaconda-cloud": {},
  "kernelspec": {
   "display_name": "Python [default]",
   "language": "python",
   "name": "python2"
  },
  "language_info": {
   "codemirror_mode": {
    "name": "ipython",
    "version": 2
   },
   "file_extension": ".py",
   "mimetype": "text/x-python",
   "name": "python",
   "nbconvert_exporter": "python",
   "pygments_lexer": "ipython2",
   "version": "2.7.12"
  }
 },
 "nbformat": 4,
 "nbformat_minor": 1
}
