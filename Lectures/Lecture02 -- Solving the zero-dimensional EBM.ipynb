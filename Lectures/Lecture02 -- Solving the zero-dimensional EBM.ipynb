{
 "cells": [
  {
   "cell_type": "markdown",
   "metadata": {},
   "source": [
    "# [ATM 623: Climate Modeling](../index.ipynb)\n",
    "[Brian E. J. Rose](http://www.atmos.albany.edu/facstaff/brose/index.html), University at Albany\n",
    "## Lecture 2: Solving the zero-dimensional energy balance model\n",
    "### A self-study exercise in lieu of lecture"
   ]
  },
  {
   "cell_type": "markdown",
   "metadata": {},
   "source": [
    "### About these notes:\n",
    "\n",
    "This document uses the interactive [`IPython notebook`](http://ipython.org/notebook.html) format (now also called [`Jupyter`](https://jupyter.org)). The notes can be accessed in several different ways:\n",
    "\n",
    "- The interactive notebooks are hosted on `github` at https://github.com/brian-rose/ClimateModeling_courseware\n",
    "- The latest versions can be viewed as static web pages [rendered on nbviewer](http://nbviewer.ipython.org/github/brian-rose/ClimateModeling_courseware/blob/master/index.ipynb)\n",
    "- A complete snapshot of the notes as of May 2015 (end of spring semester) are [available on Brian's website](http://www.atmos.albany.edu/facstaff/brose/classes/ATM623_Spring2015/Notes/index.html).\n",
    "\n",
    "Many of these notes make use of the `climlab` package, available at https://github.com/brian-rose/climlab"
   ]
  },
  {
   "cell_type": "markdown",
   "metadata": {},
   "source": [
    "###From last class:\n",
    "- we wrote down a budget for the energy content of the global climate system\n",
    "- we wrote the OLR in terms of an effective emission temperature $T_e$\n",
    "- The equilibrium emission temperature for Earth is about $T_e \\approx 255$ K\n",
    "- This depends only on energy output from the Sun, and the planetary albedo\n",
    "- We assumed that global energy content is proportional to surface temperature $T_s$\n",
    "- We thus have a single equation in two unknown temperatures:\n",
    "\n",
    "$$C \\frac{d T_s}{dt} = (1-\\alpha) Q - \\sigma T_e^4$$\n",
    "\n",
    "### Parameterizing the dependence of OLR on surface temperature\n",
    "Later, we will introduce additional physics for column radiative transfer to link $T_s$ and $T_e$.\n",
    "For now, we'll make the **simplest assumption** we can:\n",
    "\n",
    "$$ T_e = \\beta T_s$$\n",
    "\n",
    "where $\\beta$ is a dimensionless constant. This is a **parameterization** that we introduce into the model for simplicity. We need a value for our **parameter** $\\beta$, which we will get from observations:\n",
    "\n",
    "$T_e = 255$ K\n",
    "\n",
    "$T_s = 288$ K\n",
    "\n",
    "Thus\n",
    "\n",
    "$$ \\beta = 255 / 288 = 0.885$$\n",
    "\n",
    "Using this parameterization, we can now write a closed equation for surface temperature:\n",
    "\n",
    "$$C \\frac{d T_s}{dt}=(1-α)Q-σ(\\beta T_s )^4$$\n",
    "\n",
    "### Solving the energy balance model\n",
    "\n",
    "This is a first-order Ordinary Differential Equation (ODE) for $T_s$ as a function of time. It is also our very first climate model.\n",
    "\n",
    "To solve it (i.e. see how $T_s$ evolves from some specified initial condition) we have two choices:\n",
    "1. Solve it analytically\n",
    "2. Solve it numerically\n",
    "\n",
    "Option 1 will usually not be possible because the equations will typically be too complex and non-linear. This is why computers are our best friends in the world of climate modeling.\n",
    "\n",
    "HOWEVER it is often useful and instructive to simplify a model down to something that is analytically solvable when possible. Why? Two reasons:\n",
    "1. Analysis will often yield a deeper understanding of the behavior of the system\n",
    "2. Gives us a benchmark against which to test the results of our numerical solutions.\n",
    "\n",
    "### Equilibrium solutions\n",
    "\n",
    "Note that equilibrium surface temperature is \n",
    "\n",
    "$$\\bar{T_s} = \\frac{1}{β} \\bigg( \\frac{(1-α)Q}{σ}\\bigg)^{\\frac{1}{4}} = 288 K $$\n",
    "\n",
    "We are going to linearize the equation for small perturbations away from this equilibrium.\n",
    "\n",
    "Let $T_s = \\bar{T_s} + T_s^\\prime$ and restrict our solution to $T_s^\\prime << \\bar{T_s}$.\n",
    "Note this this is not a big restriction! For example, a 10 degree warming or cooling is just $\\pm$3.4% of the absolute equilibrium temperature.\n",
    "\n",
    "### Linearizing the governing equation: the feedback parameter\n",
    "Now use a first-order Taylor series expansion to write\n",
    "\n",
    "$$OLR \\approx \\sigma \\big(\\beta T_s \\big)^4 \\approx \\sigma \\big(\\beta \\bar{T_s} \\big)^4 + \\Big(4 \\sigma \\beta^4 \\bar{T_s}^3 \\Big) T_s^\\prime $$\n",
    "\n",
    "and the budget for the perturbation temperature thus becomes\n",
    "\n",
    "$$C \\frac{d T_s^\\prime}{d t} = \\lambda T_s^\\prime$$\n",
    "\n",
    "where we define\n",
    "\n",
    "$$\\lambda = -\\Big(4 \\sigma \\beta^4 \\bar{T_s}^3 \\Big)$$\n",
    "\n",
    "Here $\\lambda$ is actually the **feedback parameter** for our system. We will say much more about this later in the course.\n",
    "Putting in our observational values, we get \n",
    "\n",
    "$\\lambda = -3.3$ W m$^{-2}$ K$^{-1}$\n",
    "\n",
    "This is actually our first estimate of what we will later call the **Planck feedback**, which is found in every climate model. It is the tendency for a warm surface to cool by increased longwave radiation to space. We include the negative sign to indicate that this is a **negative feedback**, which tends to restore the system towards equilibrium. Again, we will return to this later in the course.\n",
    "\n",
    "### Solve the linear ODE\n",
    "\n",
    "Now define\n",
    "\n",
    "$$ \\tau = C / (-\\lambda)$$\n",
    "\n",
    "This is a positive constant with dimensions of time (seconds). With these definitions the temperature evolves according to\n",
    "\n",
    "$$ \\frac{d T_s^\\prime}{d t} = - \\frac{T_s^\\prime}{\\tau}$$\n",
    "\n",
    "This is one of the simplest ODEs. Hopefully it looks familiar to most of you. It is the equation for an **exponential decay** process. We can easily solve for the temperature evolution by integrating from an initial condition $T_s^\\prime(0)$:\n",
    "\n",
    "$$ \\int_{T_s^\\prime(0)}^{T_s^\\prime(t)} \\frac{d T_s^\\prime}{T_s^\\prime} = -\\int_0^t  \\frac{dt}{\\tau}$$\n",
    "\n",
    "$$\\ln \\bigg( \\frac{T_s^\\prime(t)}{T_s^\\prime(0)} \\bigg) = -\\frac{t}{\\tau}$$\n",
    "\n",
    "$$T_s^\\prime(t) = T_s^\\prime(0) \\exp \\bigg(-\\frac{t}{\\tau} \\bigg)$$\n",
    "\n",
    "I hope that the mathematics is straightforward for everyone in this class. If not, go through it carefully and make sure you understand each step.\n",
    "\n",
    "### e-folding time for relaxation of global mean temperature\n",
    "Our model says that surface temperature will relax toward its equilibrium value over a characteristic time scale $\\tau$. This is an **e-folding time** – the time it takes for the perturbation to decay by a factor 1/e = 0.37\n",
    "\n",
    "*What should this timescale be for the climate system?*\n",
    "\n",
    "To estimate $\\tau$ we need a value for the effective heat capacity $C$.\n",
    "A quick and dirty estimate:\n",
    "\n",
    "$$C = c_w \\rho_w H$$\n",
    "\n",
    "where \n",
    "\n",
    "$c_w = 4 \\times 10^3$ J kg$^{-1}$ $^\\circ$C$^{-1}$ is the specific heat of water,\n",
    "\n",
    "$\\rho_w = 10^3$ kg m$^{-3}$ is the density of water, and\n",
    "\n",
    "$H$ is an effective depth of water that is heated or cooled.\n",
    "\n",
    "What is the right choice for $H$? That turns out to be an interesting and subtle question. It depends very much on the timescale of the problem\n",
    "- days?\n",
    "- years?\n",
    "- decades?\n",
    "- millenia?\n",
    "\n",
    "We will revisit this question later in the course. For now, let’s just assume that $H = 100$ m (a bit deeper than the typical depth of the surface mixed layer in the oceans).\n",
    "\n",
    "Then $C = 4 \\times 10^8$ J m$^{-2}$ K$^{-1}$. \n",
    "And the e-folding time for the surface temperature will be\n",
    "\n",
    "$$\\tau = \\frac{4 \\times 10^8 J m^{-2} K^{-1}}{3.3 W m^{-2} K^{-1}}  = 1.4 \\times 10^8 s \\approx \\text{4 years} $$\n",
    "\n",
    "This is a rather fast timescale relative to other processes that can affect the planetary energy budget, as we will discuss later. \n",
    "\n",
    "Some take-away messages:\n",
    "- Earth (or any planet) has a well-defined equilibrium temperature because of the temperature dependence of the outgoing longwave radiation.\n",
    "- The system will tend to relax toward its equilibrium temperature on an e-folding timescale that depends on (1) radiative feedback processes, and (2) effective heat capacity.\n",
    "- In our estimate, this e-folding time is relatively short. In the absence of other processes that can either increase the heat capacity or lower (in absolute value) the feedback parameter, the Earth would never be very far out of energy balance\n",
    "- We will quantify this statement more as the term progresses."
   ]
  },
  {
   "cell_type": "markdown",
   "metadata": {},
   "source": [
    "### Plotting the solution in Python\n",
    "Here I'm going to show some example code for making simple line plots with Python. I strongly encourage you to try this out on your own. **Avoid the temptation to copy and paste the code!** You won't learn anything that way. Type the code into your own Python session. Experiment with it!\n",
    "\n",
    "First we'll define a bunch of constants."
   ]
  },
  {
   "cell_type": "code",
   "execution_count": 1,
   "metadata": {
    "collapsed": false
   },
   "outputs": [
    {
     "name": "stdout",
     "output_type": "stream",
     "text": [
      "-3.32293472222\n",
      "120375521.471\n",
      "3.81708274577\n"
     ]
    }
   ],
   "source": [
    "sigma = 5.67E-8  # Stefan-boltzmann constant\n",
    "Q = 341.3  # global mean incoming solar radiation\n",
    "alpha = 0.299  # planetary albedo\n",
    "Tsbar = 288.  # global mean temperature\n",
    "Te = ((1-alpha)*Q / sigma)**(0.25)  # emission temperature\n",
    "beta = Te / Tsbar\n",
    "lambda0 = -4 * sigma * beta**4 * Tsbar**3\n",
    "print lambda0\n",
    "C = 4E8 \n",
    "tau = C / (-lambda0)\n",
    "print tau\n",
    "seconds_per_year = 60*60*24*365\n",
    "print tau / seconds_per_year"
   ]
  },
  {
   "cell_type": "markdown",
   "metadata": {},
   "source": [
    "This code uses the `numpy` package to do efficient array operations. Before we use the package, we import it into the current Python session."
   ]
  },
  {
   "cell_type": "code",
   "execution_count": 2,
   "metadata": {
    "collapsed": false
   },
   "outputs": [
    {
     "name": "stdout",
     "output_type": "stream",
     "text": [
      "[  0.00000000e+00   1.22832165e+07   2.45664330e+07   3.68496494e+07\n",
      "   4.91328659e+07   6.14160824e+07   7.36992989e+07   8.59825153e+07\n",
      "   9.82657318e+07   1.10548948e+08   1.22832165e+08   1.35115381e+08\n",
      "   1.47398598e+08   1.59681814e+08   1.71965031e+08   1.84248247e+08\n",
      "   1.96531464e+08   2.08814680e+08   2.21097897e+08   2.33381113e+08\n",
      "   2.45664330e+08   2.57947546e+08   2.70230762e+08   2.82513979e+08\n",
      "   2.94797195e+08   3.07080412e+08   3.19363628e+08   3.31646845e+08\n",
      "   3.43930061e+08   3.56213278e+08   3.68496494e+08   3.80779711e+08\n",
      "   3.93062927e+08   4.05346144e+08   4.17629360e+08   4.29912577e+08\n",
      "   4.42195793e+08   4.54479010e+08   4.66762226e+08   4.79045443e+08\n",
      "   4.91328659e+08   5.03611876e+08   5.15895092e+08   5.28178308e+08\n",
      "   5.40461525e+08   5.52744741e+08   5.65027958e+08   5.77311174e+08\n",
      "   5.89594391e+08   6.01877607e+08]\n",
      "[ 294.          293.41795616  292.89237483  292.41777873  291.98922192\n",
      "  291.60223825  291.25279482  290.93724996  290.65231525  290.3950213\n",
      "  290.16268673  289.95289032  289.76344569  289.59237857  289.43790622\n",
      "  289.29841881  289.1724627   289.05872525  288.95602117  288.86328013\n",
      "  288.77953565  288.703915    288.6356301   288.57396934  288.51829012\n",
      "  288.46801219  288.42261159  288.38161518  288.34459572  288.31116741\n",
      "  288.2809819   288.2537246   288.22911146  288.20688598  288.18681653\n",
      "  288.16869396  288.15232941  288.13755235  288.12420876  288.11215961\n",
      "  288.1012793   288.09145447  288.08258272  288.07457159  288.0673376\n",
      "  288.06080536  288.0549068   288.04958044  288.04477077  288.04042768]\n"
     ]
    },
    {
     "data": {
      "text/plain": [
       "(50,)"
      ]
     },
     "execution_count": 2,
     "metadata": {},
     "output_type": "execute_result"
    }
   ],
   "source": [
    "import numpy as np\n",
    "t = np.linspace(0, 5*tau)  # a time array\n",
    "print t\n",
    "type(t)  # this shows that t is numpy.ndarray type\n",
    "t.shape  # a tuple showing the dimensions of the array\n",
    "Tsprime0 = 6.  # initial temperature perturbation\n",
    "#  Here we define the actual solution\n",
    "Tsprime = Tsbar + Tsprime0 * np.exp(-t/tau)  \n",
    "print Tsprime\n",
    "Tsprime.shape\n",
    "#  got the same size array\n",
    "#  the numpy function np.exp() operated simultaneously\n",
    "#  on all elements of the array"
   ]
  },
  {
   "cell_type": "markdown",
   "metadata": {},
   "source": [
    "To make a plot, we will use the `matplotlib` library. The plotting commands work a lot like `MATLAB`. But, like any other package, we need to import it before using it."
   ]
  },
  {
   "cell_type": "code",
   "execution_count": 3,
   "metadata": {
    "collapsed": false
   },
   "outputs": [],
   "source": [
    "# pyplot is the name of the library of plotting routines within matplotlib\n",
    "#  here we import them and give them a \"nickname\"\n",
    "import matplotlib.pyplot as plt"
   ]
  },
  {
   "cell_type": "code",
   "execution_count": 4,
   "metadata": {
    "collapsed": false
   },
   "outputs": [],
   "source": [
    "#  this command allows the plots to appear inline in this notebook\n",
    "%matplotlib inline"
   ]
  },
  {
   "cell_type": "code",
   "execution_count": 5,
   "metadata": {
    "collapsed": false
   },
   "outputs": [
    {
     "data": {
      "text/plain": [
       "[<matplotlib.lines.Line2D at 0x10ee96cd0>]"
      ]
     },
     "execution_count": 5,
     "metadata": {},
     "output_type": "execute_result"
    },
    {
     "data": {
      "image/png": "[encoded data removed]",
      "text/plain": [
       "<matplotlib.figure.Figure at 0x10ebd7a50>"
      ]
     },
     "metadata": {},
     "output_type": "display_data"
    }
   ],
   "source": [
    "plt.plot(t, Tsprime)"
   ]
  },
  {
   "cell_type": "code",
   "execution_count": 6,
   "metadata": {
    "collapsed": false
   },
   "outputs": [
    {
     "data": {
      "text/plain": [
       "[<matplotlib.lines.Line2D at 0x10f6156d0>]"
      ]
     },
     "execution_count": 6,
     "metadata": {},
     "output_type": "execute_result"
    },
    {
     "data": {
      "image/png": "[encoded data removed]",
      "text/plain": [
       "<matplotlib.figure.Figure at 0x10ee57690>"
      ]
     },
     "metadata": {},
     "output_type": "display_data"
    }
   ],
   "source": [
    "#  use a more convenient unit for time\n",
    "plt.plot(t / seconds_per_year, Tsprime) "
   ]
  },
  {
   "cell_type": "code",
   "execution_count": 7,
   "metadata": {
    "collapsed": false
   },
   "outputs": [
    {
     "data": {
      "text/plain": [
       "<matplotlib.text.Text at 0x10f67a650>"
      ]
     },
     "execution_count": 7,
     "metadata": {},
     "output_type": "execute_result"
    },
    {
     "data": {
      "image/png": "[encoded data removed]",
      "text/plain": [
       "<matplotlib.figure.Figure at 0x10eea7610>"
      ]
     },
     "metadata": {},
     "output_type": "display_data"
    }
   ],
   "source": [
    "#  Or add some helpful labels\n",
    "plt.plot(t / seconds_per_year, Tsprime) \n",
    "plt.xlabel('Years')\n",
    "plt.ylabel('Global mean temperature (K)')\n",
    "plt.title('Relaxation to equilibrium temperature')"
   ]
  },
  {
   "cell_type": "markdown",
   "metadata": {},
   "source": [
    "### Solving the ODE numerically\n",
    "In this case the equation is sufficiently simple that we have an analytical solution. Most models are too mathematically complex for this, and we need numerical solution methods. Because the governing equations for every model are differential in time (and usually in space as well), we need to use some numerical approximations to the governing equations.\n",
    "\n",
    "We approximate the time derivative with\n",
    "\n",
    "$$ \\frac{dT}{dt} \\approx \\frac{∆T}{∆t} = \\frac{T_1-T_0}{t_1-t_0} $$\n",
    "\n",
    "which makes sense as long as the **timestep** $\\delta t$ is *sufficiently small*.\n",
    "\n",
    "What is meant by sufficiently small? In practice, small enough that the numerical solution behaves well! We will not spend much time in this course talking about numerical methods, but there is much we could say about this…\n",
    "\n",
    "The simplest time discretization is called **Forward Euler** or **Explicit Euler**. Say we know the state of the system at time $t_0$, i.e. we know the temperature $T_0$. Then rearranging the above,\n",
    "\n",
    "$$T_1 = T_0 + ∆t (dT/dt)$$\n",
    "\n",
    "So if we can calculate the **tendency** of the system (i.e. the time derivative) at time $t_0$, then we have a formula to predict the next state of the system.\n",
    "\n",
    "For our linearized zero-dimensional energy balance model, \n",
    "\n",
    "$$\\frac{dT_s}{dt} = -\\frac{1}{\\tau} \\big(T_s-\\bar{T_s} \\big)$$\n",
    "\n",
    "So we can predict the temperature with\n",
    "\n",
    "$$ T_1 = T_0 -  \\frac{\\Delta t}{\\tau} \\big( T_0 - \\bar{T_s} \\big)$$\n",
    "\n",
    "Let’s implement this formula as a simple function in Python to calculate the next temperature at each timestep\n"
   ]
  },
  {
   "cell_type": "code",
   "execution_count": 8,
   "metadata": {
    "collapsed": false
   },
   "outputs": [],
   "source": [
    "def next_temperature(T0, timestep, tau):\n",
    "    Tsbar = 288.\n",
    "    return T0 - timestep/tau * (T0-Tsbar)"
   ]
  },
  {
   "cell_type": "markdown",
   "metadata": {},
   "source": [
    "Now let’s construct the full numerical solution by looping in time:"
   ]
  },
  {
   "cell_type": "code",
   "execution_count": 9,
   "metadata": {
    "collapsed": false
   },
   "outputs": [
    {
     "name": "stdout",
     "output_type": "stream",
     "text": [
      "[ 0.  0.  0.  0.  0.  0.  0.  0.  0.  0.  0.  0.  0.  0.  0.  0.  0.  0.\n",
      "  0.  0.  0.  0.  0.  0.  0.  0.  0.  0.  0.  0.  0.  0.  0.  0.  0.  0.\n",
      "  0.  0.  0.  0.  0.  0.  0.  0.  0.  0.  0.  0.  0.  0.]\n",
      "50\n",
      "[ 294.    0.    0.    0.    0.    0.    0.    0.    0.    0.    0.    0.\n",
      "    0.    0.    0.    0.    0.    0.    0.    0.    0.    0.    0.    0.\n",
      "    0.    0.    0.    0.    0.    0.    0.    0.    0.    0.    0.    0.\n",
      "    0.    0.    0.    0.    0.    0.    0.    0.    0.    0.    0.    0.\n",
      "    0.    0.]\n",
      "[ 294.          293.3877551   292.83798417  292.34431232  291.90101514\n",
      "  291.50295237  291.14550825  290.82453802  290.53631986  290.27751171\n",
      "  290.04511256  289.8364276   289.64903703  289.48076794  289.32966917\n",
      "  289.19398865  289.07215307  288.9627497   288.86450993  288.77629463\n",
      "  288.69708089  288.62595019  288.56207772  288.50472285  288.45322052\n",
      "  288.40697353  288.36544562  288.32815525  288.29467002  288.26460165\n",
      "  288.23760148  288.21335643  288.19158537  288.17203584  288.15448116\n",
      "  288.13871778  288.1245629   288.1118524   288.10043889  288.09019003\n",
      "  288.08098696  288.07272299  288.06530227  288.05863878  288.05265523\n",
      "  288.04728225  288.04245753  288.03812513  288.03423481  288.03074146]\n"
     ]
    }
   ],
   "source": [
    "Tnumerical = np.zeros_like(t)\n",
    "print Tnumerical\n",
    "print Tnumerical.size\n",
    "# Assign the initial condition\n",
    "Tnumerical[0] = Tsprime0 + Tsbar\n",
    "print Tnumerical\n",
    "# this shows indexing of the time array. t[0] is the first element\n",
    "# t[1] is the second element\n",
    "#  in Python we always start counting from zero\n",
    "timestep = t[1] - t[0] \n",
    "for i in range(Tnumerical.size-1):\n",
    "    # assign the next temperature value to the approprate array element\n",
    "    Tnumerical[i+1] = next_temperature(Tnumerical[i], timestep, tau)\n",
    "print Tnumerical"
   ]
  },
  {
   "cell_type": "markdown",
   "metadata": {},
   "source": [
    "Now we are going to plot this alongside the analytical solution."
   ]
  },
  {
   "cell_type": "code",
   "execution_count": 10,
   "metadata": {
    "collapsed": false
   },
   "outputs": [
    {
     "data": {
      "text/plain": [
       "<matplotlib.legend.Legend at 0x10f853450>"
      ]
     },
     "execution_count": 10,
     "metadata": {},
     "output_type": "execute_result"
    },
    {
     "data": {
      "image/png": "[encoded data removed]",
      "text/plain": [
       "<matplotlib.figure.Figure at 0x10f663750>"
      ]
     },
     "metadata": {},
     "output_type": "display_data"
    }
   ],
   "source": [
    "plt.plot(t / seconds_per_year, Tsprime, label='analytical') \n",
    "plt.plot(t / seconds_per_year, Tnumerical, label='numerical')\n",
    "plt.xlabel('Years')\n",
    "plt.ylabel('Global mean temperature (K)')\n",
    "plt.title('Relaxation to equilibrium temperature')\n",
    "plt.legend()\n",
    "# the legend() function uses the labels assigned in the above plot() commands"
   ]
  },
  {
   "cell_type": "markdown",
   "metadata": {},
   "source": [
    "So this works quite well; the two solutions look nearly identical.\n",
    "\n",
    "Now that we have built some confidence in the numerical method, we can use it to study a slightly more complex system for which we don’t have the analytical solution.\n",
    "\n",
    "E.g. let’s solve the full non-linear energy balance model:\n",
    "\n",
    "$$C \\frac{dT_s}{dt} = (1-\\alpha) Q - \\sigma \\big(\\beta T_s \\big)^4 $$\n",
    "\n",
    "We’ll write a new solver function:"
   ]
  },
  {
   "cell_type": "code",
   "execution_count": 11,
   "metadata": {
    "collapsed": false
   },
   "outputs": [],
   "source": [
    "# absorbed solar is a constant in this model\n",
    "ASR = (1-alpha)*Q  \n",
    "# but the longwave depends on temperature... define a function for this\n",
    "def OLR(Ts):\n",
    "    return sigma * (beta*Ts)**4\n",
    "# Now we put them together to get our simple solver function\n",
    "def next_temperature_nonlinear(T0, timestep):\n",
    "    return T0 + timestep/C * (ASR-OLR(T0))"
   ]
  },
  {
   "cell_type": "markdown",
   "metadata": {},
   "source": [
    "We will now follow the same procedure as above to solve this model and plot the solution along with our two previous solutions of the linear model."
   ]
  },
  {
   "cell_type": "code",
   "execution_count": 12,
   "metadata": {
    "collapsed": false
   },
   "outputs": [
    {
     "data": {
      "text/plain": [
       "<matplotlib.legend.Legend at 0x10f990610>"
      ]
     },
     "execution_count": 12,
     "metadata": {},
     "output_type": "execute_result"
    },
    {
     "data": {
      "image/png": "[encoded data removed]",
      "text/plain": [
       "<matplotlib.figure.Figure at 0x10f76df90>"
      ]
     },
     "metadata": {},
     "output_type": "display_data"
    }
   ],
   "source": [
    "Tnonlinear = np.zeros_like(t)\n",
    "Tnonlinear[0] = Tsprime0 + Tsbar\n",
    "for i in range(Tnumerical.size-1):\n",
    "    Tnonlinear[i+1] = next_temperature_nonlinear(Tnonlinear[i], timestep)\n",
    "\n",
    "plt.plot(t / seconds_per_year, Tsprime, label='analytical') \n",
    "plt.plot(t / seconds_per_year, Tnumerical, label='numerical')\n",
    "plt.plot(t / seconds_per_year, Tnonlinear, label='nonlinear')\n",
    "plt.xlabel('Years')\n",
    "plt.ylabel('Global mean temperature (K)')\n",
    "plt.title('Relaxation to equilibrium temperature')\n",
    "plt.legend()"
   ]
  },
  {
   "cell_type": "markdown",
   "metadata": {},
   "source": [
    "And we see that the models essentially do the same thing.\n",
    "\n",
    "Now try some different initial conditions\n"
   ]
  },
  {
   "cell_type": "code",
   "execution_count": 13,
   "metadata": {
    "collapsed": false
   },
   "outputs": [
    {
     "name": "stdout",
     "output_type": "stream",
     "text": [
      "288.294151595\n"
     ]
    }
   ],
   "source": [
    "T1 = 400.  # very hot\n",
    "for n in range(50):\n",
    "    T1 = next_temperature_nonlinear(T1, timestep)\n",
    "print T1"
   ]
  },
  {
   "cell_type": "code",
   "execution_count": 14,
   "metadata": {
    "collapsed": false
   },
   "outputs": [
    {
     "name": "stdout",
     "output_type": "stream",
     "text": [
      "287.28133982\n"
     ]
    }
   ],
   "source": [
    "T1 = 200.  # very cold\n",
    "for n in range(50):\n",
    "    T1 = next_temperature_nonlinear(T1, timestep)\n",
    "print T1"
   ]
  },
  {
   "cell_type": "markdown",
   "metadata": {},
   "source": [
    "The system relaxes back to 288 K regardless of its initial condition."
   ]
  },
  {
   "cell_type": "markdown",
   "metadata": {},
   "source": [
    "<div class=\"alert alert-success\">\n",
    "[Back to ATM 623 notebook home](../index.ipynb)\n",
    "</div>"
   ]
  },
  {
   "cell_type": "markdown",
   "metadata": {},
   "source": [
    "____________\n",
    "## Version information\n",
    "____________\n"
   ]
  },
  {
   "cell_type": "code",
   "execution_count": 15,
   "metadata": {
    "collapsed": false
   },
   "outputs": [
    {
     "name": "stdout",
     "output_type": "stream",
     "text": [
      "Installed version_information.py. To use it, type:\n",
      "  %load_ext version_information\n"
     ]
    },
    {
     "data": {
      "application/json": {
       "Software versions": [
        {
         "module": "Python",
         "version": "2.7.9 64bit [GCC 4.2.1 (Apple Inc. build 5577)]"
        },
        {
         "module": "IPython",
         "version": "3.1.0"
        },
        {
         "module": "OS",
         "version": "Darwin 14.3.0 x86_64 i386 64bit"
        },
        {
         "module": "numpy",
         "version": "1.9.2"
        },
        {
         "module": "climlab",
         "version": "0.2.11"
        }
       ]
      },
      "text/html": [
       "<table><tr><th>Software</th><th>Version</th></tr><tr><td>Python</td><td>2.7.9 64bit [GCC 4.2.1 (Apple Inc. build 5577)]</td></tr><tr><td>IPython</td><td>3.1.0</td></tr><tr><td>OS</td><td>Darwin 14.3.0 x86_64 i386 64bit</td></tr><tr><td>numpy</td><td>1.9.2</td></tr><tr><td>climlab</td><td>0.2.11</td></tr><tr><td colspan='2'>Thu May 14 15:54:20 2015 EDT</td></tr></table>"
      ],
      "text/latex": [
       "\\begin{tabular}{|l|l|}\\hline\n",
       "{\\bf Software} & {\\bf Version} \\\\ \\hline\\hline\n",
       "Python & 2.7.9 64bit [GCC 4.2.1 (Apple Inc. build 5577)] \\\\ \\hline\n",
       "IPython & 3.1.0 \\\\ \\hline\n",
       "OS & Darwin 14.3.0 x86\\_64 i386 64bit \\\\ \\hline\n",
       "numpy & 1.9.2 \\\\ \\hline\n",
       "climlab & 0.2.11 \\\\ \\hline\n",
       "\\hline \\multicolumn{2}{|l|}{Thu May 14 15:54:20 2015 EDT} \\\\ \\hline\n",
       "\\end{tabular}\n"
      ],
      "text/plain": [
       "Software versions\n",
       "Python 2.7.9 64bit [GCC 4.2.1 (Apple Inc. build 5577)]\n",
       "IPython 3.1.0\n",
       "OS Darwin 14.3.0 x86_64 i386 64bit\n",
       "numpy 1.9.2\n",
       "climlab 0.2.11\n",
       "Thu May 14 15:54:20 2015 EDT"
      ]
     },
     "execution_count": 15,
     "metadata": {},
     "output_type": "execute_result"
    }
   ],
   "source": [
    "%install_ext http://raw.github.com/jrjohansson/version_information/master/version_information.py\n",
    "%load_ext version_information\n",
    "%version_information numpy, climlab"
   ]
  },
  {
   "cell_type": "markdown",
   "metadata": {},
   "source": [
    "____________\n",
    "## Credits\n",
    "\n",
    "The author of this notebook is [Brian E. J. Rose](http://www.atmos.albany.edu/facstaff/brose/index.html), University at Albany.\n",
    "\n",
    "It was developed in support of [ATM 623: Climate Modeling](http://www.atmos.albany.edu/facstaff/brose/classes/ATM623_Spring2015/), a graduate-level course in the [Department of Atmospheric and Envionmental Sciences](http://www.albany.edu/atmos/index.php), offered in Spring 2015.\n",
    "____________"
   ]
  },
  {
   "cell_type": "code",
   "execution_count": null,
   "metadata": {
    "collapsed": false
   },
   "outputs": [],
   "source": []
  }
 ],
 "metadata": {
  "kernelspec": {
   "display_name": "Python 2",
   "language": "python",
   "name": "python2"
  },
  "language_info": {
   "codemirror_mode": {
    "name": "ipython",
    "version": 2
   },
   "file_extension": ".py",
   "mimetype": "text/x-python",
   "name": "python",
   "nbconvert_exporter": "python",
   "pygments_lexer": "ipython2",
   "version": "2.7.9"
  }
 },
 "nbformat": 4,
 "nbformat_minor": 0
}
