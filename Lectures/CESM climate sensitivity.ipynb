{
 "cells": [
  {
   "cell_type": "markdown",
   "metadata": {},
   "source": [
    "# Examing transient and equilibrium climate sensitivity in the CESM "
   ]
  },
  {
   "cell_type": "markdown",
   "metadata": {},
   "source": [
    "I have run two sets of experiments with the CESM model:\n",
    "\n",
    "- The fully coupled model:\n",
    "    - pre-industrial control\n",
    "    - 1%/year CO2 ramp scenario for 80 years \n",
    "- The slab ocean model:\n",
    "    - pre-industrial control with prescribed q-flux\n",
    "    - 2xCO2 scenario run out to equilibrium"
   ]
  },
  {
   "cell_type": "markdown",
   "metadata": {},
   "source": [
    "Our task today is to compute the two canonical measures of climate sensitivity for this model:\n",
    "\n",
    "- Equilibrium Climate Sensitivity (ECS)\n",
    "- Transient Climate Response (TCR)"
   ]
  },
  {
   "cell_type": "markdown",
   "metadata": {},
   "source": [
    "From the IPCC AR5 WG1 report, Chapter 9, page 817:\n",
    "\n",
    "> Equilibrium climate sensitivity (ECS) is the equilibrium change in global and annual mean surface air temperature after doubling the atmos- pheric concentration of CO2 relative to pre-industrial levels. \n",
    "\n",
    "> The transient climate response (TCR) is the change in global and annual mean surface temperature from an experiment in which the CO2 con- centration is increased by 1% yr–1, and calculated using the difference between the start of the experiment and a 20-year period centred on the time of CO2 doubling. "
   ]
  },
  {
   "cell_type": "markdown",
   "metadata": {},
   "source": [
    "TCR is always smaller than ECS due to the transient effects of ocean heat uptake.\n",
    "\n",
    "We are going to **estimate** the ECS of the fully coupled model by using the equilibrium response of the Slab Ocean ."
   ]
  },
  {
   "cell_type": "code",
   "execution_count": null,
   "metadata": {},
   "outputs": [],
   "source": [
    "%matplotlib inline\n",
    "import numpy as np\n",
    "import matplotlib.pyplot as plt\n",
    "import xarray as xr"
   ]
  },
  {
   "cell_type": "code",
   "execution_count": null,
   "metadata": {},
   "outputs": [],
   "source": [
    "casenames = {'cpl_control': 'cpl_1850_f19',\n",
    "             'cpl_CO2ramp': 'cpl_CO2ramp_f19',\n",
    "             'som_control': 'som_1850_f19',\n",
    "             'som_2xCO2':   'som_1850_2xCO2',\n",
    "            }\n",
    "#basepath = '/Volumes/roselab_rit/cesm_archive/'\n",
    "basepath = 'http://thredds.atmos.albany.edu:8080/thredds/dodsC/CESMA/'\n",
    "casepaths = {}\n",
    "for name in casenames:\n",
    "    casepaths[name] = basepath + casenames[name] + '/concatenated/'\n",
    "\n",
    "casepaths"
   ]
  },
  {
   "cell_type": "code",
   "execution_count": null,
   "metadata": {},
   "outputs": [],
   "source": [
    "# make a dictionary of all the CAM atmosphere output\n",
    "atm = {}\n",
    "for name in casenames:\n",
    "    path = casepaths[name] + casenames[name] + '.cam.h0.nc'\n",
    "    print('Attempting to open the dataset ', path)\n",
    "    atm[name] = xr.open_dataset(path)"
   ]
  },
  {
   "cell_type": "code",
   "execution_count": null,
   "metadata": {},
   "outputs": [],
   "source": [
    "# The surface air temperature, which we will use for our sensitivity metrics\n",
    "atm['cpl_control'].TREFHT"
   ]
  },
  {
   "cell_type": "markdown",
   "metadata": {},
   "source": [
    "<img src='http://www.climatechange2013.org/images/figures/WGI_AR5_Fig9-43.jpg' width=800>"
   ]
  },
  {
   "cell_type": "markdown",
   "metadata": {},
   "source": [
    "<img src='../images/AR5_Table9.5.png'>"
   ]
  },
  {
   "cell_type": "code",
   "execution_count": null,
   "metadata": {},
   "outputs": [],
   "source": []
  }
 ],
 "metadata": {
  "kernelspec": {
   "display_name": "Python 3",
   "language": "python",
   "name": "python3"
  },
  "language_info": {
   "codemirror_mode": {
    "name": "ipython",
    "version": 3
   },
   "file_extension": ".py",
   "mimetype": "text/x-python",
   "name": "python",
   "nbconvert_exporter": "python",
   "pygments_lexer": "ipython3",
   "version": "3.6.5"
  }
 },
 "nbformat": 4,
 "nbformat_minor": 2
}
