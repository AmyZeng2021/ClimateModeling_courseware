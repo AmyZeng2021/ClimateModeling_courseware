{
 "cells": [
  {
   "cell_type": "markdown",
   "metadata": {},
   "source": [
    "# Examing transient and equilibrium climate sensitivity in the CESM "
   ]
  },
  {
   "cell_type": "markdown",
   "metadata": {},
   "source": [
    "I have run two sets of experiments with the CESM model:\n",
    "\n",
    "- The fully coupled model:\n",
    "    - pre-industrial control\n",
    "    - 1%/year CO2 ramp scenario for 80 years \n",
    "- The slab ocean model:\n",
    "    - pre-industrial control with prescribed q-flux\n",
    "    - 2xCO2 scenario run out to equilibrium"
   ]
  },
  {
   "cell_type": "markdown",
   "metadata": {},
   "source": [
    "Our task today is to compute the two canonical measures of climate sensitivity for this model:\n",
    "\n",
    "- Equilibrium Climate Sensitivity (ECS)\n",
    "- Transient Climate Response (TCR)"
   ]
  },
  {
   "cell_type": "markdown",
   "metadata": {},
   "source": [
    "From the IPCC AR5 WG1 report, Chapter 9, page 817:\n",
    "\n",
    "> Equilibrium climate sensitivity (ECS) is the equilibrium change in global and annual mean surface air temperature after doubling the atmos- pheric concentration of CO2 relative to pre-industrial levels. \n",
    "\n",
    "> The transient climate response (TCR) is the change in global and annual mean surface temperature from an experiment in which the CO2 con- centration is increased by 1% yr–1, and calculated using the difference between the start of the experiment and a 20-year period centred on the time of CO2 doubling. "
   ]
  },
  {
   "cell_type": "markdown",
   "metadata": {},
   "source": [
    "### First, a quick demonstration that 1%/year compounded increase reaches doubling after 70 years"
   ]
  },
  {
   "cell_type": "code",
   "execution_count": 1,
   "metadata": {},
   "outputs": [
    {
     "data": {
      "text/plain": [
       "2.006763368395386"
      ]
     },
     "execution_count": 1,
     "metadata": {},
     "output_type": "execute_result"
    }
   ],
   "source": [
    "startingamount = 1.\n",
    "amount = startingamount\n",
    "for n in range(70):\n",
    "    amount *= 1.01\n",
    "amount"
   ]
  },
  {
   "cell_type": "markdown",
   "metadata": {},
   "source": [
    "TCR is always smaller than ECS due to the transient effects of ocean heat uptake.\n",
    "\n",
    "We are going to **estimate** the ECS of the fully coupled model by using the equilibrium response of the Slab Ocean ."
   ]
  },
  {
   "cell_type": "code",
   "execution_count": 2,
   "metadata": {},
   "outputs": [],
   "source": [
    "%matplotlib inline\n",
    "import numpy as np\n",
    "import matplotlib.pyplot as plt\n",
    "import xarray as xr"
   ]
  },
  {
   "cell_type": "code",
   "execution_count": 3,
   "metadata": {},
   "outputs": [],
   "source": [
    "casenames = {'cpl_control': 'cpl_1850_f19',\n",
    "             'cpl_CO2ramp': 'cpl_CO2ramp_f19',\n",
    "             'som_control': 'som_1850_f19',\n",
    "             'som_2xCO2':   'som_1850_2xCO2',\n",
    "            }\n",
    "# The path to the THREDDS server, should work from anywhere\n",
    "basepath = 'http://thredds.atmos.albany.edu:8080/thredds/dodsC/CESMA/'\n",
    "# For better performance if you can access the roselab_rit filesystem (e.g. from JupyterHub)\n",
    "#basepath = '/roselab_rit/cesm_archive/'\n",
    "casepaths = {}\n",
    "for name in casenames:\n",
    "    casepaths[name] = basepath + casenames[name] + '/concatenated/'"
   ]
  },
  {
   "cell_type": "code",
   "execution_count": 4,
   "metadata": {},
   "outputs": [
    {
     "name": "stdout",
     "output_type": "stream",
     "text": [
      "Attempting to open the dataset  http://thredds.atmos.albany.edu:8080/thredds/dodsC/CESMA/cpl_1850_f19/concatenated/cpl_1850_f19.cam.h0.nc\n",
      "Attempting to open the dataset  http://thredds.atmos.albany.edu:8080/thredds/dodsC/CESMA/cpl_CO2ramp_f19/concatenated/cpl_CO2ramp_f19.cam.h0.nc\n",
      "Attempting to open the dataset  http://thredds.atmos.albany.edu:8080/thredds/dodsC/CESMA/som_1850_f19/concatenated/som_1850_f19.cam.h0.nc\n",
      "Attempting to open the dataset  http://thredds.atmos.albany.edu:8080/thredds/dodsC/CESMA/som_1850_2xCO2/concatenated/som_1850_2xCO2.cam.h0.nc\n"
     ]
    }
   ],
   "source": [
    "# make a dictionary of all the CAM atmosphere output\n",
    "atm = {}\n",
    "for name in casenames:\n",
    "    path = casepaths[name] + casenames[name] + '.cam.h0.nc'\n",
    "    print('Attempting to open the dataset ', path)\n",
    "    atm[name] = xr.open_dataset(path, decode_times=False)"
   ]
  },
  {
   "cell_type": "code",
   "execution_count": 5,
   "metadata": {},
   "outputs": [
    {
     "data": {
      "text/plain": [
       "<xarray.DataArray 'TREFHT' (time: 240, lat: 96, lon: 144)>\n",
       "[3317760 values with dtype=float32]\n",
       "Coordinates:\n",
       "  * time     (time) float64 31.0 59.0 90.0 120.0 ... 7.239e+03 7.269e+03 7.3e+03\n",
       "  * lat      (lat) float64 -90.0 -88.11 -86.21 -84.32 ... 84.32 86.21 88.11 90.0\n",
       "  * lon      (lon) float64 0.0 2.5 5.0 7.5 10.0 ... 350.0 352.5 355.0 357.5\n",
       "Attributes:\n",
       "    units:         K\n",
       "    long_name:     Reference height temperature\n",
       "    cell_methods:  time: mean"
      ]
     },
     "execution_count": 5,
     "metadata": {},
     "output_type": "execute_result"
    }
   ],
   "source": [
    "# The surface air temperature, which we will use for our sensitivity metrics\n",
    "atm['cpl_control'].TREFHT"
   ]
  },
  {
   "cell_type": "markdown",
   "metadata": {},
   "source": [
    "## First problem: compute time series of global, annual mean near-surface air temperature in all four simulations"
   ]
  },
  {
   "cell_type": "code",
   "execution_count": 7,
   "metadata": {},
   "outputs": [],
   "source": [
    "gw = atm['som_control'].gw"
   ]
  },
  {
   "cell_type": "code",
   "execution_count": 8,
   "metadata": {},
   "outputs": [
    {
     "data": {
      "text/plain": [
       "<xarray.DataArray 'gw' (lat: 96)>\n",
       "array([0.000137, 0.001093, 0.002185, 0.003275, 0.004361, 0.005443, 0.006518,\n",
       "       0.007587, 0.008647, 0.009697, 0.010737, 0.011765, 0.012781, 0.013782,\n",
       "       0.014768, 0.015739, 0.016692, 0.017626, 0.018542, 0.019437, 0.020311,\n",
       "       0.021162, 0.021991, 0.022795, 0.023575, 0.024329, 0.025056, 0.025756,\n",
       "       0.026427, 0.02707 , 0.027683, 0.028266, 0.028818, 0.029339, 0.029827,\n",
       "       0.030283, 0.030705, 0.031094, 0.031449, 0.03177 , 0.032056, 0.032307,\n",
       "       0.032522, 0.032702, 0.032847, 0.032955, 0.033027, 0.033063, 0.033063,\n",
       "       0.033027, 0.032955, 0.032847, 0.032702, 0.032522, 0.032307, 0.032056,\n",
       "       0.03177 , 0.031449, 0.031094, 0.030705, 0.030283, 0.029827, 0.029339,\n",
       "       0.028818, 0.028266, 0.027683, 0.02707 , 0.026427, 0.025756, 0.025056,\n",
       "       0.024329, 0.023575, 0.022795, 0.021991, 0.021162, 0.020311, 0.019437,\n",
       "       0.018542, 0.017626, 0.016692, 0.015739, 0.014768, 0.013782, 0.012781,\n",
       "       0.011765, 0.010737, 0.009697, 0.008647, 0.007587, 0.006518, 0.005443,\n",
       "       0.004361, 0.003275, 0.002185, 0.001093, 0.000137])\n",
       "Coordinates:\n",
       "  * lat      (lat) float64 -90.0 -88.11 -86.21 -84.32 ... 84.32 86.21 88.11 90.0\n",
       "Attributes:\n",
       "    long_name:  gauss weights"
      ]
     },
     "execution_count": 8,
     "metadata": {},
     "output_type": "execute_result"
    }
   ],
   "source": [
    "gw"
   ]
  },
  {
   "cell_type": "code",
   "execution_count": 9,
   "metadata": {},
   "outputs": [],
   "source": [
    "def global_mean(field, weight=gw):\n",
    "    return (field*weight).mean(dim=('lat','lon'))/weight.mean(dim='lat')"
   ]
  },
  {
   "cell_type": "code",
   "execution_count": 11,
   "metadata": {},
   "outputs": [],
   "source": [
    "TREFHT_global = {}\n",
    "for name in casenames:\n",
    "    TREFHT_global[name] = global_mean(atm[name].TREFHT)"
   ]
  },
  {
   "cell_type": "code",
   "execution_count": 12,
   "metadata": {},
   "outputs": [
    {
     "data": {
      "image/png": "[encoded data removed]",
      "text/plain": [
       "<Figure size 432x288 with 1 Axes>"
      ]
     },
     "metadata": {
      "needs_background": "light"
     },
     "output_type": "display_data"
    }
   ],
   "source": [
    "days_per_year = 365\n",
    "fig, ax = plt.subplots()\n",
    "for name in ['cpl_control', 'cpl_CO2ramp']:\n",
    "    ax.plot(atm[name].time/days_per_year, atm[name].co2vmr*1E6, label=name)\n",
    "ax.set_title('CO2 volume mixing ratio (CESM coupled simulations)')\n",
    "ax.set_xlabel('Years')\n",
    "ax.set_ylabel('pCO2 (ppm)')\n",
    "ax.grid()\n",
    "ax.legend();"
   ]
  },
  {
   "cell_type": "code",
   "execution_count": 13,
   "metadata": {},
   "outputs": [
    {
     "data": {
      "image/png": "[encoded data removed]",
      "text/plain": [
       "<Figure size 720x576 with 2 Axes>"
      ]
     },
     "metadata": {
      "needs_background": "light"
     },
     "output_type": "display_data"
    }
   ],
   "source": [
    "fig, axes = plt.subplots(2,1,figsize=(10,8))\n",
    "for name in casenames:\n",
    "    if 'cpl' in name:\n",
    "        ax = axes[0]\n",
    "        ax.set_title('Fully coupled ocean')\n",
    "    else:\n",
    "        ax = axes[1]\n",
    "        ax.set_title('Slab ocean')\n",
    "    field = TREFHT_global[name]\n",
    "    field_running = field.rolling(time=12, center=True).mean()\n",
    "    line = ax.plot(field.time / days_per_year, \n",
    "                   field, \n",
    "                   label=name,\n",
    "                   linewidth=0.75,\n",
    "                   )\n",
    "    ax.plot(field_running.time / days_per_year, \n",
    "            field_running, \n",
    "            color=line[0].get_color(),\n",
    "            linewidth=2,\n",
    "           )\n",
    "for ax in axes:\n",
    "    ax.legend();\n",
    "    ax.set_xlabel('Years')\n",
    "    ax.set_ylabel('Temperature (K)')\n",
    "    ax.grid();\n",
    "    ax.set_xlim(0,100)\n",
    "fig.suptitle('Global mean surface air temperature in CESM simulations', fontsize=16);"
   ]
  },
  {
   "cell_type": "markdown",
   "metadata": {},
   "source": [
    "## Now we can work on computing ECS and TCR"
   ]
  },
  {
   "cell_type": "code",
   "execution_count": null,
   "metadata": {},
   "outputs": [],
   "source": []
  },
  {
   "cell_type": "markdown",
   "metadata": {},
   "source": [
    "## Let's make some maps to compare spatial patterns of transient vs. equilibrium warming\n",
    "\n",
    "- Maps of annual mean surface air temperature anomalies\n",
    "- Maps of precipitation?"
   ]
  },
  {
   "cell_type": "code",
   "execution_count": null,
   "metadata": {},
   "outputs": [],
   "source": []
  },
  {
   "cell_type": "markdown",
   "metadata": {},
   "source": [
    "## Some CMIP climate sensitivity results to compare against"
   ]
  },
  {
   "cell_type": "markdown",
   "metadata": {},
   "source": [
    "<img src='http://www.climatechange2013.org/images/figures/WGI_AR5_Fig9-43.jpg' width=800>"
   ]
  },
  {
   "cell_type": "markdown",
   "metadata": {},
   "source": [
    "<img src='../images/AR5_Table9.5.png'>"
   ]
  },
  {
   "cell_type": "markdown",
   "metadata": {},
   "source": [
    "## For later reference: opening other output types\n",
    "\n",
    "The following will open the rest of the CESM output (land, sea ice, river routing, ocean)"
   ]
  },
  {
   "cell_type": "code",
   "execution_count": null,
   "metadata": {},
   "outputs": [],
   "source": [
    "# make a dictionary of all the CLM land model output\n",
    "land = {}\n",
    "for name in casenames:\n",
    "    path = casepaths[name] + casenames[name] + '.clm2.h0.nc'\n",
    "    print('Attempting to open the dataset ', path)\n",
    "    land[name] = xr.open_dataset(path)"
   ]
  },
  {
   "cell_type": "code",
   "execution_count": null,
   "metadata": {},
   "outputs": [],
   "source": [
    "# make a dictionary of all the sea ice model output\n",
    "ice = {}\n",
    "for name in casenames:\n",
    "    path = casepaths[name] + casenames[name] + '.cice.h.nc'\n",
    "    print('Attempting to open the dataset ', path)\n",
    "    ice[name] = xr.open_dataset(path)"
   ]
  },
  {
   "cell_type": "code",
   "execution_count": null,
   "metadata": {},
   "outputs": [],
   "source": [
    "# make a dictionary of all the river transport output\n",
    "rtm = {}\n",
    "for name in casenames:\n",
    "    path = casepaths[name] + casenames[name] + '.rtm.h0.nc'\n",
    "    print('Attempting to open the dataset ', path)\n",
    "    rtm[name] = xr.open_dataset(path)"
   ]
  },
  {
   "cell_type": "code",
   "execution_count": null,
   "metadata": {},
   "outputs": [],
   "source": [
    "ocn = {}\n",
    "for name in casenames:\n",
    "    if 'cpl' in name:\n",
    "        path = casepaths[name] + casenames[name] + '.pop.h.nc'\n",
    "        print('Attempting to open the dataset ', path)\n",
    "        ocn[name] = xr.open_dataset(path)"
   ]
  },
  {
   "cell_type": "code",
   "execution_count": null,
   "metadata": {},
   "outputs": [],
   "source": []
  }
 ],
 "metadata": {
  "kernelspec": {
   "display_name": "Python 3",
   "language": "python",
   "name": "python3"
  },
  "language_info": {
   "codemirror_mode": {
    "name": "ipython",
    "version": 3
   },
   "file_extension": ".py",
   "mimetype": "text/x-python",
   "name": "python",
   "nbconvert_exporter": "python",
   "pygments_lexer": "ipython3",
   "version": "3.7.1"
  }
 },
 "nbformat": 4,
 "nbformat_minor": 2
}
