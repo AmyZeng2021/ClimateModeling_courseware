{
 "cells": [
  {
   "cell_type": "markdown",
   "metadata": {},
   "source": [
    "# [ATM 623: Climate Modeling](../index.ipynb)\n",
    "[Brian E. J. Rose](http://www.atmos.albany.edu/facstaff/brose/index.html), University at Albany\n",
    "# Lecture 4: Components of the climate system\n",
    "\n",
    "Tuesday February 10, 2015"
   ]
  },
  {
   "cell_type": "markdown",
   "metadata": {},
   "source": [
    "### About these notes:\n",
    "\n",
    "This document uses the interactive [`IPython notebook`](http://ipython.org/notebook.html) format (now also called [`Jupyter`](https://jupyter.org)). The notes can be accessed in several different ways:\n",
    "\n",
    "- The interactive notebooks are hosted on `github` at https://github.com/brian-rose/ClimateModeling_courseware\n",
    "- The latest versions can be viewed as static web pages [rendered on nbviewer](http://nbviewer.ipython.org/github/brian-rose/ClimateModeling_courseware/blob/master/index.ipynb)\n",
    "- A complete snapshot of the notes as of May 2015 (end of spring semester) are [available on Brian's website](http://www.atmos.albany.edu/facstaff/brose/classes/ATM623_Spring2015/Notes/index.html).\n",
    "\n",
    "Many of these notes make use of the `climlab` package, available at https://github.com/brian-rose/climlab"
   ]
  },
  {
   "cell_type": "markdown",
   "metadata": {},
   "source": [
    "___________\n",
    "## Contents\n",
    "\n",
    "1. [The climate system and its interactions](#section1)\n",
    "2. [Simulation versus Parameterization](#section2)\n",
    "3. [Introducing the GCM](#section3)\n",
    "4. [The Community Earth System Model (CESM)](#section4)\n",
    "5. [Our numerical experiments with CESM](#section5)"
   ]
  },
  {
   "cell_type": "markdown",
   "metadata": {},
   "source": [
    "____________\n",
    "<a id='section1'></a>\n",
    "## 1. The climate system and its interactions\n",
    "____________\n",
    "\n",
    "### Definition of the “climate system”:\n",
    "\n",
    "From the IPCC AR5 report:\n",
    "\n",
    "> **Climate System:** “The climate system is the highly complex system consisting of five major components: the atmosphere, the hydrosphere, the cryosphere, the lithosphere and the biosphere, and the interactions between them. The climate system evolves in time under the influence of its own internal dynamics and because of external forcings such as volcanic eruptions, solar variations and anthropogenic forcings such as the changing composition of the atmosphere and land use change.”\n",
    "\n",
    "Which begs some further definitions:\n",
    "\n",
    "- **Atmosphere**: \n",
    ">The gaseous envelope surrounding the Earth. \n",
    "\n",
    "- **Hydrosphere**:\n",
    ">The component of the climate system comprising liquid surface and subterranean water, such as oceans, seas, rivers, lakes, underground water, etc. \n",
    "\n",
    "- **Biosphere** (terrestrial and marine):\n",
    "> The part of the Earth system comprising all ecosystems and living organisms… including derived dead organic matter, such as litter, soil organic matter and oceanic detritus. \n",
    "\n",
    "- **Cryosphere**:\n",
    "> All regions on and beneath the surface of the Earth and ocean where water is in solid form, including sea ice, lake ice, river ice, snow cover, glaciers and ice sheets, and frozen ground (which includes permafrost). \n",
    "\n",
    "- **Lithosphere**: \n",
    "> The upper layer of the solid Earth, both continental and oceanic, which comprises all crustal rocks and the cold, mainly elastic part of the uppermost mantle. \n",
    "\n",
    "###Let’s think about WHY we should want to include all these “spheres” into our models.\n",
    "\n",
    "Here are two nice figures from the IPCC AR5 WG1 report:"
   ]
  },
  {
   "cell_type": "code",
   "execution_count": 1,
   "metadata": {
    "collapsed": false
   },
   "outputs": [
    {
     "data": {
      "text/html": [
       "<img src=\"http://www.climatechange2013.org/images/figures/WGI_AR5_Fig1-1.jpg\" width=\"1000\"/>"
      ],
      "text/plain": [
       "<IPython.core.display.Image object>"
      ]
     },
     "execution_count": 1,
     "metadata": {},
     "output_type": "execute_result"
    }
   ],
   "source": [
    "from IPython.display import Image\n",
    "Image(url='http://www.climatechange2013.org/images/figures/WGI_AR5_Fig1-1.jpg', width=1000)"
   ]
  },
  {
   "cell_type": "markdown",
   "metadata": {},
   "source": [
    ">Figure 1.1 | Main drivers of climate change. The radiative balance between incoming solar shortwave radiation (SWR) and outgoing longwave radiation (OLR) is influenced by global climate ‘drivers’. Natural fluctuations in solar output (solar cycles) can cause changes in the energy balance (through fluctuations in the amount of incoming SWR) (Section 2.3). Human activity changes the emissions of gases and aerosols, which are involved in atmospheric chemical reactions, resulting in modified O3 and aerosol amounts (Section 2.2). O3 and aerosol particles absorb, scatter and reflect SWR, changing the energy balance. Some aerosols act as cloud condensation nuclei modifying the properties of cloud droplets and possibly affecting precipitation (Section 7.4). Because cloud interactions with SWR and LWR are large, small changes in the properties of clouds have important implications for the radiative budget (Section 7.4). Anthropogenic changes in GHGs (e.g., CO2, CH4, N2O, O3, CFCs) and large aerosols (>2.5 μm in size) modify the amount of outgoing LWR by absorbing outgoing LWR and re-emitting less energy at a lower temperature (Section 2.2). Surface albedo is changed by changes in vegetation or land surface properties, snow or ice cover and ocean colour (Section 2.3). These changes are driven by natural seasonal and diurnal changes (e.g., snow cover), as well as human influence (e.g., changes in vegetation types) (Forster et al., 2007)."
   ]
  },
  {
   "cell_type": "code",
   "execution_count": 2,
   "metadata": {
    "collapsed": false
   },
   "outputs": [
    {
     "data": {
      "text/html": [
       "<img src=\"http://www.climatechange2013.org/images/figures/WGI_AR5_Fig1-2.jpg\" width=\"1000\"/>"
      ],
      "text/plain": [
       "<IPython.core.display.Image object>"
      ]
     },
     "execution_count": 2,
     "metadata": {},
     "output_type": "execute_result"
    }
   ],
   "source": [
    "Image(url='http://www.climatechange2013.org/images/figures/WGI_AR5_Fig1-2.jpg', width=1000)"
   ]
  },
  {
   "cell_type": "markdown",
   "metadata": {},
   "source": [
    "> Figure 1.2 | Climate feedbacks and timescales. The climate feedbacks related to increasing CO2 and rising temperature include negative feedbacks (–) such as LWR, lapse rate (see Glossary in Annex III), and air–sea carbon exchange and positive feedbacks (+) such as water vapour and snow/ice albedo feedbacks. Some feedbacks may be positive or negative (±): clouds, ocean circulation changes, air–land CO2 exchange, and emissions of non-GHGs and aerosols from natural systems. In the smaller box, the large difference in timescales for the various feedbacks is highlighted."
   ]
  },
  {
   "cell_type": "markdown",
   "metadata": {},
   "source": [
    "### The key is that all these processes ultimately affect the planetary energy budget.\n",
    "\n",
    "Let’s talk about **timescales**.\n",
    "\n",
    "Note that the IPCC figure only goes out to centuries – deep ocean circulation – but there are many even longer timescales in the climate system.\n",
    "e.g. growth and decay of ice sheets, geological processes like chemical weathering, continental drift\n",
    "\n",
    "The choice of which processes to include in a model should therefore be **guided by the timescales of interest**. For example, the IPCC process is primarily concerned with the century timescale – because it is of special concern to human affairs.\n",
    "So we don’t tend to include ice sheet and geological feedbacks – though coupled ice sheet modeling is becoming more important.\n"
   ]
  },
  {
   "cell_type": "markdown",
   "metadata": {},
   "source": [
    "____________\n",
    "<a id='section2'></a>\n",
    "## 2. Simulation versus Parameterization\n",
    "____________\n",
    "\n",
    "Best to discuss this with a specific example: **poleward heat transport**\n",
    "\n",
    "We know that the atmosphere moves a lot of energy from warm low latitudes to cold high latitudes – about 5 PW = 10$^{15}$ W actually. This transport of energy mainly occurs in transient weather systems (cyclones and anticyclones), in which warm, moist air tends to move poleward and cold, dry air tends to move equatorward.\n",
    "(we will look at this more careful later in the semester)\n",
    "\n",
    "Just about every climate model needs to account for this transport and its effects on the energy budgets in any climate model (unless we are dealing ONLY with global averages). \n",
    "\n",
    "So how can we do it?\n",
    "\n",
    "### Parameterization:\n",
    "Represent the net effect of many weather systems with an empirical relationship, such as *diffusion down mean temperature gradient*\n",
    "\n",
    "Say $T(y)$ is zonally averaged temperature, $y$ is latitude\n",
    "\n",
    "Transport = $K~dT/dy$\n",
    "\n",
    "Use observed transport to choose an appropriate value for $K$\n",
    "\n",
    "-\tPro: simple to implement, easy to understand the result\n",
    "-\tCon: how might the value of $K$ change with climate change? We have no way of knowing, and have to make assumptions.\n",
    "\n",
    "### Simulation:\n",
    "Solve the time-dependent equations of motion on a grid of sufficient spatial resolution to represent the growth and decay of synoptic-scale weather systems.\n",
    "\n",
    "-\tPro: model is based on real physical principles (Newton’s laws of motion, conservation of mass and energy). It is therefore more likely to remain valid under changing climate conditions.\n",
    "-\tCon: requires lots of computer resources. Must simulate the weather even though we really just want the climate (statistics of weather!) \n",
    "\n",
    "Essentially a simulation involves representing (at least some aspects of) the underlying rules that govern the process. There is **a chain of causality linking input to output**.\n",
    "\n",
    "Parameterization involves **making assumptions about the statistical properties of the process** – so we can calculate some relevant statistical properties of the output given the input, without needing to explicitly model the actual events. \n"
   ]
  },
  {
   "cell_type": "markdown",
   "metadata": {},
   "source": [
    "____________\n",
    "<a id='section3'></a>\n",
    "## 3. Introducing the GCM\n",
    "____________\n",
    "\n",
    "### GCM:\n",
    "Depending on who you ask, it is either:\n",
    "\n",
    "- **General Circulation Model** (the original)\n",
    "- **Global Climate Model** (more common these days)\n",
    "\n",
    "The reading from the *Climate Modelling Primer* spells out the history of the development of GCMs:\n",
    "\n",
    "-\tstarted out as atmospheric models and separate ocean models\n",
    "- gradually more and more processes are being coupled together.\n",
    "- This leads to incredibly complex pieces of software, running on some of the world’s largest computer clusters.\n"
   ]
  },
  {
   "cell_type": "code",
   "execution_count": 3,
   "metadata": {
    "collapsed": false
   },
   "outputs": [
    {
     "data": {
      "text/html": [
       "<img src=\"http://www.climatechange2013.org/images/figures/WGI_AR5_Fig1-13.jpg\" width=\"1000\"/>"
      ],
      "text/plain": [
       "<IPython.core.display.Image object>"
      ]
     },
     "execution_count": 3,
     "metadata": {},
     "output_type": "execute_result"
    }
   ],
   "source": [
    "Image(url='http://www.climatechange2013.org/images/figures/WGI_AR5_Fig1-13.jpg', width=1000)"
   ]
  },
  {
   "cell_type": "markdown",
   "metadata": {},
   "source": [
    "> Figure 1.13 | The development of climate models over the last 35 years showing how the different components were coupled into comprehensive climate models over time. In each aspect (e.g., the atmosphere, which comprises a wide range of atmospheric processes) the complexity and range of processes has increased over time (illustrated by growing cylinders). Note that during the same time the horizontal and vertical resolution has increased considerably e.g., for spectral models from T21L9 (roughly 500 km horizontal resolu- tion and 9 vertical levels) in the 1970s to T95L95 (roughly 100 km horizontal resolution and 95 vertical levels) at present, and that now ensembles with at least three independent experiments can be considered as standard."
   ]
  },
  {
   "cell_type": "code",
   "execution_count": 4,
   "metadata": {
    "collapsed": false
   },
   "outputs": [
    {
     "data": {
      "text/html": [
       "<img src=\"http://www.climatechange2013.org/images/figures/WGI_AR5_Fig1-14.jpg\" width=\"1000\"/>"
      ],
      "text/plain": [
       "<IPython.core.display.Image object>"
      ]
     },
     "execution_count": 4,
     "metadata": {},
     "output_type": "execute_result"
    }
   ],
   "source": [
    "Image(url='http://www.climatechange2013.org/images/figures/WGI_AR5_Fig1-14.jpg', width=1000)"
   ]
  },
  {
   "cell_type": "markdown",
   "metadata": {},
   "source": [
    "> Figure 1.14 | Horizontal resolutions considered in today’s higher resolution models and in the very high resolution models now being tested: (a) Illustration of the European topography at a resolution of 87.5 × 87.5 km; (b) same as (a) but for a resolution of 30.0 × 30.0 km."
   ]
  },
  {
   "cell_type": "markdown",
   "metadata": {},
   "source": [
    "One goal of all this complexity is to do **more simulation** and **less parameterization** in order to get a more accurate prediction of climate change.\n",
    "\n",
    "In terms of our simple view of planetary energy budget, **we are trying to represent the net climate feedback $\\lambda$ correctly**, and so get the correct climate sensitivity.\n",
    "\n",
    "Ideally this means basing the model on **laws of physics and chemistry**.\n",
    "\n",
    "However it doesn’t always work this way. In many cases we know that a feedback operates in nature, but we can’t represent it in terms of first principles.\n",
    "\n",
    "Land surface processes are a good example.\n",
    "\n",
    "Exchanges of energy, water and carbon between the land and atmosphere are biologically mediated. We must (to a certain extent) rely on empirical relationships. A bit like economic modeling.\n",
    "\n",
    "We also must deal with interaction across spatial scales.\n",
    "\n",
    "E.g. cumulus convection and vertical transport of heat and water vapor"
   ]
  },
  {
   "cell_type": "markdown",
   "metadata": {},
   "source": [
    "____________\n",
    "<a id='section4'></a>\n",
    "## 4. The Community Earth System Model (CESM)\n",
    "____________\n",
    "\n",
    "###What is it?\n",
    "\n",
    "- CESM is one of a handful of complex coupled GCMs that are used as part of the IPCC process.\n",
    "- Developed and maintained at NCAR (Boulder CO) by a group of climate scientists and software engineers.\n",
    "- “Community” refers to the fact that the code is open-source, with new pieces contributed by a wide variety of users. \n",
    "\n",
    "I use CESM in my own research. We are going to be using CESM in this course. Everyone should visit the website and learn about it.\n",
    "\n",
    "http://www2.cesm.ucar.edu\n",
    "\n",
    "### Key components of CESM:  (or any equivalent modern GCM)\n",
    " \n",
    " - Atmospheric model, AGCM\n",
    " - Ocean model, OGCM\n",
    " - Land surface model\n",
    " - Sea ice model\n",
    "\n",
    "The software is somewhat modular, so different submodels can be combined together depending on the nature of the scientific problem at hand and the available computer power.\n",
    "\n",
    "E.g. we can run the model in “atmosphere-only” mode. Surface conditions over land and ocean will be prescribed from observations.\n",
    "**It is difficult to learn much about climate change this way.**\n",
    "\n",
    "Why?\n",
    "\n",
    "Because the **surface temperature can’t change in response to energy imbalance!**\n",
    "\n",
    "i.e. it’s not a climate model, according to our working definition.\n",
    "\n",
    "Let’s say we want to use our model to estimate equilibrium climate sensitivity.\n",
    "Recall $\\Delta T_{2\\times CO_2}$ is the warming we get from doubling atmospheric CO2, once the planetary energy budget has adjusted back to equilibrium.\n",
    "\n",
    "In this class we will mostly work with the so-called **slab ocean model**.\n",
    "\n",
    "You got introduced to this model in the homework exercise.\n",
    "\n",
    "The key is that we **allow the sea surface temperature to change**, but we fix (prescribe) the net effect of ocean currents on the transport of energy.\n",
    "\n",
    "Why do this? \n",
    "\n",
    "Because it takes thousands of years for the full ocean model to come into equilibrium!\n",
    "\n",
    "Why should we believe the results of the slab ocean model?\n",
    "\n",
    "We shouldn’t! \n",
    "\n",
    "But experience with coupled models (meaning interactive ocean circulation) has shown that the circulation does not change radically under $2\\times CO_2$. \n",
    "\n",
    "So the slab ocean model gives us a decent first guess at climate sensitivity.\n",
    "And it makes it possible to do a lot of experimentation that we wouldn’t be able to do otherwise.\n"
   ]
  },
  {
   "cell_type": "markdown",
   "metadata": {},
   "source": [
    "____________\n",
    "<a id='section5'></a>\n",
    "## 5. Our numerical experiments with CESM\n",
    "____________\n",
    "\n",
    "### Atmosphere\n",
    " - Horizontal resolution about 2º lat/lon\n",
    " - AGCM solves the fundamental equations:\n",
    "    - Conservation of momentum, mass, energy, water, equation of state\n",
    " - At 2º we resolve the **synoptic-scale dynamics**\n",
    "     - storm tracks and cyclones. \n",
    " - We do NOT resolve the mesoscale and smaller\n",
    "     - thunderstorms, individual convective events, clouds\n",
    " - These all must be parameterized.\n",
    " - Model also solves equations of radiative transfer. This takes account of\n",
    "     - composition of the atmosphere and the absorption properties of different gases\n",
    "     - radiative effects of clouds.\n",
    "\n",
    "### Sea ice\n",
    "- Resolution of 1º.\n",
    "- Thermodynamics (conservation of energy, water and salt)\n",
    "    - determines freezing and melting\n",
    "- Dynamics (momentum equations) \n",
    "    - determine ice motion and deformation.\n",
    "- Complex! Sea ice is sort of a mixture of a fluid and a solid.\n",
    "\n",
    "### Land surface model\n",
    "- Same resolution as atmosphere. \n",
    "- Determines surface fluxes of heat, water, momentum (friction) based on prescribed vegetation types.\n",
    "- Don’t actually know much about how it works!\n",
    "- Great topic for someone to dig in to for their term project.\n",
    "\n",
    "### Ocean\n",
    "- Same grid as sea ice, 1º.\n",
    "- Sea surface temperature evolves based on:\n",
    "    - heat exchange with atmosphere\n",
    "    - prescribed “q-flux”.\n",
    "\n",
    "### Experimental setup\n",
    "\n",
    "Model is given realistic atmospheric composition, realistic solar radiation, etc.\n",
    "\n",
    "We perform a **control run** to get a baseline simulation, and take **averages of several years** (because the model has internal variability – every year is a little bit different)\n",
    "\n",
    "We then change something, e.g. $2\\times CO_2$!\n",
    "\n",
    "And allow the model to adjust to a new equilibrium, just as we did with the toy energy balance model.\n",
    "\n",
    "Once it has gotten close to its new equilibrium, we run it for several more years again to get the new climatology.\n",
    "\n",
    "Then we can look at the **differences in the climatologies before and after the perturbation**."
   ]
  },
  {
   "cell_type": "markdown",
   "metadata": {},
   "source": [
    "____________\n",
    "<a id='section5'></a>\n",
    "## 5. What can we resolve with a 2º atmosphere?\n",
    "____________\n",
    "\n",
    "The following animation shows contours of sea level pressure in the control simulation. It is based on 6-hourly output from the numerical model.\n",
    "\n",
    "The atmosphere is simulated with a 2º finite volume dynamical core."
   ]
  },
  {
   "cell_type": "code",
   "execution_count": 5,
   "metadata": {
    "collapsed": false
   },
   "outputs": [
    {
     "data": {
      "text/html": [
       "\n",
       "        <iframe\n",
       "            width=\"400\"\n",
       "            height=\"300\"\n",
       "            src=\"https://www.youtube.com/embed/As85L34fKYQ\"\n",
       "            frameborder=\"0\"\n",
       "            allowfullscreen\n",
       "        ></iframe>\n",
       "        "
      ],
      "text/plain": [
       "<IPython.lib.display.YouTubeVideo at 0x1066b26d0>"
      ]
     },
     "execution_count": 5,
     "metadata": {},
     "output_type": "execute_result"
    }
   ],
   "source": [
    "from IPython.display import YouTubeVideo\n",
    "YouTubeVideo('As85L34fKYQ')"
   ]
  },
  {
   "cell_type": "markdown",
   "metadata": {},
   "source": [
    "### Discussion point:\n",
    "How well does this represent the true general circulation of the atmosphere?"
   ]
  },
  {
   "cell_type": "markdown",
   "metadata": {},
   "source": [
    "____________\n",
    "\n",
    "## Citation information\n",
    "The figures above are reproduced from Chapter 1 of the IPCC AR5 Working Group 1 report.\n",
    "The report and images can be found online at http://www.climatechange2013.org/report/full-report/\n",
    "\n",
    "The full citation is:\n",
    "\n",
    "> Cubasch, U., D. Wuebbles, D. Chen, M.C. Facchini, D. Frame, N. Mahowald and J.-G. Winther, 2013: Introduction. In: Climate Change 2013: The Physical Science Basis. Contribution of Working Group I to the Fifth Assessment Report of the Intergovernmental Panel on Climate Change [Stocker, T.F., D. Qin, G.-K. Plattner, M. Tignor, S.K. Allen, J. Boschung, A. Nauels, Y. Xia, V. Bex and P.M. Midgley (eds.)]. Cambridge University Press, Cambridge, United Kingdom and New York, NY, USA, pp. 119–158, doi:10.1017/CBO9781107415324.007.\n",
    "____________\n"
   ]
  },
  {
   "cell_type": "markdown",
   "metadata": {},
   "source": [
    "<div class=\"alert alert-success\">\n",
    "[Back to ATM 623 notebook home](../index.ipynb)\n",
    "</div>"
   ]
  },
  {
   "cell_type": "markdown",
   "metadata": {},
   "source": [
    "____________\n",
    "## Version information\n",
    "____________"
   ]
  },
  {
   "cell_type": "code",
   "execution_count": 6,
   "metadata": {
    "collapsed": false
   },
   "outputs": [
    {
     "name": "stdout",
     "output_type": "stream",
     "text": [
      "Installed version_information.py. To use it, type:\n",
      "  %load_ext version_information\n"
     ]
    },
    {
     "data": {
      "application/json": {
       "Software versions": [
        {
         "module": "Python",
         "version": "2.7.9 64bit [GCC 4.2.1 (Apple Inc. build 5577)]"
        },
        {
         "module": "IPython",
         "version": "3.1.0"
        },
        {
         "module": "OS",
         "version": "Darwin 14.3.0 x86_64 i386 64bit"
        },
        {
         "module": "numpy",
         "version": "1.9.2"
        },
        {
         "module": "climlab",
         "version": "0.2.11"
        }
       ]
      },
      "text/html": [
       "<table><tr><th>Software</th><th>Version</th></tr><tr><td>Python</td><td>2.7.9 64bit [GCC 4.2.1 (Apple Inc. build 5577)]</td></tr><tr><td>IPython</td><td>3.1.0</td></tr><tr><td>OS</td><td>Darwin 14.3.0 x86_64 i386 64bit</td></tr><tr><td>numpy</td><td>1.9.2</td></tr><tr><td>climlab</td><td>0.2.11</td></tr><tr><td colspan='2'>Thu May 14 15:59:02 2015 EDT</td></tr></table>"
      ],
      "text/latex": [
       "\\begin{tabular}{|l|l|}\\hline\n",
       "{\\bf Software} & {\\bf Version} \\\\ \\hline\\hline\n",
       "Python & 2.7.9 64bit [GCC 4.2.1 (Apple Inc. build 5577)] \\\\ \\hline\n",
       "IPython & 3.1.0 \\\\ \\hline\n",
       "OS & Darwin 14.3.0 x86\\_64 i386 64bit \\\\ \\hline\n",
       "numpy & 1.9.2 \\\\ \\hline\n",
       "climlab & 0.2.11 \\\\ \\hline\n",
       "\\hline \\multicolumn{2}{|l|}{Thu May 14 15:59:02 2015 EDT} \\\\ \\hline\n",
       "\\end{tabular}\n"
      ],
      "text/plain": [
       "Software versions\n",
       "Python 2.7.9 64bit [GCC 4.2.1 (Apple Inc. build 5577)]\n",
       "IPython 3.1.0\n",
       "OS Darwin 14.3.0 x86_64 i386 64bit\n",
       "numpy 1.9.2\n",
       "climlab 0.2.11\n",
       "Thu May 14 15:59:02 2015 EDT"
      ]
     },
     "execution_count": 6,
     "metadata": {},
     "output_type": "execute_result"
    }
   ],
   "source": [
    "%install_ext http://raw.github.com/jrjohansson/version_information/master/version_information.py\n",
    "%load_ext version_information\n",
    "%version_information numpy, climlab"
   ]
  },
  {
   "cell_type": "markdown",
   "metadata": {},
   "source": [
    "____________\n",
    "## Credits\n",
    "\n",
    "The author of this notebook is [Brian E. J. Rose](http://www.atmos.albany.edu/facstaff/brose/index.html), University at Albany.\n",
    "\n",
    "It was developed in support of [ATM 623: Climate Modeling](http://www.atmos.albany.edu/facstaff/brose/classes/ATM623_Spring2015/), a graduate-level course in the [Department of Atmospheric and Envionmental Sciences](http://www.albany.edu/atmos/index.php), offered in Spring 2015.\n",
    "____________\n",
    "\n"
   ]
  },
  {
   "cell_type": "code",
   "execution_count": null,
   "metadata": {
    "collapsed": false
   },
   "outputs": [],
   "source": []
  }
 ],
 "metadata": {
  "kernelspec": {
   "display_name": "Python 2",
   "language": "python",
   "name": "python2"
  },
  "language_info": {
   "codemirror_mode": {
    "name": "ipython",
    "version": 2
   },
   "file_extension": ".py",
   "mimetype": "text/x-python",
   "name": "python",
   "nbconvert_exporter": "python",
   "pygments_lexer": "ipython2",
   "version": "2.7.9"
  }
 },
 "nbformat": 4,
 "nbformat_minor": 0
}
