{
 "cells": [
  {
   "cell_type": "markdown",
   "metadata": {
    "slideshow": {
     "slide_type": "slide"
    }
   },
   "source": [
    "# [ATM 623: Climate Modeling](../index.ipynb)\n",
    "\n",
    "[Brian E. J. Rose](http://www.atmos.albany.edu/facstaff/brose/index.html), University at Albany\n",
    "\n",
    "# Lecture 14: Clouds and cloud feedback"
   ]
  },
  {
   "cell_type": "markdown",
   "metadata": {
    "slideshow": {
     "slide_type": "skip"
    }
   },
   "source": [
    "### About these notes:\n",
    "\n",
    "This document uses the interactive [`Jupyter notebook`](https://jupyter.org) format. The notes can be accessed in several different ways:\n",
    "\n",
    "- The interactive notebooks are hosted on `github` at https://github.com/brian-rose/ClimateModeling_courseware\n",
    "- The latest versions can be viewed as static web pages [rendered on nbviewer](http://nbviewer.ipython.org/github/brian-rose/ClimateModeling_courseware/blob/master/index.ipynb)\n",
    "- A complete snapshot of the notes as of May 2017 (end of spring semester) are [available on Brian's website](http://www.atmos.albany.edu/facstaff/brose/classes/ATM623_Spring2017/Notes/index.html).\n",
    "\n",
    "[Also here is a legacy version from 2015](http://www.atmos.albany.edu/facstaff/brose/classes/ATM623_Spring2015/Notes/index.html).\n",
    "\n",
    "Many of these notes make use of the `climlab` package, available at https://github.com/brian-rose/climlab"
   ]
  },
  {
   "cell_type": "code",
   "execution_count": 1,
   "metadata": {},
   "outputs": [],
   "source": [
    "#  Ensure compatibility with Python 2 and 3\n",
    "from __future__ import print_function, division"
   ]
  },
  {
   "cell_type": "markdown",
   "metadata": {
    "slideshow": {
     "slide_type": "slide"
    }
   },
   "source": [
    "## Contents\n",
    "\n",
    "1. [Optical properties of individual clouds depend on the Cloud Liquid Water Path](#section1)\n",
    "2. [Cloudy sky versus clear sky radiation](#section2)\n",
    "3. [Cloud Radiative Effect (CRE)](#section3)\n",
    "4. [Modeling the dependence of CRE on cloud height](#section4)\n",
    "5. [Cloud Feedback](#section5)\n",
    "6. [Feedback measured in comprehensive GCMs](#section6)\n",
    "7. [Measuring $\\lambda_{clear}$ with radiative kernels](#section7)"
   ]
  },
  {
   "cell_type": "markdown",
   "metadata": {
    "slideshow": {
     "slide_type": "slide"
    }
   },
   "source": [
    "____________\n",
    "<a id='section1'></a>\n",
    "\n",
    "## 1. Optical properties of individual clouds depend on the Cloud Liquid Water Path\n",
    "____________\n"
   ]
  },
  {
   "cell_type": "markdown",
   "metadata": {
    "slideshow": {
     "slide_type": "slide"
    }
   },
   "source": [
    "Let $w$ represent the liquid water content of a unit volume of cloudy air, in units of g m$^{-3}$.\n",
    "\n",
    "Then the Liquid Water Path of the cloud is\n",
    "\n",
    "$$LWP = w ~ \\Delta z$$\n",
    "\n",
    "where $\\Delta z$ is the depth of the cloudy layer in meters.  $LWP$ has units of g m$^{-2}$.\n",
    "\n",
    "$LWP$ determines the key optical properties of the cloud, both in the longwave and shortwave:"
   ]
  },
  {
   "cell_type": "markdown",
   "metadata": {},
   "source": [
    "<img src='../images/CloudOpticalProperties_Webster1994.png'>"
   ]
  },
  {
   "cell_type": "markdown",
   "metadata": {
    "slideshow": {
     "slide_type": "slide"
    }
   },
   "source": [
    "A key point about the optical properties of water clouds:\n",
    "\n",
    "- longwave emissivity / absorptivity increases rapidly with $LWP$\n",
    "- cloud albedo increases slowly with $LWP$"
   ]
  },
  {
   "cell_type": "markdown",
   "metadata": {
    "slideshow": {
     "slide_type": "slide"
    }
   },
   "source": [
    "### Longwave effects of clouds\n",
    "\n",
    "Because the emissivity saturates for moderately thin clouds, thick clouds behave very much like blackbody absorbers at every level. Emissions from below and within the cloud will be absorbed by the upper part of the cloud.\n",
    "\n",
    "Emissions to space are therefore **governed by the top of the cloud**.\n",
    "\n",
    "The longwave effects of a thick cloud thus depend strongly on the **temperature at the top of the cloud**. This temperature is determined primarily by the **height of the cloud top**."
   ]
  },
  {
   "cell_type": "markdown",
   "metadata": {
    "slideshow": {
     "slide_type": "slide"
    }
   },
   "source": [
    "A high-top cloud will exert a strong greenhouse effect because it absorbs upwelling longwave radiation and re-emits radiation at its cold temperature.\n",
    "\n",
    "The longwave effects of clouds tend to warm the surface."
   ]
  },
  {
   "cell_type": "markdown",
   "metadata": {
    "slideshow": {
     "slide_type": "slide"
    }
   },
   "source": [
    "### Shortwave effects of clouds\n",
    "\n",
    "Because clouds increase the planetary albedo, the shortwave effects of clouds tend to cool the surface.\n",
    "\n",
    "The same cloud therefore pushes the planetary energy budget in two directions simultaneously. Which effect dominates depends on\n",
    "\n",
    "- the temperature at the cloud top relative to the surface temperature\n",
    "- the cloud liquid water path (cloud depth)"
   ]
  },
  {
   "cell_type": "markdown",
   "metadata": {
    "slideshow": {
     "slide_type": "slide"
    }
   },
   "source": [
    "Thin clouds are relatively transparent to solar radiation. Thick clouds are effective reflectors.\n",
    "\n",
    "A thin cirrus cloud, for example, has a negligible albedo but exerts a substantial greenhouse effect because it is near the cold tropopause. These clouds have a net warming effect.\n",
    "\n",
    "A relatively thick stratus cloud at the top of the planetary boundary layer reflects significant incoming solar radiation. But the temperature at cloud top is not much different from the surface temperature, so the greenhouse effect is negligible (even though the cloud is a very strong longwave absorber!)"
   ]
  },
  {
   "cell_type": "markdown",
   "metadata": {
    "slideshow": {
     "slide_type": "slide"
    }
   },
   "source": [
    "____________\n",
    "<a id='section2'></a>\n",
    "\n",
    "## 2. Cloudy sky versus clear sky radiation\n",
    "____________"
   ]
  },
  {
   "cell_type": "markdown",
   "metadata": {
    "slideshow": {
     "slide_type": "slide"
    }
   },
   "source": [
    "Let $F = ASR - OLR$ be the net incoming radiation at TOA.\n",
    "\n",
    "Suppose that the average flux in the portion of the sky **without clouds** is $F_{clear}$.\n",
    "\n",
    "We'll call the flux in the cloudy portion of the sky $F_{cloudy}$."
   ]
  },
  {
   "cell_type": "markdown",
   "metadata": {
    "slideshow": {
     "slide_type": "slide"
    }
   },
   "source": [
    "Then the total flux is a weighted sum\n",
    "\n",
    "$$ F = (1-c) F_{clear} + c F_{cloudy} $$\n",
    "\n",
    "where $0 \\le c \\le 1$ is the **cloud fraction**, i.e. the fraction of the sky covered by cloud."
   ]
  },
  {
   "cell_type": "markdown",
   "metadata": {
    "slideshow": {
     "slide_type": "slide"
    }
   },
   "source": [
    "We can of course break this up into long- and shortwave components:\n",
    "\n",
    "$$ F = F_{LW} + F_{SW} $$\n",
    "\n",
    "$$ F_{LW} = - \\big((1-c)~OLR_{clear} + c ~ OLR_{cloudy} \\big)$$\n",
    "\n",
    "$$ F_{SW} = + \\big((1-c)~ASR_{clear} + c ~ ASR_{cloudy} \\big)$$"
   ]
  },
  {
   "cell_type": "markdown",
   "metadata": {
    "slideshow": {
     "slide_type": "slide"
    }
   },
   "source": [
    "The clouds will act to warm this surface if $F_{cloudy} > F_{clear}$, in which case the net flux $F$ will increase with the cloud fraction $c$.\n",
    "\n",
    "In our examples above we surmised the following:"
   ]
  },
  {
   "cell_type": "markdown",
   "metadata": {
    "slideshow": {
     "slide_type": "slide"
    }
   },
   "source": [
    "#### High thin cirrus\n",
    "- $ASR_{cloudy} \\approx ASR_{clear} $\n",
    "- $OLR_{cloudy} < OLR_{clear}$\n",
    "- $F$ increases with $c$ (these clouds warm the surface)"
   ]
  },
  {
   "cell_type": "markdown",
   "metadata": {
    "slideshow": {
     "slide_type": "slide"
    }
   },
   "source": [
    "#### Low stratus\n",
    "- $ASR_{cloudy} < ASR_{clear} $\n",
    "- $OLR_{cloudy} \\approx OLR_{clear}$\n",
    "- $F$ decreases with $c$ (these clouds cool the surface)"
   ]
  },
  {
   "cell_type": "markdown",
   "metadata": {
    "slideshow": {
     "slide_type": "slide"
    }
   },
   "source": [
    "Many other cloud types are ambiguous. For example: \n",
    "\n",
    "#### Deep convective cumulonimbus\n",
    "\n",
    "- $ASR_{cloudy} < ASR_{clear} $\n",
    "- $OLR_{cloudy} < OLR_{clear}$\n",
    "- $F$ might either increase or decrease with $c$\n",
    "\n",
    "We need a model to work out the details!"
   ]
  },
  {
   "cell_type": "markdown",
   "metadata": {
    "slideshow": {
     "slide_type": "slide"
    }
   },
   "source": [
    "____________\n",
    "<a id='section3'></a>\n",
    "\n",
    "## 3. Cloud Radiative Effect (CRE)\n",
    "____________"
   ]
  },
  {
   "cell_type": "markdown",
   "metadata": {},
   "source": [
    "Typically there is not just one cloud type but many to deal with simultaneously, whether in nature (satellite observations) or in a GCM.\n",
    "\n",
    "In practice we rarely calculate $F_{cloudy}$ explicitly."
   ]
  },
  {
   "cell_type": "markdown",
   "metadata": {
    "slideshow": {
     "slide_type": "slide"
    }
   },
   "source": [
    "Instead we define the **Cloud Radiative Effect** as\n",
    "\n",
    "$$ CRE =  F - F_{clear} $$\n",
    "\n",
    "which we can write in terms of cloud fraction:\n",
    "\n",
    "$$ CRE = c \\big( F_{cloudy} - F_{clear} \\big) $$\n",
    "\n",
    "In our above examples, $CRE$ is positive for cirrus, negative for low stratus, and unknown for cumulonimbus.\n",
    "\n",
    "We calculated CRE (including both longwave and shortwave components) in the CESM simulations back in Assignment 4."
   ]
  },
  {
   "cell_type": "markdown",
   "metadata": {
    "slideshow": {
     "slide_type": "slide"
    }
   },
   "source": [
    "____________\n",
    "<a id='section4'></a>\n",
    "\n",
    "## 4. Modeling the dependence of CRE on cloud height\n",
    "____________"
   ]
  },
  {
   "cell_type": "markdown",
   "metadata": {
    "slideshow": {
     "slide_type": "slide"
    }
   },
   "source": [
    "We are now going to use the `RRTMG` radiation model to compute the cloud radiative effect in a single column, and look at how the CRE depends on cloud properties and the height of the cloud layer."
   ]
  },
  {
   "cell_type": "code",
   "execution_count": 2,
   "metadata": {},
   "outputs": [],
   "source": [
    "%matplotlib inline\n",
    "import numpy as np\n",
    "import matplotlib.pyplot as plt\n",
    "import climlab\n",
    "from climlab.radiation import RRTMG"
   ]
  },
  {
   "cell_type": "markdown",
   "metadata": {
    "slideshow": {
     "slide_type": "slide"
    }
   },
   "source": [
    "### Global average observed temperature and specific humidity"
   ]
  },
  {
   "cell_type": "code",
   "execution_count": 3,
   "metadata": {
    "slideshow": {
     "slide_type": "-"
    }
   },
   "outputs": [],
   "source": [
    "#  Get temperature and humidity data from NCEP Reanalysis\n",
    "import xarray as xr\n",
    "ncep_url = \"http://www.esrl.noaa.gov/psd/thredds/dodsC/Datasets/ncep.reanalysis.derived/pressure/\"\n",
    "path = ncep_url\n",
    "ncep_air = xr.open_dataset(path + 'air.mon.1981-2010.ltm.nc', decode_times=False)\n",
    "ncep_shum = xr.open_dataset(path + 'shum.mon.1981-2010.ltm.nc', decode_times=False)\n",
    "## The NOAA ESRL server is shutdown! January 2019\n",
    "#url = 'http://apdrc.soest.hawaii.edu:80/dods/public_data/Reanalysis_Data/NCEP/NCEP/clima/pressure/'\n",
    "#air = xr.open_dataset(url + 'air')\n",
    "#shum = xr.open_dataset(url + 'shum')\n",
    "#ncep_air = air.rename({'lev': 'level'})\n",
    "#ncep_shum = shum.rename({'lev': 'level'})"
   ]
  },
  {
   "cell_type": "code",
   "execution_count": 4,
   "metadata": {},
   "outputs": [],
   "source": [
    "#  Take global, annual average and convert to correct units (Kelvin and kg/kg)\n",
    "weight = np.cos(np.deg2rad(ncep_air.lat)) / np.cos(np.deg2rad(ncep_air.lat)).mean(dim='lat')\n",
    "Tglobal = (ncep_air.air * weight).mean(dim=('lat','lon','time')) + climlab.constants.tempCtoK\n",
    "SHglobal = (ncep_shum.shum * weight).mean(dim=('lat','lon','time')) * 1E-3  # kg/kg"
   ]
  },
  {
   "cell_type": "markdown",
   "metadata": {
    "slideshow": {
     "slide_type": "slide"
    }
   },
   "source": [
    "Since we will be creating a radiative model with a different set of pressure levels than the data, we will need to do some interpolating."
   ]
  },
  {
   "cell_type": "code",
   "execution_count": 5,
   "metadata": {
    "slideshow": {
     "slide_type": "-"
    }
   },
   "outputs": [],
   "source": [
    "#  Create a state dictionary with 50 levels\n",
    "state = climlab.column_state(num_lev=50)\n",
    "lev = state.Tatm.domain.axes['lev'].points"
   ]
  },
  {
   "cell_type": "code",
   "execution_count": 6,
   "metadata": {},
   "outputs": [],
   "source": [
    "# interpolate to model pressure levels\n",
    "Tinterp = np.interp(lev, np.flipud(Tglobal.level), np.flipud(Tglobal))\n",
    "SHinterp = np.interp(lev, np.flipud(SHglobal.level), np.flipud(SHglobal))\n",
    "#  Need to 'flipud' because the interpolation routine \n",
    "#  needs the pressure data to be in increasing order"
   ]
  },
  {
   "cell_type": "code",
   "execution_count": 7,
   "metadata": {},
   "outputs": [
    {
     "data": {
      "text/plain": [
       "Text(0.5,1.03,'Global mean air temperature and specific humidity')"
      ]
     },
     "execution_count": 7,
     "metadata": {},
     "output_type": "execute_result"
    },
    {
     "data": {
      "image/png": "[encoded data removed]",
      "text/plain": [
       "<Figure size 576x360 with 2 Axes>"
      ]
     },
     "metadata": {},
     "output_type": "display_data"
    }
   ],
   "source": [
    "#  Plot the temperature and humidity profiles\n",
    "fig, ax1 = plt.subplots(figsize=(8,5))\n",
    "Tcolor = 'r'\n",
    "SHcolor = 'b'\n",
    "ax1.plot(Tinterp, lev, color=Tcolor)\n",
    "ax1.invert_yaxis()\n",
    "ax1.set_xlabel('Temperature (K)', color=Tcolor)\n",
    "ax1.tick_params('x', colors=Tcolor)\n",
    "ax1.grid()\n",
    "ax1.set_ylabel('Pressure (hPa)')\n",
    "ax2 = ax1.twiny()\n",
    "ax2.plot(SHinterp*1E3, lev, color=SHcolor)\n",
    "ax2.set_xlabel('Specific Humidity (g/kg)', color=SHcolor)\n",
    "ax2.tick_params('x', colors=SHcolor)\n",
    "fig.suptitle('Global mean air temperature and specific humidity', y=1.03, fontsize=14)"
   ]
  },
  {
   "cell_type": "code",
   "execution_count": 8,
   "metadata": {
    "slideshow": {
     "slide_type": "slide"
    }
   },
   "outputs": [],
   "source": [
    "#  Set the temperature to the observed values\n",
    "state.Tatm[:] = Tinterp"
   ]
  },
  {
   "cell_type": "code",
   "execution_count": 9,
   "metadata": {},
   "outputs": [],
   "source": [
    "#  Define some local cloud characteristics\n",
    "#  We are going to repeat the calculation \n",
    "#   for three different types of clouds:\n",
    "#   thin, medium, and thick\n",
    "cldfrac = 0.5  # layer cloud fraction\n",
    "r_liq = 14.  # Cloud water drop effective radius (microns)\n",
    "# in-cloud liquid water path (g/m2)\n",
    "clwp = {'thin': 20.,\n",
    "        'med': 60.,\n",
    "        'thick': 200.,}"
   ]
  },
  {
   "cell_type": "code",
   "execution_count": 10,
   "metadata": {
    "slideshow": {
     "slide_type": "slide"
    }
   },
   "outputs": [],
   "source": [
    "#  Loop through three types of cloud\n",
    "#  for each type, loop through all pressure levels\n",
    "#  Set up a radiation model with the cloud layer at the current pressure level\n",
    "#  Compute CRE and store the results\n",
    "CRE_LW = {}\n",
    "CRE_SW = {}\n",
    "for thickness in clwp:\n",
    "    OLR = np.zeros_like(lev)\n",
    "    ASR = np.zeros_like(lev)\n",
    "    OLRclr = np.zeros_like(lev)\n",
    "    ASRclr = np.zeros_like(lev)\n",
    "    for i in range(lev.size):\n",
    "        # Whole-column cloud characteristics\n",
    "        #  The cloud fraction is a Gaussian bump centered at the current level        \n",
    "        mycloud = {'cldfrac': cldfrac*np.exp(-(lev-lev[i])**2/(2*25.)**2),\n",
    "                   'clwp': np.zeros_like(state.Tatm) + clwp[thickness],\n",
    "                   'r_liq': np.zeros_like(state.Tatm) + r_liq,}\n",
    "        rad = RRTMG(state=state, \n",
    "                    albedo=0.2,\n",
    "                    specific_humidity=SHinterp,\n",
    "                    verbose=False,\n",
    "                    **mycloud)\n",
    "        rad.compute_diagnostics()\n",
    "        OLR[i] = rad.OLR\n",
    "        OLRclr[i] = rad.OLRclr\n",
    "        ASR[i] = rad.ASR\n",
    "        ASRclr[i] = rad.ASRclr\n",
    "    CRE_LW[thickness] = -(OLR - OLRclr)\n",
    "    CRE_SW[thickness] = (ASR - ASRclr)"
   ]
  },
  {
   "cell_type": "code",
   "execution_count": 11,
   "metadata": {
    "slideshow": {
     "slide_type": "skip"
    }
   },
   "outputs": [
    {
     "data": {
      "text/plain": [
       "Text(0.5,0.98,'Cloud Radiative Effect as a function of the vertical height of the cloud layer')"
      ]
     },
     "execution_count": 11,
     "metadata": {},
     "output_type": "execute_result"
    },
    {
     "data": {
      "image/png": "[encoded data removed]",
      "text/plain": [
       "<Figure size 1152x432 with 3 Axes>"
      ]
     },
     "metadata": {},
     "output_type": "display_data"
    }
   ],
   "source": [
    "#  Make some plots of the CRE dependence on cloud height\n",
    "fig, axes = plt.subplots(1,3, figsize=(16,6))\n",
    "ax = axes[0]\n",
    "for thickness in clwp:\n",
    "    ax.plot(CRE_LW[thickness], lev, label=thickness)\n",
    "ax.set_ylabel('Pressure (hPa)')\n",
    "ax.set_xlabel('LW cloud radiative effect (W/m2)')\n",
    "\n",
    "ax = axes[1]\n",
    "for thickness in clwp:\n",
    "    ax.plot(CRE_SW[thickness], lev, label=thickness)\n",
    "ax.set_xlabel('SW cloud radiative effect (W/m2)')\n",
    "\n",
    "ax = axes[2]\n",
    "for thickness in clwp:\n",
    "    ax.plot(CRE_SW[thickness] + CRE_LW[thickness], lev, label=thickness)\n",
    "ax.set_xlabel('Net cloud radiative effect (W/m2)')\n",
    "\n",
    "for ax in axes:\n",
    "    ax.invert_yaxis()\n",
    "    ax.legend()\n",
    "    ax.grid()\n",
    "fig.suptitle('Cloud Radiative Effect as a function of the vertical height of the cloud layer', fontsize=16)"
   ]
  },
  {
   "cell_type": "markdown",
   "metadata": {},
   "source": [
    "What do you see here? Look carefully at how the LW and SW effects of the cloud depend on cloud properties and cloud height."
   ]
  },
  {
   "cell_type": "markdown",
   "metadata": {
    "slideshow": {
     "slide_type": "slide"
    }
   },
   "source": [
    "____________\n",
    "<a id='section5'></a>\n",
    "\n",
    "## 5. Cloud Feedback\n",
    "____________"
   ]
  },
  {
   "cell_type": "markdown",
   "metadata": {
    "slideshow": {
     "slide_type": "slide"
    }
   },
   "source": [
    "$CRE$ (the radiative effects of clouds) depends on two cloud properties:\n",
    "\n",
    "- cloud fraction $c$\n",
    "- cloud LWP, which determines $F_{cloudy}$\n",
    "\n",
    "If either or both of these things change as the climate changes and the surface warms, then there is an additional TOA energy source that will help determine the final equilibrium warming --  a feedback!\n",
    "\n",
    "The cloud feedback thus depends on changes in the frequency of occurrence and the optical properties of all the different cloud types. It's an enormously complex problem."
   ]
  },
  {
   "cell_type": "markdown",
   "metadata": {
    "slideshow": {
     "slide_type": "slide"
    }
   },
   "source": [
    "Following the notation in [Lecture 3](./Lecture03 -- Climate sensitivity and feedback.ipynb), we can write the change in the top-of-atmosphere energy budget after the response to a radiative forcing $\\Delta R$ as\n",
    "\n",
    "$$ \\Delta F = \\Delta R - \\Delta T \\left( \\lambda_0 - \\sum_{i=1}^N \\lambda_i \\right)  $$\n",
    "\n",
    "where $\\lambda_0$ is the \"Planck feedback\", or, more precisely, the no-feedback response parameter, while the $\\lambda_i$ are all the additive feedback parameters."
   ]
  },
  {
   "cell_type": "markdown",
   "metadata": {
    "slideshow": {
     "slide_type": "slide"
    }
   },
   "source": [
    "Now using \n",
    "\n",
    "$$ F = (1-c) F_{clear} + c F_{cloudy} $$\n",
    "\n",
    "we can break up the change in $F$ into components due to changes in cloud fraction, clear-sky flux, and cloud optical properties:"
   ]
  },
  {
   "cell_type": "markdown",
   "metadata": {
    "slideshow": {
     "slide_type": "slide"
    }
   },
   "source": [
    "$$ \\Delta F = (1-c)\\Delta F_{clear}  + c \\Delta F_{cloudy}  +\\left( F_{cloudy} - F_{clear} \\right) \\Delta c $$\n",
    "\n",
    "where $c, F_{cloudy}, F_{clear}$ here would be evaluated from the reference (control) climate, and we assume the changes are small so that the linearization is sensible."
   ]
  },
  {
   "cell_type": "markdown",
   "metadata": {
    "slideshow": {
     "slide_type": "slide"
    }
   },
   "source": [
    "### Clear-sky and cloud feedbacks\n",
    "\n",
    "Equating our two expressions for the TOA change $\\Delta F$ gives\n",
    "\n",
    "$$ (1-c)\\Delta F_{clear}  + c \\Delta F_{cloudy}  +\\left( F_{cloudy} - F_{clear} \\right) \\Delta c = \\Delta R - \\Delta T \\left( \\lambda_0 - \\sum_{i=1}^N \\lambda_i \\right) $$\n"
   ]
  },
  {
   "cell_type": "markdown",
   "metadata": {},
   "source": [
    "We can break down the net feedback in many different ways, but here we will just conceptually separate clear-sky and cloud feedbacks:\n",
    "\n",
    "$$ \\sum_{i=1}^N \\lambda_i = \\lambda_{clear} + \\lambda_{cloud} $$"
   ]
  },
  {
   "cell_type": "markdown",
   "metadata": {},
   "source": [
    "A sensible definition of $\\lambda_{cloud}$ would be involve **only changes in cloud fraction and properties**. We thus formally define\n",
    "\n",
    "$$ \\lambda_{cloud} = c \\frac{\\Delta F_{cloudy}}{\\Delta T}  +\\left( F_{cloudy} - F_{clear} \\right) \\frac{\\Delta c}{\\Delta T} $$"
   ]
  },
  {
   "cell_type": "markdown",
   "metadata": {},
   "source": [
    "which we subtract from the net top-of-atmosphere budget to get\n",
    "\n",
    "$$ (1-c)\\Delta F_{clear}  = \\Delta R - \\Delta T \\left( \\lambda_0 - \\lambda_{clear} \\right) $$\n",
    "\n"
   ]
  },
  {
   "cell_type": "markdown",
   "metadata": {},
   "source": [
    "which suggests that we can estimate the **clear-sky feedback** from\n",
    "\n",
    "$$ \\lambda_{clear} = \\lambda_0 - \\frac{\\Delta R}{\\Delta T} + (1-c) \\frac{\\Delta F_{clear}}{\\Delta T}$$\n",
    "\n",
    "This includes processes such as lapse rate feedback, water vapor feedback, and surface albedo feedback."
   ]
  },
  {
   "cell_type": "markdown",
   "metadata": {
    "slideshow": {
     "slide_type": "slide"
    }
   },
   "source": [
    "Remember that all of these expressions can be (and frequently are) decomposed into longwave and shortwave components."
   ]
  },
  {
   "cell_type": "markdown",
   "metadata": {
    "slideshow": {
     "slide_type": "slide"
    }
   },
   "source": [
    "### Cloud feedback vs. CRE\n",
    "\n",
    "GCM diagnostics usually provide $CRE$ (which are computed by making second passes through the radiation code with the cloud fractions set to zero).\n",
    "\n",
    "As we did in Assignment 4, we can compute the **change in $CRE$** between a control and perturbation climate.\n",
    "\n",
    "One key point here is that **the change in $CRE$ is not equivalent to a cloud feedback**."
   ]
  },
  {
   "cell_type": "markdown",
   "metadata": {
    "slideshow": {
     "slide_type": "slide"
    }
   },
   "source": [
    "To see this, first note that \n",
    "$$ \\Delta CRE = \\Delta F - \\Delta F_{clear} $$"
   ]
  },
  {
   "cell_type": "markdown",
   "metadata": {
    "slideshow": {
     "slide_type": "slide"
    }
   },
   "source": [
    "Using the above definitions we can write this as\n",
    "\n",
    "$$ \\Delta CRE = -c \\Delta F_{clear}  + \\Delta T \\lambda_{cloud} $$\n",
    "\n",
    "The **clear sky feedback** affects the change in $CRE$ we can measure in a GCM, or observations."
   ]
  },
  {
   "cell_type": "markdown",
   "metadata": {
    "slideshow": {
     "slide_type": "slide"
    }
   },
   "source": [
    "Suppose there is **no change in cloud fraction or cloud optical properties**. By definition then $\\lambda_{cloud} = 0$. But we would still measure a non-zero change in $CRE$.\n",
    "\n",
    "Why?\n",
    "\n",
    "Because the flux in the clear-sky fraction is changing!"
   ]
  },
  {
   "cell_type": "markdown",
   "metadata": {
    "slideshow": {
     "slide_type": "slide"
    }
   },
   "source": [
    "#### So how do we compute $\\lambda_{cloud}$?\n",
    "\n",
    "So long as $\\lambda_{clear}$ is known, it's easy:\n",
    "\n",
    "Just measure  $\\frac{\\Delta CRE}{\\Delta T}$ and the cloud fraction $c$ from the model, and solve the above formula to get\n",
    "\n",
    "$$ \\lambda_{cloud}  = \\frac{\\Delta CRE}{\\Delta T} + \\frac{\\Delta F_{clear}}{\\Delta T} + \\lambda_{clear} - \\lambda_0 + \\frac{\\Delta R}{\\Delta T}$$\n",
    "\n",
    "This is how we can \"correct\" the change in $CRE$ to get the actual cloud feedback."
   ]
  },
  {
   "cell_type": "markdown",
   "metadata": {
    "slideshow": {
     "slide_type": "slide"
    }
   },
   "source": [
    "____________\n",
    "<a id='section6'></a>\n",
    "\n",
    "## 6. Feedback measured in comprehensive GCMs\n",
    "____________\n"
   ]
  },
  {
   "cell_type": "markdown",
   "metadata": {},
   "source": [
    "<img src='http://www.climatechange2013.org/images/figures/WGI_AR5_Fig9-43.jpg'>"
   ]
  },
  {
   "cell_type": "markdown",
   "metadata": {
    "slideshow": {
     "slide_type": "slide"
    }
   },
   "source": [
    "> **Figure 9.43** | (a) Strengths of individual feedbacks for CMIP3 and CMIP5 models (left and right columns of symbols) for Planck (P), water vapour (WV), clouds (C), albedo (A), lapse rate (LR), combination of water vapour and lapse rate (WV+LR) and sum of all feedbacks except Planck (ALL), from Soden and Held (2006) and Vial et al. (2013), following Soden et al. (2008). CMIP5 feedbacks are derived from CMIP5 simulations for abrupt fourfold increases in CO2 concentrations (4 × CO2). (b) ECS obtained using regression techniques by Andrews et al. (2012) against ECS estimated from the ratio of CO2 ERF to the sum of all feedbacks. The CO2 ERF is one-half the 4 × CO2 forcings from Andrews et al. (2012), and the total feedback (ALL + Planck) is from Vial et al. (2013).\n",
    "\n",
    "*Figure caption reproduced from the AR5 WG1 report*"
   ]
  },
  {
   "cell_type": "markdown",
   "metadata": {
    "slideshow": {
     "slide_type": "slide"
    }
   },
   "source": [
    "____________\n",
    "<a id='section7'></a>\n",
    "\n",
    "## 7. Measuring $\\lambda_{clear}$ with radiative kernels\n",
    "____________\n",
    "\n"
   ]
  },
  {
   "cell_type": "markdown",
   "metadata": {
    "slideshow": {
     "slide_type": "slide"
    }
   },
   "source": [
    "So how are the clear-sky feedbacks (P, WV, LR, A) actually calculated?\n",
    "\n",
    "Presently, the most popular technique the method of **radiative kernels**.\n",
    "\n",
    "You have been building a (primitive) kernel for the water vapor feedback in the last homework."
   ]
  },
  {
   "cell_type": "markdown",
   "metadata": {},
   "source": [
    "<img src='../images/Kernels_Held&Soden2000.png'>"
   ]
  },
  {
   "cell_type": "markdown",
   "metadata": {},
   "source": [
    "> Held, I. M. and Soden, B. J. (2000). Water vapor feedback and global warming. Ann. Rev. Energy Environ., 25:441–475."
   ]
  },
  {
   "cell_type": "markdown",
   "metadata": {
    "slideshow": {
     "slide_type": "skip"
    }
   },
   "source": [
    "** These notes are unfinished **"
   ]
  },
  {
   "cell_type": "markdown",
   "metadata": {
    "slideshow": {
     "slide_type": "skip"
    }
   },
   "source": [
    "<div class=\"alert alert-success\">\n",
    "[Back to ATM 623 notebook home](../index.ipynb)\n",
    "</div>"
   ]
  },
  {
   "cell_type": "markdown",
   "metadata": {
    "slideshow": {
     "slide_type": "skip"
    }
   },
   "source": [
    "____________\n",
    "## Version information\n",
    "____________\n",
    "\n"
   ]
  },
  {
   "cell_type": "code",
   "execution_count": 12,
   "metadata": {
    "slideshow": {
     "slide_type": "skip"
    }
   },
   "outputs": [
    {
     "name": "stdout",
     "output_type": "stream",
     "text": [
      "Loading extensions from ~/.ipython/extensions is deprecated. We recommend managing extensions like any other Python packages, in site-packages.\n"
     ]
    },
    {
     "data": {
      "application/json": {
       "Software versions": [
        {
         "module": "Python",
         "version": "3.6.5 64bit [GCC 4.2.1 Compatible Clang 4.0.1 (tags/RELEASE_401/final)]"
        },
        {
         "module": "IPython",
         "version": "6.4.0"
        },
        {
         "module": "OS",
         "version": "Darwin 17.7.0 x86_64 i386 64bit"
        },
        {
         "module": "numpy",
         "version": "1.14.3"
        },
        {
         "module": "matplotlib",
         "version": "2.2.2"
        },
        {
         "module": "climlab",
         "version": "0.7.1"
        }
       ]
      },
      "text/html": [
       "<table><tr><th>Software</th><th>Version</th></tr><tr><td>Python</td><td>3.6.5 64bit [GCC 4.2.1 Compatible Clang 4.0.1 (tags/RELEASE_401/final)]</td></tr><tr><td>IPython</td><td>6.4.0</td></tr><tr><td>OS</td><td>Darwin 17.7.0 x86_64 i386 64bit</td></tr><tr><td>numpy</td><td>1.14.3</td></tr><tr><td>matplotlib</td><td>2.2.2</td></tr><tr><td>climlab</td><td>0.7.1</td></tr><tr><td colspan='2'>Tue Mar 05 11:09:15 2019 EST</td></tr></table>"
      ],
      "text/latex": [
       "\\begin{tabular}{|l|l|}\\hline\n",
       "{\\bf Software} & {\\bf Version} \\\\ \\hline\\hline\n",
       "Python & 3.6.5 64bit [GCC 4.2.1 Compatible Clang 4.0.1 (tags/RELEASE\\_401/final)] \\\\ \\hline\n",
       "IPython & 6.4.0 \\\\ \\hline\n",
       "OS & Darwin 17.7.0 x86\\_64 i386 64bit \\\\ \\hline\n",
       "numpy & 1.14.3 \\\\ \\hline\n",
       "matplotlib & 2.2.2 \\\\ \\hline\n",
       "climlab & 0.7.1 \\\\ \\hline\n",
       "\\hline \\multicolumn{2}{|l|}{Tue Mar 05 11:09:15 2019 EST} \\\\ \\hline\n",
       "\\end{tabular}\n"
      ],
      "text/plain": [
       "Software versions\n",
       "Python 3.6.5 64bit [GCC 4.2.1 Compatible Clang 4.0.1 (tags/RELEASE_401/final)]\n",
       "IPython 6.4.0\n",
       "OS Darwin 17.7.0 x86_64 i386 64bit\n",
       "numpy 1.14.3\n",
       "matplotlib 2.2.2\n",
       "climlab 0.7.1\n",
       "Tue Mar 05 11:09:15 2019 EST"
      ]
     },
     "execution_count": 12,
     "metadata": {},
     "output_type": "execute_result"
    }
   ],
   "source": [
    "%load_ext version_information\n",
    "%version_information numpy, matplotlib, climlab"
   ]
  },
  {
   "cell_type": "markdown",
   "metadata": {
    "slideshow": {
     "slide_type": "skip"
    }
   },
   "source": [
    "____________\n",
    "\n",
    "## Credits\n",
    "\n",
    "The author of this notebook is [Brian E. J. Rose](http://www.atmos.albany.edu/facstaff/brose/index.html), University at Albany.\n",
    "\n",
    "It was developed in support of [ATM 623: Climate Modeling](http://www.atmos.albany.edu/facstaff/brose/classes/ATM623_Spring2015/), a graduate-level course in the [Department of Atmospheric and Envionmental Sciences](http://www.albany.edu/atmos/index.php)\n",
    "\n",
    "Development of these notes and the [climlab software](https://github.com/brian-rose/climlab) is partially supported by the National Science Foundation under award AGS-1455071 to Brian Rose. Any opinions, findings, conclusions or recommendations expressed here are mine and do not necessarily reflect the views of the National Science Foundation.\n",
    "____________"
   ]
  },
  {
   "cell_type": "code",
   "execution_count": null,
   "metadata": {},
   "outputs": [],
   "source": []
  }
 ],
 "metadata": {
  "anaconda-cloud": {},
  "kernelspec": {
   "display_name": "Python 3",
   "language": "python",
   "name": "python3"
  },
  "language_info": {
   "codemirror_mode": {
    "name": "ipython",
    "version": 3
   },
   "file_extension": ".py",
   "mimetype": "text/x-python",
   "name": "python",
   "nbconvert_exporter": "python",
   "pygments_lexer": "ipython3",
   "version": "3.6.5"
  }
 },
 "nbformat": 4,
 "nbformat_minor": 1
}
