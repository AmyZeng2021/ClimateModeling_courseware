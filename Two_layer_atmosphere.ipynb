{
 "metadata": {
  "name": "",
  "signature": "sha256:c223be0e389b090f461daa4bdeaafd3a07d5d4fbf70a872469793d724d6b3404"
 },
 "nbformat": 3,
 "nbformat_minor": 0,
 "worksheets": [
  {
   "cells": [
    {
     "cell_type": "markdown",
     "metadata": {},
     "source": [
      "# ATM 623: Climate Modeling\n",
      "## The two-layer grey radiation model (aka the leaky greenhouse)"
     ]
    },
    {
     "cell_type": "markdown",
     "metadata": {},
     "source": [
      "- Surface temperature is $T_s$\n",
      "- Atm. temperatures are $T_1, T_2$ where $T_1$ is closest to the surface.\n",
      "- absorptivity of atm layers is $\\epsilon_1, \\epsilon_2$\n",
      "- Surface emission is $\\sigma T_s^4$\n",
      "- Atm emission is $\\epsilon_1 \\sigma T_1^4, \\epsilon_2 \\sigma T_2^4$ (up and down)\n",
      "- Abs = emissivity for atm layers\n",
      "- Transmissivity for atm layers is $\\tau_1, \\tau_2$ where $\\tau_i = (1-\\epsilon_i)$\n",
      "\n",
      "### Emission\n",
      "$$ E_s = \\sigma T_s^4 $$\n",
      "\n",
      "$$ E_1 = \\epsilon_1 \\sigma T_1^4 $$\n",
      "\n",
      "$$ E_2 = \\epsilon_2 \\sigma T_2^4 $$\n",
      "\n",
      "### Incident radiation\n",
      "\n",
      "$$ F_s = \\tau_1 E_2 + E_1 $$\n",
      "\n",
      "$$ F_1 = E_s + E_2 $$\n",
      "\n",
      "$$ F_2 = \\tau_1 E_s + E_1 $$\n",
      "\n",
      "### Net radiation\n",
      "(absorptivity) * incident - emission\n",
      "\n",
      "$$ R_s = F_s - E_s $$\n",
      "\n",
      "$$ R_1 = \\epsilon_1 F_1 - 2 E_1 $$\n",
      "\n",
      "$$ R_2 = \\epsilon_2 F_2 - 2 E_2 $$\n",
      "\n",
      "### OLR\n",
      "\n",
      "$$ OLR = \\tau_2 F_2 + E_2 $$\n",
      "\n",
      "$$ = \\tau_1 \\tau_2 E_s + \\tau_2 E_1 + E_2 $$\n",
      "$$ = \\tau_1 \\tau_2 \\sigma T_s^4 + \\tau_2 \\epsilon_1 \\sigma T_1^4 + \\epsilon_2 \\sigma T_2^4 $$\n",
      "\n",
      "### Net radiation in terms of emissions\n",
      "\n",
      "$$ R_s = \\tau_1 E_2 + E_1 - E_s $$\n",
      "\n",
      "$$ R_1 = \\epsilon_1 (E_s + E_2) - 2 E_1 $$\n",
      "\n",
      "$$ R_2 = \\epsilon_2 (\\tau_1 E_s + E_1) - 2 E_2 $$\n",
      "\n",
      "### Net radiation in terms of temperatures\n",
      "\n",
      "$$ R_s = \\tau_1 \\epsilon_2 \\sigma T_2^4 + \\epsilon_1 \\sigma T_1^4 - \\sigma T_s^4 $$\n",
      "\n",
      "$$ R_1 = \\epsilon_1 (\\sigma T_s^4 + \\epsilon_2 \\sigma T_2^4) - 2 \\epsilon_1 \\sigma T_1^4 $$\n",
      "\n",
      "$$ R_2 = \\epsilon_2 (\\tau_1 \\sigma T_s^4 + \\epsilon_1 \\sigma T_1^4) - 2 \\epsilon_2 \\sigma T_2^4 $$\n",
      "\n",
      "### Net radiation in terms of temperatures and absorptivities\n",
      "\n",
      "$$ R_s = (1-\\epsilon_1) \\epsilon_2 \\sigma T_2^4 + \\epsilon_1 \\sigma T_1^4 - \\sigma T_s^4 $$\n",
      "\n",
      "$$ R_1 = \\epsilon_1 (\\sigma T_s^4 + \\epsilon_2 \\sigma T_2^4) - 2 \\epsilon_1 \\sigma T_1^4 $$\n",
      "\n",
      "$$ R_2 = \\epsilon_2 ((1-\\epsilon_1) \\sigma T_s^4 + \\epsilon_1 \\sigma T_1^4) - 2 \\epsilon_2 \\sigma T_2^4 $$\n",
      "\n",
      "## Solve for radiative equilibrium\n",
      "Need to add the solar energy source. We assume atm is transparent, solar is all absorbed at the surface.\n",
      "\n",
      "$$ R_1 = R_2 = 0$$\n",
      "\n",
      "$$ R_s = - (1-\\alpha) Q $$\n",
      "\n",
      "Introduce useful notation shorthand:\n",
      "\n",
      "$$ (1-\\alpha) Q = \\sigma T_e^4 $$\n",
      "\n",
      "This gives a 3x3 system which is **linear in $T^4$** (divide through by $\\sigma$)\n",
      "\n",
      "$$ - T_s^4 + \\epsilon_1 T_1^4 + (1-\\epsilon_1) \\epsilon_2  T_2^4 + T_e^4 = 0 $$\n",
      "\n",
      "$$ \\epsilon_1 T_s^4 - 2 \\epsilon_1 T_1^4 + \\epsilon_1 \\epsilon_2  T_2^4 = 0$$\n",
      "\n",
      "$$ \\epsilon_2 (1-\\epsilon_1) T_s^4 + \\epsilon_1 \\epsilon_2 T_1^4 - 2 \\epsilon_2 T_2^4 = 0$$\n",
      "\n",
      "Here we use the `sympy` module to solve the algebraic system symbolically."
     ]
    },
    {
     "cell_type": "code",
     "collapsed": false,
     "input": [
      "import sympy\n",
      "sympy.init_printing()\n",
      "T_s, T_1, T_2, T_e, e_1, e_2 = sympy.symbols('T_s, T_1, T_2, T_e, e_1, e_2', positive=True )\n",
      "system = [-T_s**4 + e_1*T_1**4 + e_2*(1-e_1)*T_2**4 + T_e**4,\n",
      "              e_1*T_s**4 - 2*e_1*T_1**4 + e_1*e_2*T_2**4,\n",
      "              e_2*(1-e_1)*T_s**4 + e_1*e_2*T_1**4 - 2*e_2*T_2**4]\n",
      "out1 = sympy.solve( system, [T_s**4, T_1**4, T_2**4])\n",
      "out1"
     ],
     "language": "python",
     "metadata": {},
     "outputs": [
      {
       "latex": [
        "$$\\left \\{ T_{1}^{4} : \\frac{T_{e}^{4} \\left(- e_{1} e_{2} + e_{2} + 2\\right)}{e_{1} e_{2} - 2 e_{1} - 2 e_{2} + 4}, \\quad T_{2}^{4} : - \\frac{T_{e}^{4}}{e_{2} - 2}, \\quad T_{s}^{4} : \\frac{T_{e}^{4} \\left(- e_{1} e_{2} + 4\\right)}{e_{1} e_{2} - 2 e_{1} - 2 e_{2} + 4}\\right \\}$$"
       ],
       "metadata": {},
       "output_type": "pyout",
       "png": "[encoded data removed]",
       "prompt_number": 59,
       "text": [
        "\u23a7        4                             4                4                \u23ab\n",
        "\u23aa  4   T\u2091 \u22c5(-e\u2081\u22c5e\u2082 + e\u2082 + 2)     4  -T\u2091        4      T\u2091 \u22c5(-e\u2081\u22c5e\u2082 + 4)   \u23aa\n",
        "\u23a8T\u2081 : \u2500\u2500\u2500\u2500\u2500\u2500\u2500\u2500\u2500\u2500\u2500\u2500\u2500\u2500\u2500\u2500\u2500\u2500\u2500\u2500\u2500\u2500\u2500, T\u2082 : \u2500\u2500\u2500\u2500\u2500\u2500, T_s : \u2500\u2500\u2500\u2500\u2500\u2500\u2500\u2500\u2500\u2500\u2500\u2500\u2500\u2500\u2500\u2500\u2500\u2500\u2500\u2500\u2500\u2500\u2500\u23ac\n",
        "\u23aa     e\u2081\u22c5e\u2082 - 2\u22c5e\u2081 - 2\u22c5e\u2082 + 4       e\u2082 - 2        e\u2081\u22c5e\u2082 - 2\u22c5e\u2081 - 2\u22c5e\u2082 + 4\u23aa\n",
        "\u23a9                                                                        \u23ad"
       ]
      }
     ],
     "prompt_number": 59
    },
    {
     "cell_type": "code",
     "collapsed": false,
     "input": [
      "quarter = sympy.Rational(1,4)\n",
      "out2 = {}\n",
      "for var4, formula in out1.iteritems():\n",
      "    var = (var4)**quarter\n",
      "    out2[var] = sympy.simplify(formula**quarter)\n",
      "out2"
     ],
     "language": "python",
     "metadata": {},
     "outputs": [
      {
       "latex": [
        "$$\\left \\{ T_{1} : T_{e} \\sqrt[4]{\\frac{- e_{1} e_{2} + e_{2} + 2}{e_{1} e_{2} - 2 e_{1} - 2 e_{2} + 4}}, \\quad T_{2} : T_{e} \\sqrt[4]{- \\frac{1}{e_{2} - 2}}, \\quad T_{s} : T_{e} \\sqrt[4]{\\frac{- e_{1} e_{2} + 4}{e_{1} e_{2} - 2 e_{1} - 2 e_{2} + 4}}\\right \\}$$"
       ],
       "metadata": {},
       "output_type": "pyout",
       "png": "[encoded data removed]",
       "prompt_number": 2,
       "text": [
        "\u23a7           _________________________             ________              ______\n",
        "\u23aa          \u2571     -e\u2081\u22c5e\u2082 + e\u2082 + 2                 \u2571  -1                 \u2571      \n",
        "\u23a8T\u2081: T\u2091\u22c54 \u2571  \u2500\u2500\u2500\u2500\u2500\u2500\u2500\u2500\u2500\u2500\u2500\u2500\u2500\u2500\u2500\u2500\u2500\u2500\u2500\u2500\u2500\u2500\u2500 , T\u2082: T\u2091\u22c54 \u2571  \u2500\u2500\u2500\u2500\u2500\u2500 , T_s: T\u2091\u22c54 \u2571  \u2500\u2500\u2500\u2500\u2500\n",
        "\u23aa       \u2572\u2571   e\u2081\u22c5e\u2082 - 2\u22c5e\u2081 - 2\u22c5e\u2082 + 4          \u2572\u2571   e\u2082 - 2           \u2572\u2571   e\u2081\u22c5e\u2082\n",
        "\u23a9                                                                             \n",
        "\n",
        "___________________\u23ab\n",
        "  -e\u2081\u22c5e\u2082 + 4       \u23aa\n",
        "\u2500\u2500\u2500\u2500\u2500\u2500\u2500\u2500\u2500\u2500\u2500\u2500\u2500\u2500\u2500\u2500\u2500\u2500 \u23ac\n",
        " - 2\u22c5e\u2081 - 2\u22c5e\u2082 + 4 \u23aa\n",
        "                   \u23ad"
       ]
      }
     ],
     "prompt_number": 2
    },
    {
     "cell_type": "code",
     "collapsed": false,
     "input": [
      "#  The special case of equal absorptivities\n",
      "e = sympy.symbols('e')\n",
      "out3 = {}\n",
      "for var4, formula in out1.iteritems():\n",
      "    var = (var4)**quarter\n",
      "    simple_formula = sympy.cancel(formula.subs([(e_2, e),(e_1, e)]))\n",
      "    out3[var] = sympy.simplify( simple_formula**quarter )\n",
      "out3"
     ],
     "language": "python",
     "metadata": {},
     "outputs": [
      {
       "latex": [
        "$$\\left \\{ T_{1} : T_{e} \\sqrt[4]{\\frac{- e - 1}{e - 2}}, \\quad T_{2} : T_{e} \\sqrt[4]{- \\frac{1}{e - 2}}, \\quad T_{s} : T_{e} \\sqrt[4]{\\frac{- e - 2}{e - 2}}\\right \\}$$"
       ],
       "metadata": {},
       "output_type": "pyout",
       "png": "[encoded data removed]",
       "prompt_number": 3,
       "text": [
        "\u23a7           ________             _______              ________\u23ab\n",
        "\u23aa          \u2571 -e - 1             \u2571  -1                \u2571 -e - 2 \u23aa\n",
        "\u23a8T\u2081: T\u2091\u22c54 \u2571  \u2500\u2500\u2500\u2500\u2500\u2500 , T\u2082: T\u2091\u22c54 \u2571  \u2500\u2500\u2500\u2500\u2500 , T_s: T\u2091\u22c54 \u2571  \u2500\u2500\u2500\u2500\u2500\u2500 \u23ac\n",
        "\u23aa       \u2572\u2571   e - 2           \u2572\u2571   e - 2           \u2572\u2571   e - 2  \u23aa\n",
        "\u23a9                                                             \u23ad"
       ]
      }
     ],
     "prompt_number": 3
    },
    {
     "cell_type": "markdown",
     "metadata": {},
     "source": [
      "The solution is\n",
      "\n",
      "\\begin{align} \n",
      "T_s^4 &= T_e^4 \\frac{4 - \\epsilon_1 \\epsilon_2}{4 + \\epsilon_1 \\epsilon_2 - 2 \\epsilon_1 - 2 \\epsilon_2}  \\\\\n",
      "T_1^4 &= T_e^4 \\frac{2 -\\epsilon_1 \\epsilon_2 + \\epsilon_2}{4 + \\epsilon_1 \\epsilon_2 - 2 \\epsilon_1 - 2 \\epsilon_2} \\\\\n",
      "T_2^4 &= T_e^4 \\frac{ 1}{2 - \\epsilon_2}\n",
      "\\end{align}"
     ]
    },
    {
     "cell_type": "markdown",
     "metadata": {},
     "source": [
      "In the special case $\\epsilon_1 = \\epsilon_2$ this reduces to\n",
      "\n",
      "\\begin{align} \n",
      "T_s^4 &= T_e^4 \\frac{2+\\epsilon}{2-\\epsilon}  \\\\\n",
      "T_1^4 &= T_e^4 \\frac{1+\\epsilon}{2-\\epsilon} \\\\\n",
      "T_2^4 &= T_e^4 \\frac{ 1}{2 - \\epsilon}\n",
      "\\end{align}"
     ]
    },
    {
     "cell_type": "code",
     "collapsed": false,
     "input": [
      "out2[T_s].subs([(T_e, 255), (e_1, 0.4), (e_2, 0.4)])"
     ],
     "language": "python",
     "metadata": {},
     "outputs": [
      {
       "latex": [
        "$$282.203889523582$$"
       ],
       "metadata": {},
       "output_type": "pyout",
       "png": "[encoded data removed]",
       "prompt_number": 46,
       "text": [
        "282.203889523582"
       ]
      }
     ],
     "prompt_number": 46
    },
    {
     "cell_type": "code",
     "collapsed": false,
     "input": [
      "for var, formula in out2.iteritems():\n",
      "    print formula.subs([(T_e, 255), (e_1, 0.4), (e_2, 0.4)])"
     ],
     "language": "python",
     "metadata": {},
     "outputs": [
      {
       "output_type": "stream",
       "stream": "stdout",
       "text": [
        "246.627893584128\n",
        "282.203889523582\n",
        "226.730624779963\n"
       ]
      }
     ],
     "prompt_number": 45
    },
    {
     "cell_type": "code",
     "collapsed": false,
     "input": [
      "# Coding up the analytical solutions for radiative equilibrium\n",
      "#  These use the analytical results returned by sympy and wrap them in callable functions\n",
      "\n",
      "def Ts(Te, e1, e2):\n",
      "    #return Te*((4-e1*e2)/(4+e1*e2-2*(e1+e2)))**0.25\n",
      "    return out2[T_s].subs([(T_e, Te), (e_1, e1), (e_2, e2)])\n",
      "def T1(Te, e1, e2):\n",
      "    #return Te*((2+e2-e1*e2)/(4+e1*e2-2*(e1+e2)))**0.25\n",
      "    return out2[T_1].subs([(T_e, Te), (e_1, e1), (e_2, e2)])\n",
      "def T2(Te, e1, e2):\n",
      "    #return Te*(1/(2-e2))**0.25\n",
      "    return out2[T_2].subs([(T_e, Te), (e_1, e1), (e_2, e2)])"
     ],
     "language": "python",
     "metadata": {},
     "outputs": [],
     "prompt_number": 60
    },
    {
     "cell_type": "code",
     "collapsed": false,
     "input": [
      "%matplotlib inline\n",
      "import numpy as np\n",
      "from climlab import constants as const\n",
      "from climlab.model import column"
     ],
     "language": "python",
     "metadata": {},
     "outputs": [],
     "prompt_number": 70
    },
    {
     "cell_type": "code",
     "collapsed": false,
     "input": [
      "mycolumn = column.SingleColumnModel( num_levels=2 )"
     ],
     "language": "python",
     "metadata": {},
     "outputs": [],
     "prompt_number": 49
    },
    {
     "cell_type": "code",
     "collapsed": false,
     "input": [
      "print mycolumn"
     ],
     "language": "python",
     "metadata": {},
     "outputs": [
      {
       "output_type": "stream",
       "stream": "stdout",
       "text": [
        "climlab Process of type <class 'climlab.model.column.SingleColumnModel'>. \n",
        "State variables and domain shapes: \n",
        "  Tatm: (2,) \n",
        "  Ts: (1,) \n",
        "The subprocess tree: \n",
        "top: <class 'climlab.model.column.SingleColumnModel'>\n",
        "   LW: <class 'climlab.radiation.grey_radiation.GreyRadiation_LW'>\n",
        "   SW: <class 'climlab.radiation.grey_radiation.GreyRadiation_SW'>\n",
        "   insolation: <class 'climlab.radiation.insolation.FixedInsolation'>\n",
        "\n"
       ]
      }
     ],
     "prompt_number": 50
    },
    {
     "cell_type": "code",
     "collapsed": false,
     "input": [
      "mycolumn.integrate_years(10.)"
     ],
     "language": "python",
     "metadata": {},
     "outputs": [
      {
       "output_type": "stream",
       "stream": "stdout",
       "text": [
        "Integrating for 3652 steps, 3652.422 days, or 10.0 years.\n",
        "Total elapsed time is 9.99884460229 years."
       ]
      },
      {
       "output_type": "stream",
       "stream": "stdout",
       "text": [
        "\n"
       ]
      }
     ],
     "prompt_number": 51
    },
    {
     "cell_type": "code",
     "collapsed": false,
     "input": [
      "print mycolumn.Ts\n",
      "print mycolumn.Tatm"
     ],
     "language": "python",
     "metadata": {},
     "outputs": [
      {
       "output_type": "stream",
       "stream": "stdout",
       "text": [
        "[ 287.85078874]\n",
        "[ 252.95434881  229.44020347]\n"
       ]
      }
     ],
     "prompt_number": 52
    },
    {
     "cell_type": "code",
     "collapsed": false,
     "input": [
      "(e1, e2)= mycolumn.subprocess['LW'].absorptivity\n",
      "print e1, e2"
     ],
     "language": "python",
     "metadata": {},
     "outputs": [
      {
       "output_type": "stream",
       "stream": "stdout",
       "text": [
        "0.477374247427 0.477374247427\n"
       ]
      }
     ],
     "prompt_number": 53
    },
    {
     "cell_type": "code",
     "collapsed": false,
     "input": [
      "ASR = (1-mycolumn.param['albedo_sfc'])*mycolumn.param['Q']\n",
      "Te = (ASR/const.sigma)**0.25\n",
      "print Te"
     ],
     "language": "python",
     "metadata": {},
     "outputs": [
      {
       "output_type": "stream",
       "stream": "stdout",
       "text": [
        "254.869467654\n"
       ]
      }
     ],
     "prompt_number": 54
    },
    {
     "cell_type": "markdown",
     "metadata": {},
     "source": [
      "## Check numerical versus analytical results\n",
      "\n",
      "Use a tolerance value to test if the results are the same."
     ]
    },
    {
     "cell_type": "code",
     "collapsed": false,
     "input": [
      "tol = 0.01\n",
      "\n",
      "def test_2level(col):\n",
      "    (e1, e2)= col.subprocess['LW'].absorptivity\n",
      "    ASR = (1-col.param['albedo_sfc'])*col.param['Q']\n",
      "    Te = (ASR/const.sigma)**0.25\n",
      "    print 'Surface:'\n",
      "    num = col.Ts\n",
      "    anal = Ts(Te,e1,e2)\n",
      "    print '  Numerical: %.2f   Analytical: %.2f    Same:' %(num, anal) , abs(num - anal)<tol\n",
      "    print 'Level 1'\n",
      "    num = col.Tatm[0]\n",
      "    anal = T1(Te,e1,e2)\n",
      "    print '  Numerical: %.2f   Analytical: %.2f    Same:' %(num, anal) , abs(num - anal)<tol\n",
      "    print 'Level 2'\n",
      "    num = col.Tatm[1]\n",
      "    anal = T2(Te,e1,e2)\n",
      "    print '  Numerical: %.2f   Analytical: %.2f    Same:' %(num, anal) , abs(num - anal)<tol"
     ],
     "language": "python",
     "metadata": {},
     "outputs": [],
     "prompt_number": 76
    },
    {
     "cell_type": "code",
     "collapsed": false,
     "input": [
      "test_2level(mycolumn)"
     ],
     "language": "python",
     "metadata": {},
     "outputs": [
      {
       "output_type": "stream",
       "stream": "stdout",
       "text": [
        "Surface:\n",
        "  Numerical: 278.54   Analytical: 278.54    Same: [ True]\n",
        "Level 1\n",
        "  Numerical: 243.87   Analytical: 243.87    Same: True\n",
        "Level 2\n",
        "  Numerical: 226.61   Analytical: 226.61    Same: True\n"
       ]
      }
     ],
     "prompt_number": 77
    },
    {
     "cell_type": "code",
     "collapsed": false,
     "input": [
      "e1 = 0.3\n",
      "e2 = 0.4\n",
      "mycolumn.subprocess['LW'].absorptivity = np.array([e1,e2])\n",
      "mycolumn.integrate_years(10.)"
     ],
     "language": "python",
     "metadata": {},
     "outputs": [
      {
       "output_type": "stream",
       "stream": "stdout",
       "text": [
        "Integrating for 3652 steps, 3652.422 days, or 10.0 years.\n",
        "Total elapsed time is 29.9965338069 years."
       ]
      },
      {
       "output_type": "stream",
       "stream": "stdout",
       "text": [
        "\n"
       ]
      }
     ],
     "prompt_number": 78
    },
    {
     "cell_type": "code",
     "collapsed": false,
     "input": [
      "test_2level(mycolumn)"
     ],
     "language": "python",
     "metadata": {},
     "outputs": [
      {
       "output_type": "stream",
       "stream": "stdout",
       "text": [
        "Surface:\n",
        "  Numerical: 278.54   Analytical: 278.54    Same: [ True]\n",
        "Level 1\n",
        "  Numerical: 243.87   Analytical: 243.87    Same: True\n",
        "Level 2\n",
        "  Numerical: 226.61   Analytical: 226.61    Same: True\n"
       ]
      }
     ],
     "prompt_number": 79
    },
    {
     "cell_type": "code",
     "collapsed": false,
     "input": [
      "e1 = 0.6\n",
      "e2 = 0.6\n",
      "mycolumn.subprocess['LW'].absorptivity = np.array([e1,e2])\n",
      "mycolumn.integrate_years(10.)\n",
      "test_2level(mycolumn)"
     ],
     "language": "python",
     "metadata": {},
     "outputs": [
      {
       "output_type": "stream",
       "stream": "stdout",
       "text": [
        "Integrating for 3652 steps, 3652.422 days, or 10.0 years.\n",
        "Total elapsed time is 39.9953784092 years."
       ]
      },
      {
       "output_type": "stream",
       "stream": "stdout",
       "text": [
        "\n",
        "Surface:\n",
        "  Numerical: 297.53   Analytical: 297.53    Same: [ True]\n",
        "Level 1\n",
        "  Numerical: 263.52   Analytical: 263.52    Same: True\n",
        "Level 2\n",
        "  Numerical: 234.31   Analytical: 234.31    Same: True\n"
       ]
      }
     ],
     "prompt_number": 80
    },
    {
     "cell_type": "code",
     "collapsed": false,
     "input": [
      "col1 = column.SingleColumnModel(num_levels=2, abs_coeff=1.9E-4)\n",
      "(e1, e2) = col1.subprocess['LW'].absorptivity\n",
      "print e1, e2\n",
      "col1.integrate_years(10.)\n",
      "test_2level(col1)"
     ],
     "language": "python",
     "metadata": {},
     "outputs": [
      {
       "output_type": "stream",
       "stream": "stdout",
       "text": [
        "0.652920962199 0.652920962199\n",
        "Integrating for 3652 steps, 3652.422 days, or 10.0 years.\n",
        "Total elapsed time is 9.99884460229 years."
       ]
      },
      {
       "output_type": "stream",
       "stream": "stdout",
       "text": [
        "\n",
        "Surface:\n",
        "  Numerical: 301.93   Analytical: 301.93    Same: [ True]\n",
        "Level 1\n",
        "  Numerical: 268.25   Analytical: 268.25    Same: True\n",
        "Level 2\n",
        "  Numerical: 236.58   Analytical: 236.58    Same: True\n"
       ]
      }
     ],
     "prompt_number": 81
    },
    {
     "cell_type": "code",
     "collapsed": false,
     "input": [
      "col1 = column.SingleColumnModel(num_levels=2, abs_coeff=1.9E-4)\n",
      "lw = col1.subprocess['LW']\n",
      "(e1, e2) = lw.absorptivity\n",
      "e1 *= 1.2\n",
      "lw.absorptivity = np.array([e1, e2])\n",
      "col1.integrate_years(10.)\n",
      "test_2level(col1)"
     ],
     "language": "python",
     "metadata": {},
     "outputs": [
      {
       "output_type": "stream",
       "stream": "stdout",
       "text": [
        "Integrating for 3652 steps, 3652.422 days, or 10.0 years.\n",
        "Total elapsed time is 9.99884460229 years."
       ]
      },
      {
       "output_type": "stream",
       "stream": "stdout",
       "text": [
        "\n",
        "Surface:\n",
        "  Numerical: 307.86   Analytical: 307.86    Same: [ True]\n",
        "Level 1\n",
        "  Numerical: 272.50   Analytical: 272.50    Same: True\n",
        "Level 2\n",
        "  Numerical: 236.58   Analytical: 236.58    Same: True\n"
       ]
      }
     ],
     "prompt_number": 82
    },
    {
     "cell_type": "markdown",
     "metadata": {},
     "source": [
      "### Conclusion: The Two-level model works"
     ]
    },
    {
     "cell_type": "markdown",
     "metadata": {},
     "source": [
      "## Three-layer model\n",
      "\n",
      "Extend the analysis to three layers.\n",
      "Start numbering the layers from 0 to be consistent with array indexing.\n"
     ]
    },
    {
     "cell_type": "code",
     "collapsed": false,
     "input": [
      "T_s, T_0, T_1, T_2, T_e, e_0, e_1, e_2 = sympy.symbols('T_s, T_0, T_1, T_2, T_e, e_0, e_1, e_2', positive=True )\n",
      "E_s, E_0, E_1, E_2 = sympy.symbols('E_s, E_0, E_1, E_2', positive=True)\n",
      "F_s, F_0, F_1, F_2 = sympy.symbols('F_s, F_0, F_1, F_2', real=True)\n",
      "R_s, R_0, R_1, R_2 = sympy.symbols('R_s, R_0, R_1, R_2', real=True)\n",
      "tau_0, tau_1, tau_2 = sympy.symbols('tau_0, tau_1, tau_2', positive=True)\n",
      "sigma = sympy.symbols('sigma', positive=True)\n",
      "ASR = sympy.symbols('ASR', positive=True)"
     ],
     "language": "python",
     "metadata": {},
     "outputs": [],
     "prompt_number": 81
    },
    {
     "cell_type": "code",
     "collapsed": false,
     "input": [
      "#from sympy import Eq\n",
      "#  the sympy equality operator, to construct equations\n",
      "trans_3layer = [tau_0 - (1-e_0), tau_1 - (1-e_1), tau_2 - (1-e_2)]\n",
      "trans_3layer"
     ],
     "language": "python",
     "metadata": {},
     "outputs": [
      {
       "latex": [
        "$$\\left [ e_{0} + \\tau_{0} - 1, \\quad e_{1} + \\tau_{1} - 1, \\quad e_{2} + \\tau_{2} - 1\\right ]$$"
       ],
       "metadata": {},
       "output_type": "pyout",
       "png": "[encoded data removed]",
       "prompt_number": 82,
       "text": [
        "[e\u2080 + \u03c4\u2080 - 1, e\u2081 + \u03c4\u2081 - 1, e\u2082 + \u03c4\u2082 - 1]"
       ]
      }
     ],
     "prompt_number": 82
    },
    {
     "cell_type": "code",
     "collapsed": false,
     "input": [
      "emissions_3layer = [E_s - (sigma*T_s**4), \n",
      "                    E_0 - (e_0*sigma*T_0**4), \n",
      "                    E_1 - (e_1*sigma*T_1**4), \n",
      "                    E_2 - (e_2*sigma*T_2**4)]\n",
      "emissions_3layer"
     ],
     "language": "python",
     "metadata": {},
     "outputs": [
      {
       "latex": [
        "$$\\left [ E_{s} - T_{s}^{4} \\sigma, \\quad E_{0} - T_{0}^{4} e_{0} \\sigma, \\quad E_{1} - T_{1}^{4} e_{1} \\sigma, \\quad E_{2} - T_{2}^{4} e_{2} \\sigma\\right ]$$"
       ],
       "metadata": {},
       "output_type": "pyout",
       "png": "[encoded data removed]",
       "prompt_number": 83,
       "text": [
        "\u23a1         4           4              4              4     \u23a4\n",
        "\u23a3E_s - T_s \u22c5\u03c3, E\u2080 - T\u2080 \u22c5e\u2080\u22c5\u03c3, E\u2081 - T\u2081 \u22c5e\u2081\u22c5\u03c3, E\u2082 - T\u2082 \u22c5e\u2082\u22c5\u03c3\u23a6"
       ]
      }
     ],
     "prompt_number": 83
    },
    {
     "cell_type": "code",
     "collapsed": false,
     "input": [
      "incident_3layer = [F_s - ( E_0 + tau_0*E_1 + tau_0*tau_1*E_2), \n",
      "                   F_0 - (E_s + E_1 + tau_1*E_2),\n",
      "                   F_1 - (tau_0*E_s + E_0 + E_2),\n",
      "                   F_2 - (tau_0*tau_1*E_s + tau_1*E_0 + E_1)]\n",
      "incident_3layer"
     ],
     "language": "python",
     "metadata": {},
     "outputs": [
      {
       "latex": [
        "$$\\left [ - E_{0} - E_{1} \\tau_{0} - E_{2} \\tau_{0} \\tau_{1} + F_{s}, \\quad - E_{1} - E_{2} \\tau_{1} - E_{s} + F_{0}, \\quad - E_{0} - E_{2} - E_{s} \\tau_{0} + F_{1}, \\quad - E_{0} \\tau_{1} - E_{1} - E_{s} \\tau_{0} \\tau_{1} + F_{2}\\right ]$$"
       ],
       "metadata": {},
       "output_type": "pyout",
       "png": "[encoded data removed]",
       "prompt_number": 84,
       "text": [
        "[-E\u2080 - E\u2081\u22c5\u03c4\u2080 - E\u2082\u22c5\u03c4\u2080\u22c5\u03c4\u2081 + F_s, -E\u2081 - E\u2082\u22c5\u03c4\u2081 - E_s + F\u2080, -E\u2080 - E\u2082 - E_s\u22c5\u03c4\u2080 + F\u2081,\n",
        " -E\u2080\u22c5\u03c4\u2081 - E\u2081 - E_s\u22c5\u03c4\u2080\u22c5\u03c4\u2081 + F\u2082]"
       ]
      }
     ],
     "prompt_number": 84
    },
    {
     "cell_type": "code",
     "collapsed": false,
     "input": [
      "net_longwave_3layer = [R_s - (F_s - E_s),\n",
      "                        R_0 - (e_0*F_0 - 2*E_0),\n",
      "                        R_1 - (e_1*F_1 - 2*E_1),\n",
      "                        R_2 - (e_2*F_2 - 2*E_2)]\n",
      "net_longwave_3layer"
     ],
     "language": "python",
     "metadata": {},
     "outputs": [
      {
       "latex": [
        "$$\\left [ E_{s} - F_{s} + R_{s}, \\quad 2 E_{0} - F_{0} e_{0} + R_{0}, \\quad 2 E_{1} - F_{1} e_{1} + R_{1}, \\quad 2 E_{2} - F_{2} e_{2} + R_{2}\\right ]$$"
       ],
       "metadata": {},
       "output_type": "pyout",
       "png": "[encoded data removed]",
       "prompt_number": 85,
       "text": [
        "[E_s - F_s + R_s, 2\u22c5E\u2080 - F\u2080\u22c5e\u2080 + R\u2080, 2\u22c5E\u2081 - F\u2081\u22c5e\u2081 + R\u2081, 2\u22c5E\u2082 - F\u2082\u22c5e\u2082 + R\u2082]"
       ]
      }
     ],
     "prompt_number": 85
    },
    {
     "cell_type": "code",
     "collapsed": false,
     "input": [
      "radeq_3layer = [R_s + ASR, R_0, R_1, R_2]\n",
      "radeq_3layer"
     ],
     "language": "python",
     "metadata": {},
     "outputs": [
      {
       "latex": [
        "$$\\left [ ASR + R_{s}, \\quad R_{0}, \\quad R_{1}, \\quad R_{2}\\right ]$$"
       ],
       "metadata": {},
       "output_type": "pyout",
       "png": "[encoded data removed]",
       "prompt_number": 86,
       "text": [
        "[ASR + R_s, R\u2080, R\u2081, R\u2082]"
       ]
      }
     ],
     "prompt_number": 86
    },
    {
     "cell_type": "code",
     "collapsed": false,
     "input": [
      "fullsystem = radeq_3layer\n",
      "fullsystem.extend(net_longwave_3layer)\n",
      "fullsystem.extend(incident_3layer)\n",
      "fullsystem.extend(trans_3layer)\n",
      "fullsystem.extend(emissions_3layer)\n",
      "\n",
      "fullsystem"
     ],
     "language": "python",
     "metadata": {},
     "outputs": [
      {
       "latex": [
        "$$\\left [ ASR + R_{s}, \\quad R_{0}, \\quad R_{1}, \\quad R_{2}, \\quad E_{s} - F_{s} + R_{s}, \\quad 2 E_{0} - F_{0} e_{0} + R_{0}, \\quad 2 E_{1} - F_{1} e_{1} + R_{1}, \\quad 2 E_{2} - F_{2} e_{2} + R_{2}, \\quad - E_{0} - E_{1} \\tau_{0} - E_{2} \\tau_{0} \\tau_{1} + F_{s}, \\quad - E_{1} - E_{2} \\tau_{1} - E_{s} + F_{0}, \\quad - E_{0} - E_{2} - E_{s} \\tau_{0} + F_{1}, \\quad - E_{0} \\tau_{1} - E_{1} - E_{s} \\tau_{0} \\tau_{1} + F_{2}, \\quad e_{0} + \\tau_{0} - 1, \\quad e_{1} + \\tau_{1} - 1, \\quad e_{2} + \\tau_{2} - 1, \\quad E_{s} - F_{s} + R_{s}, \\quad 2 E_{0} - F_{0} e_{0} + R_{0}, \\quad 2 E_{1} - F_{1} e_{1} + R_{1}, \\quad 2 E_{2} - F_{2} e_{2} + R_{2}, \\quad - E_{0} - E_{1} \\tau_{0} - E_{2} \\tau_{0} \\tau_{1} + F_{s}, \\quad - E_{1} - E_{2} \\tau_{1} - E_{s} + F_{0}, \\quad - E_{0} - E_{2} - E_{s} \\tau_{0} + F_{1}, \\quad - E_{0} \\tau_{1} - E_{1} - E_{s} \\tau_{0} \\tau_{1} + F_{2}, \\quad e_{0} + \\tau_{0} - 1, \\quad e_{1} + \\tau_{1} - 1, \\quad e_{2} + \\tau_{2} - 1, \\quad E_{s} - T_{s}^{4} \\sigma, \\quad E_{0} - T_{0}^{4} e_{0} \\sigma, \\quad E_{1} - T_{1}^{4} e_{1} \\sigma, \\quad E_{2} - T_{2}^{4} e_{2} \\sigma, \\quad E_{s} - F_{s} + R_{s}, \\quad 2 E_{0} - F_{0} e_{0} + R_{0}, \\quad 2 E_{1} - F_{1} e_{1} + R_{1}, \\quad 2 E_{2} - F_{2} e_{2} + R_{2}, \\quad - E_{0} - E_{1} \\tau_{0} - E_{2} \\tau_{0} \\tau_{1} + F_{s}, \\quad - E_{1} - E_{2} \\tau_{1} - E_{s} + F_{0}, \\quad - E_{0} - E_{2} - E_{s} \\tau_{0} + F_{1}, \\quad - E_{0} \\tau_{1} - E_{1} - E_{s} \\tau_{0} \\tau_{1} + F_{2}, \\quad e_{0} + \\tau_{0} - 1, \\quad e_{1} + \\tau_{1} - 1, \\quad e_{2} + \\tau_{2} - 1, \\quad E_{s} - T_{s}^{4} \\sigma, \\quad E_{0} - T_{0}^{4} e_{0} \\sigma, \\quad E_{1} - T_{1}^{4} e_{1} \\sigma, \\quad E_{2} - T_{2}^{4} e_{2} \\sigma\\right ]$$"
       ],
       "metadata": {},
       "output_type": "pyout",
       "png": "[encoded data removed]",
       "prompt_number": 89,
       "text": [
        "\u23a1                                                                             \n",
        "\u23a3ASR + R_s, R\u2080, R\u2081, R\u2082, E_s - F_s + R_s, 2\u22c5E\u2080 - F\u2080\u22c5e\u2080 + R\u2080, 2\u22c5E\u2081 - F\u2081\u22c5e\u2081 + R\u2081,\n",
        "\n",
        "                                                                              \n",
        " 2\u22c5E\u2082 - F\u2082\u22c5e\u2082 + R\u2082, -E\u2080 - E\u2081\u22c5\u03c4\u2080 - E\u2082\u22c5\u03c4\u2080\u22c5\u03c4\u2081 + F_s, -E\u2081 - E\u2082\u22c5\u03c4\u2081 - E_s + F\u2080, -E\u2080 \n",
        "\n",
        "                                                                              \n",
        "- E\u2082 - E_s\u22c5\u03c4\u2080 + F\u2081, -E\u2080\u22c5\u03c4\u2081 - E\u2081 - E_s\u22c5\u03c4\u2080\u22c5\u03c4\u2081 + F\u2082, e\u2080 + \u03c4\u2080 - 1, e\u2081 + \u03c4\u2081 - 1, e\u2082\n",
        "\n",
        "                                                                              \n",
        " + \u03c4\u2082 - 1, E_s - F_s + R_s, 2\u22c5E\u2080 - F\u2080\u22c5e\u2080 + R\u2080, 2\u22c5E\u2081 - F\u2081\u22c5e\u2081 + R\u2081, 2\u22c5E\u2082 - F\u2082\u22c5e\u2082\n",
        "\n",
        "                                                                              \n",
        " + R\u2082, -E\u2080 - E\u2081\u22c5\u03c4\u2080 - E\u2082\u22c5\u03c4\u2080\u22c5\u03c4\u2081 + F_s, -E\u2081 - E\u2082\u22c5\u03c4\u2081 - E_s + F\u2080, -E\u2080 - E\u2082 - E_s\u22c5\u03c4\u2080\n",
        "\n",
        "                                                                              \n",
        " + F\u2081, -E\u2080\u22c5\u03c4\u2081 - E\u2081 - E_s\u22c5\u03c4\u2080\u22c5\u03c4\u2081 + F\u2082, e\u2080 + \u03c4\u2080 - 1, e\u2081 + \u03c4\u2081 - 1, e\u2082 + \u03c4\u2082 - 1, E_\n",
        "\n",
        "       4           4              4              4                            \n",
        "s - T_s \u22c5\u03c3, E\u2080 - T\u2080 \u22c5e\u2080\u22c5\u03c3, E\u2081 - T\u2081 \u22c5e\u2081\u22c5\u03c3, E\u2082 - T\u2082 \u22c5e\u2082\u22c5\u03c3, E_s - F_s + R_s, 2\u22c5E\u2080\n",
        "\n",
        "                                                                              \n",
        " - F\u2080\u22c5e\u2080 + R\u2080, 2\u22c5E\u2081 - F\u2081\u22c5e\u2081 + R\u2081, 2\u22c5E\u2082 - F\u2082\u22c5e\u2082 + R\u2082, -E\u2080 - E\u2081\u22c5\u03c4\u2080 - E\u2082\u22c5\u03c4\u2080\u22c5\u03c4\u2081 + \n",
        "\n",
        "                                                                              \n",
        "F_s, -E\u2081 - E\u2082\u22c5\u03c4\u2081 - E_s + F\u2080, -E\u2080 - E\u2082 - E_s\u22c5\u03c4\u2080 + F\u2081, -E\u2080\u22c5\u03c4\u2081 - E\u2081 - E_s\u22c5\u03c4\u2080\u22c5\u03c4\u2081 +\n",
        "\n",
        "                                                     4           4            \n",
        " F\u2082, e\u2080 + \u03c4\u2080 - 1, e\u2081 + \u03c4\u2081 - 1, e\u2082 + \u03c4\u2082 - 1, E_s - T_s \u22c5\u03c3, E\u2080 - T\u2080 \u22c5e\u2080\u22c5\u03c3, E\u2081 - \n",
        "\n",
        "  4              4     \u23a4\n",
        "T\u2081 \u22c5e\u2081\u22c5\u03c3, E\u2082 - T\u2082 \u22c5e\u2082\u22c5\u03c3\u23a6"
       ]
      }
     ],
     "prompt_number": 89
    },
    {
     "cell_type": "code",
     "collapsed": false,
     "input": [
      "out1 = sympy.solve( fullsystem, [T_s**4, T_0**4, T_1**4, T_2**4])\n",
      "out1"
     ],
     "language": "python",
     "metadata": {},
     "outputs": [
      {
       "latex": [
        "$$\\left \\{ T_{0}^{4} : \\frac{E_{0}}{e_{0} \\sigma}, \\quad T_{1}^{4} : \\frac{E_{1}}{e_{1} \\sigma}, \\quad T_{2}^{4} : \\frac{E_{2}}{e_{2} \\sigma}, \\quad T_{s}^{4} : \\frac{E_{s}}{\\sigma}\\right \\}$$"
       ],
       "metadata": {},
       "output_type": "pyout",
       "png": "[encoded data removed]",
       "prompt_number": 90,
       "text": [
        "\u23a7  4   E\u2080     4   E\u2081     4   E\u2082      4  E_s\u23ab\n",
        "\u23a8T\u2080 : \u2500\u2500\u2500\u2500, T\u2081 : \u2500\u2500\u2500\u2500, T\u2082 : \u2500\u2500\u2500\u2500, T_s : \u2500\u2500\u2500\u23ac\n",
        "\u23a9     e\u2080\u22c5\u03c3       e\u2081\u22c5\u03c3       e\u2082\u22c5\u03c3         \u03c3 \u23ad"
       ]
      }
     ],
     "prompt_number": 90
    },
    {
     "cell_type": "code",
     "collapsed": false,
     "input": [
      "particular = [T_e - 255., e_0 - 0.4, e_1 - 0.4, e_2 - 0.4]\n",
      "fullsystem.extend(particular)\n",
      "out1 = sympy.solve( fullsystem, [T_s**4, T_0**4, T_1**4, T_2**4])\n",
      "out1"
     ],
     "language": "python",
     "metadata": {},
     "outputs": [
      {
       "latex": [
        "$$\\left \\{ T_{0}^{4} : \\frac{E_{0}}{e_{0} \\sigma}, \\quad T_{1}^{4} : \\frac{E_{1}}{e_{1} \\sigma}, \\quad T_{2}^{4} : \\frac{E_{2}}{e_{2} \\sigma}, \\quad T_{s}^{4} : \\frac{E_{s}}{\\sigma}\\right \\}$$"
       ],
       "metadata": {},
       "output_type": "pyout",
       "png": "[encoded data removed]",
       "prompt_number": 91,
       "text": [
        "\u23a7  4   E\u2080     4   E\u2081     4   E\u2082      4  E_s\u23ab\n",
        "\u23a8T\u2080 : \u2500\u2500\u2500\u2500, T\u2081 : \u2500\u2500\u2500\u2500, T\u2082 : \u2500\u2500\u2500\u2500, T_s : \u2500\u2500\u2500\u23ac\n",
        "\u23a9     e\u2080\u22c5\u03c3       e\u2081\u22c5\u03c3       e\u2082\u22c5\u03c3         \u03c3 \u23ad"
       ]
      }
     ],
     "prompt_number": 91
    },
    {
     "cell_type": "code",
     "collapsed": false,
     "input": [
      "for formula in radeq_3layer:\n",
      "    print formula.subs(net_longwave_3layer)"
     ],
     "language": "python",
     "metadata": {},
     "outputs": [
      {
       "ename": "TypeError",
       "evalue": "'Add' object is not iterable",
       "output_type": "pyerr",
       "traceback": [
        "\u001b[0;31m---------------------------------------------------------------------------\u001b[0m\n\u001b[0;31mTypeError\u001b[0m                                 Traceback (most recent call last)",
        "\u001b[0;32m<ipython-input-92-c300cc28f127>\u001b[0m in \u001b[0;36m<module>\u001b[0;34m()\u001b[0m\n\u001b[1;32m      1\u001b[0m \u001b[0;32mfor\u001b[0m \u001b[0mformula\u001b[0m \u001b[0;32min\u001b[0m \u001b[0mradeq_3layer\u001b[0m\u001b[0;34m:\u001b[0m\u001b[0;34m\u001b[0m\u001b[0m\n\u001b[0;32m----> 2\u001b[0;31m     \u001b[0;32mprint\u001b[0m \u001b[0mformula\u001b[0m\u001b[0;34m.\u001b[0m\u001b[0msubs\u001b[0m\u001b[0;34m(\u001b[0m\u001b[0mnet_longwave_3layer\u001b[0m\u001b[0;34m)\u001b[0m\u001b[0;34m\u001b[0m\u001b[0m\n\u001b[0m",
        "\u001b[0;32m/Users/Brian/Library/Enthought/Canopy_64bit/User/lib/python2.7/site-packages/sympy/core/basic.pyc\u001b[0m in \u001b[0;36msubs\u001b[0;34m(self, *args, **kwargs)\u001b[0m\n\u001b[1;32m    840\u001b[0m         \u001b[0msequence\u001b[0m \u001b[0;34m=\u001b[0m \u001b[0mlist\u001b[0m\u001b[0;34m(\u001b[0m\u001b[0msequence\u001b[0m\u001b[0;34m)\u001b[0m\u001b[0;34m\u001b[0m\u001b[0m\n\u001b[1;32m    841\u001b[0m         \u001b[0;32mfor\u001b[0m \u001b[0mi\u001b[0m \u001b[0;32min\u001b[0m \u001b[0mrange\u001b[0m\u001b[0;34m(\u001b[0m\u001b[0mlen\u001b[0m\u001b[0;34m(\u001b[0m\u001b[0msequence\u001b[0m\u001b[0;34m)\u001b[0m\u001b[0;34m)\u001b[0m\u001b[0;34m:\u001b[0m\u001b[0;34m\u001b[0m\u001b[0m\n\u001b[0;32m--> 842\u001b[0;31m             \u001b[0mo\u001b[0m\u001b[0;34m,\u001b[0m \u001b[0mn\u001b[0m \u001b[0;34m=\u001b[0m \u001b[0msequence\u001b[0m\u001b[0;34m[\u001b[0m\u001b[0mi\u001b[0m\u001b[0;34m]\u001b[0m\u001b[0;34m\u001b[0m\u001b[0m\n\u001b[0m\u001b[1;32m    843\u001b[0m             \u001b[0mso\u001b[0m\u001b[0;34m,\u001b[0m \u001b[0msn\u001b[0m \u001b[0;34m=\u001b[0m \u001b[0msympify\u001b[0m\u001b[0;34m(\u001b[0m\u001b[0mo\u001b[0m\u001b[0;34m)\u001b[0m\u001b[0;34m,\u001b[0m \u001b[0msympify\u001b[0m\u001b[0;34m(\u001b[0m\u001b[0mn\u001b[0m\u001b[0;34m)\u001b[0m\u001b[0;34m\u001b[0m\u001b[0m\n\u001b[1;32m    844\u001b[0m             \u001b[0;32mif\u001b[0m \u001b[0;32mnot\u001b[0m \u001b[0misinstance\u001b[0m\u001b[0;34m(\u001b[0m\u001b[0mso\u001b[0m\u001b[0;34m,\u001b[0m \u001b[0mBasic\u001b[0m\u001b[0;34m)\u001b[0m\u001b[0;34m:\u001b[0m\u001b[0;34m\u001b[0m\u001b[0m\n",
        "\u001b[0;31mTypeError\u001b[0m: 'Add' object is not iterable"
       ]
      }
     ],
     "prompt_number": 92
    },
    {
     "cell_type": "code",
     "collapsed": false,
     "input": [
      "#  THIS IS ANNOYING AND HARD TO USE\n",
      "#  Hard coding the equations here\n",
      "fullsystem = [e_0*T_0**4 + (1-e_0)*e_1*T_1**4 + (1-e_0)*(1-e_1)*e_2*T_2**4 - T_s**4 + T_e**4, \n",
      "              e_0*(T_s**4 + e_1*T_1**4 + (1-e_1)*(e_2*T_2**4)) - 2*(e_0*T_0**4), \n",
      "              e_1*((1-e_0)*T_s**4 + e_0*T_0**4 + e_2*T_2**4) - 2*(e_1*T_1**4), \n",
      "              e_2*((1-e_0)*(1-e_1)*T_s**4 + (1-e_1)*e_0*T_0**4 + e_1*T_1**4) - 2*(e_2*T_2**4)]\n",
      "out1 = sympy.solve( fullsystem, [T_s**4, T_0**4, T_1**4, T_2**4])\n",
      "out1"
     ],
     "language": "python",
     "metadata": {},
     "outputs": [
      {
       "latex": [
        "$$\\left \\{ T_{0}^{4} : \\frac{T_{e}^{4} \\left(- 2 e_{0} e_{1} e_{2} + 2 e_{0} e_{1} + 2 e_{0} e_{2} + 3 e_{1} e_{2} - 2 e_{1} - 2 e_{2} - 4\\right)}{e_{0} e_{1} e_{2} - 2 e_{0} e_{1} - 2 e_{0} e_{2} + 4 e_{0} - 2 e_{1} e_{2} + 4 e_{1} + 4 e_{2} - 8}, \\quad T_{1}^{4} : \\frac{T_{e}^{4} \\left(- e_{1} e_{2} + e_{2} + 2\\right)}{e_{1} e_{2} - 2 e_{1} - 2 e_{2} + 4}, \\quad T_{2}^{4} : - \\frac{T_{e}^{4}}{e_{2} - 2}, \\quad T_{s}^{4} : \\frac{2 T_{e}^{4} \\left(- e_{0} e_{1} e_{2} + e_{0} e_{1} + e_{0} e_{2} + e_{1} e_{2} - 4\\right)}{e_{0} e_{1} e_{2} - 2 e_{0} e_{1} - 2 e_{0} e_{2} + 4 e_{0} - 2 e_{1} e_{2} + 4 e_{1} + 4 e_{2} - 8}\\right \\}$$"
       ],
       "metadata": {},
       "output_type": "pyout",
       "png": "[encoded data removed]",
       "prompt_number": 65,
       "text": [
        "\u23a7       4                                                                     \n",
        "\u23aa  4  T\u2091 \u22c5(-2\u22c5e\u2080\u22c5e\u2081\u22c5e\u2082 + 2\u22c5e\u2080\u22c5e\u2081 + 2\u22c5e\u2080\u22c5e\u2082 + 3\u22c5e\u2081\u22c5e\u2082 - 2\u22c5e\u2081 - 2\u22c5e\u2082 - 4)    4  \n",
        "\u23a8T\u2080 : \u2500\u2500\u2500\u2500\u2500\u2500\u2500\u2500\u2500\u2500\u2500\u2500\u2500\u2500\u2500\u2500\u2500\u2500\u2500\u2500\u2500\u2500\u2500\u2500\u2500\u2500\u2500\u2500\u2500\u2500\u2500\u2500\u2500\u2500\u2500\u2500\u2500\u2500\u2500\u2500\u2500\u2500\u2500\u2500\u2500\u2500\u2500\u2500\u2500\u2500\u2500\u2500\u2500\u2500\u2500\u2500\u2500\u2500\u2500\u2500\u2500\u2500\u2500\u2500\u2500, T\u2081 : \n",
        "\u23aa      e\u2080\u22c5e\u2081\u22c5e\u2082 - 2\u22c5e\u2080\u22c5e\u2081 - 2\u22c5e\u2080\u22c5e\u2082 + 4\u22c5e\u2080 - 2\u22c5e\u2081\u22c5e\u2082 + 4\u22c5e\u2081 + 4\u22c5e\u2082 - 8        \n",
        "\u23a9                                                                             \n",
        "\n",
        "   4                             4                       4                    \n",
        " T\u2091 \u22c5(-e\u2081\u22c5e\u2082 + e\u2082 + 2)     4  -T\u2091        4           2\u22c5T\u2091 \u22c5(-e\u2080\u22c5e\u2081\u22c5e\u2082 + e\u2080\u22c5e\u2081 \n",
        "\u2500\u2500\u2500\u2500\u2500\u2500\u2500\u2500\u2500\u2500\u2500\u2500\u2500\u2500\u2500\u2500\u2500\u2500\u2500\u2500\u2500\u2500\u2500, T\u2082 : \u2500\u2500\u2500\u2500\u2500\u2500, T_s : \u2500\u2500\u2500\u2500\u2500\u2500\u2500\u2500\u2500\u2500\u2500\u2500\u2500\u2500\u2500\u2500\u2500\u2500\u2500\u2500\u2500\u2500\u2500\u2500\u2500\u2500\u2500\u2500\u2500\u2500\u2500\u2500\u2500\u2500\n",
        "e\u2081\u22c5e\u2082 - 2\u22c5e\u2081 - 2\u22c5e\u2082 + 4       e\u2082 - 2        e\u2080\u22c5e\u2081\u22c5e\u2082 - 2\u22c5e\u2080\u22c5e\u2081 - 2\u22c5e\u2080\u22c5e\u2082 + 4\u22c5e\n",
        "                                                                              \n",
        "\n",
        "                             \u23ab\n",
        "+ e\u2080\u22c5e\u2082 + e\u2081\u22c5e\u2082 - 4)         \u23aa\n",
        "\u2500\u2500\u2500\u2500\u2500\u2500\u2500\u2500\u2500\u2500\u2500\u2500\u2500\u2500\u2500\u2500\u2500\u2500\u2500\u2500\u2500\u2500\u2500\u2500\u2500\u2500\u2500\u2500\u2500\u23ac\n",
        "\u2080 - 2\u22c5e\u2081\u22c5e\u2082 + 4\u22c5e\u2081 + 4\u22c5e\u2082 - 8\u23aa\n",
        "                             \u23ad"
       ]
      }
     ],
     "prompt_number": 65
    },
    {
     "cell_type": "code",
     "collapsed": false,
     "input": [
      "quarter = sympy.Rational(1,4)\n",
      "out2 = {}\n",
      "for var4, formula in out1.iteritems():\n",
      "    var = (var4)**quarter\n",
      "    out2[var] = sympy.simplify(formula**quarter)\n",
      "out2"
     ],
     "language": "python",
     "metadata": {},
     "outputs": [
      {
       "latex": [
        "$$\\left \\{ T_{0} : T_{e} \\sqrt[4]{\\frac{- 2 e_{0} e_{1} e_{2} + 2 e_{0} e_{1} + 2 e_{0} e_{2} + 3 e_{1} e_{2} - 2 e_{1} - 2 e_{2} - 4}{e_{0} e_{1} e_{2} - 2 e_{0} e_{1} - 2 e_{0} e_{2} + 4 e_{0} - 2 e_{1} e_{2} + 4 e_{1} + 4 e_{2} - 8}}, \\quad T_{1} : T_{e} \\sqrt[4]{\\frac{- e_{1} e_{2} + e_{2} + 2}{e_{1} e_{2} - 2 e_{1} - 2 e_{2} + 4}}, \\quad T_{2} : T_{e} \\sqrt[4]{- \\frac{1}{e_{2} - 2}}, \\quad T_{s} : \\sqrt[4]{2} T_{e} \\sqrt[4]{\\frac{- e_{0} e_{1} e_{2} + e_{0} e_{1} + e_{0} e_{2} + e_{1} e_{2} - 4}{e_{0} e_{1} e_{2} - 2 e_{0} e_{1} - 2 e_{0} e_{2} + 4 e_{0} - 2 e_{1} e_{2} + 4 e_{1} + 4 e_{2} - 8}}\\right \\}$$"
       ],
       "metadata": {},
       "output_type": "pyout",
       "png": "[encoded data removed]",
       "prompt_number": 66,
       "text": [
        "\u23a7           _________________________________________________________________ \n",
        "\u23aa          \u2571   -2\u22c5e\u2080\u22c5e\u2081\u22c5e\u2082 + 2\u22c5e\u2080\u22c5e\u2081 + 2\u22c5e\u2080\u22c5e\u2082 + 3\u22c5e\u2081\u22c5e\u2082 - 2\u22c5e\u2081 - 2\u22c5e\u2082 - 4    \n",
        "\u23a8T\u2080: T\u2091\u22c54 \u2571  \u2500\u2500\u2500\u2500\u2500\u2500\u2500\u2500\u2500\u2500\u2500\u2500\u2500\u2500\u2500\u2500\u2500\u2500\u2500\u2500\u2500\u2500\u2500\u2500\u2500\u2500\u2500\u2500\u2500\u2500\u2500\u2500\u2500\u2500\u2500\u2500\u2500\u2500\u2500\u2500\u2500\u2500\u2500\u2500\u2500\u2500\u2500\u2500\u2500\u2500\u2500\u2500\u2500\u2500\u2500\u2500\u2500\u2500\u2500\u2500\u2500\u2500\u2500 ,\n",
        "\u23aa       \u2572\u2571   e\u2080\u22c5e\u2081\u22c5e\u2082 - 2\u22c5e\u2080\u22c5e\u2081 - 2\u22c5e\u2080\u22c5e\u2082 + 4\u22c5e\u2080 - 2\u22c5e\u2081\u22c5e\u2082 + 4\u22c5e\u2081 + 4\u22c5e\u2082 - 8  \n",
        "\u23a9                                                                             \n",
        "\n",
        "            _________________________             ________                    \n",
        "           \u2571     -e\u2081\u22c5e\u2082 + e\u2082 + 2                 \u2571  -1           4 ___       \u2571\n",
        " T\u2081: T\u2091\u22c54 \u2571  \u2500\u2500\u2500\u2500\u2500\u2500\u2500\u2500\u2500\u2500\u2500\u2500\u2500\u2500\u2500\u2500\u2500\u2500\u2500\u2500\u2500\u2500\u2500 , T\u2082: T\u2091\u22c54 \u2571  \u2500\u2500\u2500\u2500\u2500\u2500 , T_s: \u2572\u2571 2 \u22c5T\u2091\u22c54 \u2571 \n",
        "        \u2572\u2571   e\u2081\u22c5e\u2082 - 2\u22c5e\u2081 - 2\u22c5e\u2082 + 4          \u2572\u2571   e\u2082 - 2                 \u2572\u2571  \n",
        "                                                                              \n",
        "\n",
        "_________________________________________________________________\u23ab\n",
        "              -e\u2080\u22c5e\u2081\u22c5e\u2082 + e\u2080\u22c5e\u2081 + e\u2080\u22c5e\u2082 + e\u2081\u22c5e\u2082 - 4              \u23aa\n",
        " \u2500\u2500\u2500\u2500\u2500\u2500\u2500\u2500\u2500\u2500\u2500\u2500\u2500\u2500\u2500\u2500\u2500\u2500\u2500\u2500\u2500\u2500\u2500\u2500\u2500\u2500\u2500\u2500\u2500\u2500\u2500\u2500\u2500\u2500\u2500\u2500\u2500\u2500\u2500\u2500\u2500\u2500\u2500\u2500\u2500\u2500\u2500\u2500\u2500\u2500\u2500\u2500\u2500\u2500\u2500\u2500\u2500\u2500\u2500\u2500\u2500\u2500\u2500 \u23ac\n",
        " e\u2080\u22c5e\u2081\u22c5e\u2082 - 2\u22c5e\u2080\u22c5e\u2081 - 2\u22c5e\u2080\u22c5e\u2082 + 4\u22c5e\u2080 - 2\u22c5e\u2081\u22c5e\u2082 + 4\u22c5e\u2081 + 4\u22c5e\u2082 - 8 \u23aa\n",
        "                                                                 \u23ad"
       ]
      }
     ],
     "prompt_number": 66
    },
    {
     "cell_type": "code",
     "collapsed": false,
     "input": [
      "# Coding up the analytical solutions for radiative equilibrium\n",
      "#  These use the analytical results returned by sympy and wrap them in callable functions\n",
      "\n",
      "def Ts(Te, e0, e1, e2):\n",
      "    return out2[T_s].subs([(T_e, Te), (e_0, e0), (e_1, e1), (e_2, e2)])\n",
      "def T0(Te, e0, e1, e2):\n",
      "    return out2[T_0].subs([(T_e, Te), (e_0, e0), (e_1, e1), (e_2, e2)])\n",
      "def T1(Te, e0, e1, e2):\n",
      "    return out2[T_1].subs([(T_e, Te), (e_0, e0), (e_1, e1), (e_2, e2)])\n",
      "def T2(Te, e0, e1, e2):\n",
      "    return out2[T_2].subs([(T_e, Te), (e_0, e0), (e_1, e1), (e_2, e2)])"
     ],
     "language": "python",
     "metadata": {},
     "outputs": [],
     "prompt_number": 76
    },
    {
     "cell_type": "code",
     "collapsed": false,
     "input": [
      "tol = 0.01\n",
      "\n",
      "def test_3level(col):\n",
      "    (e0, e1, e2)= col.subprocess['LW'].absorptivity\n",
      "    ASR = (1-col.param['albedo_sfc'])*col.param['Q']\n",
      "    Te = (ASR/const.sigma)**0.25\n",
      "    print 'Surface:'\n",
      "    num = col.Ts\n",
      "    anal = Ts(Te,e0,e1,e2)\n",
      "    print '  Numerical: %.2f   Analytical: %.2f    Same:' %(num, anal) , abs(num - anal)<tol\n",
      "    print 'Level 0'\n",
      "    num = col.Tatm[0]\n",
      "    anal = T0(Te,e0,e1,e2)\n",
      "    print '  Numerical: %.2f   Analytical: %.2f    Same:' %(num, anal) , abs(num - anal)<tol\n",
      "    print 'Level 1'\n",
      "    num = col.Tatm[1]\n",
      "    anal = T1(Te,e0,e1,e2)\n",
      "    print '  Numerical: %.2f   Analytical: %.2f    Same:' %(num, anal) , abs(num - anal)<tol\n",
      "    print 'Level 2'\n",
      "    num = col.Tatm[2]\n",
      "    anal = T2(Te,e0,e1,e2)\n",
      "    print '  Numerical: %.2f   Analytical: %.2f    Same:' %(num, anal) , abs(num - anal)<tol"
     ],
     "language": "python",
     "metadata": {},
     "outputs": [],
     "prompt_number": 77
    },
    {
     "cell_type": "code",
     "collapsed": false,
     "input": [
      "col = column.SingleColumnModel( num_levels=3 )\n",
      "col.integrate_years(10.)\n",
      "test_3level(col)"
     ],
     "language": "python",
     "metadata": {},
     "outputs": [
      {
       "output_type": "stream",
       "stream": "stdout",
       "text": [
        "Integrating for 3652 steps, 3652.422 days, or 10.0 years.\n",
        "Total elapsed time is 9.99884460229 years."
       ]
      },
      {
       "output_type": "stream",
       "stream": "stdout",
       "text": [
        "\n",
        "Surface:\n",
        "  Numerical: 287.85   Analytical: 287.85    Same: [ True]\n",
        "Level 0\n",
        "  Numerical: 256.29   Analytical: 256.29    Same: True\n",
        "Level 1\n",
        "  Numerical: 242.05   Analytical: 242.05    Same: True\n",
        "Level 2\n",
        "  Numerical: 224.73   Analytical: 224.73    Same: True\n"
       ]
      }
     ],
     "prompt_number": 78
    },
    {
     "cell_type": "code",
     "collapsed": false,
     "input": [
      "e0 = 0.3\n",
      "e1 = 0.6\n",
      "e2 = 0.2\n",
      "col.subprocess['LW'].absorptivity = np.array([e0,e1,e2])\n",
      "col.integrate_years(10.)\n",
      "test_3level(col)"
     ],
     "language": "python",
     "metadata": {},
     "outputs": [
      {
       "output_type": "stream",
       "stream": "stdout",
       "text": [
        "Integrating for 3652 steps, 3652.422 days, or 10.0 years.\n",
        "Total elapsed time is 19.9976892046 years."
       ]
      },
      {
       "output_type": "stream",
       "stream": "stdout",
       "text": [
        "\n",
        "Surface:\n",
        "  Numerical: 291.71   Analytical: 291.71    Same: [ True]\n",
        "Level 0\n",
        "  Numerical: 262.66   Analytical: 262.66    Same: True\n",
        "Level 1\n",
        "  Numerical: 242.93   Analytical: 242.93    Same:"
       ]
      },
      {
       "output_type": "stream",
       "stream": "stdout",
       "text": [
        " True\n",
        "Level 2\n",
        "  Numerical: 220.04   Analytical: 220.04    Same: True\n"
       ]
      }
     ],
     "prompt_number": 79
    },
    {
     "cell_type": "markdown",
     "metadata": {},
     "source": [
      "### Conclusion: The three-level model works"
     ]
    },
    {
     "cell_type": "markdown",
     "metadata": {},
     "source": [
      "## Generalizing to N layers\n",
      "\n",
      "\\begin{align}\n",
      "E_i &= \\epsilon_i \\sigma T_i^4  \\\\\n",
      "F_i &= ... + \\tau_{i+2} \\tau_{i+1} E_{i+3} + \\tau_{i+1} E_{i+2} + E_{i+1} + E_{i-1} + \\tau_{i-1} E_{i-2} + \\tau_{i-1} \\tau_{i-2} E_{i-3} + ... \\\\\n",
      "F_i &= \\sum_{n=2}^{N-i} \\bigg( \\prod_{j=1}^{n-1} \\tau_{i+j} \\bigg) E_{i+n} + E_{i+1} + E_{i-1} + \\sum_{n=2}^{i-1} \\bigg( \\prod_{j=1}^{n-1} \\tau_{i-j} \\bigg) E_{i-n}  \\\\\n",
      " &= \\sum_{n=1}^{N-i} \\bigg( \\prod_{j=0}^{n-1} \\tau_{i+j} \\bigg) E_{i+n} / \\tau_{i}  + \\sum_{n=1}^{i-1} \\bigg( \\prod_{j=0}^{n-1} \\tau_{i-j} \\bigg) E_{i-n} / \\tau_i \\\\\n",
      " &= \\frac{1}{\\tau_i} \\left\\{ \\sum_{n=1}^{N-i} \\bigg( \\prod_{j=0}^{n-1} \\tau_{i+j} \\bigg) E_{i+n} + \\sum_{n=1}^{i-1} \\bigg( \\prod_{j=0}^{n-1} \\tau_{i-j} \\bigg) E_{i-n}  \\right\\} \n",
      "\\end{align}\n",
      "\n",
      "Now substitute $n \\rightarrow -n$ in the second summation.\n",
      "\n",
      "\\begin{align}\n",
      "F_i &= \\frac{1}{\\tau_i} \\left\\{ \\sum_{n=1}^{N-i} \\bigg( \\prod_{j=0}^{n-1} \\tau_{i+j} \\bigg) E_{i+n} + \\sum_{-n=1}^{i-1} \\bigg( \\prod_{j=0}^{-n-1} \\tau_{i-j} \\bigg) E_{i+n}  \\right\\}  \\\\\n",
      " &= \\frac{1}{\\tau_i} \\left\\{ \\sum_{n=1}^{N-i} \\bigg( \\prod_{j=0}^{n-1} \\tau_{i+j} \\bigg) E_{i+n} + \\sum_{n=1-i}^{-1} \\bigg( \\prod_{j=0}^{-n-1} \\tau_{i-j} \\bigg) E_{i+n}  \\right\\} \n",
      "\\end{align}\n",
      "\n",
      "And substitude $j \\rightarrow -j$ in the second product.\n",
      "\n",
      "\\begin{align}\n",
      "F_i &= \\frac{1}{\\tau_i} \\left\\{ \\sum_{n=1}^{N-i} \\bigg( \\prod_{j=0}^{n-1} \\tau_{i+j} \\bigg) E_{i+n} + \\sum_{n=1-i}^{-1} \\bigg( \\prod_{-j=0}^{-n-1} \\tau_{i+j} \\bigg) E_{i+n}  \\right\\} \\\\\n",
      "  &= \\frac{1}{\\tau_i} \\left\\{ \\sum_{n=1}^{N-i} \\bigg( \\prod_{j=0}^{n-1} \\tau_{i+j} \\bigg) E_{i+n} + \\sum_{n=1-i}^{-1} \\bigg( \\prod_{j=0}^{1+n} \\tau_{i+j} \\bigg) E_{i+n}  \\right\\} \\\\\n",
      "  &= \\frac{1}{\\tau_i} \\left\\{ \\sum_{n=1}^{N-i} \\bigg( \\prod_{j=0}^{|n|-1} \\tau_{i+j} \\bigg) E_{i+n} + \\sum_{n=1-i}^{-1} \\bigg( \\prod_{j=0}^{1- |n|} \\tau_{i+j} \\bigg) E_{i+n}  \\right\\} \\\\\n",
      "  &= \\frac{1}{\\tau_i} \\left\\{ \\sum_{n=1}^{N-i} \\bigg( \\prod_{j=0}^{|n|-1} \\tau_{i+j} \\bigg) E_{i+n} + \\sum_{n=1-i}^{-1} \\bigg( \\prod_{j=0}^{sign(n) (|n|-1)} \\tau_{i+j} \\bigg) E_{i+n}  \\right\\} \n",
      "\\end{align}\n",
      "\n",
      "Now combine both sums together\n",
      "\n",
      "\\begin{align}\n",
      "F_i &= \\frac{1}{\\tau_i} \\left\\{ \\sum_{n=1}^{N-i} \\bigg( \\prod_{j=0}^{|n|-1} \\tau_{i+j} \\bigg) E_{i+n} + E_i + \\sum_{n=1-i}^{-1} \\bigg( \\prod_{j=0}^{sign(n) (|n|-1)} \\tau_{i+j} \\bigg) E_{i+n}  \\right\\} - \\frac{E_i}{\\tau_i} \\\\\n",
      "   &= \\frac{1}{\\tau_i} \\left\\{ \\sum_{n=1-i}^{N-i} \\bigg( \\prod_{j=0}^{sign(n) \\big(|n|-1\\big)} \\tau_{i+j} \\bigg) E_{i+n}  - E_i \\right\\} \n",
      "\\end{align}\n",
      "\n",
      "with the convention that $\\prod_{j=0}^{-1} = 1$.\n",
      "\n",
      "Alternatively if we set $\\prod_{j=0}^{-1} = 0$ then\n",
      "\n",
      "$$ F_i = \\frac{1}{\\tau_i} \\left\\{ \\sum_{n=1-i}^{N-i} \\bigg( \\prod_{j=0}^{sign(n) \\big(|n|-1\\big)} \\tau_{i+j} \\bigg) E_{i+n} \\right\\} $$\n",
      "\n",
      "Let's use this notation since it simplifies our expressions.\n",
      "\n",
      "### Net radiation\n",
      "(absorptivity) * incident - emission\n",
      "\n",
      "\\begin{align}\n",
      "R_i &= \\epsilon_i F_i - 2 E_i  \\\\\n",
      "  &= \\frac{\\epsilon_i}{\\tau_i}  \\left\\{ \\sum_{n=1-i}^{N-i} \\bigg( \\prod_{j=0}^{sign(n) \\big(|n|-1\\big)} \\tau_{i+j} \\bigg) E_{i+n} \\right\\}  - 2 E_i\n",
      "\\end{align}"
     ]
    },
    {
     "cell_type": "markdown",
     "metadata": {},
     "source": [
      "### Alternative...\n",
      "\n",
      "We will define the **transmissivity between layer i and layer i+n **\n",
      "\n",
      "$$ T_{in} = \\left\\{ \\begin{array}{cc} \n",
      " \\prod_{j=1}^{n-1} \\tau_{i+j} &  n > 1 \\\\\n",
      " 1 &  n = 1 \\\\\n",
      " 0  &  n = 0 \\\\\n",
      " 1 & n = -1 \\\\\n",
      " \\prod_{j=1}^{-n-1} \\tau_{i-j} &  n < -1\n",
      " \\end{array} \\right\\}\n",
      " $$\n",
      "\n",
      "Then the incident flux follows directly\n",
      "\n",
      "$$ F_i = \\sum_{n=1-i}^{N-i} T_{in} E_{i+n} $$\n",
      "\n",
      "and the net radiation is\n",
      "\n",
      "\\begin{align}\n",
      "R_i &= \\epsilon_i F_i - 2 E_i  \\\\\n",
      " &= \\epsilon_i \\sum_{n=1-i}^{N-i} T_{in} E_{i+n} - 2 E_i \n",
      "\\end{align}\n",
      "\n",
      "Now make the substitution $i+n \\rightarrow m$\n",
      "\n",
      "\\begin{align}\n",
      "F_i &= \\sum_{m=1}^{N} T_{im} E_{m}  \\\\\n",
      "T_{im} &= \\left\\{ \\begin{array}{cc} \n",
      " \\prod_{j=1}^{m-i-1} \\tau_{i+j} &  m > 1+i \\\\\n",
      " 1 &  m = i+1 \\\\\n",
      " 0  &  m = i \\\\\n",
      " 1 & m = i-1 \\\\\n",
      " \\prod_{j=1}^{i-m-1} \\tau_{i-j} &  m < i-1\n",
      " \\end{array} \\right\\}\n",
      "\\end{align}\n",
      "\n",
      "Or using the Einstein summation notation, since $m$ is a repeated index, we can just write\n",
      "\n",
      "$$ F_i = T_{im} E_{m} $$\n",
      "\n",
      "and the net radiation is\n",
      "\n",
      "$$ R_i = \\epsilon_i F_i - 2 E_i $$\n"
     ]
    },
    {
     "cell_type": "code",
     "collapsed": false,
     "input": [],
     "language": "python",
     "metadata": {},
     "outputs": []
    }
   ],
   "metadata": {}
  }
 ]
}