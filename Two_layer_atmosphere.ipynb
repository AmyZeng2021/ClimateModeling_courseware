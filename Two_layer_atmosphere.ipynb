{
 "metadata": {
  "name": "",
  "signature": "sha256:259ee68d341900c8fa0304630952efbc0a23f855409ea4fdcbd9f7af9c31ce91"
 },
 "nbformat": 3,
 "nbformat_minor": 0,
 "worksheets": [
  {
   "cells": [
    {
     "cell_type": "markdown",
     "metadata": {},
     "source": [
      "# ATM 623: Climate Modeling\n",
      "## The two-layer grey radiation model (aka the leaky greenhouse)"
     ]
    },
    {
     "cell_type": "markdown",
     "metadata": {},
     "source": [
      "- Surface temperature is $T_s$\n",
      "- Atm. temperatures are $T_1, T_2$ where $T_1$ is closest to the surface.\n",
      "- absorptivity of atm layers is $\\epsilon_1, \\epsilon_2$\n",
      "- Surface emission is $\\sigma T_s^4$\n",
      "- Atm emission is $\\epsilon_1 \\sigma T_1^4, \\epsilon_2 \\sigma T_2^4$ (up and down)\n",
      "- Abs = emissivity for atm layers\n",
      "- Transmissivity for atm layers is $\\tau_1, \\tau_2$ where $\\tau_i = (1-\\epsilon_i)$\n",
      "\n",
      "### Emission\n",
      "$$ E_s = \\sigma T_s^4 $$\n",
      "\n",
      "$$ E_1 = \\epsilon_1 \\sigma T_1^4 $$\n",
      "\n",
      "$$ E_2 = \\epsilon_2 \\sigma T_2^4 $$\n",
      "\n",
      "### Incident radiation\n",
      "\n",
      "$$ F_s = \\tau_1 E_2 + E_1 $$\n",
      "\n",
      "$$ F_1 = E_s + E_2 $$\n",
      "\n",
      "$$ F_2 = \\tau_1 E_s + E_1 $$\n",
      "\n",
      "### Net radiation\n",
      "(absorptivity) * incident - emission\n",
      "\n",
      "$$ R_s = F_s - E_s $$\n",
      "\n",
      "$$ R_1 = \\epsilon_1 F_1 - 2 E_1 $$\n",
      "\n",
      "$$ R_2 = \\epsilon_2 F_2 - 2 E_2 $$\n",
      "\n",
      "### OLR\n",
      "\n",
      "$$ OLR = \\tau_2 F_2 + E_2 $$\n",
      "\n",
      "$$ = \\tau_1 \\tau_2 E_s + \\tau_2 E_1 + E_2 $$\n",
      "$$ = \\tau_1 \\tau_2 \\sigma T_s^4 + \\tau_2 \\epsilon_1 \\sigma T_1^4 + \\epsilon_2 \\sigma T_2^4 $$\n",
      "\n",
      "### Net radiation in terms of emissions\n",
      "\n",
      "$$ R_s = \\tau_1 E_2 + E_1 - E_s $$\n",
      "\n",
      "$$ R_1 = \\epsilon_1 (E_s + E_2) - 2 E_1 $$\n",
      "\n",
      "$$ R_2 = \\epsilon_2 (\\tau_1 E_s + E_1) - 2 E_2 $$\n",
      "\n",
      "### Net radiation in terms of temperatures\n",
      "\n",
      "$$ R_s = \\tau_1 \\epsilon_2 \\sigma T_2^4 + \\epsilon_1 \\sigma T_1^4 - \\sigma T_s^4 $$\n",
      "\n",
      "$$ R_1 = \\epsilon_1 (\\sigma T_s^4 + \\epsilon_2 \\sigma T_2^4) - 2 \\epsilon_1 \\sigma T_1^4 $$\n",
      "\n",
      "$$ R_2 = \\epsilon_2 (\\tau_1 \\sigma T_s^4 + \\epsilon_1 \\sigma T_1^4) - 2 \\epsilon_2 \\sigma T_2^4 $$\n",
      "\n",
      "### Net radiation in terms of temperatures and absorptivities\n",
      "\n",
      "$$ R_s = (1-\\epsilon_1) \\epsilon_2 \\sigma T_2^4 + \\epsilon_1 \\sigma T_1^4 - \\sigma T_s^4 $$\n",
      "\n",
      "$$ R_1 = \\epsilon_1 (\\sigma T_s^4 + \\epsilon_2 \\sigma T_2^4) - 2 \\epsilon_1 \\sigma T_1^4 $$\n",
      "\n",
      "$$ R_2 = \\epsilon_2 ((1-\\epsilon_1) \\sigma T_s^4 + \\epsilon_1 \\sigma T_1^4) - 2 \\epsilon_2 \\sigma T_2^4 $$\n",
      "\n",
      "## Solve for radiative equilibrium\n",
      "Need to add the solar energy source. We assume atm is transparent, solar is all absorbed at the surface.\n",
      "\n",
      "$$ R_1 = R_2 = 0$$\n",
      "\n",
      "$$ R_s = - (1-\\alpha) Q $$\n",
      "\n",
      "Introduce useful notation shorthand:\n",
      "\n",
      "$$ (1-\\alpha) Q = \\sigma T_e^4 $$\n",
      "\n",
      "This gives a 3x3 system which is **linear in $T^4$** (divide through by $\\sigma$)\n",
      "\n",
      "$$ - T_s^4 + \\epsilon_1 T_1^4 + (1-\\epsilon_1) \\epsilon_2  T_2^4 + T_e^4 = 0 $$\n",
      "\n",
      "$$ \\epsilon_1 T_s^4 - 2 \\epsilon_1 T_1^4 + \\epsilon_1 \\epsilon_2  T_2^4 = 0$$\n",
      "\n",
      "$$ \\epsilon_2 (1-\\epsilon_1) T_s^4 + \\epsilon_1 \\epsilon_2 T_1^4 - 2 \\epsilon_2 T_2^4 = 0$$\n",
      "\n"
     ]
    },
    {
     "cell_type": "code",
     "collapsed": false,
     "input": [
      "import sympy\n",
      "Ts4, T14, T24, Te4, e1, e2 = sympy.symbols('Ts4, T14, T24, Te4, e1, e2' )  \n",
      "out1 = sympy.solve( [-Ts4 + e1*T14 + e2*(1-e1)*T24 + Te4,\n",
      "              e1*Ts4 - 2*e1*T14 + e1*e2*T24,\n",
      "              e2*(1-e1)*Ts4 + e1*e2*T14 - 2*e2*T24], \n",
      "             [Ts4,T14,T24] )\n",
      "out1"
     ],
     "language": "python",
     "metadata": {},
     "outputs": [
      {
       "metadata": {},
       "output_type": "pyout",
       "prompt_number": 8,
       "text": [
        "{Ts4: -Te4*(e1*e2 - 4)/(e1*e2 - 2*e1 - 2*e2 + 4),\n",
        " T14: Te4*(-e1*e2 + e2 + 2)/(e1*e2 - 2*e1 - 2*e2 + 4),\n",
        " T24: -Te4/(e2 - 2)}"
       ]
      }
     ],
     "prompt_number": 8
    },
    {
     "cell_type": "markdown",
     "metadata": {},
     "source": [
      "The solution is\n",
      "\n",
      "\\begin{align} \n",
      "T_s^4 &= T_e^4 \\frac{4 - \\epsilon_1 \\epsilon_2}{4 + \\epsilon_1 \\epsilon_2 - 2 \\epsilon_1 - 2 \\epsilon_2}  \\\\\n",
      "T_1^4 &= T_e^4 \\frac{2 -\\epsilon_1 \\epsilon_2 + \\epsilon_2}{4 + \\epsilon_1 \\epsilon_2 - 2 \\epsilon_1 - 2 \\epsilon_2} \\\\\n",
      "T_2^4 &= T_e^4 \\frac{ 1}{2 - \\epsilon_2}\n",
      "\\end{align}\n",
      "\n",
      "In the special case $\\epsilon_1 = \\epsilon_2$ this reduces to\n",
      "\n",
      "\\begin{align} \n",
      "T_s^4 &= T_e^4 \\frac{2+\\epsilon}{2-\\epsilon}  \\\\\n",
      "T_1^4 &= T_e^4 \\frac{1+\\epsilon}{2-\\epsilon} \\\\\n",
      "T_2^4 &= T_e^4 \\frac{ 1}{2 - \\epsilon}\n",
      "\\end{align}"
     ]
    },
    {
     "cell_type": "code",
     "collapsed": false,
     "input": [
      "# Coding up the analytical solutions for radiative equilibrium\n",
      "def Ts(Te, e1, e2):\n",
      "    return Te*((4-e1*e2)/(4+e1*e2-2*(e1+e2)))**0.25\n",
      "def T1(Te, e1, e2):\n",
      "    return Te*((2+e2-e1*e2)/(4+e1*e2-2*(e1+e2)))**0.25\n",
      "def T2(Te, e1, e2):\n",
      "    return Te*(1/(2-e2))**0.25"
     ],
     "language": "python",
     "metadata": {},
     "outputs": [],
     "prompt_number": 10
    },
    {
     "cell_type": "code",
     "collapsed": false,
     "input": [
      "%matplotlib inline\n",
      "import numpy as np\n",
      "from climlab import constants as const\n",
      "from climlab.model import column"
     ],
     "language": "python",
     "metadata": {},
     "outputs": [],
     "prompt_number": 11
    },
    {
     "cell_type": "code",
     "collapsed": false,
     "input": [
      "mycolumn = column.SingleColumnModel( num_levels=2 )"
     ],
     "language": "python",
     "metadata": {},
     "outputs": [],
     "prompt_number": 12
    },
    {
     "cell_type": "code",
     "collapsed": false,
     "input": [
      "print mycolumn"
     ],
     "language": "python",
     "metadata": {},
     "outputs": [
      {
       "output_type": "stream",
       "stream": "stdout",
       "text": [
        "climlab Process of type <class 'climlab.model.column.SingleColumnModel'>. \n",
        "State variables and domain shapes: \n",
        "  Tatm: (2,) \n",
        "  Ts: (1,) \n",
        "The subprocess tree: \n",
        "top: <class 'climlab.model.column.SingleColumnModel'>\n",
        "   LW: <class 'climlab.radiation.grey_radiation.GreyRadiation_LW'>\n",
        "   SW: <class 'climlab.radiation.grey_radiation.GreyRadiation_SW'>\n",
        "   insolation: <class 'climlab.radiation.insolation.FixedInsolation'>\n",
        "\n"
       ]
      }
     ],
     "prompt_number": 13
    },
    {
     "cell_type": "code",
     "collapsed": false,
     "input": [
      "mycolumn.integrate_years(10.)"
     ],
     "language": "python",
     "metadata": {},
     "outputs": [
      {
       "output_type": "stream",
       "stream": "stdout",
       "text": [
        "Integrating for 3652 steps, 3652.422 days, or 10.0 years.\n",
        "Total elapsed time is 9.99884460229 years."
       ]
      },
      {
       "output_type": "stream",
       "stream": "stdout",
       "text": [
        "\n"
       ]
      }
     ],
     "prompt_number": 14
    },
    {
     "cell_type": "code",
     "collapsed": false,
     "input": [
      "print mycolumn.Ts\n",
      "print mycolumn.Tatm"
     ],
     "language": "python",
     "metadata": {},
     "outputs": [
      {
       "output_type": "stream",
       "stream": "stdout",
       "text": [
        "[ 287.85078874]\n",
        "[ 252.95434881  229.44020347]\n"
       ]
      }
     ],
     "prompt_number": 17
    },
    {
     "cell_type": "code",
     "collapsed": false,
     "input": [
      "(e1, e2)= mycolumn.subprocess['LW'].absorptivity\n",
      "print e1, e2"
     ],
     "language": "python",
     "metadata": {},
     "outputs": [],
     "prompt_number": 19
    },
    {
     "cell_type": "code",
     "collapsed": false,
     "input": [
      "ASR = (1-mycolumn.param['albedo_sfc'])*mycolumn.param['Q']\n",
      "Te = (ASR/const.sigma)**0.25\n",
      "print Te"
     ],
     "language": "python",
     "metadata": {},
     "outputs": [
      {
       "output_type": "stream",
       "stream": "stdout",
       "text": [
        "254.869467654\n"
       ]
      }
     ],
     "prompt_number": 34
    },
    {
     "cell_type": "code",
     "collapsed": false,
     "input": [
      "print mycolumn.Ts, Ts(Te,e1,e2)\n",
      "print mycolumn.Tatm[0], T1(Te,e1,e2)\n",
      "print mycolumn.Tatm[1], T2(Te,e1,e2)"
     ],
     "language": "python",
     "metadata": {},
     "outputs": [
      {
       "output_type": "stream",
       "stream": "stdout",
       "text": [
        "[ 287.85078874] 287.850788744\n",
        "252.954348809 252.954348809\n",
        "229.440203469 229.440203469\n"
       ]
      }
     ],
     "prompt_number": 38
    },
    {
     "cell_type": "code",
     "collapsed": false,
     "input": [
      "e1 = 0.3\n",
      "e2 = 0.4\n",
      "mycolumn.subprocess['LW'].absorptivity = np.array([e1,e2])\n",
      "mycolumn.integrate_years(10.)"
     ],
     "language": "python",
     "metadata": {},
     "outputs": [
      {
       "output_type": "stream",
       "stream": "stdout",
       "text": [
        "Integrating for 3652 steps, 3652.422 days, or 10.0 years.\n",
        "Total elapsed time is 19.9976892046 years."
       ]
      },
      {
       "output_type": "stream",
       "stream": "stdout",
       "text": [
        "\n"
       ]
      }
     ],
     "prompt_number": 41
    },
    {
     "cell_type": "code",
     "collapsed": false,
     "input": [
      "print mycolumn.Ts, Ts(Te,e1,e2)\n",
      "print mycolumn.Tatm[0], T1(Te,e1,e2)\n",
      "print mycolumn.Tatm[1], T2(Te,e1,e2)"
     ],
     "language": "python",
     "metadata": {},
     "outputs": [
      {
       "output_type": "stream",
       "stream": "stdout",
       "text": [
        "[ 278.53739991] 278.537399911\n",
        "217.132515922 243.87051622\n",
        "216.814372187 226.614563288\n"
       ]
      }
     ],
     "prompt_number": 42
    },
    {
     "cell_type": "code",
     "collapsed": false,
     "input": [
      "#  There seems to be a bug... don't get the right answer when e1 not equal e2"
     ],
     "language": "python",
     "metadata": {},
     "outputs": [],
     "prompt_number": 43
    },
    {
     "cell_type": "markdown",
     "metadata": {},
     "source": [
      "## Generalizing to N layers\n",
      "\n",
      "\\begin{align}\n",
      "E_i &= \\epsilon_i \\sigma T_i^4  \\\\\n",
      "F_i &= ... + \\tau_{i+2} \\tau_{i+1} E_{i+3} + \\tau_{i+1} E_{i+2} + E_{i+1} + E_{i-1} + \\tau_{i-1} E_{i-2} + \\tau_{i-1} \\tau_{i-2} E_{i-3} + ... \\\\\n",
      "F_i &= \\sum_{n=2}^{N-i} \\bigg( \\prod_{j=1}^{n-1} \\tau_{i+j} \\bigg) E_{i+n} + E_{i+1} + E_{i-1} + \\sum_{n=2}^{i-1} \\bigg( \\prod_{j=1}^{n-1} \\tau_{i-j} \\bigg) E_{i-n}  \\\\\n",
      " &= \\sum_{n=1}^{N-i} \\bigg( \\prod_{j=0}^{n-1} \\tau_{i+j} \\bigg) E_{i+n} / \\tau_{i}  + \\sum_{n=1}^{i-1} \\bigg( \\prod_{j=0}^{n-1} \\tau_{i-j} \\bigg) E_{i-n} / \\tau_i \\\\\n",
      " &= \\frac{1}{\\tau_i} \\left\\{ \\sum_{n=1}^{N-i} \\bigg( \\prod_{j=0}^{n-1} \\tau_{i+j} \\bigg) E_{i+n} + \\sum_{n=1}^{i-1} \\bigg( \\prod_{j=0}^{n-1} \\tau_{i-j} \\bigg) E_{i-n}  \\right\\} \n",
      "\\end{align}\n",
      "\n",
      "Now substitute $n \\rightarrow -n$ in the second summation.\n",
      "\n",
      "\\begin{align}\n",
      "F_i &= \\frac{1}{\\tau_i} \\left\\{ \\sum_{n=1}^{N-i} \\bigg( \\prod_{j=0}^{n-1} \\tau_{i+j} \\bigg) E_{i+n} + \\sum_{-n=1}^{i-1} \\bigg( \\prod_{j=0}^{-n-1} \\tau_{i-j} \\bigg) E_{i+n}  \\right\\}  \\\\\n",
      " &= \\frac{1}{\\tau_i} \\left\\{ \\sum_{n=1}^{N-i} \\bigg( \\prod_{j=0}^{n-1} \\tau_{i+j} \\bigg) E_{i+n} + \\sum_{n=1-i}^{-1} \\bigg( \\prod_{j=0}^{-n-1} \\tau_{i-j} \\bigg) E_{i+n}  \\right\\} \n",
      "\\end{align}\n",
      "\n",
      "And substitude $j \\rightarrow -j$ in the second product.\n",
      "\n",
      "\\begin{align}\n",
      "F_i &= \\frac{1}{\\tau_i} \\left\\{ \\sum_{n=1}^{N-i} \\bigg( \\prod_{j=0}^{n-1} \\tau_{i+j} \\bigg) E_{i+n} + \\sum_{n=1-i}^{-1} \\bigg( \\prod_{-j=0}^{-n-1} \\tau_{i+j} \\bigg) E_{i+n}  \\right\\} \\\\\n",
      "  &= \\frac{1}{\\tau_i} \\left\\{ \\sum_{n=1}^{N-i} \\bigg( \\prod_{j=0}^{n-1} \\tau_{i+j} \\bigg) E_{i+n} + \\sum_{n=1-i}^{-1} \\bigg( \\prod_{j=0}^{1+n} \\tau_{i+j} \\bigg) E_{i+n}  \\right\\} \\\\\n",
      "  &= \\frac{1}{\\tau_i} \\left\\{ \\sum_{n=1}^{N-i} \\bigg( \\prod_{j=0}^{|n|-1} \\tau_{i+j} \\bigg) E_{i+n} + \\sum_{n=1-i}^{-1} \\bigg( \\prod_{j=0}^{1- |n|} \\tau_{i+j} \\bigg) E_{i+n}  \\right\\} \\\\\n",
      "  &= \\frac{1}{\\tau_i} \\left\\{ \\sum_{n=1}^{N-i} \\bigg( \\prod_{j=0}^{|n|-1} \\tau_{i+j} \\bigg) E_{i+n} + \\sum_{n=1-i}^{-1} \\bigg( \\prod_{j=0}^{sign(n) (|n|-1)} \\tau_{i+j} \\bigg) E_{i+n}  \\right\\} \n",
      "\\end{align}\n",
      "\n",
      "Now combine both sums together\n",
      "\n",
      "\\begin{align}\n",
      "F_i &= \\frac{1}{\\tau_i} \\left\\{ \\sum_{n=1}^{N-i} \\bigg( \\prod_{j=0}^{|n|-1} \\tau_{i+j} \\bigg) E_{i+n} + E_i + \\sum_{n=1-i}^{-1} \\bigg( \\prod_{j=0}^{sign(n) (|n|-1)} \\tau_{i+j} \\bigg) E_{i+n}  \\right\\} - \\frac{E_i}{\\tau_i} \\\\\n",
      "   &= \\frac{1}{\\tau_i} \\left\\{ \\sum_{n=1-i}^{N-i} \\bigg( \\prod_{j=0}^{sign(n) \\big(|n|-1\\big)} \\tau_{i+j} \\bigg) E_{i+n}  - E_i \\right\\} \n",
      "\\end{align}\n",
      "\n",
      "with the convention that $\\prod_{j=0}^{-1} = 1$.\n",
      "\n",
      "Alternatively if we set $\\prod_{j=0}^{-1} = 0$ then\n",
      "\n",
      "$$ F_i = \\frac{1}{\\tau_i} \\left\\{ \\sum_{n=1-i}^{N-i} \\bigg( \\prod_{j=0}^{sign(n) \\big(|n|-1\\big)} \\tau_{i+j} \\bigg) E_{i+n} \\right\\} $$\n",
      "\n",
      "Let's use this notation since it simplifies our expressions.\n",
      "\n",
      "### Net radiation\n",
      "(absorptivity) * incident - emission\n",
      "\n",
      "\\begin{align}\n",
      "R_i &= \\epsilon_i F_i - 2 E_i  \\\\\n",
      "  &= \\frac{\\epsilon_i}{\\tau_i}  \\left\\{ \\sum_{n=1-i}^{N-i} \\bigg( \\prod_{j=0}^{sign(n) \\big(|n|-1\\big)} \\tau_{i+j} \\bigg) E_{i+n} \\right\\}  - 2 E_i\n",
      "\\end{align}"
     ]
    },
    {
     "cell_type": "markdown",
     "metadata": {},
     "source": [
      "### Alternative...\n",
      "\n",
      "We will define the **transmissivity between layer i and layer i+n **\n",
      "\n",
      "$$ T_{in} = \\left\\{ \\begin{array}{cc} \n",
      " \\prod_{j=1}^{n-1} \\tau_{i+j} &  n > 1 \\\\\n",
      " 1 &  n = 1 \\\\\n",
      " 0  &  n = 0 \\\\\n",
      " 1 & n = -1 \\\\\n",
      " \\prod_{j=1}^{-n-1} \\tau_{i-j} &  n < -1\n",
      " \\end{array} \\right\\}\n",
      " $$\n",
      "\n",
      "Then the incident flux follows directly\n",
      "\n",
      "$$ F_i = \\sum_{n=1-i}^{N-i} T_{in} E_{i+n} $$\n",
      "\n",
      "and the net radiation is\n",
      "\n",
      "\\begin{align}\n",
      "R_i &= \\epsilon_i F_i - 2 E_i  \\\\\n",
      " &= \\epsilon_i \\sum_{n=1-i}^{N-i} T_{in} E_{i+n} - 2 E_i \n",
      "\\end{align}\n",
      "\n",
      "Now make the substitution $i+n \\rightarrow m$\n",
      "\n",
      "\\begin{align}\n",
      "F_i &= \\sum_{m=1}^{N} T_{im} E_{m}  \\\\\n",
      "T_{im} &= \\left\\{ \\begin{array}{cc} \n",
      " \\prod_{j=1}^{m-i-1} \\tau_{i+j} &  m > 1+i \\\\\n",
      " 1 &  m = i+1 \\\\\n",
      " 0  &  m = i \\\\\n",
      " 1 & m = i-1 \\\\\n",
      " \\prod_{j=1}^{i-m-1} \\tau_{i-j} &  m < i-1\n",
      " \\end{array} \\right\\}\n",
      "\\end{align}\n",
      "\n",
      "Or using the Einstein summation notation, since $m$ is a repeated index, we can just write\n",
      "\n",
      "$$ F_i = T_{im} E_{m} $$\n",
      "\n",
      "and the net radiation is\n",
      "\n",
      "$$ R_i = \\epsilon_i F_i - 2 E_i $$\n"
     ]
    },
    {
     "cell_type": "code",
     "collapsed": false,
     "input": [],
     "language": "python",
     "metadata": {},
     "outputs": []
    }
   ],
   "metadata": {}
  }
 ]
}