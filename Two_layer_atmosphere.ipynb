{
 "metadata": {
  "name": "",
  "signature": "sha256:f76683a3f2e211517e874423b22983629bc492131fd0a80660e75d32270c4e1f"
 },
 "nbformat": 3,
 "nbformat_minor": 0,
 "worksheets": [
  {
   "cells": [
    {
     "cell_type": "markdown",
     "metadata": {},
     "source": [
      "# ATM 623: Climate Modeling\n",
      "## The two-layer grey radiation model (aka the leaky greenhouse)"
     ]
    },
    {
     "cell_type": "markdown",
     "metadata": {},
     "source": [
      "- Surface temperature is $T_s$\n",
      "- Atm. temperatures are $T_1, T_2$ where $T_1$ is closest to the surface.\n",
      "- absorptivity of atm layers is $\\epsilon_1, \\epsilon_2$\n",
      "- Surface emission is $\\sigma T_s^4$\n",
      "- Atm emission is $\\epsilon_1 \\sigma T_1^4, \\epsilon_2 \\sigma T_2^4$ (up and down)\n",
      "- Abs = emissivity for atm layers\n",
      "- Transmissivity for atm layers is $\\tau_1, \\tau_2$ where $\\tau_i = (1-\\epsilon_i)$\n",
      "\n",
      "### Emission\n",
      "$$ E_s = \\sigma T_s^4 $$\n",
      "\n",
      "$$ E_1 = \\epsilon_1 \\sigma T_1^4 $$\n",
      "\n",
      "$$ E_2 = \\epsilon_2 \\sigma T_2^4 $$\n",
      "\n",
      "### Incident radiation\n",
      "\n",
      "$$ F_s = \\tau_1 E_2 + E_1 $$\n",
      "\n",
      "$$ F_1 = E_s + E_2 $$\n",
      "\n",
      "$$ F_2 = \\tau_1 E_s + E_1 $$\n",
      "\n",
      "### Net radiation\n",
      "(absorptivity) * incident - emission\n",
      "\n",
      "$$ R_s = F_s - E_s $$\n",
      "\n",
      "$$ R_1 = \\epsilon_1 F_1 - 2 E_1 $$\n",
      "\n",
      "$$ R_2 = \\epsilon_2 F_2 - 2 E_2 $$\n",
      "\n",
      "### OLR\n",
      "\n",
      "$$ OLR = \\tau_2 F_2 + E_2 $$\n",
      "\n",
      "$$ = \\tau_1 \\tau_2 E_s + \\tau_2 E_1 + E_2 $$\n",
      "$$ = \\tau_1 \\tau_2 \\sigma T_s^4 + \\tau_2 \\epsilon_1 \\sigma T_1^4 + \\epsilon_2 \\sigma T_2^4 $$\n",
      "\n",
      "### Net radiation in terms of emissions\n",
      "\n",
      "$$ R_s = \\tau_1 E_2 + E_1 - E_s $$\n",
      "\n",
      "$$ R_1 = \\epsilon_1 (E_s + E_2) - 2 E_1 $$\n",
      "\n",
      "$$ R_2 = \\epsilon_2 (\\tau_1 E_s + E_1) - 2 E_2 $$\n",
      "\n",
      "### Net radiation in terms of temperatures\n",
      "\n",
      "$$ R_s = \\tau_1 \\epsilon_2 \\sigma T_2^4 + \\epsilon_1 \\sigma T_1^4 - \\sigma T_s^4 $$\n",
      "\n",
      "$$ R_1 = \\epsilon_1 (\\sigma T_s^4 + \\epsilon_2 \\sigma T_2^4) - 2 \\epsilon_1 \\sigma T_1^4 $$\n",
      "\n",
      "$$ R_2 = \\epsilon_2 (\\tau_1 \\sigma T_s^4 + \\epsilon_1 \\sigma T_1^4) - 2 \\epsilon_2 \\sigma T_2^4 $$\n",
      "\n",
      "### Net radiation in terms of temperatures and absorptivities\n",
      "\n",
      "$$ R_s = (1-\\epsilon_1) \\epsilon_2 \\sigma T_2^4 + \\epsilon_1 \\sigma T_1^4 - \\sigma T_s^4 $$\n",
      "\n",
      "$$ R_1 = \\epsilon_1 (\\sigma T_s^4 + \\epsilon_2 \\sigma T_2^4) - 2 \\epsilon_1 \\sigma T_1^4 $$\n",
      "\n",
      "$$ R_2 = \\epsilon_2 ((1-\\epsilon_1) \\sigma T_s^4 + \\epsilon_1 \\sigma T_1^4) - 2 \\epsilon_2 \\sigma T_2^4 $$\n",
      "\n",
      "## Solve for radiative equilibrium\n",
      "Need to add the solar energy source. We assume atm is transparent, solar is all absorbed at the surface.\n",
      "\n",
      "$$ R_1 = R_2 = 0$$\n",
      "\n",
      "$$ R_s = - (1-\\alpha) Q $$\n",
      "\n",
      "Introduce useful notation shorthand:\n",
      "\n",
      "$$ (1-\\alpha) Q = \\sigma T_e^4 $$\n",
      "\n",
      "This gives a 3x3 system which is **linear in $T^4$** (divide through by $\\sigma$)\n",
      "\n",
      "$$ - T_s^4 + \\epsilon_1 T_1^4 + (1-\\epsilon_1) \\epsilon_2  T_2^4 + T_e^4 = 0 $$\n",
      "\n",
      "$$ \\epsilon_1 T_s^4 - 2 \\epsilon_1 T_1^4 + \\epsilon_1 \\epsilon_2  T_2^4 = 0$$\n",
      "\n",
      "$$ \\epsilon_2 (1-\\epsilon_1) T_s^4 + \\epsilon_1 \\epsilon_2 T_1^4 - 2 \\epsilon_2 T_2^4 = 0$$\n",
      "\n",
      "Here we use the `sympy` module to solve the algebraic system symbolically."
     ]
    },
    {
     "cell_type": "code",
     "collapsed": false,
     "input": [
      "import sympy\n",
      "sympy.init_printing()\n",
      "T_s, T_1, T_2, T_e, e_1, e_2 = sympy.symbols('T_s, T_1, T_2, T_e, e_1, e_2', positive=True )\n",
      "system = [-T_s**4 + e_1*T_1**4 + e_2*(1-e_1)*T_2**4 + T_e**4,\n",
      "              e_1*T_s**4 - 2*e_1*T_1**4 + e_1*e_2*T_2**4,\n",
      "              e_2*(1-e_1)*T_s**4 + e_1*e_2*T_1**4 - 2*e_2*T_2**4]\n",
      "out1 = sympy.solve( system, [T_s**4, T_1**4, T_2**4] )\n",
      "out1"
     ],
     "language": "python",
     "metadata": {},
     "outputs": [
      {
       "latex": [
        "$$\\left \\{ T_{1}^{4} : \\frac{T_{e}^{4} \\left(- e_{1} e_{2} + e_{2} + 2\\right)}{e_{1} e_{2} - 2 e_{1} - 2 e_{2} + 4}, \\quad T_{2}^{4} : - \\frac{T_{e}^{4}}{e_{2} - 2}, \\quad T_{s}^{4} : \\frac{T_{e}^{4} \\left(- e_{1} e_{2} + 4\\right)}{e_{1} e_{2} - 2 e_{1} - 2 e_{2} + 4}\\right \\}$$"
       ],
       "metadata": {},
       "output_type": "pyout",
       "png": "[encoded data removed]",
       "prompt_number": 1,
       "text": [
        "\u23a7        4                             4                4                \u23ab\n",
        "\u23aa  4   T\u2091 \u22c5(-e\u2081\u22c5e\u2082 + e\u2082 + 2)     4  -T\u2091        4      T\u2091 \u22c5(-e\u2081\u22c5e\u2082 + 4)   \u23aa\n",
        "\u23a8T\u2081 : \u2500\u2500\u2500\u2500\u2500\u2500\u2500\u2500\u2500\u2500\u2500\u2500\u2500\u2500\u2500\u2500\u2500\u2500\u2500\u2500\u2500\u2500\u2500, T\u2082 : \u2500\u2500\u2500\u2500\u2500\u2500, T_s : \u2500\u2500\u2500\u2500\u2500\u2500\u2500\u2500\u2500\u2500\u2500\u2500\u2500\u2500\u2500\u2500\u2500\u2500\u2500\u2500\u2500\u2500\u2500\u23ac\n",
        "\u23aa     e\u2081\u22c5e\u2082 - 2\u22c5e\u2081 - 2\u22c5e\u2082 + 4       e\u2082 - 2        e\u2081\u22c5e\u2082 - 2\u22c5e\u2081 - 2\u22c5e\u2082 + 4\u23aa\n",
        "\u23a9                                                                        \u23ad"
       ]
      }
     ],
     "prompt_number": 1
    },
    {
     "cell_type": "code",
     "collapsed": false,
     "input": [
      "sympy.simplify(out1[T_s**4]**sympy.Rational(1,4))"
     ],
     "language": "python",
     "metadata": {},
     "outputs": [
      {
       "latex": [
        "$$T_{e} \\sqrt[4]{\\frac{- e_{1} e_{2} + 4}{e_{1} e_{2} - 2 e_{1} - 2 e_{2} + 4}}$$"
       ],
       "metadata": {},
       "output_type": "pyout",
       "png": "[encoded data removed]",
       "prompt_number": 2,
       "text": [
        "       _________________________\n",
        "      \u2571        -e\u2081\u22c5e\u2082 + 4       \n",
        "T\u2091\u22c54 \u2571  \u2500\u2500\u2500\u2500\u2500\u2500\u2500\u2500\u2500\u2500\u2500\u2500\u2500\u2500\u2500\u2500\u2500\u2500\u2500\u2500\u2500\u2500\u2500 \n",
        "   \u2572\u2571   e\u2081\u22c5e\u2082 - 2\u22c5e\u2081 - 2\u22c5e\u2082 + 4 "
       ]
      }
     ],
     "prompt_number": 2
    },
    {
     "cell_type": "code",
     "collapsed": false,
     "input": [
      "out2 = {}\n",
      "for var, formula in out1.iteritems():\n",
      "    out2[var] = sympy.simplify(formula**sympy.Rational(1,4))\n",
      "out2"
     ],
     "language": "python",
     "metadata": {},
     "outputs": [
      {
       "latex": [
        "$$\\left \\{ T_{1}^{4} : T_{e} \\sqrt[4]{\\frac{- e_{1} e_{2} + e_{2} + 2}{e_{1} e_{2} - 2 e_{1} - 2 e_{2} + 4}}, \\quad T_{2}^{4} : T_{e} \\sqrt[4]{- \\frac{1}{e_{2} - 2}}, \\quad T_{s}^{4} : T_{e} \\sqrt[4]{\\frac{- e_{1} e_{2} + 4}{e_{1} e_{2} - 2 e_{1} - 2 e_{2} + 4}}\\right \\}$$"
       ],
       "metadata": {},
       "output_type": "pyout",
       "png": "[encoded data removed]",
       "prompt_number": 3,
       "text": [
        "\u23a7            _________________________              ________               ___\n",
        "\u23aa  4        \u2571     -e\u2081\u22c5e\u2082 + e\u2082 + 2         4        \u2571  -1         4        \u2571   \n",
        "\u23a8T\u2081 : T\u2091\u22c54 \u2571  \u2500\u2500\u2500\u2500\u2500\u2500\u2500\u2500\u2500\u2500\u2500\u2500\u2500\u2500\u2500\u2500\u2500\u2500\u2500\u2500\u2500\u2500\u2500 , T\u2082 : T\u2091\u22c54 \u2571  \u2500\u2500\u2500\u2500\u2500\u2500 , T_s : T\u2091\u22c54 \u2571  \u2500\u2500\n",
        "\u23aa        \u2572\u2571   e\u2081\u22c5e\u2082 - 2\u22c5e\u2081 - 2\u22c5e\u2082 + 4           \u2572\u2571   e\u2082 - 2            \u2572\u2571   e\u2081\n",
        "\u23a9                                                                             \n",
        "\n",
        "______________________\u23ab\n",
        "     -e\u2081\u22c5e\u2082 + 4       \u23aa\n",
        "\u2500\u2500\u2500\u2500\u2500\u2500\u2500\u2500\u2500\u2500\u2500\u2500\u2500\u2500\u2500\u2500\u2500\u2500\u2500\u2500\u2500 \u23ac\n",
        "\u22c5e\u2082 - 2\u22c5e\u2081 - 2\u22c5e\u2082 + 4 \u23aa\n",
        "                      \u23ad"
       ]
      }
     ],
     "prompt_number": 3
    },
    {
     "cell_type": "code",
     "collapsed": false,
     "input": [
      "#sympy.solve( out1[T_s**4]**sympy.Rational(1,4) - T_s**4, T_s)"
     ],
     "language": "python",
     "metadata": {},
     "outputs": [],
     "prompt_number": 4
    },
    {
     "cell_type": "code",
     "collapsed": false,
     "input": [
      "#  The special case of equal absorptivities\n",
      "e = sympy.symbols('e')\n",
      "sympy.simplify(out1[T_s**4].subs([(e_2, e),(e_1, e)]))"
     ],
     "language": "python",
     "metadata": {},
     "outputs": [
      {
       "latex": [
        "$$- \\frac{T_{e}^{4} \\left(e + 2\\right)}{e - 2}$$"
       ],
       "metadata": {},
       "output_type": "pyout",
       "png": "[encoded data removed]",
       "prompt_number": 5,
       "text": [
        "   4         \n",
        "-T\u2091 \u22c5(e + 2) \n",
        "\u2500\u2500\u2500\u2500\u2500\u2500\u2500\u2500\u2500\u2500\u2500\u2500\u2500\n",
        "    e - 2    "
       ]
      }
     ],
     "prompt_number": 5
    },
    {
     "cell_type": "markdown",
     "metadata": {},
     "source": [
      "The solution is\n",
      "\n",
      "\\begin{align} \n",
      "T_s^4 &= T_e^4 \\frac{4 - \\epsilon_1 \\epsilon_2}{4 + \\epsilon_1 \\epsilon_2 - 2 \\epsilon_1 - 2 \\epsilon_2}  \\\\\n",
      "T_1^4 &= T_e^4 \\frac{2 -\\epsilon_1 \\epsilon_2 + \\epsilon_2}{4 + \\epsilon_1 \\epsilon_2 - 2 \\epsilon_1 - 2 \\epsilon_2} \\\\\n",
      "T_2^4 &= T_e^4 \\frac{ 1}{2 - \\epsilon_2}\n",
      "\\end{align}"
     ]
    },
    {
     "cell_type": "markdown",
     "metadata": {},
     "source": [
      "In the special case $\\epsilon_1 = \\epsilon_2$ this reduces to\n",
      "\n",
      "\\begin{align} \n",
      "T_s^4 &= T_e^4 \\frac{2+\\epsilon}{2-\\epsilon}  \\\\\n",
      "T_1^4 &= T_e^4 \\frac{1+\\epsilon}{2-\\epsilon} \\\\\n",
      "T_2^4 &= T_e^4 \\frac{ 1}{2 - \\epsilon}\n",
      "\\end{align}"
     ]
    },
    {
     "cell_type": "code",
     "collapsed": false,
     "input": [
      "# Coding up the analytical solutions for radiative equilibrium\n",
      "#  COULD PROBABLY ALSO DO THIS BY DIRECTLY EVALUATING THE SYMBOLIC SOLUTIONS GIVEN BY SYMPY\n",
      "#  Use .subs() on a sympy object\n",
      "\n",
      "def Ts(Te, e1, e2):\n",
      "    return Te*((4-e1*e2)/(4+e1*e2-2*(e1+e2)))**0.25\n",
      "def T1(Te, e1, e2):\n",
      "    return Te*((2+e2-e1*e2)/(4+e1*e2-2*(e1+e2)))**0.25\n",
      "def T2(Te, e1, e2):\n",
      "    return Te*(1/(2-e2))**0.25"
     ],
     "language": "python",
     "metadata": {},
     "outputs": [],
     "prompt_number": 6
    },
    {
     "cell_type": "code",
     "collapsed": false,
     "input": [
      "%matplotlib inline\n",
      "import numpy as np\n",
      "from climlab import constants as const\n",
      "from climlab.model import column"
     ],
     "language": "python",
     "metadata": {},
     "outputs": [],
     "prompt_number": 7
    },
    {
     "cell_type": "code",
     "collapsed": false,
     "input": [
      "mycolumn = column.SingleColumnModel( num_levels=2 )"
     ],
     "language": "python",
     "metadata": {},
     "outputs": [],
     "prompt_number": 25
    },
    {
     "cell_type": "code",
     "collapsed": false,
     "input": [
      "print mycolumn"
     ],
     "language": "python",
     "metadata": {},
     "outputs": [
      {
       "output_type": "stream",
       "stream": "stdout",
       "text": [
        "climlab Process of type <class 'climlab.model.column.SingleColumnModel'>. \n",
        "State variables and domain shapes: \n",
        "  Tatm: (2,) \n",
        "  Ts: (1,) \n",
        "The subprocess tree: \n",
        "top: <class 'climlab.model.column.SingleColumnModel'>\n",
        "   LW: <class 'climlab.radiation.grey_radiation.GreyRadiation_LW'>\n",
        "   SW: <class 'climlab.radiation.grey_radiation.GreyRadiation_SW'>\n",
        "   insolation: <class 'climlab.radiation.insolation.FixedInsolation'>\n",
        "\n"
       ]
      }
     ],
     "prompt_number": 26
    },
    {
     "cell_type": "code",
     "collapsed": false,
     "input": [
      "mycolumn.integrate_years(10.)"
     ],
     "language": "python",
     "metadata": {},
     "outputs": [
      {
       "output_type": "stream",
       "stream": "stdout",
       "text": [
        "Integrating for 3652 steps, 3652.422 days, or 10.0 years.\n",
        "Total elapsed time is 9.99884460229 years."
       ]
      },
      {
       "output_type": "stream",
       "stream": "stdout",
       "text": [
        "\n"
       ]
      }
     ],
     "prompt_number": 27
    },
    {
     "cell_type": "code",
     "collapsed": false,
     "input": [
      "print mycolumn.Ts\n",
      "print mycolumn.Tatm"
     ],
     "language": "python",
     "metadata": {},
     "outputs": [
      {
       "output_type": "stream",
       "stream": "stdout",
       "text": [
        "[ 287.85078874]\n",
        "[ 252.95434881  229.44020347]\n"
       ]
      }
     ],
     "prompt_number": 28
    },
    {
     "cell_type": "code",
     "collapsed": false,
     "input": [
      "(e1, e2)= mycolumn.subprocess['LW'].absorptivity\n",
      "print e1, e2"
     ],
     "language": "python",
     "metadata": {},
     "outputs": [
      {
       "output_type": "stream",
       "stream": "stdout",
       "text": [
        "0.477374247427 0.477374247427\n"
       ]
      }
     ],
     "prompt_number": 29
    },
    {
     "cell_type": "code",
     "collapsed": false,
     "input": [
      "ASR = (1-mycolumn.param['albedo_sfc'])*mycolumn.param['Q']\n",
      "Te = (ASR/const.sigma)**0.25\n",
      "print Te"
     ],
     "language": "python",
     "metadata": {},
     "outputs": [
      {
       "output_type": "stream",
       "stream": "stdout",
       "text": [
        "254.869467654\n"
       ]
      }
     ],
     "prompt_number": 30
    },
    {
     "cell_type": "code",
     "collapsed": false,
     "input": [
      "print mycolumn.Ts, Ts(Te,e1,e2)\n",
      "print mycolumn.Tatm[0], T1(Te,e1,e2)\n",
      "print mycolumn.Tatm[1], T2(Te,e1,e2)"
     ],
     "language": "python",
     "metadata": {},
     "outputs": [
      {
       "output_type": "stream",
       "stream": "stdout",
       "text": [
        "[ 287.85078874] 287.850788744\n",
        "252.954348809 252.954348809\n",
        "229.440203469 229.440203469\n"
       ]
      }
     ],
     "prompt_number": 31
    },
    {
     "cell_type": "code",
     "collapsed": false,
     "input": [
      "e1 = 0.3\n",
      "e2 = 0.4\n",
      "mycolumn.subprocess['LW'].absorptivity = np.array([e1,e2])\n",
      "mycolumn.integrate_years(10.)"
     ],
     "language": "python",
     "metadata": {},
     "outputs": [
      {
       "output_type": "stream",
       "stream": "stdout",
       "text": [
        "Integrating for 3652 steps, 3652.422 days, or 10.0 years.\n",
        "Total elapsed time is 19.9976892046 years."
       ]
      },
      {
       "output_type": "stream",
       "stream": "stdout",
       "text": [
        "\n"
       ]
      }
     ],
     "prompt_number": 32
    },
    {
     "cell_type": "code",
     "collapsed": false,
     "input": [
      "print mycolumn.Ts, Ts(Te,e1,e2)\n",
      "print mycolumn.Tatm[0], T1(Te,e1,e2)\n",
      "print mycolumn.Tatm[1], T2(Te,e1,e2)"
     ],
     "language": "python",
     "metadata": {},
     "outputs": [
      {
       "output_type": "stream",
       "stream": "stdout",
       "text": [
        "[ 278.53739991] 278.537399911\n",
        "243.87051622 243.87051622\n",
        "226.614563288 226.614563288\n"
       ]
      }
     ],
     "prompt_number": 33
    },
    {
     "cell_type": "code",
     "collapsed": false,
     "input": [
      "mycolumn.integrate_years(10.)\n",
      "print mycolumn.Ts, Ts(Te,e1,e2)\n",
      "print mycolumn.Tatm[0], T1(Te,e1,e2)\n",
      "print mycolumn.Tatm[1], T2(Te,e1,e2)"
     ],
     "language": "python",
     "metadata": {},
     "outputs": [
      {
       "output_type": "stream",
       "stream": "stdout",
       "text": [
        "Integrating for 3652 steps, 3652.422 days, or 10.0 years.\n",
        "Total elapsed time is 29.9965338069 years."
       ]
      },
      {
       "output_type": "stream",
       "stream": "stdout",
       "text": [
        "\n",
        "[ 278.53739991] 278.537399911\n",
        "243.87051622 243.87051622\n",
        "226.614563288 226.614563288\n"
       ]
      }
     ],
     "prompt_number": 34
    },
    {
     "cell_type": "code",
     "collapsed": false,
     "input": [
      "#  The BUG is gone"
     ],
     "language": "python",
     "metadata": {},
     "outputs": [],
     "prompt_number": 18
    },
    {
     "cell_type": "code",
     "collapsed": false,
     "input": [
      "e1 = 0.6\n",
      "e2 = 0.6\n",
      "mycolumn.subprocess['LW'].absorptivity = np.array([e1,e2])\n",
      "mycolumn.integrate_years(10.)\n",
      "print mycolumn.Ts, Ts(Te,e1,e2)\n",
      "print mycolumn.Tatm[0], T1(Te,e1,e2)\n",
      "print mycolumn.Tatm[1], T2(Te,e1,e2)"
     ],
     "language": "python",
     "metadata": {},
     "outputs": [
      {
       "output_type": "stream",
       "stream": "stdout",
       "text": [
        "Integrating for 3652 steps, 3652.422 days, or 10.0 years.\n",
        "Total elapsed time is 39.9953784092 years."
       ]
      },
      {
       "output_type": "stream",
       "stream": "stdout",
       "text": [
        "\n",
        "[ 297.52888855] 297.528888551\n",
        "263.521345081 263.521345081\n",
        "234.307291032 234.307291032\n"
       ]
      }
     ],
     "prompt_number": 35
    },
    {
     "cell_type": "code",
     "collapsed": false,
     "input": [
      "col1 = column.SingleColumnModel(num_levels=2, abs_coeff=1.9E-4)\n",
      "(e1, e2) = col1.subprocess['LW'].absorptivity\n",
      "print e1, e2\n",
      "col1.integrate_years(10.)\n",
      "print col1.Ts, Ts(Te,e1,e2)\n",
      "print col1.Tatm[0], T1(Te,e1,e2)\n",
      "print col1.Tatm[1], T2(Te,e1,e2)"
     ],
     "language": "python",
     "metadata": {},
     "outputs": [
      {
       "output_type": "stream",
       "stream": "stdout",
       "text": [
        "0.652920962199 0.652920962199\n",
        "Integrating for 3652 steps, 3652.422 days, or 10.0 years.\n",
        "Total elapsed time is 9.99884460229 years."
       ]
      },
      {
       "output_type": "stream",
       "stream": "stdout",
       "text": [
        "\n",
        "[ 301.92607423] 301.926074233\n",
        "268.245573539 268.245573539\n",
        "236.575377809 236.575377809\n"
       ]
      }
     ],
     "prompt_number": 36
    },
    {
     "cell_type": "code",
     "collapsed": false,
     "input": [
      "\n",
      "#  THE BUG is gone"
     ],
     "language": "python",
     "metadata": {},
     "outputs": [],
     "prompt_number": 37
    },
    {
     "cell_type": "code",
     "collapsed": false,
     "input": [
      "col1 = column.SingleColumnModel(num_levels=2, abs_coeff=1.9E-4)\n",
      "lw = col1.subprocess['LW']\n",
      "(e1, e2) = lw.absorptivity\n",
      "print e1\n",
      "print e2\n",
      "e1 *= 1.2\n",
      "print lw.absorptivity\n",
      "lw.absorptivity = np.array([e1, e2])\n",
      "print lw.absorptivity\n",
      "print lw.emissivity_atm\n",
      "col1.integrate_years(10.)\n",
      "print col1.Ts, Ts(Te,e1,e2)\n",
      "print col1.Tatm[0], T1(Te,e1,e2)\n",
      "print col1.Tatm[1], T2(Te,e1,e2)"
     ],
     "language": "python",
     "metadata": {},
     "outputs": [
      {
       "output_type": "stream",
       "stream": "stdout",
       "text": [
        "0.652920962199\n",
        "0.652920962199\n",
        "[ 0.65292096  0.65292096]\n",
        "[ 0.78350515  0.65292096]\n",
        "[ 0.78350515  0.65292096]\n",
        "Integrating for 3652 steps, 3652.422 days, or 10.0 years.\n",
        "Total elapsed time is 9.99884460229 years."
       ]
      },
      {
       "output_type": "stream",
       "stream": "stdout",
       "text": [
        "\n",
        "[ 307.85738247] 307.857382468\n",
        "272.498485248 272.498485248\n",
        "236.575377809 236.575377809\n"
       ]
      }
     ],
     "prompt_number": 38
    },
    {
     "cell_type": "code",
     "collapsed": false,
     "input": [
      "lw = col1.subprocess['LW']\n",
      "trans = lw._trans\n",
      "emit_atm = lw.diagnostics['emit_atm']\n",
      "#print np.dot(trans.sfc2atm, emit_atm)\n",
      "trans.sfc2atm.shape\n",
      "emit_atm.shape\n",
      "trans.sfc2atm * emit_atm"
     ],
     "language": "python",
     "metadata": {},
     "outputs": [
      {
       "metadata": {},
       "output_type": "pyout",
       "prompt_number": 25,
       "text": [
        "Field([ 191.67873191,   40.2485487 ])"
       ]
      }
     ],
     "prompt_number": 25
    },
    {
     "cell_type": "code",
     "collapsed": false,
     "input": [
      "lw.flux['atm2atm']"
     ],
     "language": "python",
     "metadata": {},
     "outputs": [
      {
       "metadata": {},
       "output_type": "pyout",
       "prompt_number": 26,
       "text": [
        "array([ 115.96364031,  191.67873191])"
       ]
      }
     ],
     "prompt_number": 26
    },
    {
     "cell_type": "code",
     "collapsed": false,
     "input": [
      "np.dot(trans.atm2atm, emit_atm)"
     ],
     "language": "python",
     "metadata": {},
     "outputs": [
      {
       "metadata": {},
       "output_type": "pyout",
       "prompt_number": 27,
       "text": [
        "array([ 115.96364031,  191.67873191])"
       ]
      }
     ],
     "prompt_number": 27
    },
    {
     "cell_type": "code",
     "collapsed": false,
     "input": [
      "lw.flux['sfc2atm']"
     ],
     "language": "python",
     "metadata": {},
     "outputs": [
      {
       "metadata": {},
       "output_type": "pyout",
       "prompt_number": 28,
       "text": [
        "Field([ 471.17858061,  163.53620839])"
       ]
      }
     ],
     "prompt_number": 28
    },
    {
     "cell_type": "code",
     "collapsed": false,
     "input": [
      "emit_sfc = lw.diagnostics['emit_sfc']\n",
      "(e1, e2) = lw.absorptivity\n",
      "print emit_sfc, (1-e1)*emit_sfc"
     ],
     "language": "python",
     "metadata": {},
     "outputs": [
      {
       "output_type": "stream",
       "stream": "stdout",
       "text": [
        "[ 471.17858061] [ 163.53620839]\n"
       ]
      }
     ],
     "prompt_number": 29
    },
    {
     "cell_type": "code",
     "collapsed": false,
     "input": [
      "print lw.flux['up_sfc']\n",
      "print lw.flux['up_sfc'] * trans.sfc2atm"
     ],
     "language": "python",
     "metadata": {},
     "outputs": [
      {
       "output_type": "stream",
       "stream": "stdout",
       "text": [
        "[ 471.17858061]\n",
        "[ 471.17858061  163.53620839]\n"
       ]
      }
     ],
     "prompt_number": 30
    },
    {
     "cell_type": "code",
     "collapsed": false,
     "input": [
      "print trans.sfc2atm\n",
      "print 1-e1"
     ],
     "language": "python",
     "metadata": {},
     "outputs": [
      {
       "output_type": "stream",
       "stream": "stdout",
       "text": [
        "[ 1.          0.34707904]\n",
        "0.347079037801\n"
       ]
      }
     ],
     "prompt_number": 31
    },
    {
     "cell_type": "code",
     "collapsed": false,
     "input": [
      "lw.flux"
     ],
     "language": "python",
     "metadata": {},
     "outputs": [
      {
       "metadata": {},
       "output_type": "pyout",
       "prompt_number": 32,
       "text": [
        "{'atm2atm': array([ 115.96364031,  191.67873191]),\n",
        " 'atm2sfc': Field([ 191.67873191,   40.2485487 ]),\n",
        " 'atm2space': Field([  66.52766984,  115.96364031]),\n",
        " 'incident_sfc': Field([ 231.92728061]),\n",
        " 'net2sfc': Field([-239.2513]),\n",
        " 'sfc2atm': Field([ 471.17858061,  163.53620839]),\n",
        " 'sfc2space': Field([ 56.75998985]),\n",
        " 'space2atm': Field([ 0.,  0.]),\n",
        " 'space2sfc': Field([ 0.]),\n",
        " 'up2space': Field([ 239.2513]),\n",
        " 'up_sfc': Field([ 471.17858061])}"
       ]
      }
     ],
     "prompt_number": 32
    },
    {
     "cell_type": "code",
     "collapsed": false,
     "input": [
      "E1 = emit_atm[0]\n",
      "E2 = emit_atm[1]\n",
      "Es = emit_sfc\n",
      "exact_flux = {}\n",
      "exact_flux['atm2atm'] = np.array([E2, E1])\n",
      "exact_flux['atm2sfc'] = np.array([E1, (1-e1)*E2])\n",
      "exact_flux['atm2space'] = np.array([(1-e2)*E1, E2])\n",
      "exact_flux['sfc2atm'] = np.array([Es, (1-e1)*Es])\n",
      "exact_flux['sfc2space'] = np.array((1-e1)*(1-e2)*Es)\n",
      "\n",
      "sigma = const.sigma\n",
      "print Es, sigma*lw.state['Ts']**4\n",
      "print E1, e1*sigma*(lw.state['Tatm'][0])**4\n",
      "print E2, e2*sigma*(lw.state['Tatm'][1])**4\n",
      "\n",
      "exact_flux"
     ],
     "language": "python",
     "metadata": {},
     "outputs": [
      {
       "output_type": "stream",
       "stream": "stdout",
       "text": [
        "[ 471.17858061] [ 471.17858061]\n",
        "191.678731915 191.678731915\n",
        "115.963640306 115.963640306\n"
       ]
      },
      {
       "metadata": {},
       "output_type": "pyout",
       "prompt_number": 46,
       "text": [
        "{'atm2atm': array([ 115.96364031,  191.67873191]),\n",
        " 'atm2sfc': array([ 191.67873191,   40.2485487 ]),\n",
        " 'atm2space': array([  66.52766984,  115.96364031]),\n",
        " 'sfc2atm': array([[ 471.17858061],\n",
        "        [ 163.53620839]]),\n",
        " 'sfc2space': array([ 56.75998985])}"
       ]
      }
     ],
     "prompt_number": 46
    },
    {
     "cell_type": "code",
     "collapsed": false,
     "input": [
      "lw.absorbed"
     ],
     "language": "python",
     "metadata": {},
     "outputs": [
      {
       "metadata": {},
       "output_type": "pyout",
       "prompt_number": 45,
       "text": [
        "{'atm': Field([  1.59161573e-12,   7.95807864e-13]),\n",
        " 'sfc': Field([-239.2513]),\n",
        " 'total': Field([-239.2513])}"
       ]
      }
     ],
     "prompt_number": 45
    },
    {
     "cell_type": "code",
     "collapsed": false,
     "input": [
      "exact_absorbed = {}\n",
      "\n",
      "exact_absorbed['sfc'] = np.sum(exact_flux['atm2sfc']) - Es\n",
      "exact_absorbed['atm'] = np.array([e1*(exact_flux['sfc2atm'][0] + exact_flux['atm2atm'][0]) - 2*E1,\n",
      "                                 e2*(exact_flux['sfc2atm'][1] + exact_flux['atm2atm'][1]) - 2*E2])\n",
      "\n",
      "exact_absorbed"
     ],
     "language": "python",
     "metadata": {},
     "outputs": [
      {
       "metadata": {},
       "output_type": "pyout",
       "prompt_number": 52,
       "text": [
        "{'atm': array([[  1.59161573e-12],\n",
        "        [  7.95807864e-13]]), 'sfc': Field([-239.2513])}"
       ]
      }
     ],
     "prompt_number": 52
    },
    {
     "cell_type": "code",
     "collapsed": false,
     "input": [
      "sw = col1.subprocess['SW']"
     ],
     "language": "python",
     "metadata": {},
     "outputs": [],
     "prompt_number": 54
    },
    {
     "cell_type": "code",
     "collapsed": false,
     "input": [
      "sw.flux"
     ],
     "language": "python",
     "metadata": {},
     "outputs": [
      {
       "metadata": {},
       "output_type": "pyout",
       "prompt_number": 60,
       "text": [
        "{'atm2atm': array([ 0.,  0.]),\n",
        " 'atm2sfc': Field([ 0.,  0.]),\n",
        " 'atm2space': Field([ 0.,  0.]),\n",
        " 'incident_sfc': Field(341.3),\n",
        " 'net2sfc': Field([ 239.2513]),\n",
        " 'sfc2atm': Field([ 102.0487,  102.0487]),\n",
        " 'sfc2space': Field([ 102.0487]),\n",
        " 'space2atm': array([ 341.3,  341.3]),\n",
        " 'space2sfc': Field(341.3),\n",
        " 'up2space': Field([ 102.0487]),\n",
        " 'up_sfc': Field([ 102.0487])}"
       ]
      }
     ],
     "prompt_number": 60
    },
    {
     "cell_type": "code",
     "collapsed": false,
     "input": [
      "col1.subprocess"
     ],
     "language": "python",
     "metadata": {},
     "outputs": [
      {
       "metadata": {},
       "output_type": "pyout",
       "prompt_number": 61,
       "text": [
        "{'LW': <climlab.radiation.grey_radiation.GreyRadiation_LW at 0x10c44d550>,\n",
        " 'SW': <climlab.radiation.grey_radiation.GreyRadiation_SW at 0x10c44d5d0>,\n",
        " 'insolation': <climlab.radiation.insolation.FixedInsolation at 0x10c44d650>}"
       ]
      }
     ],
     "prompt_number": 61
    },
    {
     "cell_type": "markdown",
     "metadata": {},
     "source": [
      "## Generalizing to N layers\n",
      "\n",
      "\\begin{align}\n",
      "E_i &= \\epsilon_i \\sigma T_i^4  \\\\\n",
      "F_i &= ... + \\tau_{i+2} \\tau_{i+1} E_{i+3} + \\tau_{i+1} E_{i+2} + E_{i+1} + E_{i-1} + \\tau_{i-1} E_{i-2} + \\tau_{i-1} \\tau_{i-2} E_{i-3} + ... \\\\\n",
      "F_i &= \\sum_{n=2}^{N-i} \\bigg( \\prod_{j=1}^{n-1} \\tau_{i+j} \\bigg) E_{i+n} + E_{i+1} + E_{i-1} + \\sum_{n=2}^{i-1} \\bigg( \\prod_{j=1}^{n-1} \\tau_{i-j} \\bigg) E_{i-n}  \\\\\n",
      " &= \\sum_{n=1}^{N-i} \\bigg( \\prod_{j=0}^{n-1} \\tau_{i+j} \\bigg) E_{i+n} / \\tau_{i}  + \\sum_{n=1}^{i-1} \\bigg( \\prod_{j=0}^{n-1} \\tau_{i-j} \\bigg) E_{i-n} / \\tau_i \\\\\n",
      " &= \\frac{1}{\\tau_i} \\left\\{ \\sum_{n=1}^{N-i} \\bigg( \\prod_{j=0}^{n-1} \\tau_{i+j} \\bigg) E_{i+n} + \\sum_{n=1}^{i-1} \\bigg( \\prod_{j=0}^{n-1} \\tau_{i-j} \\bigg) E_{i-n}  \\right\\} \n",
      "\\end{align}\n",
      "\n",
      "Now substitute $n \\rightarrow -n$ in the second summation.\n",
      "\n",
      "\\begin{align}\n",
      "F_i &= \\frac{1}{\\tau_i} \\left\\{ \\sum_{n=1}^{N-i} \\bigg( \\prod_{j=0}^{n-1} \\tau_{i+j} \\bigg) E_{i+n} + \\sum_{-n=1}^{i-1} \\bigg( \\prod_{j=0}^{-n-1} \\tau_{i-j} \\bigg) E_{i+n}  \\right\\}  \\\\\n",
      " &= \\frac{1}{\\tau_i} \\left\\{ \\sum_{n=1}^{N-i} \\bigg( \\prod_{j=0}^{n-1} \\tau_{i+j} \\bigg) E_{i+n} + \\sum_{n=1-i}^{-1} \\bigg( \\prod_{j=0}^{-n-1} \\tau_{i-j} \\bigg) E_{i+n}  \\right\\} \n",
      "\\end{align}\n",
      "\n",
      "And substitude $j \\rightarrow -j$ in the second product.\n",
      "\n",
      "\\begin{align}\n",
      "F_i &= \\frac{1}{\\tau_i} \\left\\{ \\sum_{n=1}^{N-i} \\bigg( \\prod_{j=0}^{n-1} \\tau_{i+j} \\bigg) E_{i+n} + \\sum_{n=1-i}^{-1} \\bigg( \\prod_{-j=0}^{-n-1} \\tau_{i+j} \\bigg) E_{i+n}  \\right\\} \\\\\n",
      "  &= \\frac{1}{\\tau_i} \\left\\{ \\sum_{n=1}^{N-i} \\bigg( \\prod_{j=0}^{n-1} \\tau_{i+j} \\bigg) E_{i+n} + \\sum_{n=1-i}^{-1} \\bigg( \\prod_{j=0}^{1+n} \\tau_{i+j} \\bigg) E_{i+n}  \\right\\} \\\\\n",
      "  &= \\frac{1}{\\tau_i} \\left\\{ \\sum_{n=1}^{N-i} \\bigg( \\prod_{j=0}^{|n|-1} \\tau_{i+j} \\bigg) E_{i+n} + \\sum_{n=1-i}^{-1} \\bigg( \\prod_{j=0}^{1- |n|} \\tau_{i+j} \\bigg) E_{i+n}  \\right\\} \\\\\n",
      "  &= \\frac{1}{\\tau_i} \\left\\{ \\sum_{n=1}^{N-i} \\bigg( \\prod_{j=0}^{|n|-1} \\tau_{i+j} \\bigg) E_{i+n} + \\sum_{n=1-i}^{-1} \\bigg( \\prod_{j=0}^{sign(n) (|n|-1)} \\tau_{i+j} \\bigg) E_{i+n}  \\right\\} \n",
      "\\end{align}\n",
      "\n",
      "Now combine both sums together\n",
      "\n",
      "\\begin{align}\n",
      "F_i &= \\frac{1}{\\tau_i} \\left\\{ \\sum_{n=1}^{N-i} \\bigg( \\prod_{j=0}^{|n|-1} \\tau_{i+j} \\bigg) E_{i+n} + E_i + \\sum_{n=1-i}^{-1} \\bigg( \\prod_{j=0}^{sign(n) (|n|-1)} \\tau_{i+j} \\bigg) E_{i+n}  \\right\\} - \\frac{E_i}{\\tau_i} \\\\\n",
      "   &= \\frac{1}{\\tau_i} \\left\\{ \\sum_{n=1-i}^{N-i} \\bigg( \\prod_{j=0}^{sign(n) \\big(|n|-1\\big)} \\tau_{i+j} \\bigg) E_{i+n}  - E_i \\right\\} \n",
      "\\end{align}\n",
      "\n",
      "with the convention that $\\prod_{j=0}^{-1} = 1$.\n",
      "\n",
      "Alternatively if we set $\\prod_{j=0}^{-1} = 0$ then\n",
      "\n",
      "$$ F_i = \\frac{1}{\\tau_i} \\left\\{ \\sum_{n=1-i}^{N-i} \\bigg( \\prod_{j=0}^{sign(n) \\big(|n|-1\\big)} \\tau_{i+j} \\bigg) E_{i+n} \\right\\} $$\n",
      "\n",
      "Let's use this notation since it simplifies our expressions.\n",
      "\n",
      "### Net radiation\n",
      "(absorptivity) * incident - emission\n",
      "\n",
      "\\begin{align}\n",
      "R_i &= \\epsilon_i F_i - 2 E_i  \\\\\n",
      "  &= \\frac{\\epsilon_i}{\\tau_i}  \\left\\{ \\sum_{n=1-i}^{N-i} \\bigg( \\prod_{j=0}^{sign(n) \\big(|n|-1\\big)} \\tau_{i+j} \\bigg) E_{i+n} \\right\\}  - 2 E_i\n",
      "\\end{align}"
     ]
    },
    {
     "cell_type": "markdown",
     "metadata": {},
     "source": [
      "### Alternative...\n",
      "\n",
      "We will define the **transmissivity between layer i and layer i+n **\n",
      "\n",
      "$$ T_{in} = \\left\\{ \\begin{array}{cc} \n",
      " \\prod_{j=1}^{n-1} \\tau_{i+j} &  n > 1 \\\\\n",
      " 1 &  n = 1 \\\\\n",
      " 0  &  n = 0 \\\\\n",
      " 1 & n = -1 \\\\\n",
      " \\prod_{j=1}^{-n-1} \\tau_{i-j} &  n < -1\n",
      " \\end{array} \\right\\}\n",
      " $$\n",
      "\n",
      "Then the incident flux follows directly\n",
      "\n",
      "$$ F_i = \\sum_{n=1-i}^{N-i} T_{in} E_{i+n} $$\n",
      "\n",
      "and the net radiation is\n",
      "\n",
      "\\begin{align}\n",
      "R_i &= \\epsilon_i F_i - 2 E_i  \\\\\n",
      " &= \\epsilon_i \\sum_{n=1-i}^{N-i} T_{in} E_{i+n} - 2 E_i \n",
      "\\end{align}\n",
      "\n",
      "Now make the substitution $i+n \\rightarrow m$\n",
      "\n",
      "\\begin{align}\n",
      "F_i &= \\sum_{m=1}^{N} T_{im} E_{m}  \\\\\n",
      "T_{im} &= \\left\\{ \\begin{array}{cc} \n",
      " \\prod_{j=1}^{m-i-1} \\tau_{i+j} &  m > 1+i \\\\\n",
      " 1 &  m = i+1 \\\\\n",
      " 0  &  m = i \\\\\n",
      " 1 & m = i-1 \\\\\n",
      " \\prod_{j=1}^{i-m-1} \\tau_{i-j} &  m < i-1\n",
      " \\end{array} \\right\\}\n",
      "\\end{align}\n",
      "\n",
      "Or using the Einstein summation notation, since $m$ is a repeated index, we can just write\n",
      "\n",
      "$$ F_i = T_{im} E_{m} $$\n",
      "\n",
      "and the net radiation is\n",
      "\n",
      "$$ R_i = \\epsilon_i F_i - 2 E_i $$\n"
     ]
    },
    {
     "cell_type": "code",
     "collapsed": false,
     "input": [],
     "language": "python",
     "metadata": {},
     "outputs": []
    }
   ],
   "metadata": {}
  }
 ]
}